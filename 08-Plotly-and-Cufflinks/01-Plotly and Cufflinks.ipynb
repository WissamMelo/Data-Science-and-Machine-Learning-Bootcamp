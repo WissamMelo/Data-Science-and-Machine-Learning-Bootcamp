{
 "cells": [
  {
   "cell_type": "markdown",
   "metadata": {},
   "source": [
    "___\n",
    "\n",
    "<a href='http://www.pieriandata.com'> <img src='../Pierian_Data_Logo.png' /></a>\n",
    "___\n",
    "# Plotly and Cufflinks"
   ]
  },
  {
   "cell_type": "markdown",
   "metadata": {},
   "source": [
    "Plotly is a library that allows you to create interactive plots that you can use in dashboards or websites (you can save them as html files or static images).\n",
    "\n",
    "## Installation\n",
    "\n",
    "In order for this all to work, you'll need to install plotly and cufflinks to call plots directly off of a pandas dataframe. These libraries are not currently available through **conda** but are available through **pip**. Install the libraries at your command line/terminal using:\n",
    "\n",
    "    pip install plotly\n",
    "    pip install cufflinks\n",
    "\n",
    "** NOTE: Make sure you only have one installation of Python on your computer when you do this, otherwise the installation may not work. **\n",
    "\n",
    "## Imports and Set-up"
   ]
  },
  {
   "cell_type": "code",
   "execution_count": 1,
   "metadata": {},
   "outputs": [],
   "source": [
    "import pandas as pd\n",
    "import numpy as np\n",
    "%matplotlib inline"
   ]
  },
  {
   "cell_type": "code",
   "execution_count": 2,
   "metadata": {},
   "outputs": [
    {
     "name": "stdout",
     "output_type": "stream",
     "text": [
      "4.6.0\n"
     ]
    }
   ],
   "source": [
    "from plotly import __version__\n",
    "from plotly.offline import download_plotlyjs, init_notebook_mode, plot, iplot\n",
    "\n",
    "print(__version__) # requires version >= 1.9.0"
   ]
  },
  {
   "cell_type": "code",
   "execution_count": 3,
   "metadata": {},
   "outputs": [],
   "source": [
    "import cufflinks as cf"
   ]
  },
  {
   "cell_type": "code",
   "execution_count": 4,
   "metadata": {},
   "outputs": [
    {
     "data": {
      "text/html": [
       "        <script type=\"text/javascript\">\n",
       "        window.PlotlyConfig = {MathJaxConfig: 'local'};\n",
       "        if (window.MathJax) {MathJax.Hub.Config({SVG: {font: \"STIX-Web\"}});}\n",
       "        if (typeof require !== 'undefined') {\n",
       "        require.undef(\"plotly\");\n",
       "        requirejs.config({\n",
       "            paths: {\n",
       "                'plotly': ['https://cdn.plot.ly/plotly-latest.min']\n",
       "            }\n",
       "        });\n",
       "        require(['plotly'], function(Plotly) {\n",
       "            window._Plotly = Plotly;\n",
       "        });\n",
       "        }\n",
       "        </script>\n",
       "        "
      ]
     },
     "metadata": {},
     "output_type": "display_data"
    }
   ],
   "source": [
    "# For Notebooks\n",
    "init_notebook_mode(connected=True)"
   ]
  },
  {
   "cell_type": "code",
   "execution_count": 5,
   "metadata": {},
   "outputs": [
    {
     "data": {
      "text/html": [
       "        <script type=\"text/javascript\">\n",
       "        window.PlotlyConfig = {MathJaxConfig: 'local'};\n",
       "        if (window.MathJax) {MathJax.Hub.Config({SVG: {font: \"STIX-Web\"}});}\n",
       "        if (typeof require !== 'undefined') {\n",
       "        require.undef(\"plotly\");\n",
       "        requirejs.config({\n",
       "            paths: {\n",
       "                'plotly': ['https://cdn.plot.ly/plotly-latest.min']\n",
       "            }\n",
       "        });\n",
       "        require(['plotly'], function(Plotly) {\n",
       "            window._Plotly = Plotly;\n",
       "        });\n",
       "        }\n",
       "        </script>\n",
       "        "
      ]
     },
     "metadata": {},
     "output_type": "display_data"
    }
   ],
   "source": [
    "# For offline use\n",
    "cf.go_offline()"
   ]
  },
  {
   "cell_type": "markdown",
   "metadata": {},
   "source": [
    "### Fake Data"
   ]
  },
  {
   "cell_type": "code",
   "execution_count": 6,
   "metadata": {},
   "outputs": [],
   "source": [
    "df = pd.DataFrame(np.random.randn(100,4),columns='A B C D'.split())"
   ]
  },
  {
   "cell_type": "code",
   "execution_count": 7,
   "metadata": {},
   "outputs": [
    {
     "data": {
      "text/html": [
       "<div>\n",
       "<style scoped>\n",
       "    .dataframe tbody tr th:only-of-type {\n",
       "        vertical-align: middle;\n",
       "    }\n",
       "\n",
       "    .dataframe tbody tr th {\n",
       "        vertical-align: top;\n",
       "    }\n",
       "\n",
       "    .dataframe thead th {\n",
       "        text-align: right;\n",
       "    }\n",
       "</style>\n",
       "<table border=\"1\" class=\"dataframe\">\n",
       "  <thead>\n",
       "    <tr style=\"text-align: right;\">\n",
       "      <th></th>\n",
       "      <th>A</th>\n",
       "      <th>B</th>\n",
       "      <th>C</th>\n",
       "      <th>D</th>\n",
       "    </tr>\n",
       "  </thead>\n",
       "  <tbody>\n",
       "    <tr>\n",
       "      <th>0</th>\n",
       "      <td>0.170825</td>\n",
       "      <td>-1.046934</td>\n",
       "      <td>-1.083409</td>\n",
       "      <td>0.516695</td>\n",
       "    </tr>\n",
       "    <tr>\n",
       "      <th>1</th>\n",
       "      <td>0.973385</td>\n",
       "      <td>-1.459789</td>\n",
       "      <td>-0.623383</td>\n",
       "      <td>0.485564</td>\n",
       "    </tr>\n",
       "    <tr>\n",
       "      <th>2</th>\n",
       "      <td>-0.208541</td>\n",
       "      <td>-0.894848</td>\n",
       "      <td>-1.487959</td>\n",
       "      <td>0.459515</td>\n",
       "    </tr>\n",
       "    <tr>\n",
       "      <th>3</th>\n",
       "      <td>0.558762</td>\n",
       "      <td>1.018927</td>\n",
       "      <td>1.450090</td>\n",
       "      <td>-1.214442</td>\n",
       "    </tr>\n",
       "    <tr>\n",
       "      <th>4</th>\n",
       "      <td>-0.661572</td>\n",
       "      <td>0.896482</td>\n",
       "      <td>0.518418</td>\n",
       "      <td>1.062400</td>\n",
       "    </tr>\n",
       "  </tbody>\n",
       "</table>\n",
       "</div>"
      ],
      "text/plain": [
       "          A         B         C         D\n",
       "0  0.170825 -1.046934 -1.083409  0.516695\n",
       "1  0.973385 -1.459789 -0.623383  0.485564\n",
       "2 -0.208541 -0.894848 -1.487959  0.459515\n",
       "3  0.558762  1.018927  1.450090 -1.214442\n",
       "4 -0.661572  0.896482  0.518418  1.062400"
      ]
     },
     "execution_count": 7,
     "metadata": {},
     "output_type": "execute_result"
    }
   ],
   "source": [
    "df.head()"
   ]
  },
  {
   "cell_type": "code",
   "execution_count": 8,
   "metadata": {},
   "outputs": [],
   "source": [
    "df2 = pd.DataFrame({'Category':['A','B','C'],'Values':[32,43,50]})"
   ]
  },
  {
   "cell_type": "code",
   "execution_count": 9,
   "metadata": {},
   "outputs": [
    {
     "data": {
      "text/html": [
       "<div>\n",
       "<style scoped>\n",
       "    .dataframe tbody tr th:only-of-type {\n",
       "        vertical-align: middle;\n",
       "    }\n",
       "\n",
       "    .dataframe tbody tr th {\n",
       "        vertical-align: top;\n",
       "    }\n",
       "\n",
       "    .dataframe thead th {\n",
       "        text-align: right;\n",
       "    }\n",
       "</style>\n",
       "<table border=\"1\" class=\"dataframe\">\n",
       "  <thead>\n",
       "    <tr style=\"text-align: right;\">\n",
       "      <th></th>\n",
       "      <th>Category</th>\n",
       "      <th>Values</th>\n",
       "    </tr>\n",
       "  </thead>\n",
       "  <tbody>\n",
       "    <tr>\n",
       "      <th>0</th>\n",
       "      <td>A</td>\n",
       "      <td>32</td>\n",
       "    </tr>\n",
       "    <tr>\n",
       "      <th>1</th>\n",
       "      <td>B</td>\n",
       "      <td>43</td>\n",
       "    </tr>\n",
       "    <tr>\n",
       "      <th>2</th>\n",
       "      <td>C</td>\n",
       "      <td>50</td>\n",
       "    </tr>\n",
       "  </tbody>\n",
       "</table>\n",
       "</div>"
      ],
      "text/plain": [
       "  Category  Values\n",
       "0        A      32\n",
       "1        B      43\n",
       "2        C      50"
      ]
     },
     "execution_count": 9,
     "metadata": {},
     "output_type": "execute_result"
    }
   ],
   "source": [
    "df2.head()"
   ]
  },
  {
   "cell_type": "markdown",
   "metadata": {},
   "source": [
    "## Using Cufflinks and iplot()\n",
    "\n",
    "* scatter\n",
    "* bar\n",
    "* box\n",
    "* spread\n",
    "* ratio\n",
    "* heatmap\n",
    "* surface\n",
    "* histogram\n",
    "* bubble"
   ]
  },
  {
   "cell_type": "markdown",
   "metadata": {},
   "source": [
    "## Scatter"
   ]
  },
  {
   "cell_type": "code",
   "execution_count": 10,
   "metadata": {},
   "outputs": [
    {
     "data": {
      "application/vnd.plotly.v1+json": {
       "config": {
        "linkText": "Export to plot.ly",
        "plotlyServerURL": "https://plot.ly",
        "showLink": true
       },
       "data": [
        {
         "line": {
          "color": "rgba(255, 153, 51, 1.0)",
          "dash": "solid",
          "shape": "linear",
          "width": 1.3
         },
         "marker": {
          "size": 10,
          "symbol": "circle"
         },
         "mode": "markers",
         "name": "B",
         "text": "",
         "type": "scatter",
         "x": [
          0.17082491155154642,
          0.9733848448503118,
          -0.20854129260332577,
          0.5587619427877866,
          -0.6615722914955411,
          0.5121643351474225,
          0.13130368234342465,
          -0.035220320669247594,
          -0.369963306984912,
          0.5729958692785618,
          -0.09210955386424999,
          -0.5373937615298153,
          -2.01724661384686,
          -0.8987714595694133,
          1.9467057852407064,
          0.5164427357241107,
          -1.1635408247005044,
          -0.5448724578467126,
          -0.46264624189382997,
          -1.9179493009778803,
          2.7714798339031748,
          0.3071036700992901,
          0.029286680479822094,
          0.5515474197907069,
          0.09403663372726255,
          -0.0687491880537863,
          0.7060426747565378,
          -0.5487359269643622,
          1.150545299499611,
          -0.08727405512422448,
          -0.04865263507570622,
          -1.3241004736370685,
          1.8203440910427022,
          1.0249235499982265,
          0.07530077677831443,
          -0.3983518441111155,
          0.9243840081896711,
          -2.1537998401775726,
          -0.7480917035901087,
          -1.8064452966690792,
          0.7434603261362684,
          -0.30218021518186455,
          -1.5446446180825437,
          -1.1220120169755035,
          0.9827691531143342,
          1.1921574743054213,
          0.6442449133259306,
          -0.3569707490839753,
          0.8461417905701312,
          -2.19250392792535,
          0.5652808285965437,
          -0.1344062661716792,
          0.3374266044185731,
          0.11501457230929552,
          -1.03432476125489,
          0.8786458309333575,
          -0.8432228331014776,
          1.5209334906428773,
          -0.13490408553921363,
          1.1362711489480044,
          -0.7164362335444737,
          1.8944088793920375,
          -0.8392029122803014,
          0.8870880475536355,
          -0.22471697569343044,
          -0.21386527195545157,
          -0.588424204629573,
          -2.333080303181406,
          0.6864778911900746,
          0.9061942198927625,
          -0.6362395296227634,
          0.2775335519572494,
          0.6663808474363447,
          1.451569505775331,
          0.25971128472701793,
          -0.22258903844656566,
          0.11690251426354925,
          -0.4037173564209437,
          -0.3616918130026108,
          0.26753011495892737,
          -0.3330809158884787,
          -0.6136738297829322,
          2.3977626706818524,
          0.008681338043572347,
          0.015381712961214473,
          -0.34992740870667255,
          -0.9826085890796246,
          0.10960702639982886,
          0.3045237793180047,
          0.9456287376200995,
          -1.2666023905791035,
          -0.12604263057332346,
          1.3716201125923573,
          -0.772097226537111,
          0.742127190729917,
          0.5613431520440979,
          0.29713781861089317,
          0.11467605932335413,
          1.1177885105058485,
          1.3404619399594997
         ],
         "y": [
          -1.0469343486083953,
          -1.459788614380184,
          -0.8948475098518478,
          1.0189272429513767,
          0.896482444363568,
          -0.8499088047524456,
          0.024902896053242213,
          -1.2539480497063156,
          1.1080455661815205,
          0.6039706085303771,
          1.1462550302790881,
          0.3383978416192203,
          -1.1703911847275679,
          -0.4506090304627199,
          -1.7885796092722501,
          1.9740354776517566,
          -0.5589227900109863,
          -1.5059038409979402,
          0.06801135045561885,
          -0.5424102393537328,
          -0.12596595257673204,
          0.07766803062063887,
          1.08742149533797,
          -0.5276402294420803,
          -0.5134796696744759,
          -0.00885507836116481,
          -1.9179898136723204,
          0.015978142026482386,
          0.596272380271323,
          1.096940104175222,
          -0.9701160214948572,
          1.1473044174962768,
          -0.8497300858779225,
          0.17745707004204264,
          1.3040067873187786,
          0.8949482052732047,
          -0.07886388560014475,
          -3.561507122896207,
          1.5323073119190378,
          -1.0106015855491841,
          1.0565480505208455,
          0.7105695536942717,
          -0.797211235009638,
          0.7998529314333869,
          -0.15244947297596764,
          -0.17741142705640117,
          0.039603889157412094,
          -1.2500332755144197,
          0.07917645744092283,
          1.336754302137174,
          0.603138128276989,
          0.18426981447960314,
          -0.6495388957173431,
          -1.6313915348260464,
          -0.2982863158078925,
          0.37314891494260083,
          0.24879635716302964,
          0.5860706811766647,
          -0.6610205762239924,
          -1.190788182194642,
          -0.6409061943286544,
          0.462293155947097,
          -1.3089069803765623,
          1.6341450528765762,
          -1.1338904173028463,
          -0.5039350542364665,
          0.0840200054861493,
          -0.2726865642592458,
          1.2856192693433823,
          0.29240349533422016,
          0.9006195057266302,
          -0.604269563912645,
          1.6869476552089377,
          0.5361783937936255,
          1.0150365809424875,
          0.09077509679183086,
          0.9872278379038406,
          -0.5543308540711545,
          0.15213184418788492,
          -0.8772278719188741,
          0.2931996962880976,
          -0.2037623234733791,
          -0.7928436197071106,
          -1.0802896101213275,
          -1.3279711785816812,
          0.08431434618031589,
          0.596991906053773,
          0.14488046829607382,
          0.8075704683875163,
          -2.8380301262811347,
          1.1722548193519313,
          0.6474126943040964,
          -0.4074743070915865,
          -0.810311666954102,
          -1.2017508067688711,
          1.6032888870895288,
          0.15228854207435788,
          0.800145725655405,
          -0.7282201700792078,
          1.1399079188302463
         ]
        }
       ],
       "layout": {
        "legend": {
         "bgcolor": "#F5F6F9",
         "font": {
          "color": "#4D5663"
         }
        },
        "paper_bgcolor": "#F5F6F9",
        "plot_bgcolor": "#F5F6F9",
        "template": {
         "data": {
          "bar": [
           {
            "error_x": {
             "color": "#2a3f5f"
            },
            "error_y": {
             "color": "#2a3f5f"
            },
            "marker": {
             "line": {
              "color": "#E5ECF6",
              "width": 0.5
             }
            },
            "type": "bar"
           }
          ],
          "barpolar": [
           {
            "marker": {
             "line": {
              "color": "#E5ECF6",
              "width": 0.5
             }
            },
            "type": "barpolar"
           }
          ],
          "carpet": [
           {
            "aaxis": {
             "endlinecolor": "#2a3f5f",
             "gridcolor": "white",
             "linecolor": "white",
             "minorgridcolor": "white",
             "startlinecolor": "#2a3f5f"
            },
            "baxis": {
             "endlinecolor": "#2a3f5f",
             "gridcolor": "white",
             "linecolor": "white",
             "minorgridcolor": "white",
             "startlinecolor": "#2a3f5f"
            },
            "type": "carpet"
           }
          ],
          "choropleth": [
           {
            "colorbar": {
             "outlinewidth": 0,
             "ticks": ""
            },
            "type": "choropleth"
           }
          ],
          "contour": [
           {
            "colorbar": {
             "outlinewidth": 0,
             "ticks": ""
            },
            "colorscale": [
             [
              0,
              "#0d0887"
             ],
             [
              0.1111111111111111,
              "#46039f"
             ],
             [
              0.2222222222222222,
              "#7201a8"
             ],
             [
              0.3333333333333333,
              "#9c179e"
             ],
             [
              0.4444444444444444,
              "#bd3786"
             ],
             [
              0.5555555555555556,
              "#d8576b"
             ],
             [
              0.6666666666666666,
              "#ed7953"
             ],
             [
              0.7777777777777778,
              "#fb9f3a"
             ],
             [
              0.8888888888888888,
              "#fdca26"
             ],
             [
              1,
              "#f0f921"
             ]
            ],
            "type": "contour"
           }
          ],
          "contourcarpet": [
           {
            "colorbar": {
             "outlinewidth": 0,
             "ticks": ""
            },
            "type": "contourcarpet"
           }
          ],
          "heatmap": [
           {
            "colorbar": {
             "outlinewidth": 0,
             "ticks": ""
            },
            "colorscale": [
             [
              0,
              "#0d0887"
             ],
             [
              0.1111111111111111,
              "#46039f"
             ],
             [
              0.2222222222222222,
              "#7201a8"
             ],
             [
              0.3333333333333333,
              "#9c179e"
             ],
             [
              0.4444444444444444,
              "#bd3786"
             ],
             [
              0.5555555555555556,
              "#d8576b"
             ],
             [
              0.6666666666666666,
              "#ed7953"
             ],
             [
              0.7777777777777778,
              "#fb9f3a"
             ],
             [
              0.8888888888888888,
              "#fdca26"
             ],
             [
              1,
              "#f0f921"
             ]
            ],
            "type": "heatmap"
           }
          ],
          "heatmapgl": [
           {
            "colorbar": {
             "outlinewidth": 0,
             "ticks": ""
            },
            "colorscale": [
             [
              0,
              "#0d0887"
             ],
             [
              0.1111111111111111,
              "#46039f"
             ],
             [
              0.2222222222222222,
              "#7201a8"
             ],
             [
              0.3333333333333333,
              "#9c179e"
             ],
             [
              0.4444444444444444,
              "#bd3786"
             ],
             [
              0.5555555555555556,
              "#d8576b"
             ],
             [
              0.6666666666666666,
              "#ed7953"
             ],
             [
              0.7777777777777778,
              "#fb9f3a"
             ],
             [
              0.8888888888888888,
              "#fdca26"
             ],
             [
              1,
              "#f0f921"
             ]
            ],
            "type": "heatmapgl"
           }
          ],
          "histogram": [
           {
            "marker": {
             "colorbar": {
              "outlinewidth": 0,
              "ticks": ""
             }
            },
            "type": "histogram"
           }
          ],
          "histogram2d": [
           {
            "colorbar": {
             "outlinewidth": 0,
             "ticks": ""
            },
            "colorscale": [
             [
              0,
              "#0d0887"
             ],
             [
              0.1111111111111111,
              "#46039f"
             ],
             [
              0.2222222222222222,
              "#7201a8"
             ],
             [
              0.3333333333333333,
              "#9c179e"
             ],
             [
              0.4444444444444444,
              "#bd3786"
             ],
             [
              0.5555555555555556,
              "#d8576b"
             ],
             [
              0.6666666666666666,
              "#ed7953"
             ],
             [
              0.7777777777777778,
              "#fb9f3a"
             ],
             [
              0.8888888888888888,
              "#fdca26"
             ],
             [
              1,
              "#f0f921"
             ]
            ],
            "type": "histogram2d"
           }
          ],
          "histogram2dcontour": [
           {
            "colorbar": {
             "outlinewidth": 0,
             "ticks": ""
            },
            "colorscale": [
             [
              0,
              "#0d0887"
             ],
             [
              0.1111111111111111,
              "#46039f"
             ],
             [
              0.2222222222222222,
              "#7201a8"
             ],
             [
              0.3333333333333333,
              "#9c179e"
             ],
             [
              0.4444444444444444,
              "#bd3786"
             ],
             [
              0.5555555555555556,
              "#d8576b"
             ],
             [
              0.6666666666666666,
              "#ed7953"
             ],
             [
              0.7777777777777778,
              "#fb9f3a"
             ],
             [
              0.8888888888888888,
              "#fdca26"
             ],
             [
              1,
              "#f0f921"
             ]
            ],
            "type": "histogram2dcontour"
           }
          ],
          "mesh3d": [
           {
            "colorbar": {
             "outlinewidth": 0,
             "ticks": ""
            },
            "type": "mesh3d"
           }
          ],
          "parcoords": [
           {
            "line": {
             "colorbar": {
              "outlinewidth": 0,
              "ticks": ""
             }
            },
            "type": "parcoords"
           }
          ],
          "pie": [
           {
            "automargin": true,
            "type": "pie"
           }
          ],
          "scatter": [
           {
            "marker": {
             "colorbar": {
              "outlinewidth": 0,
              "ticks": ""
             }
            },
            "type": "scatter"
           }
          ],
          "scatter3d": [
           {
            "line": {
             "colorbar": {
              "outlinewidth": 0,
              "ticks": ""
             }
            },
            "marker": {
             "colorbar": {
              "outlinewidth": 0,
              "ticks": ""
             }
            },
            "type": "scatter3d"
           }
          ],
          "scattercarpet": [
           {
            "marker": {
             "colorbar": {
              "outlinewidth": 0,
              "ticks": ""
             }
            },
            "type": "scattercarpet"
           }
          ],
          "scattergeo": [
           {
            "marker": {
             "colorbar": {
              "outlinewidth": 0,
              "ticks": ""
             }
            },
            "type": "scattergeo"
           }
          ],
          "scattergl": [
           {
            "marker": {
             "colorbar": {
              "outlinewidth": 0,
              "ticks": ""
             }
            },
            "type": "scattergl"
           }
          ],
          "scattermapbox": [
           {
            "marker": {
             "colorbar": {
              "outlinewidth": 0,
              "ticks": ""
             }
            },
            "type": "scattermapbox"
           }
          ],
          "scatterpolar": [
           {
            "marker": {
             "colorbar": {
              "outlinewidth": 0,
              "ticks": ""
             }
            },
            "type": "scatterpolar"
           }
          ],
          "scatterpolargl": [
           {
            "marker": {
             "colorbar": {
              "outlinewidth": 0,
              "ticks": ""
             }
            },
            "type": "scatterpolargl"
           }
          ],
          "scatterternary": [
           {
            "marker": {
             "colorbar": {
              "outlinewidth": 0,
              "ticks": ""
             }
            },
            "type": "scatterternary"
           }
          ],
          "surface": [
           {
            "colorbar": {
             "outlinewidth": 0,
             "ticks": ""
            },
            "colorscale": [
             [
              0,
              "#0d0887"
             ],
             [
              0.1111111111111111,
              "#46039f"
             ],
             [
              0.2222222222222222,
              "#7201a8"
             ],
             [
              0.3333333333333333,
              "#9c179e"
             ],
             [
              0.4444444444444444,
              "#bd3786"
             ],
             [
              0.5555555555555556,
              "#d8576b"
             ],
             [
              0.6666666666666666,
              "#ed7953"
             ],
             [
              0.7777777777777778,
              "#fb9f3a"
             ],
             [
              0.8888888888888888,
              "#fdca26"
             ],
             [
              1,
              "#f0f921"
             ]
            ],
            "type": "surface"
           }
          ],
          "table": [
           {
            "cells": {
             "fill": {
              "color": "#EBF0F8"
             },
             "line": {
              "color": "white"
             }
            },
            "header": {
             "fill": {
              "color": "#C8D4E3"
             },
             "line": {
              "color": "white"
             }
            },
            "type": "table"
           }
          ]
         },
         "layout": {
          "annotationdefaults": {
           "arrowcolor": "#2a3f5f",
           "arrowhead": 0,
           "arrowwidth": 1
          },
          "coloraxis": {
           "colorbar": {
            "outlinewidth": 0,
            "ticks": ""
           }
          },
          "colorscale": {
           "diverging": [
            [
             0,
             "#8e0152"
            ],
            [
             0.1,
             "#c51b7d"
            ],
            [
             0.2,
             "#de77ae"
            ],
            [
             0.3,
             "#f1b6da"
            ],
            [
             0.4,
             "#fde0ef"
            ],
            [
             0.5,
             "#f7f7f7"
            ],
            [
             0.6,
             "#e6f5d0"
            ],
            [
             0.7,
             "#b8e186"
            ],
            [
             0.8,
             "#7fbc41"
            ],
            [
             0.9,
             "#4d9221"
            ],
            [
             1,
             "#276419"
            ]
           ],
           "sequential": [
            [
             0,
             "#0d0887"
            ],
            [
             0.1111111111111111,
             "#46039f"
            ],
            [
             0.2222222222222222,
             "#7201a8"
            ],
            [
             0.3333333333333333,
             "#9c179e"
            ],
            [
             0.4444444444444444,
             "#bd3786"
            ],
            [
             0.5555555555555556,
             "#d8576b"
            ],
            [
             0.6666666666666666,
             "#ed7953"
            ],
            [
             0.7777777777777778,
             "#fb9f3a"
            ],
            [
             0.8888888888888888,
             "#fdca26"
            ],
            [
             1,
             "#f0f921"
            ]
           ],
           "sequentialminus": [
            [
             0,
             "#0d0887"
            ],
            [
             0.1111111111111111,
             "#46039f"
            ],
            [
             0.2222222222222222,
             "#7201a8"
            ],
            [
             0.3333333333333333,
             "#9c179e"
            ],
            [
             0.4444444444444444,
             "#bd3786"
            ],
            [
             0.5555555555555556,
             "#d8576b"
            ],
            [
             0.6666666666666666,
             "#ed7953"
            ],
            [
             0.7777777777777778,
             "#fb9f3a"
            ],
            [
             0.8888888888888888,
             "#fdca26"
            ],
            [
             1,
             "#f0f921"
            ]
           ]
          },
          "colorway": [
           "#636efa",
           "#EF553B",
           "#00cc96",
           "#ab63fa",
           "#FFA15A",
           "#19d3f3",
           "#FF6692",
           "#B6E880",
           "#FF97FF",
           "#FECB52"
          ],
          "font": {
           "color": "#2a3f5f"
          },
          "geo": {
           "bgcolor": "white",
           "lakecolor": "white",
           "landcolor": "#E5ECF6",
           "showlakes": true,
           "showland": true,
           "subunitcolor": "white"
          },
          "hoverlabel": {
           "align": "left"
          },
          "hovermode": "closest",
          "mapbox": {
           "style": "light"
          },
          "paper_bgcolor": "white",
          "plot_bgcolor": "#E5ECF6",
          "polar": {
           "angularaxis": {
            "gridcolor": "white",
            "linecolor": "white",
            "ticks": ""
           },
           "bgcolor": "#E5ECF6",
           "radialaxis": {
            "gridcolor": "white",
            "linecolor": "white",
            "ticks": ""
           }
          },
          "scene": {
           "xaxis": {
            "backgroundcolor": "#E5ECF6",
            "gridcolor": "white",
            "gridwidth": 2,
            "linecolor": "white",
            "showbackground": true,
            "ticks": "",
            "zerolinecolor": "white"
           },
           "yaxis": {
            "backgroundcolor": "#E5ECF6",
            "gridcolor": "white",
            "gridwidth": 2,
            "linecolor": "white",
            "showbackground": true,
            "ticks": "",
            "zerolinecolor": "white"
           },
           "zaxis": {
            "backgroundcolor": "#E5ECF6",
            "gridcolor": "white",
            "gridwidth": 2,
            "linecolor": "white",
            "showbackground": true,
            "ticks": "",
            "zerolinecolor": "white"
           }
          },
          "shapedefaults": {
           "line": {
            "color": "#2a3f5f"
           }
          },
          "ternary": {
           "aaxis": {
            "gridcolor": "white",
            "linecolor": "white",
            "ticks": ""
           },
           "baxis": {
            "gridcolor": "white",
            "linecolor": "white",
            "ticks": ""
           },
           "bgcolor": "#E5ECF6",
           "caxis": {
            "gridcolor": "white",
            "linecolor": "white",
            "ticks": ""
           }
          },
          "title": {
           "x": 0.05
          },
          "xaxis": {
           "automargin": true,
           "gridcolor": "white",
           "linecolor": "white",
           "ticks": "",
           "title": {
            "standoff": 15
           },
           "zerolinecolor": "white",
           "zerolinewidth": 2
          },
          "yaxis": {
           "automargin": true,
           "gridcolor": "white",
           "linecolor": "white",
           "ticks": "",
           "title": {
            "standoff": 15
           },
           "zerolinecolor": "white",
           "zerolinewidth": 2
          }
         }
        },
        "title": {
         "font": {
          "color": "#4D5663"
         }
        },
        "xaxis": {
         "gridcolor": "#E1E5ED",
         "showgrid": true,
         "tickfont": {
          "color": "#4D5663"
         },
         "title": {
          "font": {
           "color": "#4D5663"
          },
          "text": ""
         },
         "zerolinecolor": "#E1E5ED"
        },
        "yaxis": {
         "gridcolor": "#E1E5ED",
         "showgrid": true,
         "tickfont": {
          "color": "#4D5663"
         },
         "title": {
          "font": {
           "color": "#4D5663"
          },
          "text": ""
         },
         "zerolinecolor": "#E1E5ED"
        }
       }
      },
      "text/html": [
       "<div>\n",
       "        \n",
       "        \n",
       "            <div id=\"1d52c1a9-8e79-46a3-8c5d-7ad70d1ee093\" class=\"plotly-graph-div\" style=\"height:525px; width:100%;\"></div>\n",
       "            <script type=\"text/javascript\">\n",
       "                require([\"plotly\"], function(Plotly) {\n",
       "                    window.PLOTLYENV=window.PLOTLYENV || {};\n",
       "                    window.PLOTLYENV.BASE_URL='https://plot.ly';\n",
       "                    \n",
       "                if (document.getElementById(\"1d52c1a9-8e79-46a3-8c5d-7ad70d1ee093\")) {\n",
       "                    Plotly.newPlot(\n",
       "                        '1d52c1a9-8e79-46a3-8c5d-7ad70d1ee093',\n",
       "                        [{\"line\": {\"color\": \"rgba(255, 153, 51, 1.0)\", \"dash\": \"solid\", \"shape\": \"linear\", \"width\": 1.3}, \"marker\": {\"size\": 10, \"symbol\": \"circle\"}, \"mode\": \"markers\", \"name\": \"B\", \"text\": \"\", \"type\": \"scatter\", \"x\": [0.17082491155154642, 0.9733848448503118, -0.20854129260332577, 0.5587619427877866, -0.6615722914955411, 0.5121643351474225, 0.13130368234342465, -0.035220320669247594, -0.369963306984912, 0.5729958692785618, -0.09210955386424999, -0.5373937615298153, -2.01724661384686, -0.8987714595694133, 1.9467057852407064, 0.5164427357241107, -1.1635408247005044, -0.5448724578467126, -0.46264624189382997, -1.9179493009778803, 2.7714798339031748, 0.3071036700992901, 0.029286680479822094, 0.5515474197907069, 0.09403663372726255, -0.0687491880537863, 0.7060426747565378, -0.5487359269643622, 1.150545299499611, -0.08727405512422448, -0.04865263507570622, -1.3241004736370685, 1.8203440910427022, 1.0249235499982265, 0.07530077677831443, -0.3983518441111155, 0.9243840081896711, -2.1537998401775726, -0.7480917035901087, -1.8064452966690792, 0.7434603261362684, -0.30218021518186455, -1.5446446180825437, -1.1220120169755035, 0.9827691531143342, 1.1921574743054213, 0.6442449133259306, -0.3569707490839753, 0.8461417905701312, -2.19250392792535, 0.5652808285965437, -0.1344062661716792, 0.3374266044185731, 0.11501457230929552, -1.03432476125489, 0.8786458309333575, -0.8432228331014776, 1.5209334906428773, -0.13490408553921363, 1.1362711489480044, -0.7164362335444737, 1.8944088793920375, -0.8392029122803014, 0.8870880475536355, -0.22471697569343044, -0.21386527195545157, -0.588424204629573, -2.333080303181406, 0.6864778911900746, 0.9061942198927625, -0.6362395296227634, 0.2775335519572494, 0.6663808474363447, 1.451569505775331, 0.25971128472701793, -0.22258903844656566, 0.11690251426354925, -0.4037173564209437, -0.3616918130026108, 0.26753011495892737, -0.3330809158884787, -0.6136738297829322, 2.3977626706818524, 0.008681338043572347, 0.015381712961214473, -0.34992740870667255, -0.9826085890796246, 0.10960702639982886, 0.3045237793180047, 0.9456287376200995, -1.2666023905791035, -0.12604263057332346, 1.3716201125923573, -0.772097226537111, 0.742127190729917, 0.5613431520440979, 0.29713781861089317, 0.11467605932335413, 1.1177885105058485, 1.3404619399594997], \"y\": [-1.0469343486083953, -1.459788614380184, -0.8948475098518478, 1.0189272429513767, 0.896482444363568, -0.8499088047524456, 0.024902896053242213, -1.2539480497063156, 1.1080455661815205, 0.6039706085303771, 1.1462550302790881, 0.3383978416192203, -1.1703911847275679, -0.4506090304627199, -1.7885796092722501, 1.9740354776517566, -0.5589227900109863, -1.5059038409979402, 0.06801135045561885, -0.5424102393537328, -0.12596595257673204, 0.07766803062063887, 1.08742149533797, -0.5276402294420803, -0.5134796696744759, -0.00885507836116481, -1.9179898136723204, 0.015978142026482386, 0.596272380271323, 1.096940104175222, -0.9701160214948572, 1.1473044174962768, -0.8497300858779225, 0.17745707004204264, 1.3040067873187786, 0.8949482052732047, -0.07886388560014475, -3.561507122896207, 1.5323073119190378, -1.0106015855491841, 1.0565480505208455, 0.7105695536942717, -0.797211235009638, 0.7998529314333869, -0.15244947297596764, -0.17741142705640117, 0.039603889157412094, -1.2500332755144197, 0.07917645744092283, 1.336754302137174, 0.603138128276989, 0.18426981447960314, -0.6495388957173431, -1.6313915348260464, -0.2982863158078925, 0.37314891494260083, 0.24879635716302964, 0.5860706811766647, -0.6610205762239924, -1.190788182194642, -0.6409061943286544, 0.462293155947097, -1.3089069803765623, 1.6341450528765762, -1.1338904173028463, -0.5039350542364665, 0.0840200054861493, -0.2726865642592458, 1.2856192693433823, 0.29240349533422016, 0.9006195057266302, -0.604269563912645, 1.6869476552089377, 0.5361783937936255, 1.0150365809424875, 0.09077509679183086, 0.9872278379038406, -0.5543308540711545, 0.15213184418788492, -0.8772278719188741, 0.2931996962880976, -0.2037623234733791, -0.7928436197071106, -1.0802896101213275, -1.3279711785816812, 0.08431434618031589, 0.596991906053773, 0.14488046829607382, 0.8075704683875163, -2.8380301262811347, 1.1722548193519313, 0.6474126943040964, -0.4074743070915865, -0.810311666954102, -1.2017508067688711, 1.6032888870895288, 0.15228854207435788, 0.800145725655405, -0.7282201700792078, 1.1399079188302463]}],\n",
       "                        {\"legend\": {\"bgcolor\": \"#F5F6F9\", \"font\": {\"color\": \"#4D5663\"}}, \"paper_bgcolor\": \"#F5F6F9\", \"plot_bgcolor\": \"#F5F6F9\", \"template\": {\"data\": {\"bar\": [{\"error_x\": {\"color\": \"#2a3f5f\"}, \"error_y\": {\"color\": \"#2a3f5f\"}, \"marker\": {\"line\": {\"color\": \"#E5ECF6\", \"width\": 0.5}}, \"type\": \"bar\"}], \"barpolar\": [{\"marker\": {\"line\": {\"color\": \"#E5ECF6\", \"width\": 0.5}}, \"type\": \"barpolar\"}], \"carpet\": [{\"aaxis\": {\"endlinecolor\": \"#2a3f5f\", \"gridcolor\": \"white\", \"linecolor\": \"white\", \"minorgridcolor\": \"white\", \"startlinecolor\": \"#2a3f5f\"}, \"baxis\": {\"endlinecolor\": \"#2a3f5f\", \"gridcolor\": \"white\", \"linecolor\": \"white\", \"minorgridcolor\": \"white\", \"startlinecolor\": \"#2a3f5f\"}, \"type\": \"carpet\"}], \"choropleth\": [{\"colorbar\": {\"outlinewidth\": 0, \"ticks\": \"\"}, \"type\": \"choropleth\"}], \"contour\": [{\"colorbar\": {\"outlinewidth\": 0, \"ticks\": \"\"}, \"colorscale\": [[0.0, \"#0d0887\"], [0.1111111111111111, \"#46039f\"], [0.2222222222222222, \"#7201a8\"], [0.3333333333333333, \"#9c179e\"], [0.4444444444444444, \"#bd3786\"], [0.5555555555555556, \"#d8576b\"], [0.6666666666666666, \"#ed7953\"], [0.7777777777777778, \"#fb9f3a\"], [0.8888888888888888, \"#fdca26\"], [1.0, \"#f0f921\"]], \"type\": \"contour\"}], \"contourcarpet\": [{\"colorbar\": {\"outlinewidth\": 0, \"ticks\": \"\"}, \"type\": \"contourcarpet\"}], \"heatmap\": [{\"colorbar\": {\"outlinewidth\": 0, \"ticks\": \"\"}, \"colorscale\": [[0.0, \"#0d0887\"], [0.1111111111111111, \"#46039f\"], [0.2222222222222222, \"#7201a8\"], [0.3333333333333333, \"#9c179e\"], [0.4444444444444444, \"#bd3786\"], [0.5555555555555556, \"#d8576b\"], [0.6666666666666666, \"#ed7953\"], [0.7777777777777778, \"#fb9f3a\"], [0.8888888888888888, \"#fdca26\"], [1.0, \"#f0f921\"]], \"type\": \"heatmap\"}], \"heatmapgl\": [{\"colorbar\": {\"outlinewidth\": 0, \"ticks\": \"\"}, \"colorscale\": [[0.0, \"#0d0887\"], [0.1111111111111111, \"#46039f\"], [0.2222222222222222, \"#7201a8\"], [0.3333333333333333, \"#9c179e\"], [0.4444444444444444, \"#bd3786\"], [0.5555555555555556, \"#d8576b\"], [0.6666666666666666, \"#ed7953\"], [0.7777777777777778, \"#fb9f3a\"], [0.8888888888888888, \"#fdca26\"], [1.0, \"#f0f921\"]], \"type\": \"heatmapgl\"}], \"histogram\": [{\"marker\": {\"colorbar\": {\"outlinewidth\": 0, \"ticks\": \"\"}}, \"type\": \"histogram\"}], \"histogram2d\": [{\"colorbar\": {\"outlinewidth\": 0, \"ticks\": \"\"}, \"colorscale\": [[0.0, \"#0d0887\"], [0.1111111111111111, \"#46039f\"], [0.2222222222222222, \"#7201a8\"], [0.3333333333333333, \"#9c179e\"], [0.4444444444444444, \"#bd3786\"], [0.5555555555555556, \"#d8576b\"], [0.6666666666666666, \"#ed7953\"], [0.7777777777777778, \"#fb9f3a\"], [0.8888888888888888, \"#fdca26\"], [1.0, \"#f0f921\"]], \"type\": \"histogram2d\"}], \"histogram2dcontour\": [{\"colorbar\": {\"outlinewidth\": 0, \"ticks\": \"\"}, \"colorscale\": [[0.0, \"#0d0887\"], [0.1111111111111111, \"#46039f\"], [0.2222222222222222, \"#7201a8\"], [0.3333333333333333, \"#9c179e\"], [0.4444444444444444, \"#bd3786\"], [0.5555555555555556, \"#d8576b\"], [0.6666666666666666, \"#ed7953\"], [0.7777777777777778, \"#fb9f3a\"], [0.8888888888888888, \"#fdca26\"], [1.0, \"#f0f921\"]], \"type\": \"histogram2dcontour\"}], \"mesh3d\": [{\"colorbar\": {\"outlinewidth\": 0, \"ticks\": \"\"}, \"type\": \"mesh3d\"}], \"parcoords\": [{\"line\": {\"colorbar\": {\"outlinewidth\": 0, \"ticks\": \"\"}}, \"type\": \"parcoords\"}], \"pie\": [{\"automargin\": true, \"type\": \"pie\"}], \"scatter\": [{\"marker\": {\"colorbar\": {\"outlinewidth\": 0, \"ticks\": \"\"}}, \"type\": \"scatter\"}], \"scatter3d\": [{\"line\": {\"colorbar\": {\"outlinewidth\": 0, \"ticks\": \"\"}}, \"marker\": {\"colorbar\": {\"outlinewidth\": 0, \"ticks\": \"\"}}, \"type\": \"scatter3d\"}], \"scattercarpet\": [{\"marker\": {\"colorbar\": {\"outlinewidth\": 0, \"ticks\": \"\"}}, \"type\": \"scattercarpet\"}], \"scattergeo\": [{\"marker\": {\"colorbar\": {\"outlinewidth\": 0, \"ticks\": \"\"}}, \"type\": \"scattergeo\"}], \"scattergl\": [{\"marker\": {\"colorbar\": {\"outlinewidth\": 0, \"ticks\": \"\"}}, \"type\": \"scattergl\"}], \"scattermapbox\": [{\"marker\": {\"colorbar\": {\"outlinewidth\": 0, \"ticks\": \"\"}}, \"type\": \"scattermapbox\"}], \"scatterpolar\": [{\"marker\": {\"colorbar\": {\"outlinewidth\": 0, \"ticks\": \"\"}}, \"type\": \"scatterpolar\"}], \"scatterpolargl\": [{\"marker\": {\"colorbar\": {\"outlinewidth\": 0, \"ticks\": \"\"}}, \"type\": \"scatterpolargl\"}], \"scatterternary\": [{\"marker\": {\"colorbar\": {\"outlinewidth\": 0, \"ticks\": \"\"}}, \"type\": \"scatterternary\"}], \"surface\": [{\"colorbar\": {\"outlinewidth\": 0, \"ticks\": \"\"}, \"colorscale\": [[0.0, \"#0d0887\"], [0.1111111111111111, \"#46039f\"], [0.2222222222222222, \"#7201a8\"], [0.3333333333333333, \"#9c179e\"], [0.4444444444444444, \"#bd3786\"], [0.5555555555555556, \"#d8576b\"], [0.6666666666666666, \"#ed7953\"], [0.7777777777777778, \"#fb9f3a\"], [0.8888888888888888, \"#fdca26\"], [1.0, \"#f0f921\"]], \"type\": \"surface\"}], \"table\": [{\"cells\": {\"fill\": {\"color\": \"#EBF0F8\"}, \"line\": {\"color\": \"white\"}}, \"header\": {\"fill\": {\"color\": \"#C8D4E3\"}, \"line\": {\"color\": \"white\"}}, \"type\": \"table\"}]}, \"layout\": {\"annotationdefaults\": {\"arrowcolor\": \"#2a3f5f\", \"arrowhead\": 0, \"arrowwidth\": 1}, \"coloraxis\": {\"colorbar\": {\"outlinewidth\": 0, \"ticks\": \"\"}}, \"colorscale\": {\"diverging\": [[0, \"#8e0152\"], [0.1, \"#c51b7d\"], [0.2, \"#de77ae\"], [0.3, \"#f1b6da\"], [0.4, \"#fde0ef\"], [0.5, \"#f7f7f7\"], [0.6, \"#e6f5d0\"], [0.7, \"#b8e186\"], [0.8, \"#7fbc41\"], [0.9, \"#4d9221\"], [1, \"#276419\"]], \"sequential\": [[0.0, \"#0d0887\"], [0.1111111111111111, \"#46039f\"], [0.2222222222222222, \"#7201a8\"], [0.3333333333333333, \"#9c179e\"], [0.4444444444444444, \"#bd3786\"], [0.5555555555555556, \"#d8576b\"], [0.6666666666666666, \"#ed7953\"], [0.7777777777777778, \"#fb9f3a\"], [0.8888888888888888, \"#fdca26\"], [1.0, \"#f0f921\"]], \"sequentialminus\": [[0.0, \"#0d0887\"], [0.1111111111111111, \"#46039f\"], [0.2222222222222222, \"#7201a8\"], [0.3333333333333333, \"#9c179e\"], [0.4444444444444444, \"#bd3786\"], [0.5555555555555556, \"#d8576b\"], [0.6666666666666666, \"#ed7953\"], [0.7777777777777778, \"#fb9f3a\"], [0.8888888888888888, \"#fdca26\"], [1.0, \"#f0f921\"]]}, \"colorway\": [\"#636efa\", \"#EF553B\", \"#00cc96\", \"#ab63fa\", \"#FFA15A\", \"#19d3f3\", \"#FF6692\", \"#B6E880\", \"#FF97FF\", \"#FECB52\"], \"font\": {\"color\": \"#2a3f5f\"}, \"geo\": {\"bgcolor\": \"white\", \"lakecolor\": \"white\", \"landcolor\": \"#E5ECF6\", \"showlakes\": true, \"showland\": true, \"subunitcolor\": \"white\"}, \"hoverlabel\": {\"align\": \"left\"}, \"hovermode\": \"closest\", \"mapbox\": {\"style\": \"light\"}, \"paper_bgcolor\": \"white\", \"plot_bgcolor\": \"#E5ECF6\", \"polar\": {\"angularaxis\": {\"gridcolor\": \"white\", \"linecolor\": \"white\", \"ticks\": \"\"}, \"bgcolor\": \"#E5ECF6\", \"radialaxis\": {\"gridcolor\": \"white\", \"linecolor\": \"white\", \"ticks\": \"\"}}, \"scene\": {\"xaxis\": {\"backgroundcolor\": \"#E5ECF6\", \"gridcolor\": \"white\", \"gridwidth\": 2, \"linecolor\": \"white\", \"showbackground\": true, \"ticks\": \"\", \"zerolinecolor\": \"white\"}, \"yaxis\": {\"backgroundcolor\": \"#E5ECF6\", \"gridcolor\": \"white\", \"gridwidth\": 2, \"linecolor\": \"white\", \"showbackground\": true, \"ticks\": \"\", \"zerolinecolor\": \"white\"}, \"zaxis\": {\"backgroundcolor\": \"#E5ECF6\", \"gridcolor\": \"white\", \"gridwidth\": 2, \"linecolor\": \"white\", \"showbackground\": true, \"ticks\": \"\", \"zerolinecolor\": \"white\"}}, \"shapedefaults\": {\"line\": {\"color\": \"#2a3f5f\"}}, \"ternary\": {\"aaxis\": {\"gridcolor\": \"white\", \"linecolor\": \"white\", \"ticks\": \"\"}, \"baxis\": {\"gridcolor\": \"white\", \"linecolor\": \"white\", \"ticks\": \"\"}, \"bgcolor\": \"#E5ECF6\", \"caxis\": {\"gridcolor\": \"white\", \"linecolor\": \"white\", \"ticks\": \"\"}}, \"title\": {\"x\": 0.05}, \"xaxis\": {\"automargin\": true, \"gridcolor\": \"white\", \"linecolor\": \"white\", \"ticks\": \"\", \"title\": {\"standoff\": 15}, \"zerolinecolor\": \"white\", \"zerolinewidth\": 2}, \"yaxis\": {\"automargin\": true, \"gridcolor\": \"white\", \"linecolor\": \"white\", \"ticks\": \"\", \"title\": {\"standoff\": 15}, \"zerolinecolor\": \"white\", \"zerolinewidth\": 2}}}, \"title\": {\"font\": {\"color\": \"#4D5663\"}}, \"xaxis\": {\"gridcolor\": \"#E1E5ED\", \"showgrid\": true, \"tickfont\": {\"color\": \"#4D5663\"}, \"title\": {\"font\": {\"color\": \"#4D5663\"}, \"text\": \"\"}, \"zerolinecolor\": \"#E1E5ED\"}, \"yaxis\": {\"gridcolor\": \"#E1E5ED\", \"showgrid\": true, \"tickfont\": {\"color\": \"#4D5663\"}, \"title\": {\"font\": {\"color\": \"#4D5663\"}, \"text\": \"\"}, \"zerolinecolor\": \"#E1E5ED\"}},\n",
       "                        {\"showLink\": true, \"linkText\": \"Export to plot.ly\", \"plotlyServerURL\": \"https://plot.ly\", \"responsive\": true}\n",
       "                    ).then(function(){\n",
       "                            \n",
       "var gd = document.getElementById('1d52c1a9-8e79-46a3-8c5d-7ad70d1ee093');\n",
       "var x = new MutationObserver(function (mutations, observer) {{\n",
       "        var display = window.getComputedStyle(gd).display;\n",
       "        if (!display || display === 'none') {{\n",
       "            console.log([gd, 'removed!']);\n",
       "            Plotly.purge(gd);\n",
       "            observer.disconnect();\n",
       "        }}\n",
       "}});\n",
       "\n",
       "// Listen for the removal of the full notebook cells\n",
       "var notebookContainer = gd.closest('#notebook-container');\n",
       "if (notebookContainer) {{\n",
       "    x.observe(notebookContainer, {childList: true});\n",
       "}}\n",
       "\n",
       "// Listen for the clearing of the current output cell\n",
       "var outputEl = gd.closest('.output');\n",
       "if (outputEl) {{\n",
       "    x.observe(outputEl, {childList: true});\n",
       "}}\n",
       "\n",
       "                        })\n",
       "                };\n",
       "                });\n",
       "            </script>\n",
       "        </div>"
      ]
     },
     "metadata": {},
     "output_type": "display_data"
    }
   ],
   "source": [
    "df.iplot(kind='scatter',x='A',y='B',mode='markers',size=10)"
   ]
  },
  {
   "cell_type": "markdown",
   "metadata": {},
   "source": [
    "## Bar Plots"
   ]
  },
  {
   "cell_type": "code",
   "execution_count": 11,
   "metadata": {},
   "outputs": [
    {
     "data": {
      "application/vnd.plotly.v1+json": {
       "config": {
        "linkText": "Export to plot.ly",
        "plotlyServerURL": "https://plot.ly",
        "showLink": true
       },
       "data": [
        {
         "marker": {
          "color": "rgba(255, 153, 51, 0.6)",
          "line": {
           "color": "rgba(255, 153, 51, 1.0)",
           "width": 1
          }
         },
         "name": "Values",
         "orientation": "v",
         "text": "",
         "type": "bar",
         "x": [
          "A",
          "B",
          "C"
         ],
         "y": [
          32,
          43,
          50
         ]
        }
       ],
       "layout": {
        "legend": {
         "bgcolor": "#F5F6F9",
         "font": {
          "color": "#4D5663"
         }
        },
        "paper_bgcolor": "#F5F6F9",
        "plot_bgcolor": "#F5F6F9",
        "template": {
         "data": {
          "bar": [
           {
            "error_x": {
             "color": "#2a3f5f"
            },
            "error_y": {
             "color": "#2a3f5f"
            },
            "marker": {
             "line": {
              "color": "#E5ECF6",
              "width": 0.5
             }
            },
            "type": "bar"
           }
          ],
          "barpolar": [
           {
            "marker": {
             "line": {
              "color": "#E5ECF6",
              "width": 0.5
             }
            },
            "type": "barpolar"
           }
          ],
          "carpet": [
           {
            "aaxis": {
             "endlinecolor": "#2a3f5f",
             "gridcolor": "white",
             "linecolor": "white",
             "minorgridcolor": "white",
             "startlinecolor": "#2a3f5f"
            },
            "baxis": {
             "endlinecolor": "#2a3f5f",
             "gridcolor": "white",
             "linecolor": "white",
             "minorgridcolor": "white",
             "startlinecolor": "#2a3f5f"
            },
            "type": "carpet"
           }
          ],
          "choropleth": [
           {
            "colorbar": {
             "outlinewidth": 0,
             "ticks": ""
            },
            "type": "choropleth"
           }
          ],
          "contour": [
           {
            "colorbar": {
             "outlinewidth": 0,
             "ticks": ""
            },
            "colorscale": [
             [
              0,
              "#0d0887"
             ],
             [
              0.1111111111111111,
              "#46039f"
             ],
             [
              0.2222222222222222,
              "#7201a8"
             ],
             [
              0.3333333333333333,
              "#9c179e"
             ],
             [
              0.4444444444444444,
              "#bd3786"
             ],
             [
              0.5555555555555556,
              "#d8576b"
             ],
             [
              0.6666666666666666,
              "#ed7953"
             ],
             [
              0.7777777777777778,
              "#fb9f3a"
             ],
             [
              0.8888888888888888,
              "#fdca26"
             ],
             [
              1,
              "#f0f921"
             ]
            ],
            "type": "contour"
           }
          ],
          "contourcarpet": [
           {
            "colorbar": {
             "outlinewidth": 0,
             "ticks": ""
            },
            "type": "contourcarpet"
           }
          ],
          "heatmap": [
           {
            "colorbar": {
             "outlinewidth": 0,
             "ticks": ""
            },
            "colorscale": [
             [
              0,
              "#0d0887"
             ],
             [
              0.1111111111111111,
              "#46039f"
             ],
             [
              0.2222222222222222,
              "#7201a8"
             ],
             [
              0.3333333333333333,
              "#9c179e"
             ],
             [
              0.4444444444444444,
              "#bd3786"
             ],
             [
              0.5555555555555556,
              "#d8576b"
             ],
             [
              0.6666666666666666,
              "#ed7953"
             ],
             [
              0.7777777777777778,
              "#fb9f3a"
             ],
             [
              0.8888888888888888,
              "#fdca26"
             ],
             [
              1,
              "#f0f921"
             ]
            ],
            "type": "heatmap"
           }
          ],
          "heatmapgl": [
           {
            "colorbar": {
             "outlinewidth": 0,
             "ticks": ""
            },
            "colorscale": [
             [
              0,
              "#0d0887"
             ],
             [
              0.1111111111111111,
              "#46039f"
             ],
             [
              0.2222222222222222,
              "#7201a8"
             ],
             [
              0.3333333333333333,
              "#9c179e"
             ],
             [
              0.4444444444444444,
              "#bd3786"
             ],
             [
              0.5555555555555556,
              "#d8576b"
             ],
             [
              0.6666666666666666,
              "#ed7953"
             ],
             [
              0.7777777777777778,
              "#fb9f3a"
             ],
             [
              0.8888888888888888,
              "#fdca26"
             ],
             [
              1,
              "#f0f921"
             ]
            ],
            "type": "heatmapgl"
           }
          ],
          "histogram": [
           {
            "marker": {
             "colorbar": {
              "outlinewidth": 0,
              "ticks": ""
             }
            },
            "type": "histogram"
           }
          ],
          "histogram2d": [
           {
            "colorbar": {
             "outlinewidth": 0,
             "ticks": ""
            },
            "colorscale": [
             [
              0,
              "#0d0887"
             ],
             [
              0.1111111111111111,
              "#46039f"
             ],
             [
              0.2222222222222222,
              "#7201a8"
             ],
             [
              0.3333333333333333,
              "#9c179e"
             ],
             [
              0.4444444444444444,
              "#bd3786"
             ],
             [
              0.5555555555555556,
              "#d8576b"
             ],
             [
              0.6666666666666666,
              "#ed7953"
             ],
             [
              0.7777777777777778,
              "#fb9f3a"
             ],
             [
              0.8888888888888888,
              "#fdca26"
             ],
             [
              1,
              "#f0f921"
             ]
            ],
            "type": "histogram2d"
           }
          ],
          "histogram2dcontour": [
           {
            "colorbar": {
             "outlinewidth": 0,
             "ticks": ""
            },
            "colorscale": [
             [
              0,
              "#0d0887"
             ],
             [
              0.1111111111111111,
              "#46039f"
             ],
             [
              0.2222222222222222,
              "#7201a8"
             ],
             [
              0.3333333333333333,
              "#9c179e"
             ],
             [
              0.4444444444444444,
              "#bd3786"
             ],
             [
              0.5555555555555556,
              "#d8576b"
             ],
             [
              0.6666666666666666,
              "#ed7953"
             ],
             [
              0.7777777777777778,
              "#fb9f3a"
             ],
             [
              0.8888888888888888,
              "#fdca26"
             ],
             [
              1,
              "#f0f921"
             ]
            ],
            "type": "histogram2dcontour"
           }
          ],
          "mesh3d": [
           {
            "colorbar": {
             "outlinewidth": 0,
             "ticks": ""
            },
            "type": "mesh3d"
           }
          ],
          "parcoords": [
           {
            "line": {
             "colorbar": {
              "outlinewidth": 0,
              "ticks": ""
             }
            },
            "type": "parcoords"
           }
          ],
          "pie": [
           {
            "automargin": true,
            "type": "pie"
           }
          ],
          "scatter": [
           {
            "marker": {
             "colorbar": {
              "outlinewidth": 0,
              "ticks": ""
             }
            },
            "type": "scatter"
           }
          ],
          "scatter3d": [
           {
            "line": {
             "colorbar": {
              "outlinewidth": 0,
              "ticks": ""
             }
            },
            "marker": {
             "colorbar": {
              "outlinewidth": 0,
              "ticks": ""
             }
            },
            "type": "scatter3d"
           }
          ],
          "scattercarpet": [
           {
            "marker": {
             "colorbar": {
              "outlinewidth": 0,
              "ticks": ""
             }
            },
            "type": "scattercarpet"
           }
          ],
          "scattergeo": [
           {
            "marker": {
             "colorbar": {
              "outlinewidth": 0,
              "ticks": ""
             }
            },
            "type": "scattergeo"
           }
          ],
          "scattergl": [
           {
            "marker": {
             "colorbar": {
              "outlinewidth": 0,
              "ticks": ""
             }
            },
            "type": "scattergl"
           }
          ],
          "scattermapbox": [
           {
            "marker": {
             "colorbar": {
              "outlinewidth": 0,
              "ticks": ""
             }
            },
            "type": "scattermapbox"
           }
          ],
          "scatterpolar": [
           {
            "marker": {
             "colorbar": {
              "outlinewidth": 0,
              "ticks": ""
             }
            },
            "type": "scatterpolar"
           }
          ],
          "scatterpolargl": [
           {
            "marker": {
             "colorbar": {
              "outlinewidth": 0,
              "ticks": ""
             }
            },
            "type": "scatterpolargl"
           }
          ],
          "scatterternary": [
           {
            "marker": {
             "colorbar": {
              "outlinewidth": 0,
              "ticks": ""
             }
            },
            "type": "scatterternary"
           }
          ],
          "surface": [
           {
            "colorbar": {
             "outlinewidth": 0,
             "ticks": ""
            },
            "colorscale": [
             [
              0,
              "#0d0887"
             ],
             [
              0.1111111111111111,
              "#46039f"
             ],
             [
              0.2222222222222222,
              "#7201a8"
             ],
             [
              0.3333333333333333,
              "#9c179e"
             ],
             [
              0.4444444444444444,
              "#bd3786"
             ],
             [
              0.5555555555555556,
              "#d8576b"
             ],
             [
              0.6666666666666666,
              "#ed7953"
             ],
             [
              0.7777777777777778,
              "#fb9f3a"
             ],
             [
              0.8888888888888888,
              "#fdca26"
             ],
             [
              1,
              "#f0f921"
             ]
            ],
            "type": "surface"
           }
          ],
          "table": [
           {
            "cells": {
             "fill": {
              "color": "#EBF0F8"
             },
             "line": {
              "color": "white"
             }
            },
            "header": {
             "fill": {
              "color": "#C8D4E3"
             },
             "line": {
              "color": "white"
             }
            },
            "type": "table"
           }
          ]
         },
         "layout": {
          "annotationdefaults": {
           "arrowcolor": "#2a3f5f",
           "arrowhead": 0,
           "arrowwidth": 1
          },
          "coloraxis": {
           "colorbar": {
            "outlinewidth": 0,
            "ticks": ""
           }
          },
          "colorscale": {
           "diverging": [
            [
             0,
             "#8e0152"
            ],
            [
             0.1,
             "#c51b7d"
            ],
            [
             0.2,
             "#de77ae"
            ],
            [
             0.3,
             "#f1b6da"
            ],
            [
             0.4,
             "#fde0ef"
            ],
            [
             0.5,
             "#f7f7f7"
            ],
            [
             0.6,
             "#e6f5d0"
            ],
            [
             0.7,
             "#b8e186"
            ],
            [
             0.8,
             "#7fbc41"
            ],
            [
             0.9,
             "#4d9221"
            ],
            [
             1,
             "#276419"
            ]
           ],
           "sequential": [
            [
             0,
             "#0d0887"
            ],
            [
             0.1111111111111111,
             "#46039f"
            ],
            [
             0.2222222222222222,
             "#7201a8"
            ],
            [
             0.3333333333333333,
             "#9c179e"
            ],
            [
             0.4444444444444444,
             "#bd3786"
            ],
            [
             0.5555555555555556,
             "#d8576b"
            ],
            [
             0.6666666666666666,
             "#ed7953"
            ],
            [
             0.7777777777777778,
             "#fb9f3a"
            ],
            [
             0.8888888888888888,
             "#fdca26"
            ],
            [
             1,
             "#f0f921"
            ]
           ],
           "sequentialminus": [
            [
             0,
             "#0d0887"
            ],
            [
             0.1111111111111111,
             "#46039f"
            ],
            [
             0.2222222222222222,
             "#7201a8"
            ],
            [
             0.3333333333333333,
             "#9c179e"
            ],
            [
             0.4444444444444444,
             "#bd3786"
            ],
            [
             0.5555555555555556,
             "#d8576b"
            ],
            [
             0.6666666666666666,
             "#ed7953"
            ],
            [
             0.7777777777777778,
             "#fb9f3a"
            ],
            [
             0.8888888888888888,
             "#fdca26"
            ],
            [
             1,
             "#f0f921"
            ]
           ]
          },
          "colorway": [
           "#636efa",
           "#EF553B",
           "#00cc96",
           "#ab63fa",
           "#FFA15A",
           "#19d3f3",
           "#FF6692",
           "#B6E880",
           "#FF97FF",
           "#FECB52"
          ],
          "font": {
           "color": "#2a3f5f"
          },
          "geo": {
           "bgcolor": "white",
           "lakecolor": "white",
           "landcolor": "#E5ECF6",
           "showlakes": true,
           "showland": true,
           "subunitcolor": "white"
          },
          "hoverlabel": {
           "align": "left"
          },
          "hovermode": "closest",
          "mapbox": {
           "style": "light"
          },
          "paper_bgcolor": "white",
          "plot_bgcolor": "#E5ECF6",
          "polar": {
           "angularaxis": {
            "gridcolor": "white",
            "linecolor": "white",
            "ticks": ""
           },
           "bgcolor": "#E5ECF6",
           "radialaxis": {
            "gridcolor": "white",
            "linecolor": "white",
            "ticks": ""
           }
          },
          "scene": {
           "xaxis": {
            "backgroundcolor": "#E5ECF6",
            "gridcolor": "white",
            "gridwidth": 2,
            "linecolor": "white",
            "showbackground": true,
            "ticks": "",
            "zerolinecolor": "white"
           },
           "yaxis": {
            "backgroundcolor": "#E5ECF6",
            "gridcolor": "white",
            "gridwidth": 2,
            "linecolor": "white",
            "showbackground": true,
            "ticks": "",
            "zerolinecolor": "white"
           },
           "zaxis": {
            "backgroundcolor": "#E5ECF6",
            "gridcolor": "white",
            "gridwidth": 2,
            "linecolor": "white",
            "showbackground": true,
            "ticks": "",
            "zerolinecolor": "white"
           }
          },
          "shapedefaults": {
           "line": {
            "color": "#2a3f5f"
           }
          },
          "ternary": {
           "aaxis": {
            "gridcolor": "white",
            "linecolor": "white",
            "ticks": ""
           },
           "baxis": {
            "gridcolor": "white",
            "linecolor": "white",
            "ticks": ""
           },
           "bgcolor": "#E5ECF6",
           "caxis": {
            "gridcolor": "white",
            "linecolor": "white",
            "ticks": ""
           }
          },
          "title": {
           "x": 0.05
          },
          "xaxis": {
           "automargin": true,
           "gridcolor": "white",
           "linecolor": "white",
           "ticks": "",
           "title": {
            "standoff": 15
           },
           "zerolinecolor": "white",
           "zerolinewidth": 2
          },
          "yaxis": {
           "automargin": true,
           "gridcolor": "white",
           "linecolor": "white",
           "ticks": "",
           "title": {
            "standoff": 15
           },
           "zerolinecolor": "white",
           "zerolinewidth": 2
          }
         }
        },
        "title": {
         "font": {
          "color": "#4D5663"
         }
        },
        "xaxis": {
         "gridcolor": "#E1E5ED",
         "showgrid": true,
         "tickfont": {
          "color": "#4D5663"
         },
         "title": {
          "font": {
           "color": "#4D5663"
          },
          "text": ""
         },
         "zerolinecolor": "#E1E5ED"
        },
        "yaxis": {
         "gridcolor": "#E1E5ED",
         "showgrid": true,
         "tickfont": {
          "color": "#4D5663"
         },
         "title": {
          "font": {
           "color": "#4D5663"
          },
          "text": ""
         },
         "zerolinecolor": "#E1E5ED"
        }
       }
      },
      "text/html": [
       "<div>\n",
       "        \n",
       "        \n",
       "            <div id=\"ff615e83-eb9d-4b0a-a3ad-f63167b2722d\" class=\"plotly-graph-div\" style=\"height:525px; width:100%;\"></div>\n",
       "            <script type=\"text/javascript\">\n",
       "                require([\"plotly\"], function(Plotly) {\n",
       "                    window.PLOTLYENV=window.PLOTLYENV || {};\n",
       "                    window.PLOTLYENV.BASE_URL='https://plot.ly';\n",
       "                    \n",
       "                if (document.getElementById(\"ff615e83-eb9d-4b0a-a3ad-f63167b2722d\")) {\n",
       "                    Plotly.newPlot(\n",
       "                        'ff615e83-eb9d-4b0a-a3ad-f63167b2722d',\n",
       "                        [{\"marker\": {\"color\": \"rgba(255, 153, 51, 0.6)\", \"line\": {\"color\": \"rgba(255, 153, 51, 1.0)\", \"width\": 1}}, \"name\": \"Values\", \"orientation\": \"v\", \"text\": \"\", \"type\": \"bar\", \"x\": [\"A\", \"B\", \"C\"], \"y\": [32, 43, 50]}],\n",
       "                        {\"legend\": {\"bgcolor\": \"#F5F6F9\", \"font\": {\"color\": \"#4D5663\"}}, \"paper_bgcolor\": \"#F5F6F9\", \"plot_bgcolor\": \"#F5F6F9\", \"template\": {\"data\": {\"bar\": [{\"error_x\": {\"color\": \"#2a3f5f\"}, \"error_y\": {\"color\": \"#2a3f5f\"}, \"marker\": {\"line\": {\"color\": \"#E5ECF6\", \"width\": 0.5}}, \"type\": \"bar\"}], \"barpolar\": [{\"marker\": {\"line\": {\"color\": \"#E5ECF6\", \"width\": 0.5}}, \"type\": \"barpolar\"}], \"carpet\": [{\"aaxis\": {\"endlinecolor\": \"#2a3f5f\", \"gridcolor\": \"white\", \"linecolor\": \"white\", \"minorgridcolor\": \"white\", \"startlinecolor\": \"#2a3f5f\"}, \"baxis\": {\"endlinecolor\": \"#2a3f5f\", \"gridcolor\": \"white\", \"linecolor\": \"white\", \"minorgridcolor\": \"white\", \"startlinecolor\": \"#2a3f5f\"}, \"type\": \"carpet\"}], \"choropleth\": [{\"colorbar\": {\"outlinewidth\": 0, \"ticks\": \"\"}, \"type\": \"choropleth\"}], \"contour\": [{\"colorbar\": {\"outlinewidth\": 0, \"ticks\": \"\"}, \"colorscale\": [[0.0, \"#0d0887\"], [0.1111111111111111, \"#46039f\"], [0.2222222222222222, \"#7201a8\"], [0.3333333333333333, \"#9c179e\"], [0.4444444444444444, \"#bd3786\"], [0.5555555555555556, \"#d8576b\"], [0.6666666666666666, \"#ed7953\"], [0.7777777777777778, \"#fb9f3a\"], [0.8888888888888888, \"#fdca26\"], [1.0, \"#f0f921\"]], \"type\": \"contour\"}], \"contourcarpet\": [{\"colorbar\": {\"outlinewidth\": 0, \"ticks\": \"\"}, \"type\": \"contourcarpet\"}], \"heatmap\": [{\"colorbar\": {\"outlinewidth\": 0, \"ticks\": \"\"}, \"colorscale\": [[0.0, \"#0d0887\"], [0.1111111111111111, \"#46039f\"], [0.2222222222222222, \"#7201a8\"], [0.3333333333333333, \"#9c179e\"], [0.4444444444444444, \"#bd3786\"], [0.5555555555555556, \"#d8576b\"], [0.6666666666666666, \"#ed7953\"], [0.7777777777777778, \"#fb9f3a\"], [0.8888888888888888, \"#fdca26\"], [1.0, \"#f0f921\"]], \"type\": \"heatmap\"}], \"heatmapgl\": [{\"colorbar\": {\"outlinewidth\": 0, \"ticks\": \"\"}, \"colorscale\": [[0.0, \"#0d0887\"], [0.1111111111111111, \"#46039f\"], [0.2222222222222222, \"#7201a8\"], [0.3333333333333333, \"#9c179e\"], [0.4444444444444444, \"#bd3786\"], [0.5555555555555556, \"#d8576b\"], [0.6666666666666666, \"#ed7953\"], [0.7777777777777778, \"#fb9f3a\"], [0.8888888888888888, \"#fdca26\"], [1.0, \"#f0f921\"]], \"type\": \"heatmapgl\"}], \"histogram\": [{\"marker\": {\"colorbar\": {\"outlinewidth\": 0, \"ticks\": \"\"}}, \"type\": \"histogram\"}], \"histogram2d\": [{\"colorbar\": {\"outlinewidth\": 0, \"ticks\": \"\"}, \"colorscale\": [[0.0, \"#0d0887\"], [0.1111111111111111, \"#46039f\"], [0.2222222222222222, \"#7201a8\"], [0.3333333333333333, \"#9c179e\"], [0.4444444444444444, \"#bd3786\"], [0.5555555555555556, \"#d8576b\"], [0.6666666666666666, \"#ed7953\"], [0.7777777777777778, \"#fb9f3a\"], [0.8888888888888888, \"#fdca26\"], [1.0, \"#f0f921\"]], \"type\": \"histogram2d\"}], \"histogram2dcontour\": [{\"colorbar\": {\"outlinewidth\": 0, \"ticks\": \"\"}, \"colorscale\": [[0.0, \"#0d0887\"], [0.1111111111111111, \"#46039f\"], [0.2222222222222222, \"#7201a8\"], [0.3333333333333333, \"#9c179e\"], [0.4444444444444444, \"#bd3786\"], [0.5555555555555556, \"#d8576b\"], [0.6666666666666666, \"#ed7953\"], [0.7777777777777778, \"#fb9f3a\"], [0.8888888888888888, \"#fdca26\"], [1.0, \"#f0f921\"]], \"type\": \"histogram2dcontour\"}], \"mesh3d\": [{\"colorbar\": {\"outlinewidth\": 0, \"ticks\": \"\"}, \"type\": \"mesh3d\"}], \"parcoords\": [{\"line\": {\"colorbar\": {\"outlinewidth\": 0, \"ticks\": \"\"}}, \"type\": \"parcoords\"}], \"pie\": [{\"automargin\": true, \"type\": \"pie\"}], \"scatter\": [{\"marker\": {\"colorbar\": {\"outlinewidth\": 0, \"ticks\": \"\"}}, \"type\": \"scatter\"}], \"scatter3d\": [{\"line\": {\"colorbar\": {\"outlinewidth\": 0, \"ticks\": \"\"}}, \"marker\": {\"colorbar\": {\"outlinewidth\": 0, \"ticks\": \"\"}}, \"type\": \"scatter3d\"}], \"scattercarpet\": [{\"marker\": {\"colorbar\": {\"outlinewidth\": 0, \"ticks\": \"\"}}, \"type\": \"scattercarpet\"}], \"scattergeo\": [{\"marker\": {\"colorbar\": {\"outlinewidth\": 0, \"ticks\": \"\"}}, \"type\": \"scattergeo\"}], \"scattergl\": [{\"marker\": {\"colorbar\": {\"outlinewidth\": 0, \"ticks\": \"\"}}, \"type\": \"scattergl\"}], \"scattermapbox\": [{\"marker\": {\"colorbar\": {\"outlinewidth\": 0, \"ticks\": \"\"}}, \"type\": \"scattermapbox\"}], \"scatterpolar\": [{\"marker\": {\"colorbar\": {\"outlinewidth\": 0, \"ticks\": \"\"}}, \"type\": \"scatterpolar\"}], \"scatterpolargl\": [{\"marker\": {\"colorbar\": {\"outlinewidth\": 0, \"ticks\": \"\"}}, \"type\": \"scatterpolargl\"}], \"scatterternary\": [{\"marker\": {\"colorbar\": {\"outlinewidth\": 0, \"ticks\": \"\"}}, \"type\": \"scatterternary\"}], \"surface\": [{\"colorbar\": {\"outlinewidth\": 0, \"ticks\": \"\"}, \"colorscale\": [[0.0, \"#0d0887\"], [0.1111111111111111, \"#46039f\"], [0.2222222222222222, \"#7201a8\"], [0.3333333333333333, \"#9c179e\"], [0.4444444444444444, \"#bd3786\"], [0.5555555555555556, \"#d8576b\"], [0.6666666666666666, \"#ed7953\"], [0.7777777777777778, \"#fb9f3a\"], [0.8888888888888888, \"#fdca26\"], [1.0, \"#f0f921\"]], \"type\": \"surface\"}], \"table\": [{\"cells\": {\"fill\": {\"color\": \"#EBF0F8\"}, \"line\": {\"color\": \"white\"}}, \"header\": {\"fill\": {\"color\": \"#C8D4E3\"}, \"line\": {\"color\": \"white\"}}, \"type\": \"table\"}]}, \"layout\": {\"annotationdefaults\": {\"arrowcolor\": \"#2a3f5f\", \"arrowhead\": 0, \"arrowwidth\": 1}, \"coloraxis\": {\"colorbar\": {\"outlinewidth\": 0, \"ticks\": \"\"}}, \"colorscale\": {\"diverging\": [[0, \"#8e0152\"], [0.1, \"#c51b7d\"], [0.2, \"#de77ae\"], [0.3, \"#f1b6da\"], [0.4, \"#fde0ef\"], [0.5, \"#f7f7f7\"], [0.6, \"#e6f5d0\"], [0.7, \"#b8e186\"], [0.8, \"#7fbc41\"], [0.9, \"#4d9221\"], [1, \"#276419\"]], \"sequential\": [[0.0, \"#0d0887\"], [0.1111111111111111, \"#46039f\"], [0.2222222222222222, \"#7201a8\"], [0.3333333333333333, \"#9c179e\"], [0.4444444444444444, \"#bd3786\"], [0.5555555555555556, \"#d8576b\"], [0.6666666666666666, \"#ed7953\"], [0.7777777777777778, \"#fb9f3a\"], [0.8888888888888888, \"#fdca26\"], [1.0, \"#f0f921\"]], \"sequentialminus\": [[0.0, \"#0d0887\"], [0.1111111111111111, \"#46039f\"], [0.2222222222222222, \"#7201a8\"], [0.3333333333333333, \"#9c179e\"], [0.4444444444444444, \"#bd3786\"], [0.5555555555555556, \"#d8576b\"], [0.6666666666666666, \"#ed7953\"], [0.7777777777777778, \"#fb9f3a\"], [0.8888888888888888, \"#fdca26\"], [1.0, \"#f0f921\"]]}, \"colorway\": [\"#636efa\", \"#EF553B\", \"#00cc96\", \"#ab63fa\", \"#FFA15A\", \"#19d3f3\", \"#FF6692\", \"#B6E880\", \"#FF97FF\", \"#FECB52\"], \"font\": {\"color\": \"#2a3f5f\"}, \"geo\": {\"bgcolor\": \"white\", \"lakecolor\": \"white\", \"landcolor\": \"#E5ECF6\", \"showlakes\": true, \"showland\": true, \"subunitcolor\": \"white\"}, \"hoverlabel\": {\"align\": \"left\"}, \"hovermode\": \"closest\", \"mapbox\": {\"style\": \"light\"}, \"paper_bgcolor\": \"white\", \"plot_bgcolor\": \"#E5ECF6\", \"polar\": {\"angularaxis\": {\"gridcolor\": \"white\", \"linecolor\": \"white\", \"ticks\": \"\"}, \"bgcolor\": \"#E5ECF6\", \"radialaxis\": {\"gridcolor\": \"white\", \"linecolor\": \"white\", \"ticks\": \"\"}}, \"scene\": {\"xaxis\": {\"backgroundcolor\": \"#E5ECF6\", \"gridcolor\": \"white\", \"gridwidth\": 2, \"linecolor\": \"white\", \"showbackground\": true, \"ticks\": \"\", \"zerolinecolor\": \"white\"}, \"yaxis\": {\"backgroundcolor\": \"#E5ECF6\", \"gridcolor\": \"white\", \"gridwidth\": 2, \"linecolor\": \"white\", \"showbackground\": true, \"ticks\": \"\", \"zerolinecolor\": \"white\"}, \"zaxis\": {\"backgroundcolor\": \"#E5ECF6\", \"gridcolor\": \"white\", \"gridwidth\": 2, \"linecolor\": \"white\", \"showbackground\": true, \"ticks\": \"\", \"zerolinecolor\": \"white\"}}, \"shapedefaults\": {\"line\": {\"color\": \"#2a3f5f\"}}, \"ternary\": {\"aaxis\": {\"gridcolor\": \"white\", \"linecolor\": \"white\", \"ticks\": \"\"}, \"baxis\": {\"gridcolor\": \"white\", \"linecolor\": \"white\", \"ticks\": \"\"}, \"bgcolor\": \"#E5ECF6\", \"caxis\": {\"gridcolor\": \"white\", \"linecolor\": \"white\", \"ticks\": \"\"}}, \"title\": {\"x\": 0.05}, \"xaxis\": {\"automargin\": true, \"gridcolor\": \"white\", \"linecolor\": \"white\", \"ticks\": \"\", \"title\": {\"standoff\": 15}, \"zerolinecolor\": \"white\", \"zerolinewidth\": 2}, \"yaxis\": {\"automargin\": true, \"gridcolor\": \"white\", \"linecolor\": \"white\", \"ticks\": \"\", \"title\": {\"standoff\": 15}, \"zerolinecolor\": \"white\", \"zerolinewidth\": 2}}}, \"title\": {\"font\": {\"color\": \"#4D5663\"}}, \"xaxis\": {\"gridcolor\": \"#E1E5ED\", \"showgrid\": true, \"tickfont\": {\"color\": \"#4D5663\"}, \"title\": {\"font\": {\"color\": \"#4D5663\"}, \"text\": \"\"}, \"zerolinecolor\": \"#E1E5ED\"}, \"yaxis\": {\"gridcolor\": \"#E1E5ED\", \"showgrid\": true, \"tickfont\": {\"color\": \"#4D5663\"}, \"title\": {\"font\": {\"color\": \"#4D5663\"}, \"text\": \"\"}, \"zerolinecolor\": \"#E1E5ED\"}},\n",
       "                        {\"showLink\": true, \"linkText\": \"Export to plot.ly\", \"plotlyServerURL\": \"https://plot.ly\", \"responsive\": true}\n",
       "                    ).then(function(){\n",
       "                            \n",
       "var gd = document.getElementById('ff615e83-eb9d-4b0a-a3ad-f63167b2722d');\n",
       "var x = new MutationObserver(function (mutations, observer) {{\n",
       "        var display = window.getComputedStyle(gd).display;\n",
       "        if (!display || display === 'none') {{\n",
       "            console.log([gd, 'removed!']);\n",
       "            Plotly.purge(gd);\n",
       "            observer.disconnect();\n",
       "        }}\n",
       "}});\n",
       "\n",
       "// Listen for the removal of the full notebook cells\n",
       "var notebookContainer = gd.closest('#notebook-container');\n",
       "if (notebookContainer) {{\n",
       "    x.observe(notebookContainer, {childList: true});\n",
       "}}\n",
       "\n",
       "// Listen for the clearing of the current output cell\n",
       "var outputEl = gd.closest('.output');\n",
       "if (outputEl) {{\n",
       "    x.observe(outputEl, {childList: true});\n",
       "}}\n",
       "\n",
       "                        })\n",
       "                };\n",
       "                });\n",
       "            </script>\n",
       "        </div>"
      ]
     },
     "metadata": {},
     "output_type": "display_data"
    }
   ],
   "source": [
    "df2.iplot(kind='bar',x='Category',y='Values')"
   ]
  },
  {
   "cell_type": "code",
   "execution_count": 12,
   "metadata": {},
   "outputs": [
    {
     "data": {
      "application/vnd.plotly.v1+json": {
       "config": {
        "linkText": "Export to plot.ly",
        "plotlyServerURL": "https://plot.ly",
        "showLink": true
       },
       "data": [
        {
         "marker": {
          "color": "rgba(255, 153, 51, 0.6)",
          "line": {
           "color": "rgba(255, 153, 51, 1.0)",
           "width": 1
          }
         },
         "name": "None",
         "orientation": "v",
         "text": "",
         "type": "bar",
         "x": [
          "A",
          "B",
          "C",
          "D"
         ],
         "y": [
          100,
          100,
          100,
          100
         ]
        }
       ],
       "layout": {
        "legend": {
         "bgcolor": "#F5F6F9",
         "font": {
          "color": "#4D5663"
         }
        },
        "paper_bgcolor": "#F5F6F9",
        "plot_bgcolor": "#F5F6F9",
        "template": {
         "data": {
          "bar": [
           {
            "error_x": {
             "color": "#2a3f5f"
            },
            "error_y": {
             "color": "#2a3f5f"
            },
            "marker": {
             "line": {
              "color": "#E5ECF6",
              "width": 0.5
             }
            },
            "type": "bar"
           }
          ],
          "barpolar": [
           {
            "marker": {
             "line": {
              "color": "#E5ECF6",
              "width": 0.5
             }
            },
            "type": "barpolar"
           }
          ],
          "carpet": [
           {
            "aaxis": {
             "endlinecolor": "#2a3f5f",
             "gridcolor": "white",
             "linecolor": "white",
             "minorgridcolor": "white",
             "startlinecolor": "#2a3f5f"
            },
            "baxis": {
             "endlinecolor": "#2a3f5f",
             "gridcolor": "white",
             "linecolor": "white",
             "minorgridcolor": "white",
             "startlinecolor": "#2a3f5f"
            },
            "type": "carpet"
           }
          ],
          "choropleth": [
           {
            "colorbar": {
             "outlinewidth": 0,
             "ticks": ""
            },
            "type": "choropleth"
           }
          ],
          "contour": [
           {
            "colorbar": {
             "outlinewidth": 0,
             "ticks": ""
            },
            "colorscale": [
             [
              0,
              "#0d0887"
             ],
             [
              0.1111111111111111,
              "#46039f"
             ],
             [
              0.2222222222222222,
              "#7201a8"
             ],
             [
              0.3333333333333333,
              "#9c179e"
             ],
             [
              0.4444444444444444,
              "#bd3786"
             ],
             [
              0.5555555555555556,
              "#d8576b"
             ],
             [
              0.6666666666666666,
              "#ed7953"
             ],
             [
              0.7777777777777778,
              "#fb9f3a"
             ],
             [
              0.8888888888888888,
              "#fdca26"
             ],
             [
              1,
              "#f0f921"
             ]
            ],
            "type": "contour"
           }
          ],
          "contourcarpet": [
           {
            "colorbar": {
             "outlinewidth": 0,
             "ticks": ""
            },
            "type": "contourcarpet"
           }
          ],
          "heatmap": [
           {
            "colorbar": {
             "outlinewidth": 0,
             "ticks": ""
            },
            "colorscale": [
             [
              0,
              "#0d0887"
             ],
             [
              0.1111111111111111,
              "#46039f"
             ],
             [
              0.2222222222222222,
              "#7201a8"
             ],
             [
              0.3333333333333333,
              "#9c179e"
             ],
             [
              0.4444444444444444,
              "#bd3786"
             ],
             [
              0.5555555555555556,
              "#d8576b"
             ],
             [
              0.6666666666666666,
              "#ed7953"
             ],
             [
              0.7777777777777778,
              "#fb9f3a"
             ],
             [
              0.8888888888888888,
              "#fdca26"
             ],
             [
              1,
              "#f0f921"
             ]
            ],
            "type": "heatmap"
           }
          ],
          "heatmapgl": [
           {
            "colorbar": {
             "outlinewidth": 0,
             "ticks": ""
            },
            "colorscale": [
             [
              0,
              "#0d0887"
             ],
             [
              0.1111111111111111,
              "#46039f"
             ],
             [
              0.2222222222222222,
              "#7201a8"
             ],
             [
              0.3333333333333333,
              "#9c179e"
             ],
             [
              0.4444444444444444,
              "#bd3786"
             ],
             [
              0.5555555555555556,
              "#d8576b"
             ],
             [
              0.6666666666666666,
              "#ed7953"
             ],
             [
              0.7777777777777778,
              "#fb9f3a"
             ],
             [
              0.8888888888888888,
              "#fdca26"
             ],
             [
              1,
              "#f0f921"
             ]
            ],
            "type": "heatmapgl"
           }
          ],
          "histogram": [
           {
            "marker": {
             "colorbar": {
              "outlinewidth": 0,
              "ticks": ""
             }
            },
            "type": "histogram"
           }
          ],
          "histogram2d": [
           {
            "colorbar": {
             "outlinewidth": 0,
             "ticks": ""
            },
            "colorscale": [
             [
              0,
              "#0d0887"
             ],
             [
              0.1111111111111111,
              "#46039f"
             ],
             [
              0.2222222222222222,
              "#7201a8"
             ],
             [
              0.3333333333333333,
              "#9c179e"
             ],
             [
              0.4444444444444444,
              "#bd3786"
             ],
             [
              0.5555555555555556,
              "#d8576b"
             ],
             [
              0.6666666666666666,
              "#ed7953"
             ],
             [
              0.7777777777777778,
              "#fb9f3a"
             ],
             [
              0.8888888888888888,
              "#fdca26"
             ],
             [
              1,
              "#f0f921"
             ]
            ],
            "type": "histogram2d"
           }
          ],
          "histogram2dcontour": [
           {
            "colorbar": {
             "outlinewidth": 0,
             "ticks": ""
            },
            "colorscale": [
             [
              0,
              "#0d0887"
             ],
             [
              0.1111111111111111,
              "#46039f"
             ],
             [
              0.2222222222222222,
              "#7201a8"
             ],
             [
              0.3333333333333333,
              "#9c179e"
             ],
             [
              0.4444444444444444,
              "#bd3786"
             ],
             [
              0.5555555555555556,
              "#d8576b"
             ],
             [
              0.6666666666666666,
              "#ed7953"
             ],
             [
              0.7777777777777778,
              "#fb9f3a"
             ],
             [
              0.8888888888888888,
              "#fdca26"
             ],
             [
              1,
              "#f0f921"
             ]
            ],
            "type": "histogram2dcontour"
           }
          ],
          "mesh3d": [
           {
            "colorbar": {
             "outlinewidth": 0,
             "ticks": ""
            },
            "type": "mesh3d"
           }
          ],
          "parcoords": [
           {
            "line": {
             "colorbar": {
              "outlinewidth": 0,
              "ticks": ""
             }
            },
            "type": "parcoords"
           }
          ],
          "pie": [
           {
            "automargin": true,
            "type": "pie"
           }
          ],
          "scatter": [
           {
            "marker": {
             "colorbar": {
              "outlinewidth": 0,
              "ticks": ""
             }
            },
            "type": "scatter"
           }
          ],
          "scatter3d": [
           {
            "line": {
             "colorbar": {
              "outlinewidth": 0,
              "ticks": ""
             }
            },
            "marker": {
             "colorbar": {
              "outlinewidth": 0,
              "ticks": ""
             }
            },
            "type": "scatter3d"
           }
          ],
          "scattercarpet": [
           {
            "marker": {
             "colorbar": {
              "outlinewidth": 0,
              "ticks": ""
             }
            },
            "type": "scattercarpet"
           }
          ],
          "scattergeo": [
           {
            "marker": {
             "colorbar": {
              "outlinewidth": 0,
              "ticks": ""
             }
            },
            "type": "scattergeo"
           }
          ],
          "scattergl": [
           {
            "marker": {
             "colorbar": {
              "outlinewidth": 0,
              "ticks": ""
             }
            },
            "type": "scattergl"
           }
          ],
          "scattermapbox": [
           {
            "marker": {
             "colorbar": {
              "outlinewidth": 0,
              "ticks": ""
             }
            },
            "type": "scattermapbox"
           }
          ],
          "scatterpolar": [
           {
            "marker": {
             "colorbar": {
              "outlinewidth": 0,
              "ticks": ""
             }
            },
            "type": "scatterpolar"
           }
          ],
          "scatterpolargl": [
           {
            "marker": {
             "colorbar": {
              "outlinewidth": 0,
              "ticks": ""
             }
            },
            "type": "scatterpolargl"
           }
          ],
          "scatterternary": [
           {
            "marker": {
             "colorbar": {
              "outlinewidth": 0,
              "ticks": ""
             }
            },
            "type": "scatterternary"
           }
          ],
          "surface": [
           {
            "colorbar": {
             "outlinewidth": 0,
             "ticks": ""
            },
            "colorscale": [
             [
              0,
              "#0d0887"
             ],
             [
              0.1111111111111111,
              "#46039f"
             ],
             [
              0.2222222222222222,
              "#7201a8"
             ],
             [
              0.3333333333333333,
              "#9c179e"
             ],
             [
              0.4444444444444444,
              "#bd3786"
             ],
             [
              0.5555555555555556,
              "#d8576b"
             ],
             [
              0.6666666666666666,
              "#ed7953"
             ],
             [
              0.7777777777777778,
              "#fb9f3a"
             ],
             [
              0.8888888888888888,
              "#fdca26"
             ],
             [
              1,
              "#f0f921"
             ]
            ],
            "type": "surface"
           }
          ],
          "table": [
           {
            "cells": {
             "fill": {
              "color": "#EBF0F8"
             },
             "line": {
              "color": "white"
             }
            },
            "header": {
             "fill": {
              "color": "#C8D4E3"
             },
             "line": {
              "color": "white"
             }
            },
            "type": "table"
           }
          ]
         },
         "layout": {
          "annotationdefaults": {
           "arrowcolor": "#2a3f5f",
           "arrowhead": 0,
           "arrowwidth": 1
          },
          "coloraxis": {
           "colorbar": {
            "outlinewidth": 0,
            "ticks": ""
           }
          },
          "colorscale": {
           "diverging": [
            [
             0,
             "#8e0152"
            ],
            [
             0.1,
             "#c51b7d"
            ],
            [
             0.2,
             "#de77ae"
            ],
            [
             0.3,
             "#f1b6da"
            ],
            [
             0.4,
             "#fde0ef"
            ],
            [
             0.5,
             "#f7f7f7"
            ],
            [
             0.6,
             "#e6f5d0"
            ],
            [
             0.7,
             "#b8e186"
            ],
            [
             0.8,
             "#7fbc41"
            ],
            [
             0.9,
             "#4d9221"
            ],
            [
             1,
             "#276419"
            ]
           ],
           "sequential": [
            [
             0,
             "#0d0887"
            ],
            [
             0.1111111111111111,
             "#46039f"
            ],
            [
             0.2222222222222222,
             "#7201a8"
            ],
            [
             0.3333333333333333,
             "#9c179e"
            ],
            [
             0.4444444444444444,
             "#bd3786"
            ],
            [
             0.5555555555555556,
             "#d8576b"
            ],
            [
             0.6666666666666666,
             "#ed7953"
            ],
            [
             0.7777777777777778,
             "#fb9f3a"
            ],
            [
             0.8888888888888888,
             "#fdca26"
            ],
            [
             1,
             "#f0f921"
            ]
           ],
           "sequentialminus": [
            [
             0,
             "#0d0887"
            ],
            [
             0.1111111111111111,
             "#46039f"
            ],
            [
             0.2222222222222222,
             "#7201a8"
            ],
            [
             0.3333333333333333,
             "#9c179e"
            ],
            [
             0.4444444444444444,
             "#bd3786"
            ],
            [
             0.5555555555555556,
             "#d8576b"
            ],
            [
             0.6666666666666666,
             "#ed7953"
            ],
            [
             0.7777777777777778,
             "#fb9f3a"
            ],
            [
             0.8888888888888888,
             "#fdca26"
            ],
            [
             1,
             "#f0f921"
            ]
           ]
          },
          "colorway": [
           "#636efa",
           "#EF553B",
           "#00cc96",
           "#ab63fa",
           "#FFA15A",
           "#19d3f3",
           "#FF6692",
           "#B6E880",
           "#FF97FF",
           "#FECB52"
          ],
          "font": {
           "color": "#2a3f5f"
          },
          "geo": {
           "bgcolor": "white",
           "lakecolor": "white",
           "landcolor": "#E5ECF6",
           "showlakes": true,
           "showland": true,
           "subunitcolor": "white"
          },
          "hoverlabel": {
           "align": "left"
          },
          "hovermode": "closest",
          "mapbox": {
           "style": "light"
          },
          "paper_bgcolor": "white",
          "plot_bgcolor": "#E5ECF6",
          "polar": {
           "angularaxis": {
            "gridcolor": "white",
            "linecolor": "white",
            "ticks": ""
           },
           "bgcolor": "#E5ECF6",
           "radialaxis": {
            "gridcolor": "white",
            "linecolor": "white",
            "ticks": ""
           }
          },
          "scene": {
           "xaxis": {
            "backgroundcolor": "#E5ECF6",
            "gridcolor": "white",
            "gridwidth": 2,
            "linecolor": "white",
            "showbackground": true,
            "ticks": "",
            "zerolinecolor": "white"
           },
           "yaxis": {
            "backgroundcolor": "#E5ECF6",
            "gridcolor": "white",
            "gridwidth": 2,
            "linecolor": "white",
            "showbackground": true,
            "ticks": "",
            "zerolinecolor": "white"
           },
           "zaxis": {
            "backgroundcolor": "#E5ECF6",
            "gridcolor": "white",
            "gridwidth": 2,
            "linecolor": "white",
            "showbackground": true,
            "ticks": "",
            "zerolinecolor": "white"
           }
          },
          "shapedefaults": {
           "line": {
            "color": "#2a3f5f"
           }
          },
          "ternary": {
           "aaxis": {
            "gridcolor": "white",
            "linecolor": "white",
            "ticks": ""
           },
           "baxis": {
            "gridcolor": "white",
            "linecolor": "white",
            "ticks": ""
           },
           "bgcolor": "#E5ECF6",
           "caxis": {
            "gridcolor": "white",
            "linecolor": "white",
            "ticks": ""
           }
          },
          "title": {
           "x": 0.05
          },
          "xaxis": {
           "automargin": true,
           "gridcolor": "white",
           "linecolor": "white",
           "ticks": "",
           "title": {
            "standoff": 15
           },
           "zerolinecolor": "white",
           "zerolinewidth": 2
          },
          "yaxis": {
           "automargin": true,
           "gridcolor": "white",
           "linecolor": "white",
           "ticks": "",
           "title": {
            "standoff": 15
           },
           "zerolinecolor": "white",
           "zerolinewidth": 2
          }
         }
        },
        "title": {
         "font": {
          "color": "#4D5663"
         }
        },
        "xaxis": {
         "gridcolor": "#E1E5ED",
         "showgrid": true,
         "tickfont": {
          "color": "#4D5663"
         },
         "title": {
          "font": {
           "color": "#4D5663"
          },
          "text": ""
         },
         "zerolinecolor": "#E1E5ED"
        },
        "yaxis": {
         "gridcolor": "#E1E5ED",
         "showgrid": true,
         "tickfont": {
          "color": "#4D5663"
         },
         "title": {
          "font": {
           "color": "#4D5663"
          },
          "text": ""
         },
         "zerolinecolor": "#E1E5ED"
        }
       }
      },
      "text/html": [
       "<div>\n",
       "        \n",
       "        \n",
       "            <div id=\"8645a3c7-85cc-4416-8bb1-49eda23e9067\" class=\"plotly-graph-div\" style=\"height:525px; width:100%;\"></div>\n",
       "            <script type=\"text/javascript\">\n",
       "                require([\"plotly\"], function(Plotly) {\n",
       "                    window.PLOTLYENV=window.PLOTLYENV || {};\n",
       "                    window.PLOTLYENV.BASE_URL='https://plot.ly';\n",
       "                    \n",
       "                if (document.getElementById(\"8645a3c7-85cc-4416-8bb1-49eda23e9067\")) {\n",
       "                    Plotly.newPlot(\n",
       "                        '8645a3c7-85cc-4416-8bb1-49eda23e9067',\n",
       "                        [{\"marker\": {\"color\": \"rgba(255, 153, 51, 0.6)\", \"line\": {\"color\": \"rgba(255, 153, 51, 1.0)\", \"width\": 1}}, \"name\": \"None\", \"orientation\": \"v\", \"text\": \"\", \"type\": \"bar\", \"x\": [\"A\", \"B\", \"C\", \"D\"], \"y\": [100, 100, 100, 100]}],\n",
       "                        {\"legend\": {\"bgcolor\": \"#F5F6F9\", \"font\": {\"color\": \"#4D5663\"}}, \"paper_bgcolor\": \"#F5F6F9\", \"plot_bgcolor\": \"#F5F6F9\", \"template\": {\"data\": {\"bar\": [{\"error_x\": {\"color\": \"#2a3f5f\"}, \"error_y\": {\"color\": \"#2a3f5f\"}, \"marker\": {\"line\": {\"color\": \"#E5ECF6\", \"width\": 0.5}}, \"type\": \"bar\"}], \"barpolar\": [{\"marker\": {\"line\": {\"color\": \"#E5ECF6\", \"width\": 0.5}}, \"type\": \"barpolar\"}], \"carpet\": [{\"aaxis\": {\"endlinecolor\": \"#2a3f5f\", \"gridcolor\": \"white\", \"linecolor\": \"white\", \"minorgridcolor\": \"white\", \"startlinecolor\": \"#2a3f5f\"}, \"baxis\": {\"endlinecolor\": \"#2a3f5f\", \"gridcolor\": \"white\", \"linecolor\": \"white\", \"minorgridcolor\": \"white\", \"startlinecolor\": \"#2a3f5f\"}, \"type\": \"carpet\"}], \"choropleth\": [{\"colorbar\": {\"outlinewidth\": 0, \"ticks\": \"\"}, \"type\": \"choropleth\"}], \"contour\": [{\"colorbar\": {\"outlinewidth\": 0, \"ticks\": \"\"}, \"colorscale\": [[0.0, \"#0d0887\"], [0.1111111111111111, \"#46039f\"], [0.2222222222222222, \"#7201a8\"], [0.3333333333333333, \"#9c179e\"], [0.4444444444444444, \"#bd3786\"], [0.5555555555555556, \"#d8576b\"], [0.6666666666666666, \"#ed7953\"], [0.7777777777777778, \"#fb9f3a\"], [0.8888888888888888, \"#fdca26\"], [1.0, \"#f0f921\"]], \"type\": \"contour\"}], \"contourcarpet\": [{\"colorbar\": {\"outlinewidth\": 0, \"ticks\": \"\"}, \"type\": \"contourcarpet\"}], \"heatmap\": [{\"colorbar\": {\"outlinewidth\": 0, \"ticks\": \"\"}, \"colorscale\": [[0.0, \"#0d0887\"], [0.1111111111111111, \"#46039f\"], [0.2222222222222222, \"#7201a8\"], [0.3333333333333333, \"#9c179e\"], [0.4444444444444444, \"#bd3786\"], [0.5555555555555556, \"#d8576b\"], [0.6666666666666666, \"#ed7953\"], [0.7777777777777778, \"#fb9f3a\"], [0.8888888888888888, \"#fdca26\"], [1.0, \"#f0f921\"]], \"type\": \"heatmap\"}], \"heatmapgl\": [{\"colorbar\": {\"outlinewidth\": 0, \"ticks\": \"\"}, \"colorscale\": [[0.0, \"#0d0887\"], [0.1111111111111111, \"#46039f\"], [0.2222222222222222, \"#7201a8\"], [0.3333333333333333, \"#9c179e\"], [0.4444444444444444, \"#bd3786\"], [0.5555555555555556, \"#d8576b\"], [0.6666666666666666, \"#ed7953\"], [0.7777777777777778, \"#fb9f3a\"], [0.8888888888888888, \"#fdca26\"], [1.0, \"#f0f921\"]], \"type\": \"heatmapgl\"}], \"histogram\": [{\"marker\": {\"colorbar\": {\"outlinewidth\": 0, \"ticks\": \"\"}}, \"type\": \"histogram\"}], \"histogram2d\": [{\"colorbar\": {\"outlinewidth\": 0, \"ticks\": \"\"}, \"colorscale\": [[0.0, \"#0d0887\"], [0.1111111111111111, \"#46039f\"], [0.2222222222222222, \"#7201a8\"], [0.3333333333333333, \"#9c179e\"], [0.4444444444444444, \"#bd3786\"], [0.5555555555555556, \"#d8576b\"], [0.6666666666666666, \"#ed7953\"], [0.7777777777777778, \"#fb9f3a\"], [0.8888888888888888, \"#fdca26\"], [1.0, \"#f0f921\"]], \"type\": \"histogram2d\"}], \"histogram2dcontour\": [{\"colorbar\": {\"outlinewidth\": 0, \"ticks\": \"\"}, \"colorscale\": [[0.0, \"#0d0887\"], [0.1111111111111111, \"#46039f\"], [0.2222222222222222, \"#7201a8\"], [0.3333333333333333, \"#9c179e\"], [0.4444444444444444, \"#bd3786\"], [0.5555555555555556, \"#d8576b\"], [0.6666666666666666, \"#ed7953\"], [0.7777777777777778, \"#fb9f3a\"], [0.8888888888888888, \"#fdca26\"], [1.0, \"#f0f921\"]], \"type\": \"histogram2dcontour\"}], \"mesh3d\": [{\"colorbar\": {\"outlinewidth\": 0, \"ticks\": \"\"}, \"type\": \"mesh3d\"}], \"parcoords\": [{\"line\": {\"colorbar\": {\"outlinewidth\": 0, \"ticks\": \"\"}}, \"type\": \"parcoords\"}], \"pie\": [{\"automargin\": true, \"type\": \"pie\"}], \"scatter\": [{\"marker\": {\"colorbar\": {\"outlinewidth\": 0, \"ticks\": \"\"}}, \"type\": \"scatter\"}], \"scatter3d\": [{\"line\": {\"colorbar\": {\"outlinewidth\": 0, \"ticks\": \"\"}}, \"marker\": {\"colorbar\": {\"outlinewidth\": 0, \"ticks\": \"\"}}, \"type\": \"scatter3d\"}], \"scattercarpet\": [{\"marker\": {\"colorbar\": {\"outlinewidth\": 0, \"ticks\": \"\"}}, \"type\": \"scattercarpet\"}], \"scattergeo\": [{\"marker\": {\"colorbar\": {\"outlinewidth\": 0, \"ticks\": \"\"}}, \"type\": \"scattergeo\"}], \"scattergl\": [{\"marker\": {\"colorbar\": {\"outlinewidth\": 0, \"ticks\": \"\"}}, \"type\": \"scattergl\"}], \"scattermapbox\": [{\"marker\": {\"colorbar\": {\"outlinewidth\": 0, \"ticks\": \"\"}}, \"type\": \"scattermapbox\"}], \"scatterpolar\": [{\"marker\": {\"colorbar\": {\"outlinewidth\": 0, \"ticks\": \"\"}}, \"type\": \"scatterpolar\"}], \"scatterpolargl\": [{\"marker\": {\"colorbar\": {\"outlinewidth\": 0, \"ticks\": \"\"}}, \"type\": \"scatterpolargl\"}], \"scatterternary\": [{\"marker\": {\"colorbar\": {\"outlinewidth\": 0, \"ticks\": \"\"}}, \"type\": \"scatterternary\"}], \"surface\": [{\"colorbar\": {\"outlinewidth\": 0, \"ticks\": \"\"}, \"colorscale\": [[0.0, \"#0d0887\"], [0.1111111111111111, \"#46039f\"], [0.2222222222222222, \"#7201a8\"], [0.3333333333333333, \"#9c179e\"], [0.4444444444444444, \"#bd3786\"], [0.5555555555555556, \"#d8576b\"], [0.6666666666666666, \"#ed7953\"], [0.7777777777777778, \"#fb9f3a\"], [0.8888888888888888, \"#fdca26\"], [1.0, \"#f0f921\"]], \"type\": \"surface\"}], \"table\": [{\"cells\": {\"fill\": {\"color\": \"#EBF0F8\"}, \"line\": {\"color\": \"white\"}}, \"header\": {\"fill\": {\"color\": \"#C8D4E3\"}, \"line\": {\"color\": \"white\"}}, \"type\": \"table\"}]}, \"layout\": {\"annotationdefaults\": {\"arrowcolor\": \"#2a3f5f\", \"arrowhead\": 0, \"arrowwidth\": 1}, \"coloraxis\": {\"colorbar\": {\"outlinewidth\": 0, \"ticks\": \"\"}}, \"colorscale\": {\"diverging\": [[0, \"#8e0152\"], [0.1, \"#c51b7d\"], [0.2, \"#de77ae\"], [0.3, \"#f1b6da\"], [0.4, \"#fde0ef\"], [0.5, \"#f7f7f7\"], [0.6, \"#e6f5d0\"], [0.7, \"#b8e186\"], [0.8, \"#7fbc41\"], [0.9, \"#4d9221\"], [1, \"#276419\"]], \"sequential\": [[0.0, \"#0d0887\"], [0.1111111111111111, \"#46039f\"], [0.2222222222222222, \"#7201a8\"], [0.3333333333333333, \"#9c179e\"], [0.4444444444444444, \"#bd3786\"], [0.5555555555555556, \"#d8576b\"], [0.6666666666666666, \"#ed7953\"], [0.7777777777777778, \"#fb9f3a\"], [0.8888888888888888, \"#fdca26\"], [1.0, \"#f0f921\"]], \"sequentialminus\": [[0.0, \"#0d0887\"], [0.1111111111111111, \"#46039f\"], [0.2222222222222222, \"#7201a8\"], [0.3333333333333333, \"#9c179e\"], [0.4444444444444444, \"#bd3786\"], [0.5555555555555556, \"#d8576b\"], [0.6666666666666666, \"#ed7953\"], [0.7777777777777778, \"#fb9f3a\"], [0.8888888888888888, \"#fdca26\"], [1.0, \"#f0f921\"]]}, \"colorway\": [\"#636efa\", \"#EF553B\", \"#00cc96\", \"#ab63fa\", \"#FFA15A\", \"#19d3f3\", \"#FF6692\", \"#B6E880\", \"#FF97FF\", \"#FECB52\"], \"font\": {\"color\": \"#2a3f5f\"}, \"geo\": {\"bgcolor\": \"white\", \"lakecolor\": \"white\", \"landcolor\": \"#E5ECF6\", \"showlakes\": true, \"showland\": true, \"subunitcolor\": \"white\"}, \"hoverlabel\": {\"align\": \"left\"}, \"hovermode\": \"closest\", \"mapbox\": {\"style\": \"light\"}, \"paper_bgcolor\": \"white\", \"plot_bgcolor\": \"#E5ECF6\", \"polar\": {\"angularaxis\": {\"gridcolor\": \"white\", \"linecolor\": \"white\", \"ticks\": \"\"}, \"bgcolor\": \"#E5ECF6\", \"radialaxis\": {\"gridcolor\": \"white\", \"linecolor\": \"white\", \"ticks\": \"\"}}, \"scene\": {\"xaxis\": {\"backgroundcolor\": \"#E5ECF6\", \"gridcolor\": \"white\", \"gridwidth\": 2, \"linecolor\": \"white\", \"showbackground\": true, \"ticks\": \"\", \"zerolinecolor\": \"white\"}, \"yaxis\": {\"backgroundcolor\": \"#E5ECF6\", \"gridcolor\": \"white\", \"gridwidth\": 2, \"linecolor\": \"white\", \"showbackground\": true, \"ticks\": \"\", \"zerolinecolor\": \"white\"}, \"zaxis\": {\"backgroundcolor\": \"#E5ECF6\", \"gridcolor\": \"white\", \"gridwidth\": 2, \"linecolor\": \"white\", \"showbackground\": true, \"ticks\": \"\", \"zerolinecolor\": \"white\"}}, \"shapedefaults\": {\"line\": {\"color\": \"#2a3f5f\"}}, \"ternary\": {\"aaxis\": {\"gridcolor\": \"white\", \"linecolor\": \"white\", \"ticks\": \"\"}, \"baxis\": {\"gridcolor\": \"white\", \"linecolor\": \"white\", \"ticks\": \"\"}, \"bgcolor\": \"#E5ECF6\", \"caxis\": {\"gridcolor\": \"white\", \"linecolor\": \"white\", \"ticks\": \"\"}}, \"title\": {\"x\": 0.05}, \"xaxis\": {\"automargin\": true, \"gridcolor\": \"white\", \"linecolor\": \"white\", \"ticks\": \"\", \"title\": {\"standoff\": 15}, \"zerolinecolor\": \"white\", \"zerolinewidth\": 2}, \"yaxis\": {\"automargin\": true, \"gridcolor\": \"white\", \"linecolor\": \"white\", \"ticks\": \"\", \"title\": {\"standoff\": 15}, \"zerolinecolor\": \"white\", \"zerolinewidth\": 2}}}, \"title\": {\"font\": {\"color\": \"#4D5663\"}}, \"xaxis\": {\"gridcolor\": \"#E1E5ED\", \"showgrid\": true, \"tickfont\": {\"color\": \"#4D5663\"}, \"title\": {\"font\": {\"color\": \"#4D5663\"}, \"text\": \"\"}, \"zerolinecolor\": \"#E1E5ED\"}, \"yaxis\": {\"gridcolor\": \"#E1E5ED\", \"showgrid\": true, \"tickfont\": {\"color\": \"#4D5663\"}, \"title\": {\"font\": {\"color\": \"#4D5663\"}, \"text\": \"\"}, \"zerolinecolor\": \"#E1E5ED\"}},\n",
       "                        {\"showLink\": true, \"linkText\": \"Export to plot.ly\", \"plotlyServerURL\": \"https://plot.ly\", \"responsive\": true}\n",
       "                    ).then(function(){\n",
       "                            \n",
       "var gd = document.getElementById('8645a3c7-85cc-4416-8bb1-49eda23e9067');\n",
       "var x = new MutationObserver(function (mutations, observer) {{\n",
       "        var display = window.getComputedStyle(gd).display;\n",
       "        if (!display || display === 'none') {{\n",
       "            console.log([gd, 'removed!']);\n",
       "            Plotly.purge(gd);\n",
       "            observer.disconnect();\n",
       "        }}\n",
       "}});\n",
       "\n",
       "// Listen for the removal of the full notebook cells\n",
       "var notebookContainer = gd.closest('#notebook-container');\n",
       "if (notebookContainer) {{\n",
       "    x.observe(notebookContainer, {childList: true});\n",
       "}}\n",
       "\n",
       "// Listen for the clearing of the current output cell\n",
       "var outputEl = gd.closest('.output');\n",
       "if (outputEl) {{\n",
       "    x.observe(outputEl, {childList: true});\n",
       "}}\n",
       "\n",
       "                        })\n",
       "                };\n",
       "                });\n",
       "            </script>\n",
       "        </div>"
      ]
     },
     "metadata": {},
     "output_type": "display_data"
    }
   ],
   "source": [
    "df.count().iplot(kind='bar')"
   ]
  },
  {
   "cell_type": "markdown",
   "metadata": {},
   "source": [
    "## Boxplots"
   ]
  },
  {
   "cell_type": "code",
   "execution_count": 13,
   "metadata": {},
   "outputs": [
    {
     "data": {
      "application/vnd.plotly.v1+json": {
       "config": {
        "linkText": "Export to plot.ly",
        "plotlyServerURL": "https://plot.ly",
        "showLink": true
       },
       "data": [
        {
         "boxpoints": false,
         "line": {
          "width": 1.3
         },
         "marker": {
          "color": "rgba(255, 153, 51, 1.0)"
         },
         "name": "A",
         "orientation": "v",
         "type": "box",
         "y": [
          0.17082491155154642,
          0.9733848448503118,
          -0.20854129260332577,
          0.5587619427877866,
          -0.6615722914955411,
          0.5121643351474225,
          0.13130368234342465,
          -0.035220320669247594,
          -0.369963306984912,
          0.5729958692785618,
          -0.09210955386424999,
          -0.5373937615298153,
          -2.01724661384686,
          -0.8987714595694133,
          1.9467057852407064,
          0.5164427357241107,
          -1.1635408247005044,
          -0.5448724578467126,
          -0.46264624189382997,
          -1.9179493009778803,
          2.7714798339031748,
          0.3071036700992901,
          0.029286680479822094,
          0.5515474197907069,
          0.09403663372726255,
          -0.0687491880537863,
          0.7060426747565378,
          -0.5487359269643622,
          1.150545299499611,
          -0.08727405512422448,
          -0.04865263507570622,
          -1.3241004736370685,
          1.8203440910427022,
          1.0249235499982265,
          0.07530077677831443,
          -0.3983518441111155,
          0.9243840081896711,
          -2.1537998401775726,
          -0.7480917035901087,
          -1.8064452966690792,
          0.7434603261362684,
          -0.30218021518186455,
          -1.5446446180825437,
          -1.1220120169755035,
          0.9827691531143342,
          1.1921574743054213,
          0.6442449133259306,
          -0.3569707490839753,
          0.8461417905701312,
          -2.19250392792535,
          0.5652808285965437,
          -0.1344062661716792,
          0.3374266044185731,
          0.11501457230929552,
          -1.03432476125489,
          0.8786458309333575,
          -0.8432228331014776,
          1.5209334906428773,
          -0.13490408553921363,
          1.1362711489480044,
          -0.7164362335444737,
          1.8944088793920375,
          -0.8392029122803014,
          0.8870880475536355,
          -0.22471697569343044,
          -0.21386527195545157,
          -0.588424204629573,
          -2.333080303181406,
          0.6864778911900746,
          0.9061942198927625,
          -0.6362395296227634,
          0.2775335519572494,
          0.6663808474363447,
          1.451569505775331,
          0.25971128472701793,
          -0.22258903844656566,
          0.11690251426354925,
          -0.4037173564209437,
          -0.3616918130026108,
          0.26753011495892737,
          -0.3330809158884787,
          -0.6136738297829322,
          2.3977626706818524,
          0.008681338043572347,
          0.015381712961214473,
          -0.34992740870667255,
          -0.9826085890796246,
          0.10960702639982886,
          0.3045237793180047,
          0.9456287376200995,
          -1.2666023905791035,
          -0.12604263057332346,
          1.3716201125923573,
          -0.772097226537111,
          0.742127190729917,
          0.5613431520440979,
          0.29713781861089317,
          0.11467605932335413,
          1.1177885105058485,
          1.3404619399594997
         ]
        },
        {
         "boxpoints": false,
         "line": {
          "width": 1.3
         },
         "marker": {
          "color": "rgba(55, 128, 191, 1.0)"
         },
         "name": "B",
         "orientation": "v",
         "type": "box",
         "y": [
          -1.0469343486083953,
          -1.459788614380184,
          -0.8948475098518478,
          1.0189272429513767,
          0.896482444363568,
          -0.8499088047524456,
          0.024902896053242213,
          -1.2539480497063156,
          1.1080455661815205,
          0.6039706085303771,
          1.1462550302790881,
          0.3383978416192203,
          -1.1703911847275679,
          -0.4506090304627199,
          -1.7885796092722501,
          1.9740354776517566,
          -0.5589227900109863,
          -1.5059038409979402,
          0.06801135045561885,
          -0.5424102393537328,
          -0.12596595257673204,
          0.07766803062063887,
          1.08742149533797,
          -0.5276402294420803,
          -0.5134796696744759,
          -0.00885507836116481,
          -1.9179898136723204,
          0.015978142026482386,
          0.596272380271323,
          1.096940104175222,
          -0.9701160214948572,
          1.1473044174962768,
          -0.8497300858779225,
          0.17745707004204264,
          1.3040067873187786,
          0.8949482052732047,
          -0.07886388560014475,
          -3.561507122896207,
          1.5323073119190378,
          -1.0106015855491841,
          1.0565480505208455,
          0.7105695536942717,
          -0.797211235009638,
          0.7998529314333869,
          -0.15244947297596764,
          -0.17741142705640117,
          0.039603889157412094,
          -1.2500332755144197,
          0.07917645744092283,
          1.336754302137174,
          0.603138128276989,
          0.18426981447960314,
          -0.6495388957173431,
          -1.6313915348260464,
          -0.2982863158078925,
          0.37314891494260083,
          0.24879635716302964,
          0.5860706811766647,
          -0.6610205762239924,
          -1.190788182194642,
          -0.6409061943286544,
          0.462293155947097,
          -1.3089069803765623,
          1.6341450528765762,
          -1.1338904173028463,
          -0.5039350542364665,
          0.0840200054861493,
          -0.2726865642592458,
          1.2856192693433823,
          0.29240349533422016,
          0.9006195057266302,
          -0.604269563912645,
          1.6869476552089377,
          0.5361783937936255,
          1.0150365809424875,
          0.09077509679183086,
          0.9872278379038406,
          -0.5543308540711545,
          0.15213184418788492,
          -0.8772278719188741,
          0.2931996962880976,
          -0.2037623234733791,
          -0.7928436197071106,
          -1.0802896101213275,
          -1.3279711785816812,
          0.08431434618031589,
          0.596991906053773,
          0.14488046829607382,
          0.8075704683875163,
          -2.8380301262811347,
          1.1722548193519313,
          0.6474126943040964,
          -0.4074743070915865,
          -0.810311666954102,
          -1.2017508067688711,
          1.6032888870895288,
          0.15228854207435788,
          0.800145725655405,
          -0.7282201700792078,
          1.1399079188302463
         ]
        },
        {
         "boxpoints": false,
         "line": {
          "width": 1.3
         },
         "marker": {
          "color": "rgba(50, 171, 96, 1.0)"
         },
         "name": "C",
         "orientation": "v",
         "type": "box",
         "y": [
          -1.083409260510116,
          -0.6233826702344707,
          -1.487958730006341,
          1.4500902860606606,
          0.5184183544958612,
          -0.06869007134045814,
          -0.7586693473176449,
          0.3181526581176076,
          -0.12139583016252287,
          0.9003495579818129,
          -0.345938799172238,
          -0.58724181956537,
          -0.14660194403232946,
          -1.5411917176825616,
          0.25346117461220025,
          -0.12081686773271984,
          -0.213716356271708,
          0.5109308970756155,
          -0.8206296145865845,
          0.32325510299063276,
          0.7165393417813816,
          -0.31662965487129874,
          -0.5833987772015554,
          0.7422554741042364,
          0.4158122675049731,
          -0.4320530807798729,
          -0.05444825497343422,
          0.26429190594354013,
          -0.27606874197166625,
          -0.8367968655641479,
          -0.80565305751109,
          0.8546336441528956,
          1.2682314465013793,
          -0.040936477390389206,
          0.2116206328936026,
          1.1296501302678497,
          -1.9970266382801474,
          -0.5872956123135975,
          -1.971624796598765,
          0.12580442391927454,
          0.3411147221935644,
          -0.5910392048903733,
          0.012683432683106987,
          -0.6288303749719821,
          -1.4667434856849577,
          -0.4244616688571402,
          0.8696058283364013,
          -0.7818727333120795,
          1.6204005308658702,
          0.5016576750261891,
          0.023099897673051886,
          -0.3557557595377423,
          1.0909284059681899,
          -1.113372981243506,
          1.6069882781359834,
          1.1436732452635934,
          -0.7371322267178182,
          1.3664942790622177,
          0.579531518254415,
          0.35980486027619685,
          -1.2000381769631732,
          -0.881465076826653,
          -0.4313393444341336,
          1.0505165757890922,
          2.815771448578094,
          0.4399490486483119,
          -0.9236873107736241,
          0.3238433158683018,
          1.1837054803635867,
          -1.044475958212905,
          0.041344126434387965,
          -0.29393595883720447,
          0.16436652485478864,
          1.0765681398764257,
          -0.020650275021764117,
          -0.7619722931091294,
          -1.1001753121084101,
          1.0854618548482229,
          0.2595781994149842,
          -0.7327897730991297,
          -1.6812401554357397,
          -0.8118101426052025,
          0.6607834765074295,
          0.09710505667980361,
          -0.2780418030555889,
          0.2816272937349905,
          0.06167367339821572,
          -0.32763346930724774,
          -0.20834731656065203,
          0.16327110479821202,
          -1.1015478454920364,
          -0.0005602014611263928,
          -1.277038315826333,
          1.1272543262294106,
          0.348073654247844,
          1.2178138405318408,
          0.45632543412080767,
          1.9242090247402113,
          -0.3832658552733305,
          -0.16108471753715756
         ]
        },
        {
         "boxpoints": false,
         "line": {
          "width": 1.3
         },
         "marker": {
          "color": "rgba(128, 0, 128, 1.0)"
         },
         "name": "D",
         "orientation": "v",
         "type": "box",
         "y": [
          0.5166946384955043,
          0.48556422515707554,
          0.45951540982459593,
          -1.214442327029582,
          1.062399804740602,
          0.17107336991352248,
          0.604615881443146,
          1.0292440860227963,
          0.3368868614667589,
          0.1736338037301056,
          -0.05148581901736868,
          -0.6628606535777364,
          -0.07177475787045608,
          0.3957799495770412,
          0.8570362933052382,
          1.5168619616720382,
          -1.201565793644591,
          0.9981646319387389,
          -0.5234028077559358,
          -0.21553688266323578,
          1.127420796331115,
          -0.43583657055680136,
          -1.2026878581520406,
          -0.2556029225727095,
          -1.1140712365088106,
          -0.9202653163058435,
          -0.2363872754886624,
          -0.8671181437058871,
          -0.1852391138551511,
          -1.3868279992114436,
          0.05590318505435606,
          -0.3766514021416788,
          -0.8782588203413113,
          -0.5642460299986506,
          1.974125914384826,
          0.3726001771684393,
          -0.5147463611381171,
          -1.2514621226682439,
          -0.2834583529937567,
          -1.2526718111666866,
          0.44675958279051314,
          -0.49555993011692934,
          1.365002560886047,
          -0.006843071507508393,
          -0.14071992723650367,
          -1.2099244335284973,
          -1.1556304501044348,
          0.41317746094731167,
          -0.3225582903687393,
          -0.1554184983211697,
          1.363139017505943,
          -0.43738050423246605,
          0.5682412925538698,
          1.3919143496670032,
          -0.8242873002424768,
          -1.4693611871874401,
          0.25215251101374603,
          -1.7434706309489927,
          0.7069313544002513,
          1.0947207956242229,
          -0.3531683586049207,
          0.378841776935647,
          -1.7708489640173974,
          0.35640539263581167,
          -1.8660080590582062,
          -0.12518326442461947,
          -1.4993530363032441,
          -1.1223625660187064,
          0.5029439763474637,
          -1.013310203330969,
          0.23348057069442,
          -1.0179051752050474,
          0.46124435489886595,
          0.25481059406866796,
          -0.8916332547981175,
          -0.4459757563014239,
          -0.5591989767595353,
          -1.0533156467395162,
          0.5738430064975556,
          -0.34503373424769523,
          0.32597028749063256,
          -0.962809880788565,
          0.09551137204303375,
          0.004723010771319971,
          -0.6719729741927057,
          0.4413909278835191,
          -0.1725927841084922,
          -0.7505623805576361,
          2.0750053689560692,
          0.8391598067996842,
          -1.257855953669524,
          -0.0922309719635119,
          0.1984604300175499,
          0.022836073467580237,
          1.9085175356162156,
          0.9370201660534192,
          -0.09424740535910009,
          0.2734849208368586,
          0.9736539827350027,
          0.03847078746525226
         ]
        }
       ],
       "layout": {
        "legend": {
         "bgcolor": "#F5F6F9",
         "font": {
          "color": "#4D5663"
         }
        },
        "paper_bgcolor": "#F5F6F9",
        "plot_bgcolor": "#F5F6F9",
        "template": {
         "data": {
          "bar": [
           {
            "error_x": {
             "color": "#2a3f5f"
            },
            "error_y": {
             "color": "#2a3f5f"
            },
            "marker": {
             "line": {
              "color": "#E5ECF6",
              "width": 0.5
             }
            },
            "type": "bar"
           }
          ],
          "barpolar": [
           {
            "marker": {
             "line": {
              "color": "#E5ECF6",
              "width": 0.5
             }
            },
            "type": "barpolar"
           }
          ],
          "carpet": [
           {
            "aaxis": {
             "endlinecolor": "#2a3f5f",
             "gridcolor": "white",
             "linecolor": "white",
             "minorgridcolor": "white",
             "startlinecolor": "#2a3f5f"
            },
            "baxis": {
             "endlinecolor": "#2a3f5f",
             "gridcolor": "white",
             "linecolor": "white",
             "minorgridcolor": "white",
             "startlinecolor": "#2a3f5f"
            },
            "type": "carpet"
           }
          ],
          "choropleth": [
           {
            "colorbar": {
             "outlinewidth": 0,
             "ticks": ""
            },
            "type": "choropleth"
           }
          ],
          "contour": [
           {
            "colorbar": {
             "outlinewidth": 0,
             "ticks": ""
            },
            "colorscale": [
             [
              0,
              "#0d0887"
             ],
             [
              0.1111111111111111,
              "#46039f"
             ],
             [
              0.2222222222222222,
              "#7201a8"
             ],
             [
              0.3333333333333333,
              "#9c179e"
             ],
             [
              0.4444444444444444,
              "#bd3786"
             ],
             [
              0.5555555555555556,
              "#d8576b"
             ],
             [
              0.6666666666666666,
              "#ed7953"
             ],
             [
              0.7777777777777778,
              "#fb9f3a"
             ],
             [
              0.8888888888888888,
              "#fdca26"
             ],
             [
              1,
              "#f0f921"
             ]
            ],
            "type": "contour"
           }
          ],
          "contourcarpet": [
           {
            "colorbar": {
             "outlinewidth": 0,
             "ticks": ""
            },
            "type": "contourcarpet"
           }
          ],
          "heatmap": [
           {
            "colorbar": {
             "outlinewidth": 0,
             "ticks": ""
            },
            "colorscale": [
             [
              0,
              "#0d0887"
             ],
             [
              0.1111111111111111,
              "#46039f"
             ],
             [
              0.2222222222222222,
              "#7201a8"
             ],
             [
              0.3333333333333333,
              "#9c179e"
             ],
             [
              0.4444444444444444,
              "#bd3786"
             ],
             [
              0.5555555555555556,
              "#d8576b"
             ],
             [
              0.6666666666666666,
              "#ed7953"
             ],
             [
              0.7777777777777778,
              "#fb9f3a"
             ],
             [
              0.8888888888888888,
              "#fdca26"
             ],
             [
              1,
              "#f0f921"
             ]
            ],
            "type": "heatmap"
           }
          ],
          "heatmapgl": [
           {
            "colorbar": {
             "outlinewidth": 0,
             "ticks": ""
            },
            "colorscale": [
             [
              0,
              "#0d0887"
             ],
             [
              0.1111111111111111,
              "#46039f"
             ],
             [
              0.2222222222222222,
              "#7201a8"
             ],
             [
              0.3333333333333333,
              "#9c179e"
             ],
             [
              0.4444444444444444,
              "#bd3786"
             ],
             [
              0.5555555555555556,
              "#d8576b"
             ],
             [
              0.6666666666666666,
              "#ed7953"
             ],
             [
              0.7777777777777778,
              "#fb9f3a"
             ],
             [
              0.8888888888888888,
              "#fdca26"
             ],
             [
              1,
              "#f0f921"
             ]
            ],
            "type": "heatmapgl"
           }
          ],
          "histogram": [
           {
            "marker": {
             "colorbar": {
              "outlinewidth": 0,
              "ticks": ""
             }
            },
            "type": "histogram"
           }
          ],
          "histogram2d": [
           {
            "colorbar": {
             "outlinewidth": 0,
             "ticks": ""
            },
            "colorscale": [
             [
              0,
              "#0d0887"
             ],
             [
              0.1111111111111111,
              "#46039f"
             ],
             [
              0.2222222222222222,
              "#7201a8"
             ],
             [
              0.3333333333333333,
              "#9c179e"
             ],
             [
              0.4444444444444444,
              "#bd3786"
             ],
             [
              0.5555555555555556,
              "#d8576b"
             ],
             [
              0.6666666666666666,
              "#ed7953"
             ],
             [
              0.7777777777777778,
              "#fb9f3a"
             ],
             [
              0.8888888888888888,
              "#fdca26"
             ],
             [
              1,
              "#f0f921"
             ]
            ],
            "type": "histogram2d"
           }
          ],
          "histogram2dcontour": [
           {
            "colorbar": {
             "outlinewidth": 0,
             "ticks": ""
            },
            "colorscale": [
             [
              0,
              "#0d0887"
             ],
             [
              0.1111111111111111,
              "#46039f"
             ],
             [
              0.2222222222222222,
              "#7201a8"
             ],
             [
              0.3333333333333333,
              "#9c179e"
             ],
             [
              0.4444444444444444,
              "#bd3786"
             ],
             [
              0.5555555555555556,
              "#d8576b"
             ],
             [
              0.6666666666666666,
              "#ed7953"
             ],
             [
              0.7777777777777778,
              "#fb9f3a"
             ],
             [
              0.8888888888888888,
              "#fdca26"
             ],
             [
              1,
              "#f0f921"
             ]
            ],
            "type": "histogram2dcontour"
           }
          ],
          "mesh3d": [
           {
            "colorbar": {
             "outlinewidth": 0,
             "ticks": ""
            },
            "type": "mesh3d"
           }
          ],
          "parcoords": [
           {
            "line": {
             "colorbar": {
              "outlinewidth": 0,
              "ticks": ""
             }
            },
            "type": "parcoords"
           }
          ],
          "pie": [
           {
            "automargin": true,
            "type": "pie"
           }
          ],
          "scatter": [
           {
            "marker": {
             "colorbar": {
              "outlinewidth": 0,
              "ticks": ""
             }
            },
            "type": "scatter"
           }
          ],
          "scatter3d": [
           {
            "line": {
             "colorbar": {
              "outlinewidth": 0,
              "ticks": ""
             }
            },
            "marker": {
             "colorbar": {
              "outlinewidth": 0,
              "ticks": ""
             }
            },
            "type": "scatter3d"
           }
          ],
          "scattercarpet": [
           {
            "marker": {
             "colorbar": {
              "outlinewidth": 0,
              "ticks": ""
             }
            },
            "type": "scattercarpet"
           }
          ],
          "scattergeo": [
           {
            "marker": {
             "colorbar": {
              "outlinewidth": 0,
              "ticks": ""
             }
            },
            "type": "scattergeo"
           }
          ],
          "scattergl": [
           {
            "marker": {
             "colorbar": {
              "outlinewidth": 0,
              "ticks": ""
             }
            },
            "type": "scattergl"
           }
          ],
          "scattermapbox": [
           {
            "marker": {
             "colorbar": {
              "outlinewidth": 0,
              "ticks": ""
             }
            },
            "type": "scattermapbox"
           }
          ],
          "scatterpolar": [
           {
            "marker": {
             "colorbar": {
              "outlinewidth": 0,
              "ticks": ""
             }
            },
            "type": "scatterpolar"
           }
          ],
          "scatterpolargl": [
           {
            "marker": {
             "colorbar": {
              "outlinewidth": 0,
              "ticks": ""
             }
            },
            "type": "scatterpolargl"
           }
          ],
          "scatterternary": [
           {
            "marker": {
             "colorbar": {
              "outlinewidth": 0,
              "ticks": ""
             }
            },
            "type": "scatterternary"
           }
          ],
          "surface": [
           {
            "colorbar": {
             "outlinewidth": 0,
             "ticks": ""
            },
            "colorscale": [
             [
              0,
              "#0d0887"
             ],
             [
              0.1111111111111111,
              "#46039f"
             ],
             [
              0.2222222222222222,
              "#7201a8"
             ],
             [
              0.3333333333333333,
              "#9c179e"
             ],
             [
              0.4444444444444444,
              "#bd3786"
             ],
             [
              0.5555555555555556,
              "#d8576b"
             ],
             [
              0.6666666666666666,
              "#ed7953"
             ],
             [
              0.7777777777777778,
              "#fb9f3a"
             ],
             [
              0.8888888888888888,
              "#fdca26"
             ],
             [
              1,
              "#f0f921"
             ]
            ],
            "type": "surface"
           }
          ],
          "table": [
           {
            "cells": {
             "fill": {
              "color": "#EBF0F8"
             },
             "line": {
              "color": "white"
             }
            },
            "header": {
             "fill": {
              "color": "#C8D4E3"
             },
             "line": {
              "color": "white"
             }
            },
            "type": "table"
           }
          ]
         },
         "layout": {
          "annotationdefaults": {
           "arrowcolor": "#2a3f5f",
           "arrowhead": 0,
           "arrowwidth": 1
          },
          "coloraxis": {
           "colorbar": {
            "outlinewidth": 0,
            "ticks": ""
           }
          },
          "colorscale": {
           "diverging": [
            [
             0,
             "#8e0152"
            ],
            [
             0.1,
             "#c51b7d"
            ],
            [
             0.2,
             "#de77ae"
            ],
            [
             0.3,
             "#f1b6da"
            ],
            [
             0.4,
             "#fde0ef"
            ],
            [
             0.5,
             "#f7f7f7"
            ],
            [
             0.6,
             "#e6f5d0"
            ],
            [
             0.7,
             "#b8e186"
            ],
            [
             0.8,
             "#7fbc41"
            ],
            [
             0.9,
             "#4d9221"
            ],
            [
             1,
             "#276419"
            ]
           ],
           "sequential": [
            [
             0,
             "#0d0887"
            ],
            [
             0.1111111111111111,
             "#46039f"
            ],
            [
             0.2222222222222222,
             "#7201a8"
            ],
            [
             0.3333333333333333,
             "#9c179e"
            ],
            [
             0.4444444444444444,
             "#bd3786"
            ],
            [
             0.5555555555555556,
             "#d8576b"
            ],
            [
             0.6666666666666666,
             "#ed7953"
            ],
            [
             0.7777777777777778,
             "#fb9f3a"
            ],
            [
             0.8888888888888888,
             "#fdca26"
            ],
            [
             1,
             "#f0f921"
            ]
           ],
           "sequentialminus": [
            [
             0,
             "#0d0887"
            ],
            [
             0.1111111111111111,
             "#46039f"
            ],
            [
             0.2222222222222222,
             "#7201a8"
            ],
            [
             0.3333333333333333,
             "#9c179e"
            ],
            [
             0.4444444444444444,
             "#bd3786"
            ],
            [
             0.5555555555555556,
             "#d8576b"
            ],
            [
             0.6666666666666666,
             "#ed7953"
            ],
            [
             0.7777777777777778,
             "#fb9f3a"
            ],
            [
             0.8888888888888888,
             "#fdca26"
            ],
            [
             1,
             "#f0f921"
            ]
           ]
          },
          "colorway": [
           "#636efa",
           "#EF553B",
           "#00cc96",
           "#ab63fa",
           "#FFA15A",
           "#19d3f3",
           "#FF6692",
           "#B6E880",
           "#FF97FF",
           "#FECB52"
          ],
          "font": {
           "color": "#2a3f5f"
          },
          "geo": {
           "bgcolor": "white",
           "lakecolor": "white",
           "landcolor": "#E5ECF6",
           "showlakes": true,
           "showland": true,
           "subunitcolor": "white"
          },
          "hoverlabel": {
           "align": "left"
          },
          "hovermode": "closest",
          "mapbox": {
           "style": "light"
          },
          "paper_bgcolor": "white",
          "plot_bgcolor": "#E5ECF6",
          "polar": {
           "angularaxis": {
            "gridcolor": "white",
            "linecolor": "white",
            "ticks": ""
           },
           "bgcolor": "#E5ECF6",
           "radialaxis": {
            "gridcolor": "white",
            "linecolor": "white",
            "ticks": ""
           }
          },
          "scene": {
           "xaxis": {
            "backgroundcolor": "#E5ECF6",
            "gridcolor": "white",
            "gridwidth": 2,
            "linecolor": "white",
            "showbackground": true,
            "ticks": "",
            "zerolinecolor": "white"
           },
           "yaxis": {
            "backgroundcolor": "#E5ECF6",
            "gridcolor": "white",
            "gridwidth": 2,
            "linecolor": "white",
            "showbackground": true,
            "ticks": "",
            "zerolinecolor": "white"
           },
           "zaxis": {
            "backgroundcolor": "#E5ECF6",
            "gridcolor": "white",
            "gridwidth": 2,
            "linecolor": "white",
            "showbackground": true,
            "ticks": "",
            "zerolinecolor": "white"
           }
          },
          "shapedefaults": {
           "line": {
            "color": "#2a3f5f"
           }
          },
          "ternary": {
           "aaxis": {
            "gridcolor": "white",
            "linecolor": "white",
            "ticks": ""
           },
           "baxis": {
            "gridcolor": "white",
            "linecolor": "white",
            "ticks": ""
           },
           "bgcolor": "#E5ECF6",
           "caxis": {
            "gridcolor": "white",
            "linecolor": "white",
            "ticks": ""
           }
          },
          "title": {
           "x": 0.05
          },
          "xaxis": {
           "automargin": true,
           "gridcolor": "white",
           "linecolor": "white",
           "ticks": "",
           "title": {
            "standoff": 15
           },
           "zerolinecolor": "white",
           "zerolinewidth": 2
          },
          "yaxis": {
           "automargin": true,
           "gridcolor": "white",
           "linecolor": "white",
           "ticks": "",
           "title": {
            "standoff": 15
           },
           "zerolinecolor": "white",
           "zerolinewidth": 2
          }
         }
        },
        "title": {
         "font": {
          "color": "#4D5663"
         }
        },
        "xaxis": {
         "gridcolor": "#E1E5ED",
         "showgrid": true,
         "tickfont": {
          "color": "#4D5663"
         },
         "title": {
          "font": {
           "color": "#4D5663"
          },
          "text": ""
         },
         "zerolinecolor": "#E1E5ED"
        },
        "yaxis": {
         "gridcolor": "#E1E5ED",
         "showgrid": true,
         "tickfont": {
          "color": "#4D5663"
         },
         "title": {
          "font": {
           "color": "#4D5663"
          },
          "text": ""
         },
         "zerolinecolor": "#E1E5ED"
        }
       }
      },
      "text/html": [
       "<div>\n",
       "        \n",
       "        \n",
       "            <div id=\"3479e243-dfd0-4068-a346-798f9356b3c3\" class=\"plotly-graph-div\" style=\"height:525px; width:100%;\"></div>\n",
       "            <script type=\"text/javascript\">\n",
       "                require([\"plotly\"], function(Plotly) {\n",
       "                    window.PLOTLYENV=window.PLOTLYENV || {};\n",
       "                    window.PLOTLYENV.BASE_URL='https://plot.ly';\n",
       "                    \n",
       "                if (document.getElementById(\"3479e243-dfd0-4068-a346-798f9356b3c3\")) {\n",
       "                    Plotly.newPlot(\n",
       "                        '3479e243-dfd0-4068-a346-798f9356b3c3',\n",
       "                        [{\"boxpoints\": false, \"line\": {\"width\": 1.3}, \"marker\": {\"color\": \"rgba(255, 153, 51, 1.0)\"}, \"name\": \"A\", \"orientation\": \"v\", \"type\": \"box\", \"y\": [0.17082491155154642, 0.9733848448503118, -0.20854129260332577, 0.5587619427877866, -0.6615722914955411, 0.5121643351474225, 0.13130368234342465, -0.035220320669247594, -0.369963306984912, 0.5729958692785618, -0.09210955386424999, -0.5373937615298153, -2.01724661384686, -0.8987714595694133, 1.9467057852407064, 0.5164427357241107, -1.1635408247005044, -0.5448724578467126, -0.46264624189382997, -1.9179493009778803, 2.7714798339031748, 0.3071036700992901, 0.029286680479822094, 0.5515474197907069, 0.09403663372726255, -0.0687491880537863, 0.7060426747565378, -0.5487359269643622, 1.150545299499611, -0.08727405512422448, -0.04865263507570622, -1.3241004736370685, 1.8203440910427022, 1.0249235499982265, 0.07530077677831443, -0.3983518441111155, 0.9243840081896711, -2.1537998401775726, -0.7480917035901087, -1.8064452966690792, 0.7434603261362684, -0.30218021518186455, -1.5446446180825437, -1.1220120169755035, 0.9827691531143342, 1.1921574743054213, 0.6442449133259306, -0.3569707490839753, 0.8461417905701312, -2.19250392792535, 0.5652808285965437, -0.1344062661716792, 0.3374266044185731, 0.11501457230929552, -1.03432476125489, 0.8786458309333575, -0.8432228331014776, 1.5209334906428773, -0.13490408553921363, 1.1362711489480044, -0.7164362335444737, 1.8944088793920375, -0.8392029122803014, 0.8870880475536355, -0.22471697569343044, -0.21386527195545157, -0.588424204629573, -2.333080303181406, 0.6864778911900746, 0.9061942198927625, -0.6362395296227634, 0.2775335519572494, 0.6663808474363447, 1.451569505775331, 0.25971128472701793, -0.22258903844656566, 0.11690251426354925, -0.4037173564209437, -0.3616918130026108, 0.26753011495892737, -0.3330809158884787, -0.6136738297829322, 2.3977626706818524, 0.008681338043572347, 0.015381712961214473, -0.34992740870667255, -0.9826085890796246, 0.10960702639982886, 0.3045237793180047, 0.9456287376200995, -1.2666023905791035, -0.12604263057332346, 1.3716201125923573, -0.772097226537111, 0.742127190729917, 0.5613431520440979, 0.29713781861089317, 0.11467605932335413, 1.1177885105058485, 1.3404619399594997]}, {\"boxpoints\": false, \"line\": {\"width\": 1.3}, \"marker\": {\"color\": \"rgba(55, 128, 191, 1.0)\"}, \"name\": \"B\", \"orientation\": \"v\", \"type\": \"box\", \"y\": [-1.0469343486083953, -1.459788614380184, -0.8948475098518478, 1.0189272429513767, 0.896482444363568, -0.8499088047524456, 0.024902896053242213, -1.2539480497063156, 1.1080455661815205, 0.6039706085303771, 1.1462550302790881, 0.3383978416192203, -1.1703911847275679, -0.4506090304627199, -1.7885796092722501, 1.9740354776517566, -0.5589227900109863, -1.5059038409979402, 0.06801135045561885, -0.5424102393537328, -0.12596595257673204, 0.07766803062063887, 1.08742149533797, -0.5276402294420803, -0.5134796696744759, -0.00885507836116481, -1.9179898136723204, 0.015978142026482386, 0.596272380271323, 1.096940104175222, -0.9701160214948572, 1.1473044174962768, -0.8497300858779225, 0.17745707004204264, 1.3040067873187786, 0.8949482052732047, -0.07886388560014475, -3.561507122896207, 1.5323073119190378, -1.0106015855491841, 1.0565480505208455, 0.7105695536942717, -0.797211235009638, 0.7998529314333869, -0.15244947297596764, -0.17741142705640117, 0.039603889157412094, -1.2500332755144197, 0.07917645744092283, 1.336754302137174, 0.603138128276989, 0.18426981447960314, -0.6495388957173431, -1.6313915348260464, -0.2982863158078925, 0.37314891494260083, 0.24879635716302964, 0.5860706811766647, -0.6610205762239924, -1.190788182194642, -0.6409061943286544, 0.462293155947097, -1.3089069803765623, 1.6341450528765762, -1.1338904173028463, -0.5039350542364665, 0.0840200054861493, -0.2726865642592458, 1.2856192693433823, 0.29240349533422016, 0.9006195057266302, -0.604269563912645, 1.6869476552089377, 0.5361783937936255, 1.0150365809424875, 0.09077509679183086, 0.9872278379038406, -0.5543308540711545, 0.15213184418788492, -0.8772278719188741, 0.2931996962880976, -0.2037623234733791, -0.7928436197071106, -1.0802896101213275, -1.3279711785816812, 0.08431434618031589, 0.596991906053773, 0.14488046829607382, 0.8075704683875163, -2.8380301262811347, 1.1722548193519313, 0.6474126943040964, -0.4074743070915865, -0.810311666954102, -1.2017508067688711, 1.6032888870895288, 0.15228854207435788, 0.800145725655405, -0.7282201700792078, 1.1399079188302463]}, {\"boxpoints\": false, \"line\": {\"width\": 1.3}, \"marker\": {\"color\": \"rgba(50, 171, 96, 1.0)\"}, \"name\": \"C\", \"orientation\": \"v\", \"type\": \"box\", \"y\": [-1.083409260510116, -0.6233826702344707, -1.487958730006341, 1.4500902860606606, 0.5184183544958612, -0.06869007134045814, -0.7586693473176449, 0.3181526581176076, -0.12139583016252287, 0.9003495579818129, -0.345938799172238, -0.58724181956537, -0.14660194403232946, -1.5411917176825616, 0.25346117461220025, -0.12081686773271984, -0.213716356271708, 0.5109308970756155, -0.8206296145865845, 0.32325510299063276, 0.7165393417813816, -0.31662965487129874, -0.5833987772015554, 0.7422554741042364, 0.4158122675049731, -0.4320530807798729, -0.05444825497343422, 0.26429190594354013, -0.27606874197166625, -0.8367968655641479, -0.80565305751109, 0.8546336441528956, 1.2682314465013793, -0.040936477390389206, 0.2116206328936026, 1.1296501302678497, -1.9970266382801474, -0.5872956123135975, -1.971624796598765, 0.12580442391927454, 0.3411147221935644, -0.5910392048903733, 0.012683432683106987, -0.6288303749719821, -1.4667434856849577, -0.4244616688571402, 0.8696058283364013, -0.7818727333120795, 1.6204005308658702, 0.5016576750261891, 0.023099897673051886, -0.3557557595377423, 1.0909284059681899, -1.113372981243506, 1.6069882781359834, 1.1436732452635934, -0.7371322267178182, 1.3664942790622177, 0.579531518254415, 0.35980486027619685, -1.2000381769631732, -0.881465076826653, -0.4313393444341336, 1.0505165757890922, 2.815771448578094, 0.4399490486483119, -0.9236873107736241, 0.3238433158683018, 1.1837054803635867, -1.044475958212905, 0.041344126434387965, -0.29393595883720447, 0.16436652485478864, 1.0765681398764257, -0.020650275021764117, -0.7619722931091294, -1.1001753121084101, 1.0854618548482229, 0.2595781994149842, -0.7327897730991297, -1.6812401554357397, -0.8118101426052025, 0.6607834765074295, 0.09710505667980361, -0.2780418030555889, 0.2816272937349905, 0.06167367339821572, -0.32763346930724774, -0.20834731656065203, 0.16327110479821202, -1.1015478454920364, -0.0005602014611263928, -1.277038315826333, 1.1272543262294106, 0.348073654247844, 1.2178138405318408, 0.45632543412080767, 1.9242090247402113, -0.3832658552733305, -0.16108471753715756]}, {\"boxpoints\": false, \"line\": {\"width\": 1.3}, \"marker\": {\"color\": \"rgba(128, 0, 128, 1.0)\"}, \"name\": \"D\", \"orientation\": \"v\", \"type\": \"box\", \"y\": [0.5166946384955043, 0.48556422515707554, 0.45951540982459593, -1.214442327029582, 1.062399804740602, 0.17107336991352248, 0.604615881443146, 1.0292440860227963, 0.3368868614667589, 0.1736338037301056, -0.05148581901736868, -0.6628606535777364, -0.07177475787045608, 0.3957799495770412, 0.8570362933052382, 1.5168619616720382, -1.201565793644591, 0.9981646319387389, -0.5234028077559358, -0.21553688266323578, 1.127420796331115, -0.43583657055680136, -1.2026878581520406, -0.2556029225727095, -1.1140712365088106, -0.9202653163058435, -0.2363872754886624, -0.8671181437058871, -0.1852391138551511, -1.3868279992114436, 0.05590318505435606, -0.3766514021416788, -0.8782588203413113, -0.5642460299986506, 1.974125914384826, 0.3726001771684393, -0.5147463611381171, -1.2514621226682439, -0.2834583529937567, -1.2526718111666866, 0.44675958279051314, -0.49555993011692934, 1.365002560886047, -0.006843071507508393, -0.14071992723650367, -1.2099244335284973, -1.1556304501044348, 0.41317746094731167, -0.3225582903687393, -0.1554184983211697, 1.363139017505943, -0.43738050423246605, 0.5682412925538698, 1.3919143496670032, -0.8242873002424768, -1.4693611871874401, 0.25215251101374603, -1.7434706309489927, 0.7069313544002513, 1.0947207956242229, -0.3531683586049207, 0.378841776935647, -1.7708489640173974, 0.35640539263581167, -1.8660080590582062, -0.12518326442461947, -1.4993530363032441, -1.1223625660187064, 0.5029439763474637, -1.013310203330969, 0.23348057069442, -1.0179051752050474, 0.46124435489886595, 0.25481059406866796, -0.8916332547981175, -0.4459757563014239, -0.5591989767595353, -1.0533156467395162, 0.5738430064975556, -0.34503373424769523, 0.32597028749063256, -0.962809880788565, 0.09551137204303375, 0.004723010771319971, -0.6719729741927057, 0.4413909278835191, -0.1725927841084922, -0.7505623805576361, 2.0750053689560692, 0.8391598067996842, -1.257855953669524, -0.0922309719635119, 0.1984604300175499, 0.022836073467580237, 1.9085175356162156, 0.9370201660534192, -0.09424740535910009, 0.2734849208368586, 0.9736539827350027, 0.03847078746525226]}],\n",
       "                        {\"legend\": {\"bgcolor\": \"#F5F6F9\", \"font\": {\"color\": \"#4D5663\"}}, \"paper_bgcolor\": \"#F5F6F9\", \"plot_bgcolor\": \"#F5F6F9\", \"template\": {\"data\": {\"bar\": [{\"error_x\": {\"color\": \"#2a3f5f\"}, \"error_y\": {\"color\": \"#2a3f5f\"}, \"marker\": {\"line\": {\"color\": \"#E5ECF6\", \"width\": 0.5}}, \"type\": \"bar\"}], \"barpolar\": [{\"marker\": {\"line\": {\"color\": \"#E5ECF6\", \"width\": 0.5}}, \"type\": \"barpolar\"}], \"carpet\": [{\"aaxis\": {\"endlinecolor\": \"#2a3f5f\", \"gridcolor\": \"white\", \"linecolor\": \"white\", \"minorgridcolor\": \"white\", \"startlinecolor\": \"#2a3f5f\"}, \"baxis\": {\"endlinecolor\": \"#2a3f5f\", \"gridcolor\": \"white\", \"linecolor\": \"white\", \"minorgridcolor\": \"white\", \"startlinecolor\": \"#2a3f5f\"}, \"type\": \"carpet\"}], \"choropleth\": [{\"colorbar\": {\"outlinewidth\": 0, \"ticks\": \"\"}, \"type\": \"choropleth\"}], \"contour\": [{\"colorbar\": {\"outlinewidth\": 0, \"ticks\": \"\"}, \"colorscale\": [[0.0, \"#0d0887\"], [0.1111111111111111, \"#46039f\"], [0.2222222222222222, \"#7201a8\"], [0.3333333333333333, \"#9c179e\"], [0.4444444444444444, \"#bd3786\"], [0.5555555555555556, \"#d8576b\"], [0.6666666666666666, \"#ed7953\"], [0.7777777777777778, \"#fb9f3a\"], [0.8888888888888888, \"#fdca26\"], [1.0, \"#f0f921\"]], \"type\": \"contour\"}], \"contourcarpet\": [{\"colorbar\": {\"outlinewidth\": 0, \"ticks\": \"\"}, \"type\": \"contourcarpet\"}], \"heatmap\": [{\"colorbar\": {\"outlinewidth\": 0, \"ticks\": \"\"}, \"colorscale\": [[0.0, \"#0d0887\"], [0.1111111111111111, \"#46039f\"], [0.2222222222222222, \"#7201a8\"], [0.3333333333333333, \"#9c179e\"], [0.4444444444444444, \"#bd3786\"], [0.5555555555555556, \"#d8576b\"], [0.6666666666666666, \"#ed7953\"], [0.7777777777777778, \"#fb9f3a\"], [0.8888888888888888, \"#fdca26\"], [1.0, \"#f0f921\"]], \"type\": \"heatmap\"}], \"heatmapgl\": [{\"colorbar\": {\"outlinewidth\": 0, \"ticks\": \"\"}, \"colorscale\": [[0.0, \"#0d0887\"], [0.1111111111111111, \"#46039f\"], [0.2222222222222222, \"#7201a8\"], [0.3333333333333333, \"#9c179e\"], [0.4444444444444444, \"#bd3786\"], [0.5555555555555556, \"#d8576b\"], [0.6666666666666666, \"#ed7953\"], [0.7777777777777778, \"#fb9f3a\"], [0.8888888888888888, \"#fdca26\"], [1.0, \"#f0f921\"]], \"type\": \"heatmapgl\"}], \"histogram\": [{\"marker\": {\"colorbar\": {\"outlinewidth\": 0, \"ticks\": \"\"}}, \"type\": \"histogram\"}], \"histogram2d\": [{\"colorbar\": {\"outlinewidth\": 0, \"ticks\": \"\"}, \"colorscale\": [[0.0, \"#0d0887\"], [0.1111111111111111, \"#46039f\"], [0.2222222222222222, \"#7201a8\"], [0.3333333333333333, \"#9c179e\"], [0.4444444444444444, \"#bd3786\"], [0.5555555555555556, \"#d8576b\"], [0.6666666666666666, \"#ed7953\"], [0.7777777777777778, \"#fb9f3a\"], [0.8888888888888888, \"#fdca26\"], [1.0, \"#f0f921\"]], \"type\": \"histogram2d\"}], \"histogram2dcontour\": [{\"colorbar\": {\"outlinewidth\": 0, \"ticks\": \"\"}, \"colorscale\": [[0.0, \"#0d0887\"], [0.1111111111111111, \"#46039f\"], [0.2222222222222222, \"#7201a8\"], [0.3333333333333333, \"#9c179e\"], [0.4444444444444444, \"#bd3786\"], [0.5555555555555556, \"#d8576b\"], [0.6666666666666666, \"#ed7953\"], [0.7777777777777778, \"#fb9f3a\"], [0.8888888888888888, \"#fdca26\"], [1.0, \"#f0f921\"]], \"type\": \"histogram2dcontour\"}], \"mesh3d\": [{\"colorbar\": {\"outlinewidth\": 0, \"ticks\": \"\"}, \"type\": \"mesh3d\"}], \"parcoords\": [{\"line\": {\"colorbar\": {\"outlinewidth\": 0, \"ticks\": \"\"}}, \"type\": \"parcoords\"}], \"pie\": [{\"automargin\": true, \"type\": \"pie\"}], \"scatter\": [{\"marker\": {\"colorbar\": {\"outlinewidth\": 0, \"ticks\": \"\"}}, \"type\": \"scatter\"}], \"scatter3d\": [{\"line\": {\"colorbar\": {\"outlinewidth\": 0, \"ticks\": \"\"}}, \"marker\": {\"colorbar\": {\"outlinewidth\": 0, \"ticks\": \"\"}}, \"type\": \"scatter3d\"}], \"scattercarpet\": [{\"marker\": {\"colorbar\": {\"outlinewidth\": 0, \"ticks\": \"\"}}, \"type\": \"scattercarpet\"}], \"scattergeo\": [{\"marker\": {\"colorbar\": {\"outlinewidth\": 0, \"ticks\": \"\"}}, \"type\": \"scattergeo\"}], \"scattergl\": [{\"marker\": {\"colorbar\": {\"outlinewidth\": 0, \"ticks\": \"\"}}, \"type\": \"scattergl\"}], \"scattermapbox\": [{\"marker\": {\"colorbar\": {\"outlinewidth\": 0, \"ticks\": \"\"}}, \"type\": \"scattermapbox\"}], \"scatterpolar\": [{\"marker\": {\"colorbar\": {\"outlinewidth\": 0, \"ticks\": \"\"}}, \"type\": \"scatterpolar\"}], \"scatterpolargl\": [{\"marker\": {\"colorbar\": {\"outlinewidth\": 0, \"ticks\": \"\"}}, \"type\": \"scatterpolargl\"}], \"scatterternary\": [{\"marker\": {\"colorbar\": {\"outlinewidth\": 0, \"ticks\": \"\"}}, \"type\": \"scatterternary\"}], \"surface\": [{\"colorbar\": {\"outlinewidth\": 0, \"ticks\": \"\"}, \"colorscale\": [[0.0, \"#0d0887\"], [0.1111111111111111, \"#46039f\"], [0.2222222222222222, \"#7201a8\"], [0.3333333333333333, \"#9c179e\"], [0.4444444444444444, \"#bd3786\"], [0.5555555555555556, \"#d8576b\"], [0.6666666666666666, \"#ed7953\"], [0.7777777777777778, \"#fb9f3a\"], [0.8888888888888888, \"#fdca26\"], [1.0, \"#f0f921\"]], \"type\": \"surface\"}], \"table\": [{\"cells\": {\"fill\": {\"color\": \"#EBF0F8\"}, \"line\": {\"color\": \"white\"}}, \"header\": {\"fill\": {\"color\": \"#C8D4E3\"}, \"line\": {\"color\": \"white\"}}, \"type\": \"table\"}]}, \"layout\": {\"annotationdefaults\": {\"arrowcolor\": \"#2a3f5f\", \"arrowhead\": 0, \"arrowwidth\": 1}, \"coloraxis\": {\"colorbar\": {\"outlinewidth\": 0, \"ticks\": \"\"}}, \"colorscale\": {\"diverging\": [[0, \"#8e0152\"], [0.1, \"#c51b7d\"], [0.2, \"#de77ae\"], [0.3, \"#f1b6da\"], [0.4, \"#fde0ef\"], [0.5, \"#f7f7f7\"], [0.6, \"#e6f5d0\"], [0.7, \"#b8e186\"], [0.8, \"#7fbc41\"], [0.9, \"#4d9221\"], [1, \"#276419\"]], \"sequential\": [[0.0, \"#0d0887\"], [0.1111111111111111, \"#46039f\"], [0.2222222222222222, \"#7201a8\"], [0.3333333333333333, \"#9c179e\"], [0.4444444444444444, \"#bd3786\"], [0.5555555555555556, \"#d8576b\"], [0.6666666666666666, \"#ed7953\"], [0.7777777777777778, \"#fb9f3a\"], [0.8888888888888888, \"#fdca26\"], [1.0, \"#f0f921\"]], \"sequentialminus\": [[0.0, \"#0d0887\"], [0.1111111111111111, \"#46039f\"], [0.2222222222222222, \"#7201a8\"], [0.3333333333333333, \"#9c179e\"], [0.4444444444444444, \"#bd3786\"], [0.5555555555555556, \"#d8576b\"], [0.6666666666666666, \"#ed7953\"], [0.7777777777777778, \"#fb9f3a\"], [0.8888888888888888, \"#fdca26\"], [1.0, \"#f0f921\"]]}, \"colorway\": [\"#636efa\", \"#EF553B\", \"#00cc96\", \"#ab63fa\", \"#FFA15A\", \"#19d3f3\", \"#FF6692\", \"#B6E880\", \"#FF97FF\", \"#FECB52\"], \"font\": {\"color\": \"#2a3f5f\"}, \"geo\": {\"bgcolor\": \"white\", \"lakecolor\": \"white\", \"landcolor\": \"#E5ECF6\", \"showlakes\": true, \"showland\": true, \"subunitcolor\": \"white\"}, \"hoverlabel\": {\"align\": \"left\"}, \"hovermode\": \"closest\", \"mapbox\": {\"style\": \"light\"}, \"paper_bgcolor\": \"white\", \"plot_bgcolor\": \"#E5ECF6\", \"polar\": {\"angularaxis\": {\"gridcolor\": \"white\", \"linecolor\": \"white\", \"ticks\": \"\"}, \"bgcolor\": \"#E5ECF6\", \"radialaxis\": {\"gridcolor\": \"white\", \"linecolor\": \"white\", \"ticks\": \"\"}}, \"scene\": {\"xaxis\": {\"backgroundcolor\": \"#E5ECF6\", \"gridcolor\": \"white\", \"gridwidth\": 2, \"linecolor\": \"white\", \"showbackground\": true, \"ticks\": \"\", \"zerolinecolor\": \"white\"}, \"yaxis\": {\"backgroundcolor\": \"#E5ECF6\", \"gridcolor\": \"white\", \"gridwidth\": 2, \"linecolor\": \"white\", \"showbackground\": true, \"ticks\": \"\", \"zerolinecolor\": \"white\"}, \"zaxis\": {\"backgroundcolor\": \"#E5ECF6\", \"gridcolor\": \"white\", \"gridwidth\": 2, \"linecolor\": \"white\", \"showbackground\": true, \"ticks\": \"\", \"zerolinecolor\": \"white\"}}, \"shapedefaults\": {\"line\": {\"color\": \"#2a3f5f\"}}, \"ternary\": {\"aaxis\": {\"gridcolor\": \"white\", \"linecolor\": \"white\", \"ticks\": \"\"}, \"baxis\": {\"gridcolor\": \"white\", \"linecolor\": \"white\", \"ticks\": \"\"}, \"bgcolor\": \"#E5ECF6\", \"caxis\": {\"gridcolor\": \"white\", \"linecolor\": \"white\", \"ticks\": \"\"}}, \"title\": {\"x\": 0.05}, \"xaxis\": {\"automargin\": true, \"gridcolor\": \"white\", \"linecolor\": \"white\", \"ticks\": \"\", \"title\": {\"standoff\": 15}, \"zerolinecolor\": \"white\", \"zerolinewidth\": 2}, \"yaxis\": {\"automargin\": true, \"gridcolor\": \"white\", \"linecolor\": \"white\", \"ticks\": \"\", \"title\": {\"standoff\": 15}, \"zerolinecolor\": \"white\", \"zerolinewidth\": 2}}}, \"title\": {\"font\": {\"color\": \"#4D5663\"}}, \"xaxis\": {\"gridcolor\": \"#E1E5ED\", \"showgrid\": true, \"tickfont\": {\"color\": \"#4D5663\"}, \"title\": {\"font\": {\"color\": \"#4D5663\"}, \"text\": \"\"}, \"zerolinecolor\": \"#E1E5ED\"}, \"yaxis\": {\"gridcolor\": \"#E1E5ED\", \"showgrid\": true, \"tickfont\": {\"color\": \"#4D5663\"}, \"title\": {\"font\": {\"color\": \"#4D5663\"}, \"text\": \"\"}, \"zerolinecolor\": \"#E1E5ED\"}},\n",
       "                        {\"showLink\": true, \"linkText\": \"Export to plot.ly\", \"plotlyServerURL\": \"https://plot.ly\", \"responsive\": true}\n",
       "                    ).then(function(){\n",
       "                            \n",
       "var gd = document.getElementById('3479e243-dfd0-4068-a346-798f9356b3c3');\n",
       "var x = new MutationObserver(function (mutations, observer) {{\n",
       "        var display = window.getComputedStyle(gd).display;\n",
       "        if (!display || display === 'none') {{\n",
       "            console.log([gd, 'removed!']);\n",
       "            Plotly.purge(gd);\n",
       "            observer.disconnect();\n",
       "        }}\n",
       "}});\n",
       "\n",
       "// Listen for the removal of the full notebook cells\n",
       "var notebookContainer = gd.closest('#notebook-container');\n",
       "if (notebookContainer) {{\n",
       "    x.observe(notebookContainer, {childList: true});\n",
       "}}\n",
       "\n",
       "// Listen for the clearing of the current output cell\n",
       "var outputEl = gd.closest('.output');\n",
       "if (outputEl) {{\n",
       "    x.observe(outputEl, {childList: true});\n",
       "}}\n",
       "\n",
       "                        })\n",
       "                };\n",
       "                });\n",
       "            </script>\n",
       "        </div>"
      ]
     },
     "metadata": {},
     "output_type": "display_data"
    }
   ],
   "source": [
    "df.iplot(kind='box')"
   ]
  },
  {
   "cell_type": "markdown",
   "metadata": {},
   "source": [
    "## 3d Surface"
   ]
  },
  {
   "cell_type": "code",
   "execution_count": 14,
   "metadata": {},
   "outputs": [
    {
     "data": {
      "application/vnd.plotly.v1+json": {
       "config": {
        "linkText": "Export to plot.ly",
        "plotlyServerURL": "https://plot.ly",
        "showLink": true
       },
       "data": [
        {
         "colorscale": [
          [
           0,
           "rgb(165,0,38)"
          ],
          [
           0.1,
           "rgb(215,48,39)"
          ],
          [
           0.2,
           "rgb(244,109,67)"
          ],
          [
           0.3,
           "rgb(253,174,97)"
          ],
          [
           0.4,
           "rgb(254,224,144)"
          ],
          [
           0.5,
           "rgb(255,255,191)"
          ],
          [
           0.6,
           "rgb(224,243,248)"
          ],
          [
           0.7,
           "rgb(171,217,233)"
          ],
          [
           0.8,
           "rgb(116,173,209)"
          ],
          [
           0.9,
           "rgb(69,117,180)"
          ],
          [
           1,
           "rgb(49,54,149)"
          ]
         ],
         "type": "surface",
         "x": [
          0,
          1,
          2,
          3,
          4
         ],
         "y": [
          "x",
          "y",
          "z"
         ],
         "z": [
          [
           1,
           2,
           3,
           4,
           5
          ],
          [
           10,
           20,
           30,
           20,
           10
          ],
          [
           5,
           4,
           3,
           2,
           1
          ]
         ]
        }
       ],
       "layout": {
        "legend": {
         "bgcolor": "#F5F6F9",
         "font": {
          "color": "#4D5663"
         }
        },
        "paper_bgcolor": "#F5F6F9",
        "plot_bgcolor": "#F5F6F9",
        "template": {
         "data": {
          "bar": [
           {
            "error_x": {
             "color": "#2a3f5f"
            },
            "error_y": {
             "color": "#2a3f5f"
            },
            "marker": {
             "line": {
              "color": "#E5ECF6",
              "width": 0.5
             }
            },
            "type": "bar"
           }
          ],
          "barpolar": [
           {
            "marker": {
             "line": {
              "color": "#E5ECF6",
              "width": 0.5
             }
            },
            "type": "barpolar"
           }
          ],
          "carpet": [
           {
            "aaxis": {
             "endlinecolor": "#2a3f5f",
             "gridcolor": "white",
             "linecolor": "white",
             "minorgridcolor": "white",
             "startlinecolor": "#2a3f5f"
            },
            "baxis": {
             "endlinecolor": "#2a3f5f",
             "gridcolor": "white",
             "linecolor": "white",
             "minorgridcolor": "white",
             "startlinecolor": "#2a3f5f"
            },
            "type": "carpet"
           }
          ],
          "choropleth": [
           {
            "colorbar": {
             "outlinewidth": 0,
             "ticks": ""
            },
            "type": "choropleth"
           }
          ],
          "contour": [
           {
            "colorbar": {
             "outlinewidth": 0,
             "ticks": ""
            },
            "colorscale": [
             [
              0,
              "#0d0887"
             ],
             [
              0.1111111111111111,
              "#46039f"
             ],
             [
              0.2222222222222222,
              "#7201a8"
             ],
             [
              0.3333333333333333,
              "#9c179e"
             ],
             [
              0.4444444444444444,
              "#bd3786"
             ],
             [
              0.5555555555555556,
              "#d8576b"
             ],
             [
              0.6666666666666666,
              "#ed7953"
             ],
             [
              0.7777777777777778,
              "#fb9f3a"
             ],
             [
              0.8888888888888888,
              "#fdca26"
             ],
             [
              1,
              "#f0f921"
             ]
            ],
            "type": "contour"
           }
          ],
          "contourcarpet": [
           {
            "colorbar": {
             "outlinewidth": 0,
             "ticks": ""
            },
            "type": "contourcarpet"
           }
          ],
          "heatmap": [
           {
            "colorbar": {
             "outlinewidth": 0,
             "ticks": ""
            },
            "colorscale": [
             [
              0,
              "#0d0887"
             ],
             [
              0.1111111111111111,
              "#46039f"
             ],
             [
              0.2222222222222222,
              "#7201a8"
             ],
             [
              0.3333333333333333,
              "#9c179e"
             ],
             [
              0.4444444444444444,
              "#bd3786"
             ],
             [
              0.5555555555555556,
              "#d8576b"
             ],
             [
              0.6666666666666666,
              "#ed7953"
             ],
             [
              0.7777777777777778,
              "#fb9f3a"
             ],
             [
              0.8888888888888888,
              "#fdca26"
             ],
             [
              1,
              "#f0f921"
             ]
            ],
            "type": "heatmap"
           }
          ],
          "heatmapgl": [
           {
            "colorbar": {
             "outlinewidth": 0,
             "ticks": ""
            },
            "colorscale": [
             [
              0,
              "#0d0887"
             ],
             [
              0.1111111111111111,
              "#46039f"
             ],
             [
              0.2222222222222222,
              "#7201a8"
             ],
             [
              0.3333333333333333,
              "#9c179e"
             ],
             [
              0.4444444444444444,
              "#bd3786"
             ],
             [
              0.5555555555555556,
              "#d8576b"
             ],
             [
              0.6666666666666666,
              "#ed7953"
             ],
             [
              0.7777777777777778,
              "#fb9f3a"
             ],
             [
              0.8888888888888888,
              "#fdca26"
             ],
             [
              1,
              "#f0f921"
             ]
            ],
            "type": "heatmapgl"
           }
          ],
          "histogram": [
           {
            "marker": {
             "colorbar": {
              "outlinewidth": 0,
              "ticks": ""
             }
            },
            "type": "histogram"
           }
          ],
          "histogram2d": [
           {
            "colorbar": {
             "outlinewidth": 0,
             "ticks": ""
            },
            "colorscale": [
             [
              0,
              "#0d0887"
             ],
             [
              0.1111111111111111,
              "#46039f"
             ],
             [
              0.2222222222222222,
              "#7201a8"
             ],
             [
              0.3333333333333333,
              "#9c179e"
             ],
             [
              0.4444444444444444,
              "#bd3786"
             ],
             [
              0.5555555555555556,
              "#d8576b"
             ],
             [
              0.6666666666666666,
              "#ed7953"
             ],
             [
              0.7777777777777778,
              "#fb9f3a"
             ],
             [
              0.8888888888888888,
              "#fdca26"
             ],
             [
              1,
              "#f0f921"
             ]
            ],
            "type": "histogram2d"
           }
          ],
          "histogram2dcontour": [
           {
            "colorbar": {
             "outlinewidth": 0,
             "ticks": ""
            },
            "colorscale": [
             [
              0,
              "#0d0887"
             ],
             [
              0.1111111111111111,
              "#46039f"
             ],
             [
              0.2222222222222222,
              "#7201a8"
             ],
             [
              0.3333333333333333,
              "#9c179e"
             ],
             [
              0.4444444444444444,
              "#bd3786"
             ],
             [
              0.5555555555555556,
              "#d8576b"
             ],
             [
              0.6666666666666666,
              "#ed7953"
             ],
             [
              0.7777777777777778,
              "#fb9f3a"
             ],
             [
              0.8888888888888888,
              "#fdca26"
             ],
             [
              1,
              "#f0f921"
             ]
            ],
            "type": "histogram2dcontour"
           }
          ],
          "mesh3d": [
           {
            "colorbar": {
             "outlinewidth": 0,
             "ticks": ""
            },
            "type": "mesh3d"
           }
          ],
          "parcoords": [
           {
            "line": {
             "colorbar": {
              "outlinewidth": 0,
              "ticks": ""
             }
            },
            "type": "parcoords"
           }
          ],
          "pie": [
           {
            "automargin": true,
            "type": "pie"
           }
          ],
          "scatter": [
           {
            "marker": {
             "colorbar": {
              "outlinewidth": 0,
              "ticks": ""
             }
            },
            "type": "scatter"
           }
          ],
          "scatter3d": [
           {
            "line": {
             "colorbar": {
              "outlinewidth": 0,
              "ticks": ""
             }
            },
            "marker": {
             "colorbar": {
              "outlinewidth": 0,
              "ticks": ""
             }
            },
            "type": "scatter3d"
           }
          ],
          "scattercarpet": [
           {
            "marker": {
             "colorbar": {
              "outlinewidth": 0,
              "ticks": ""
             }
            },
            "type": "scattercarpet"
           }
          ],
          "scattergeo": [
           {
            "marker": {
             "colorbar": {
              "outlinewidth": 0,
              "ticks": ""
             }
            },
            "type": "scattergeo"
           }
          ],
          "scattergl": [
           {
            "marker": {
             "colorbar": {
              "outlinewidth": 0,
              "ticks": ""
             }
            },
            "type": "scattergl"
           }
          ],
          "scattermapbox": [
           {
            "marker": {
             "colorbar": {
              "outlinewidth": 0,
              "ticks": ""
             }
            },
            "type": "scattermapbox"
           }
          ],
          "scatterpolar": [
           {
            "marker": {
             "colorbar": {
              "outlinewidth": 0,
              "ticks": ""
             }
            },
            "type": "scatterpolar"
           }
          ],
          "scatterpolargl": [
           {
            "marker": {
             "colorbar": {
              "outlinewidth": 0,
              "ticks": ""
             }
            },
            "type": "scatterpolargl"
           }
          ],
          "scatterternary": [
           {
            "marker": {
             "colorbar": {
              "outlinewidth": 0,
              "ticks": ""
             }
            },
            "type": "scatterternary"
           }
          ],
          "surface": [
           {
            "colorbar": {
             "outlinewidth": 0,
             "ticks": ""
            },
            "colorscale": [
             [
              0,
              "#0d0887"
             ],
             [
              0.1111111111111111,
              "#46039f"
             ],
             [
              0.2222222222222222,
              "#7201a8"
             ],
             [
              0.3333333333333333,
              "#9c179e"
             ],
             [
              0.4444444444444444,
              "#bd3786"
             ],
             [
              0.5555555555555556,
              "#d8576b"
             ],
             [
              0.6666666666666666,
              "#ed7953"
             ],
             [
              0.7777777777777778,
              "#fb9f3a"
             ],
             [
              0.8888888888888888,
              "#fdca26"
             ],
             [
              1,
              "#f0f921"
             ]
            ],
            "type": "surface"
           }
          ],
          "table": [
           {
            "cells": {
             "fill": {
              "color": "#EBF0F8"
             },
             "line": {
              "color": "white"
             }
            },
            "header": {
             "fill": {
              "color": "#C8D4E3"
             },
             "line": {
              "color": "white"
             }
            },
            "type": "table"
           }
          ]
         },
         "layout": {
          "annotationdefaults": {
           "arrowcolor": "#2a3f5f",
           "arrowhead": 0,
           "arrowwidth": 1
          },
          "coloraxis": {
           "colorbar": {
            "outlinewidth": 0,
            "ticks": ""
           }
          },
          "colorscale": {
           "diverging": [
            [
             0,
             "#8e0152"
            ],
            [
             0.1,
             "#c51b7d"
            ],
            [
             0.2,
             "#de77ae"
            ],
            [
             0.3,
             "#f1b6da"
            ],
            [
             0.4,
             "#fde0ef"
            ],
            [
             0.5,
             "#f7f7f7"
            ],
            [
             0.6,
             "#e6f5d0"
            ],
            [
             0.7,
             "#b8e186"
            ],
            [
             0.8,
             "#7fbc41"
            ],
            [
             0.9,
             "#4d9221"
            ],
            [
             1,
             "#276419"
            ]
           ],
           "sequential": [
            [
             0,
             "#0d0887"
            ],
            [
             0.1111111111111111,
             "#46039f"
            ],
            [
             0.2222222222222222,
             "#7201a8"
            ],
            [
             0.3333333333333333,
             "#9c179e"
            ],
            [
             0.4444444444444444,
             "#bd3786"
            ],
            [
             0.5555555555555556,
             "#d8576b"
            ],
            [
             0.6666666666666666,
             "#ed7953"
            ],
            [
             0.7777777777777778,
             "#fb9f3a"
            ],
            [
             0.8888888888888888,
             "#fdca26"
            ],
            [
             1,
             "#f0f921"
            ]
           ],
           "sequentialminus": [
            [
             0,
             "#0d0887"
            ],
            [
             0.1111111111111111,
             "#46039f"
            ],
            [
             0.2222222222222222,
             "#7201a8"
            ],
            [
             0.3333333333333333,
             "#9c179e"
            ],
            [
             0.4444444444444444,
             "#bd3786"
            ],
            [
             0.5555555555555556,
             "#d8576b"
            ],
            [
             0.6666666666666666,
             "#ed7953"
            ],
            [
             0.7777777777777778,
             "#fb9f3a"
            ],
            [
             0.8888888888888888,
             "#fdca26"
            ],
            [
             1,
             "#f0f921"
            ]
           ]
          },
          "colorway": [
           "#636efa",
           "#EF553B",
           "#00cc96",
           "#ab63fa",
           "#FFA15A",
           "#19d3f3",
           "#FF6692",
           "#B6E880",
           "#FF97FF",
           "#FECB52"
          ],
          "font": {
           "color": "#2a3f5f"
          },
          "geo": {
           "bgcolor": "white",
           "lakecolor": "white",
           "landcolor": "#E5ECF6",
           "showlakes": true,
           "showland": true,
           "subunitcolor": "white"
          },
          "hoverlabel": {
           "align": "left"
          },
          "hovermode": "closest",
          "mapbox": {
           "style": "light"
          },
          "paper_bgcolor": "white",
          "plot_bgcolor": "#E5ECF6",
          "polar": {
           "angularaxis": {
            "gridcolor": "white",
            "linecolor": "white",
            "ticks": ""
           },
           "bgcolor": "#E5ECF6",
           "radialaxis": {
            "gridcolor": "white",
            "linecolor": "white",
            "ticks": ""
           }
          },
          "scene": {
           "xaxis": {
            "backgroundcolor": "#E5ECF6",
            "gridcolor": "white",
            "gridwidth": 2,
            "linecolor": "white",
            "showbackground": true,
            "ticks": "",
            "zerolinecolor": "white"
           },
           "yaxis": {
            "backgroundcolor": "#E5ECF6",
            "gridcolor": "white",
            "gridwidth": 2,
            "linecolor": "white",
            "showbackground": true,
            "ticks": "",
            "zerolinecolor": "white"
           },
           "zaxis": {
            "backgroundcolor": "#E5ECF6",
            "gridcolor": "white",
            "gridwidth": 2,
            "linecolor": "white",
            "showbackground": true,
            "ticks": "",
            "zerolinecolor": "white"
           }
          },
          "shapedefaults": {
           "line": {
            "color": "#2a3f5f"
           }
          },
          "ternary": {
           "aaxis": {
            "gridcolor": "white",
            "linecolor": "white",
            "ticks": ""
           },
           "baxis": {
            "gridcolor": "white",
            "linecolor": "white",
            "ticks": ""
           },
           "bgcolor": "#E5ECF6",
           "caxis": {
            "gridcolor": "white",
            "linecolor": "white",
            "ticks": ""
           }
          },
          "title": {
           "x": 0.05
          },
          "xaxis": {
           "automargin": true,
           "gridcolor": "white",
           "linecolor": "white",
           "ticks": "",
           "title": {
            "standoff": 15
           },
           "zerolinecolor": "white",
           "zerolinewidth": 2
          },
          "yaxis": {
           "automargin": true,
           "gridcolor": "white",
           "linecolor": "white",
           "ticks": "",
           "title": {
            "standoff": 15
           },
           "zerolinecolor": "white",
           "zerolinewidth": 2
          }
         }
        },
        "title": {
         "font": {
          "color": "#4D5663"
         }
        },
        "xaxis": {
         "gridcolor": "#E1E5ED",
         "showgrid": true,
         "tickfont": {
          "color": "#4D5663"
         },
         "title": {
          "font": {
           "color": "#4D5663"
          },
          "text": ""
         },
         "zerolinecolor": "#E1E5ED"
        },
        "yaxis": {
         "gridcolor": "#E1E5ED",
         "showgrid": true,
         "tickfont": {
          "color": "#4D5663"
         },
         "title": {
          "font": {
           "color": "#4D5663"
          },
          "text": ""
         },
         "zerolinecolor": "#E1E5ED"
        }
       }
      },
      "text/html": [
       "<div>\n",
       "        \n",
       "        \n",
       "            <div id=\"9cc6796b-a563-438d-b5e0-09878c194067\" class=\"plotly-graph-div\" style=\"height:525px; width:100%;\"></div>\n",
       "            <script type=\"text/javascript\">\n",
       "                require([\"plotly\"], function(Plotly) {\n",
       "                    window.PLOTLYENV=window.PLOTLYENV || {};\n",
       "                    window.PLOTLYENV.BASE_URL='https://plot.ly';\n",
       "                    \n",
       "                if (document.getElementById(\"9cc6796b-a563-438d-b5e0-09878c194067\")) {\n",
       "                    Plotly.newPlot(\n",
       "                        '9cc6796b-a563-438d-b5e0-09878c194067',\n",
       "                        [{\"colorscale\": [[0.0, \"rgb(165,0,38)\"], [0.1, \"rgb(215,48,39)\"], [0.2, \"rgb(244,109,67)\"], [0.3, \"rgb(253,174,97)\"], [0.4, \"rgb(254,224,144)\"], [0.5, \"rgb(255,255,191)\"], [0.6, \"rgb(224,243,248)\"], [0.7, \"rgb(171,217,233)\"], [0.8, \"rgb(116,173,209)\"], [0.9, \"rgb(69,117,180)\"], [1.0, \"rgb(49,54,149)\"]], \"type\": \"surface\", \"x\": [0, 1, 2, 3, 4], \"y\": [\"x\", \"y\", \"z\"], \"z\": [[1, 2, 3, 4, 5], [10, 20, 30, 20, 10], [5, 4, 3, 2, 1]]}],\n",
       "                        {\"legend\": {\"bgcolor\": \"#F5F6F9\", \"font\": {\"color\": \"#4D5663\"}}, \"paper_bgcolor\": \"#F5F6F9\", \"plot_bgcolor\": \"#F5F6F9\", \"template\": {\"data\": {\"bar\": [{\"error_x\": {\"color\": \"#2a3f5f\"}, \"error_y\": {\"color\": \"#2a3f5f\"}, \"marker\": {\"line\": {\"color\": \"#E5ECF6\", \"width\": 0.5}}, \"type\": \"bar\"}], \"barpolar\": [{\"marker\": {\"line\": {\"color\": \"#E5ECF6\", \"width\": 0.5}}, \"type\": \"barpolar\"}], \"carpet\": [{\"aaxis\": {\"endlinecolor\": \"#2a3f5f\", \"gridcolor\": \"white\", \"linecolor\": \"white\", \"minorgridcolor\": \"white\", \"startlinecolor\": \"#2a3f5f\"}, \"baxis\": {\"endlinecolor\": \"#2a3f5f\", \"gridcolor\": \"white\", \"linecolor\": \"white\", \"minorgridcolor\": \"white\", \"startlinecolor\": \"#2a3f5f\"}, \"type\": \"carpet\"}], \"choropleth\": [{\"colorbar\": {\"outlinewidth\": 0, \"ticks\": \"\"}, \"type\": \"choropleth\"}], \"contour\": [{\"colorbar\": {\"outlinewidth\": 0, \"ticks\": \"\"}, \"colorscale\": [[0.0, \"#0d0887\"], [0.1111111111111111, \"#46039f\"], [0.2222222222222222, \"#7201a8\"], [0.3333333333333333, \"#9c179e\"], [0.4444444444444444, \"#bd3786\"], [0.5555555555555556, \"#d8576b\"], [0.6666666666666666, \"#ed7953\"], [0.7777777777777778, \"#fb9f3a\"], [0.8888888888888888, \"#fdca26\"], [1.0, \"#f0f921\"]], \"type\": \"contour\"}], \"contourcarpet\": [{\"colorbar\": {\"outlinewidth\": 0, \"ticks\": \"\"}, \"type\": \"contourcarpet\"}], \"heatmap\": [{\"colorbar\": {\"outlinewidth\": 0, \"ticks\": \"\"}, \"colorscale\": [[0.0, \"#0d0887\"], [0.1111111111111111, \"#46039f\"], [0.2222222222222222, \"#7201a8\"], [0.3333333333333333, \"#9c179e\"], [0.4444444444444444, \"#bd3786\"], [0.5555555555555556, \"#d8576b\"], [0.6666666666666666, \"#ed7953\"], [0.7777777777777778, \"#fb9f3a\"], [0.8888888888888888, \"#fdca26\"], [1.0, \"#f0f921\"]], \"type\": \"heatmap\"}], \"heatmapgl\": [{\"colorbar\": {\"outlinewidth\": 0, \"ticks\": \"\"}, \"colorscale\": [[0.0, \"#0d0887\"], [0.1111111111111111, \"#46039f\"], [0.2222222222222222, \"#7201a8\"], [0.3333333333333333, \"#9c179e\"], [0.4444444444444444, \"#bd3786\"], [0.5555555555555556, \"#d8576b\"], [0.6666666666666666, \"#ed7953\"], [0.7777777777777778, \"#fb9f3a\"], [0.8888888888888888, \"#fdca26\"], [1.0, \"#f0f921\"]], \"type\": \"heatmapgl\"}], \"histogram\": [{\"marker\": {\"colorbar\": {\"outlinewidth\": 0, \"ticks\": \"\"}}, \"type\": \"histogram\"}], \"histogram2d\": [{\"colorbar\": {\"outlinewidth\": 0, \"ticks\": \"\"}, \"colorscale\": [[0.0, \"#0d0887\"], [0.1111111111111111, \"#46039f\"], [0.2222222222222222, \"#7201a8\"], [0.3333333333333333, \"#9c179e\"], [0.4444444444444444, \"#bd3786\"], [0.5555555555555556, \"#d8576b\"], [0.6666666666666666, \"#ed7953\"], [0.7777777777777778, \"#fb9f3a\"], [0.8888888888888888, \"#fdca26\"], [1.0, \"#f0f921\"]], \"type\": \"histogram2d\"}], \"histogram2dcontour\": [{\"colorbar\": {\"outlinewidth\": 0, \"ticks\": \"\"}, \"colorscale\": [[0.0, \"#0d0887\"], [0.1111111111111111, \"#46039f\"], [0.2222222222222222, \"#7201a8\"], [0.3333333333333333, \"#9c179e\"], [0.4444444444444444, \"#bd3786\"], [0.5555555555555556, \"#d8576b\"], [0.6666666666666666, \"#ed7953\"], [0.7777777777777778, \"#fb9f3a\"], [0.8888888888888888, \"#fdca26\"], [1.0, \"#f0f921\"]], \"type\": \"histogram2dcontour\"}], \"mesh3d\": [{\"colorbar\": {\"outlinewidth\": 0, \"ticks\": \"\"}, \"type\": \"mesh3d\"}], \"parcoords\": [{\"line\": {\"colorbar\": {\"outlinewidth\": 0, \"ticks\": \"\"}}, \"type\": \"parcoords\"}], \"pie\": [{\"automargin\": true, \"type\": \"pie\"}], \"scatter\": [{\"marker\": {\"colorbar\": {\"outlinewidth\": 0, \"ticks\": \"\"}}, \"type\": \"scatter\"}], \"scatter3d\": [{\"line\": {\"colorbar\": {\"outlinewidth\": 0, \"ticks\": \"\"}}, \"marker\": {\"colorbar\": {\"outlinewidth\": 0, \"ticks\": \"\"}}, \"type\": \"scatter3d\"}], \"scattercarpet\": [{\"marker\": {\"colorbar\": {\"outlinewidth\": 0, \"ticks\": \"\"}}, \"type\": \"scattercarpet\"}], \"scattergeo\": [{\"marker\": {\"colorbar\": {\"outlinewidth\": 0, \"ticks\": \"\"}}, \"type\": \"scattergeo\"}], \"scattergl\": [{\"marker\": {\"colorbar\": {\"outlinewidth\": 0, \"ticks\": \"\"}}, \"type\": \"scattergl\"}], \"scattermapbox\": [{\"marker\": {\"colorbar\": {\"outlinewidth\": 0, \"ticks\": \"\"}}, \"type\": \"scattermapbox\"}], \"scatterpolar\": [{\"marker\": {\"colorbar\": {\"outlinewidth\": 0, \"ticks\": \"\"}}, \"type\": \"scatterpolar\"}], \"scatterpolargl\": [{\"marker\": {\"colorbar\": {\"outlinewidth\": 0, \"ticks\": \"\"}}, \"type\": \"scatterpolargl\"}], \"scatterternary\": [{\"marker\": {\"colorbar\": {\"outlinewidth\": 0, \"ticks\": \"\"}}, \"type\": \"scatterternary\"}], \"surface\": [{\"colorbar\": {\"outlinewidth\": 0, \"ticks\": \"\"}, \"colorscale\": [[0.0, \"#0d0887\"], [0.1111111111111111, \"#46039f\"], [0.2222222222222222, \"#7201a8\"], [0.3333333333333333, \"#9c179e\"], [0.4444444444444444, \"#bd3786\"], [0.5555555555555556, \"#d8576b\"], [0.6666666666666666, \"#ed7953\"], [0.7777777777777778, \"#fb9f3a\"], [0.8888888888888888, \"#fdca26\"], [1.0, \"#f0f921\"]], \"type\": \"surface\"}], \"table\": [{\"cells\": {\"fill\": {\"color\": \"#EBF0F8\"}, \"line\": {\"color\": \"white\"}}, \"header\": {\"fill\": {\"color\": \"#C8D4E3\"}, \"line\": {\"color\": \"white\"}}, \"type\": \"table\"}]}, \"layout\": {\"annotationdefaults\": {\"arrowcolor\": \"#2a3f5f\", \"arrowhead\": 0, \"arrowwidth\": 1}, \"coloraxis\": {\"colorbar\": {\"outlinewidth\": 0, \"ticks\": \"\"}}, \"colorscale\": {\"diverging\": [[0, \"#8e0152\"], [0.1, \"#c51b7d\"], [0.2, \"#de77ae\"], [0.3, \"#f1b6da\"], [0.4, \"#fde0ef\"], [0.5, \"#f7f7f7\"], [0.6, \"#e6f5d0\"], [0.7, \"#b8e186\"], [0.8, \"#7fbc41\"], [0.9, \"#4d9221\"], [1, \"#276419\"]], \"sequential\": [[0.0, \"#0d0887\"], [0.1111111111111111, \"#46039f\"], [0.2222222222222222, \"#7201a8\"], [0.3333333333333333, \"#9c179e\"], [0.4444444444444444, \"#bd3786\"], [0.5555555555555556, \"#d8576b\"], [0.6666666666666666, \"#ed7953\"], [0.7777777777777778, \"#fb9f3a\"], [0.8888888888888888, \"#fdca26\"], [1.0, \"#f0f921\"]], \"sequentialminus\": [[0.0, \"#0d0887\"], [0.1111111111111111, \"#46039f\"], [0.2222222222222222, \"#7201a8\"], [0.3333333333333333, \"#9c179e\"], [0.4444444444444444, \"#bd3786\"], [0.5555555555555556, \"#d8576b\"], [0.6666666666666666, \"#ed7953\"], [0.7777777777777778, \"#fb9f3a\"], [0.8888888888888888, \"#fdca26\"], [1.0, \"#f0f921\"]]}, \"colorway\": [\"#636efa\", \"#EF553B\", \"#00cc96\", \"#ab63fa\", \"#FFA15A\", \"#19d3f3\", \"#FF6692\", \"#B6E880\", \"#FF97FF\", \"#FECB52\"], \"font\": {\"color\": \"#2a3f5f\"}, \"geo\": {\"bgcolor\": \"white\", \"lakecolor\": \"white\", \"landcolor\": \"#E5ECF6\", \"showlakes\": true, \"showland\": true, \"subunitcolor\": \"white\"}, \"hoverlabel\": {\"align\": \"left\"}, \"hovermode\": \"closest\", \"mapbox\": {\"style\": \"light\"}, \"paper_bgcolor\": \"white\", \"plot_bgcolor\": \"#E5ECF6\", \"polar\": {\"angularaxis\": {\"gridcolor\": \"white\", \"linecolor\": \"white\", \"ticks\": \"\"}, \"bgcolor\": \"#E5ECF6\", \"radialaxis\": {\"gridcolor\": \"white\", \"linecolor\": \"white\", \"ticks\": \"\"}}, \"scene\": {\"xaxis\": {\"backgroundcolor\": \"#E5ECF6\", \"gridcolor\": \"white\", \"gridwidth\": 2, \"linecolor\": \"white\", \"showbackground\": true, \"ticks\": \"\", \"zerolinecolor\": \"white\"}, \"yaxis\": {\"backgroundcolor\": \"#E5ECF6\", \"gridcolor\": \"white\", \"gridwidth\": 2, \"linecolor\": \"white\", \"showbackground\": true, \"ticks\": \"\", \"zerolinecolor\": \"white\"}, \"zaxis\": {\"backgroundcolor\": \"#E5ECF6\", \"gridcolor\": \"white\", \"gridwidth\": 2, \"linecolor\": \"white\", \"showbackground\": true, \"ticks\": \"\", \"zerolinecolor\": \"white\"}}, \"shapedefaults\": {\"line\": {\"color\": \"#2a3f5f\"}}, \"ternary\": {\"aaxis\": {\"gridcolor\": \"white\", \"linecolor\": \"white\", \"ticks\": \"\"}, \"baxis\": {\"gridcolor\": \"white\", \"linecolor\": \"white\", \"ticks\": \"\"}, \"bgcolor\": \"#E5ECF6\", \"caxis\": {\"gridcolor\": \"white\", \"linecolor\": \"white\", \"ticks\": \"\"}}, \"title\": {\"x\": 0.05}, \"xaxis\": {\"automargin\": true, \"gridcolor\": \"white\", \"linecolor\": \"white\", \"ticks\": \"\", \"title\": {\"standoff\": 15}, \"zerolinecolor\": \"white\", \"zerolinewidth\": 2}, \"yaxis\": {\"automargin\": true, \"gridcolor\": \"white\", \"linecolor\": \"white\", \"ticks\": \"\", \"title\": {\"standoff\": 15}, \"zerolinecolor\": \"white\", \"zerolinewidth\": 2}}}, \"title\": {\"font\": {\"color\": \"#4D5663\"}}, \"xaxis\": {\"gridcolor\": \"#E1E5ED\", \"showgrid\": true, \"tickfont\": {\"color\": \"#4D5663\"}, \"title\": {\"font\": {\"color\": \"#4D5663\"}, \"text\": \"\"}, \"zerolinecolor\": \"#E1E5ED\"}, \"yaxis\": {\"gridcolor\": \"#E1E5ED\", \"showgrid\": true, \"tickfont\": {\"color\": \"#4D5663\"}, \"title\": {\"font\": {\"color\": \"#4D5663\"}, \"text\": \"\"}, \"zerolinecolor\": \"#E1E5ED\"}},\n",
       "                        {\"showLink\": true, \"linkText\": \"Export to plot.ly\", \"plotlyServerURL\": \"https://plot.ly\", \"responsive\": true}\n",
       "                    ).then(function(){\n",
       "                            \n",
       "var gd = document.getElementById('9cc6796b-a563-438d-b5e0-09878c194067');\n",
       "var x = new MutationObserver(function (mutations, observer) {{\n",
       "        var display = window.getComputedStyle(gd).display;\n",
       "        if (!display || display === 'none') {{\n",
       "            console.log([gd, 'removed!']);\n",
       "            Plotly.purge(gd);\n",
       "            observer.disconnect();\n",
       "        }}\n",
       "}});\n",
       "\n",
       "// Listen for the removal of the full notebook cells\n",
       "var notebookContainer = gd.closest('#notebook-container');\n",
       "if (notebookContainer) {{\n",
       "    x.observe(notebookContainer, {childList: true});\n",
       "}}\n",
       "\n",
       "// Listen for the clearing of the current output cell\n",
       "var outputEl = gd.closest('.output');\n",
       "if (outputEl) {{\n",
       "    x.observe(outputEl, {childList: true});\n",
       "}}\n",
       "\n",
       "                        })\n",
       "                };\n",
       "                });\n",
       "            </script>\n",
       "        </div>"
      ]
     },
     "metadata": {},
     "output_type": "display_data"
    }
   ],
   "source": [
    "df3 = pd.DataFrame({'x':[1,2,3,4,5],'y':[10,20,30,20,10],'z':[5,4,3,2,1]})\n",
    "df3.iplot(kind='surface',colorscale='rdylbu')"
   ]
  },
  {
   "cell_type": "markdown",
   "metadata": {},
   "source": [
    "## Spread"
   ]
  },
  {
   "cell_type": "code",
   "execution_count": 22,
   "metadata": {
    "scrolled": true
   },
   "outputs": [
    {
     "data": {
      "application/vnd.plotly.v1+json": {
       "config": {
        "linkText": "Export to plot.ly",
        "plotlyServerURL": "https://plot.ly",
        "showLink": true
       },
       "data": [
        {
         "line": {
          "color": "rgba(255, 153, 51, 1.0)",
          "dash": "solid",
          "shape": "linear",
          "width": 1.3
         },
         "mode": "lines",
         "name": "A",
         "text": "",
         "type": "scatter",
         "x": [
          0,
          1,
          2,
          3,
          4,
          5,
          6,
          7,
          8,
          9,
          10,
          11,
          12,
          13,
          14,
          15,
          16,
          17,
          18,
          19,
          20,
          21,
          22,
          23,
          24,
          25,
          26,
          27,
          28,
          29,
          30,
          31,
          32,
          33,
          34,
          35,
          36,
          37,
          38,
          39,
          40,
          41,
          42,
          43,
          44,
          45,
          46,
          47,
          48,
          49,
          50,
          51,
          52,
          53,
          54,
          55,
          56,
          57,
          58,
          59,
          60,
          61,
          62,
          63,
          64,
          65,
          66,
          67,
          68,
          69,
          70,
          71,
          72,
          73,
          74,
          75,
          76,
          77,
          78,
          79,
          80,
          81,
          82,
          83,
          84,
          85,
          86,
          87,
          88,
          89,
          90,
          91,
          92,
          93,
          94,
          95,
          96,
          97,
          98,
          99
         ],
         "y": [
          0.17082491155154642,
          0.9733848448503118,
          -0.20854129260332577,
          0.5587619427877866,
          -0.6615722914955411,
          0.5121643351474225,
          0.13130368234342465,
          -0.035220320669247594,
          -0.369963306984912,
          0.5729958692785618,
          -0.09210955386424999,
          -0.5373937615298153,
          -2.01724661384686,
          -0.8987714595694133,
          1.9467057852407064,
          0.5164427357241107,
          -1.1635408247005044,
          -0.5448724578467126,
          -0.46264624189382997,
          -1.9179493009778803,
          2.7714798339031748,
          0.3071036700992901,
          0.029286680479822094,
          0.5515474197907069,
          0.09403663372726255,
          -0.0687491880537863,
          0.7060426747565378,
          -0.5487359269643622,
          1.150545299499611,
          -0.08727405512422448,
          -0.04865263507570622,
          -1.3241004736370685,
          1.8203440910427022,
          1.0249235499982265,
          0.07530077677831443,
          -0.3983518441111155,
          0.9243840081896711,
          -2.1537998401775726,
          -0.7480917035901087,
          -1.8064452966690792,
          0.7434603261362684,
          -0.30218021518186455,
          -1.5446446180825437,
          -1.1220120169755035,
          0.9827691531143342,
          1.1921574743054213,
          0.6442449133259306,
          -0.3569707490839753,
          0.8461417905701312,
          -2.19250392792535,
          0.5652808285965437,
          -0.1344062661716792,
          0.3374266044185731,
          0.11501457230929552,
          -1.03432476125489,
          0.8786458309333575,
          -0.8432228331014776,
          1.5209334906428773,
          -0.13490408553921363,
          1.1362711489480044,
          -0.7164362335444737,
          1.8944088793920375,
          -0.8392029122803014,
          0.8870880475536355,
          -0.22471697569343044,
          -0.21386527195545157,
          -0.588424204629573,
          -2.333080303181406,
          0.6864778911900746,
          0.9061942198927625,
          -0.6362395296227634,
          0.2775335519572494,
          0.6663808474363447,
          1.451569505775331,
          0.25971128472701793,
          -0.22258903844656566,
          0.11690251426354925,
          -0.4037173564209437,
          -0.3616918130026108,
          0.26753011495892737,
          -0.3330809158884787,
          -0.6136738297829322,
          2.3977626706818524,
          0.008681338043572347,
          0.015381712961214473,
          -0.34992740870667255,
          -0.9826085890796246,
          0.10960702639982886,
          0.3045237793180047,
          0.9456287376200995,
          -1.2666023905791035,
          -0.12604263057332346,
          1.3716201125923573,
          -0.772097226537111,
          0.742127190729917,
          0.5613431520440979,
          0.29713781861089317,
          0.11467605932335413,
          1.1177885105058485,
          1.3404619399594997
         ]
        },
        {
         "line": {
          "color": "rgba(55, 128, 191, 1.0)",
          "dash": "solid",
          "shape": "linear",
          "width": 1.3
         },
         "mode": "lines",
         "name": "B",
         "text": "",
         "type": "scatter",
         "x": [
          0,
          1,
          2,
          3,
          4,
          5,
          6,
          7,
          8,
          9,
          10,
          11,
          12,
          13,
          14,
          15,
          16,
          17,
          18,
          19,
          20,
          21,
          22,
          23,
          24,
          25,
          26,
          27,
          28,
          29,
          30,
          31,
          32,
          33,
          34,
          35,
          36,
          37,
          38,
          39,
          40,
          41,
          42,
          43,
          44,
          45,
          46,
          47,
          48,
          49,
          50,
          51,
          52,
          53,
          54,
          55,
          56,
          57,
          58,
          59,
          60,
          61,
          62,
          63,
          64,
          65,
          66,
          67,
          68,
          69,
          70,
          71,
          72,
          73,
          74,
          75,
          76,
          77,
          78,
          79,
          80,
          81,
          82,
          83,
          84,
          85,
          86,
          87,
          88,
          89,
          90,
          91,
          92,
          93,
          94,
          95,
          96,
          97,
          98,
          99
         ],
         "y": [
          -1.0469343486083953,
          -1.459788614380184,
          -0.8948475098518478,
          1.0189272429513767,
          0.896482444363568,
          -0.8499088047524456,
          0.024902896053242213,
          -1.2539480497063156,
          1.1080455661815205,
          0.6039706085303771,
          1.1462550302790881,
          0.3383978416192203,
          -1.1703911847275679,
          -0.4506090304627199,
          -1.7885796092722501,
          1.9740354776517566,
          -0.5589227900109863,
          -1.5059038409979402,
          0.06801135045561885,
          -0.5424102393537328,
          -0.12596595257673204,
          0.07766803062063887,
          1.08742149533797,
          -0.5276402294420803,
          -0.5134796696744759,
          -0.00885507836116481,
          -1.9179898136723204,
          0.015978142026482386,
          0.596272380271323,
          1.096940104175222,
          -0.9701160214948572,
          1.1473044174962768,
          -0.8497300858779225,
          0.17745707004204264,
          1.3040067873187786,
          0.8949482052732047,
          -0.07886388560014475,
          -3.561507122896207,
          1.5323073119190378,
          -1.0106015855491841,
          1.0565480505208455,
          0.7105695536942717,
          -0.797211235009638,
          0.7998529314333869,
          -0.15244947297596764,
          -0.17741142705640117,
          0.039603889157412094,
          -1.2500332755144197,
          0.07917645744092283,
          1.336754302137174,
          0.603138128276989,
          0.18426981447960314,
          -0.6495388957173431,
          -1.6313915348260464,
          -0.2982863158078925,
          0.37314891494260083,
          0.24879635716302964,
          0.5860706811766647,
          -0.6610205762239924,
          -1.190788182194642,
          -0.6409061943286544,
          0.462293155947097,
          -1.3089069803765623,
          1.6341450528765762,
          -1.1338904173028463,
          -0.5039350542364665,
          0.0840200054861493,
          -0.2726865642592458,
          1.2856192693433823,
          0.29240349533422016,
          0.9006195057266302,
          -0.604269563912645,
          1.6869476552089377,
          0.5361783937936255,
          1.0150365809424875,
          0.09077509679183086,
          0.9872278379038406,
          -0.5543308540711545,
          0.15213184418788492,
          -0.8772278719188741,
          0.2931996962880976,
          -0.2037623234733791,
          -0.7928436197071106,
          -1.0802896101213275,
          -1.3279711785816812,
          0.08431434618031589,
          0.596991906053773,
          0.14488046829607382,
          0.8075704683875163,
          -2.8380301262811347,
          1.1722548193519313,
          0.6474126943040964,
          -0.4074743070915865,
          -0.810311666954102,
          -1.2017508067688711,
          1.6032888870895288,
          0.15228854207435788,
          0.800145725655405,
          -0.7282201700792078,
          1.1399079188302463
         ]
        },
        {
         "connectgaps": false,
         "fill": "tozeroy",
         "line": {
          "color": "green",
          "dash": "solid",
          "shape": "linear",
          "width": 0.5
         },
         "mode": "lines",
         "name": "Spread",
         "showlegend": false,
         "type": "scatter",
         "x": [
          0,
          1,
          2,
          3,
          4,
          5,
          6,
          7,
          8,
          9,
          10,
          11,
          12,
          13,
          14,
          15,
          16,
          17,
          18,
          19,
          20,
          21,
          22,
          23,
          24,
          25,
          26,
          27,
          28,
          29,
          30,
          31,
          32,
          33,
          34,
          35,
          36,
          37,
          38,
          39,
          40,
          41,
          42,
          43,
          44,
          45,
          46,
          47,
          48,
          49,
          50,
          51,
          52,
          53,
          54,
          55,
          56,
          57,
          58,
          59,
          60,
          61,
          62,
          63,
          64,
          65,
          66,
          67,
          68,
          69,
          70,
          71,
          72,
          73,
          74,
          75,
          76,
          77,
          78,
          79,
          80,
          81,
          82,
          83,
          84,
          85,
          86,
          87,
          88,
          89,
          90,
          91,
          92,
          93,
          94,
          95,
          96,
          97,
          98,
          99
         ],
         "xaxis": "x2",
         "y": [
          1.2177592601599416,
          2.433173459230496,
          0.686306217248522,
          "",
          "",
          1.3620731398998682,
          0.10640078629018244,
          1.218727729037068,
          "",
          "",
          "",
          "",
          "",
          "",
          3.7352853945129567,
          "",
          "",
          0.9610313831512276,
          "",
          "",
          2.897445786479907,
          0.22943563947865125,
          "",
          1.0791876492327872,
          0.6075163034017385,
          "",
          2.624032488428858,
          "",
          0.554272919228288,
          "",
          0.921463386419151,
          "",
          2.670074176920625,
          0.847466479956184,
          "",
          "",
          1.003247893789816,
          1.4077072827186345,
          "",
          "",
          "",
          "",
          "",
          "",
          1.1352186260903019,
          1.3695689013618224,
          0.6046410241685185,
          0.8930625264304444,
          0.7669653331292083,
          "",
          "",
          "",
          0.9869655001359162,
          1.7464061071353418,
          "",
          0.5054969159907566,
          "",
          0.9348628094662126,
          0.5261164906847787,
          2.3270593311426464,
          "",
          1.4321157234449404,
          0.46970406809626086,
          "",
          0.9091734416094159,
          0.2900697822810149,
          "",
          "",
          "",
          0.6137907245585423,
          "",
          0.8818031158698943,
          "",
          0.9153911119817055,
          "",
          "",
          "",
          0.15061349765021076,
          "",
          1.1447579868778015,
          "",
          "",
          3.190606290388963,
          1.0889709481649,
          1.3433528915428956,
          "",
          "",
          "",
          "",
          3.783658863901234,
          "",
          "",
          1.7790944196839438,
          0.03821444041699096,
          1.943877997498788,
          "",
          0.1448492765365353,
          "",
          1.8460086805850562,
          0.20055402112925336
         ],
         "yaxis": "y2"
        },
        {
         "connectgaps": false,
         "fill": "tozeroy",
         "line": {
          "color": "red",
          "dash": "solid",
          "shape": "linear",
          "width": 0.5
         },
         "mode": "lines",
         "name": "Spread",
         "showlegend": false,
         "type": "scatter",
         "x": [
          0,
          1,
          2,
          3,
          4,
          5,
          6,
          7,
          8,
          9,
          10,
          11,
          12,
          13,
          14,
          15,
          16,
          17,
          18,
          19,
          20,
          21,
          22,
          23,
          24,
          25,
          26,
          27,
          28,
          29,
          30,
          31,
          32,
          33,
          34,
          35,
          36,
          37,
          38,
          39,
          40,
          41,
          42,
          43,
          44,
          45,
          46,
          47,
          48,
          49,
          50,
          51,
          52,
          53,
          54,
          55,
          56,
          57,
          58,
          59,
          60,
          61,
          62,
          63,
          64,
          65,
          66,
          67,
          68,
          69,
          70,
          71,
          72,
          73,
          74,
          75,
          76,
          77,
          78,
          79,
          80,
          81,
          82,
          83,
          84,
          85,
          86,
          87,
          88,
          89,
          90,
          91,
          92,
          93,
          94,
          95,
          96,
          97,
          98,
          99
         ],
         "xaxis": "x2",
         "y": [
          "",
          "",
          "",
          -0.46016530016359014,
          -1.558054735859109,
          "",
          "",
          "",
          -1.4780088731664325,
          -0.030974739251815264,
          -1.2383645841433382,
          -0.8757916031490356,
          -0.8468554291192922,
          -0.4481624291066934,
          "",
          -1.457592741927646,
          -0.604618034689518,
          "",
          -0.5306575923494488,
          -1.3755390616241474,
          "",
          "",
          -1.0581348148581478,
          "",
          "",
          -0.05989410969262149,
          "",
          -0.5647140689908446,
          "",
          -1.1842141592994464,
          "",
          -2.4714048911333455,
          "",
          "",
          -1.2287060105404641,
          -1.2933000493843203,
          "",
          "",
          -2.2803990155091465,
          -0.795843711119895,
          -0.3130877243845771,
          -1.0127497688761362,
          -0.7474333830729057,
          -1.9218649484088903,
          "",
          "",
          "",
          "",
          "",
          -3.529258230062524,
          -0.03785729968044527,
          -0.31867608065128233,
          "",
          "",
          -0.7360384454469975,
          "",
          -1.0920191902645073,
          "",
          "",
          "",
          -0.07553003921581936,
          "",
          "",
          -0.7470570053229407,
          "",
          "",
          -0.6724442101157223,
          -2.0603937389221603,
          -0.5991413781533077,
          "",
          -1.5368590353493936,
          "",
          -1.020566807772593,
          "",
          -0.7553252962154695,
          -0.3133641352383965,
          -0.8703253236402914,
          "",
          -0.5138236571904957,
          "",
          -0.6262806121765763,
          -0.4099115063095531,
          "",
          "",
          "",
          -0.43424175488698846,
          -1.5796004951333975,
          -0.035273441896244956,
          -0.5030466890695117,
          "",
          -2.438857209931035,
          -0.7734553248774199,
          "",
          "",
          "",
          -1.0419457350454309,
          "",
          -0.6854696663320509,
          "",
          ""
         ],
         "yaxis": "y2"
        }
       ],
       "layout": {
        "hovermode": "x",
        "legend": {
         "bgcolor": "#F5F6F9",
         "font": {
          "color": "#4D5663"
         }
        },
        "paper_bgcolor": "#F5F6F9",
        "plot_bgcolor": "#F5F6F9",
        "template": {
         "data": {
          "bar": [
           {
            "error_x": {
             "color": "#2a3f5f"
            },
            "error_y": {
             "color": "#2a3f5f"
            },
            "marker": {
             "line": {
              "color": "#E5ECF6",
              "width": 0.5
             }
            },
            "type": "bar"
           }
          ],
          "barpolar": [
           {
            "marker": {
             "line": {
              "color": "#E5ECF6",
              "width": 0.5
             }
            },
            "type": "barpolar"
           }
          ],
          "carpet": [
           {
            "aaxis": {
             "endlinecolor": "#2a3f5f",
             "gridcolor": "white",
             "linecolor": "white",
             "minorgridcolor": "white",
             "startlinecolor": "#2a3f5f"
            },
            "baxis": {
             "endlinecolor": "#2a3f5f",
             "gridcolor": "white",
             "linecolor": "white",
             "minorgridcolor": "white",
             "startlinecolor": "#2a3f5f"
            },
            "type": "carpet"
           }
          ],
          "choropleth": [
           {
            "colorbar": {
             "outlinewidth": 0,
             "ticks": ""
            },
            "type": "choropleth"
           }
          ],
          "contour": [
           {
            "colorbar": {
             "outlinewidth": 0,
             "ticks": ""
            },
            "colorscale": [
             [
              0,
              "#0d0887"
             ],
             [
              0.1111111111111111,
              "#46039f"
             ],
             [
              0.2222222222222222,
              "#7201a8"
             ],
             [
              0.3333333333333333,
              "#9c179e"
             ],
             [
              0.4444444444444444,
              "#bd3786"
             ],
             [
              0.5555555555555556,
              "#d8576b"
             ],
             [
              0.6666666666666666,
              "#ed7953"
             ],
             [
              0.7777777777777778,
              "#fb9f3a"
             ],
             [
              0.8888888888888888,
              "#fdca26"
             ],
             [
              1,
              "#f0f921"
             ]
            ],
            "type": "contour"
           }
          ],
          "contourcarpet": [
           {
            "colorbar": {
             "outlinewidth": 0,
             "ticks": ""
            },
            "type": "contourcarpet"
           }
          ],
          "heatmap": [
           {
            "colorbar": {
             "outlinewidth": 0,
             "ticks": ""
            },
            "colorscale": [
             [
              0,
              "#0d0887"
             ],
             [
              0.1111111111111111,
              "#46039f"
             ],
             [
              0.2222222222222222,
              "#7201a8"
             ],
             [
              0.3333333333333333,
              "#9c179e"
             ],
             [
              0.4444444444444444,
              "#bd3786"
             ],
             [
              0.5555555555555556,
              "#d8576b"
             ],
             [
              0.6666666666666666,
              "#ed7953"
             ],
             [
              0.7777777777777778,
              "#fb9f3a"
             ],
             [
              0.8888888888888888,
              "#fdca26"
             ],
             [
              1,
              "#f0f921"
             ]
            ],
            "type": "heatmap"
           }
          ],
          "heatmapgl": [
           {
            "colorbar": {
             "outlinewidth": 0,
             "ticks": ""
            },
            "colorscale": [
             [
              0,
              "#0d0887"
             ],
             [
              0.1111111111111111,
              "#46039f"
             ],
             [
              0.2222222222222222,
              "#7201a8"
             ],
             [
              0.3333333333333333,
              "#9c179e"
             ],
             [
              0.4444444444444444,
              "#bd3786"
             ],
             [
              0.5555555555555556,
              "#d8576b"
             ],
             [
              0.6666666666666666,
              "#ed7953"
             ],
             [
              0.7777777777777778,
              "#fb9f3a"
             ],
             [
              0.8888888888888888,
              "#fdca26"
             ],
             [
              1,
              "#f0f921"
             ]
            ],
            "type": "heatmapgl"
           }
          ],
          "histogram": [
           {
            "marker": {
             "colorbar": {
              "outlinewidth": 0,
              "ticks": ""
             }
            },
            "type": "histogram"
           }
          ],
          "histogram2d": [
           {
            "colorbar": {
             "outlinewidth": 0,
             "ticks": ""
            },
            "colorscale": [
             [
              0,
              "#0d0887"
             ],
             [
              0.1111111111111111,
              "#46039f"
             ],
             [
              0.2222222222222222,
              "#7201a8"
             ],
             [
              0.3333333333333333,
              "#9c179e"
             ],
             [
              0.4444444444444444,
              "#bd3786"
             ],
             [
              0.5555555555555556,
              "#d8576b"
             ],
             [
              0.6666666666666666,
              "#ed7953"
             ],
             [
              0.7777777777777778,
              "#fb9f3a"
             ],
             [
              0.8888888888888888,
              "#fdca26"
             ],
             [
              1,
              "#f0f921"
             ]
            ],
            "type": "histogram2d"
           }
          ],
          "histogram2dcontour": [
           {
            "colorbar": {
             "outlinewidth": 0,
             "ticks": ""
            },
            "colorscale": [
             [
              0,
              "#0d0887"
             ],
             [
              0.1111111111111111,
              "#46039f"
             ],
             [
              0.2222222222222222,
              "#7201a8"
             ],
             [
              0.3333333333333333,
              "#9c179e"
             ],
             [
              0.4444444444444444,
              "#bd3786"
             ],
             [
              0.5555555555555556,
              "#d8576b"
             ],
             [
              0.6666666666666666,
              "#ed7953"
             ],
             [
              0.7777777777777778,
              "#fb9f3a"
             ],
             [
              0.8888888888888888,
              "#fdca26"
             ],
             [
              1,
              "#f0f921"
             ]
            ],
            "type": "histogram2dcontour"
           }
          ],
          "mesh3d": [
           {
            "colorbar": {
             "outlinewidth": 0,
             "ticks": ""
            },
            "type": "mesh3d"
           }
          ],
          "parcoords": [
           {
            "line": {
             "colorbar": {
              "outlinewidth": 0,
              "ticks": ""
             }
            },
            "type": "parcoords"
           }
          ],
          "pie": [
           {
            "automargin": true,
            "type": "pie"
           }
          ],
          "scatter": [
           {
            "marker": {
             "colorbar": {
              "outlinewidth": 0,
              "ticks": ""
             }
            },
            "type": "scatter"
           }
          ],
          "scatter3d": [
           {
            "line": {
             "colorbar": {
              "outlinewidth": 0,
              "ticks": ""
             }
            },
            "marker": {
             "colorbar": {
              "outlinewidth": 0,
              "ticks": ""
             }
            },
            "type": "scatter3d"
           }
          ],
          "scattercarpet": [
           {
            "marker": {
             "colorbar": {
              "outlinewidth": 0,
              "ticks": ""
             }
            },
            "type": "scattercarpet"
           }
          ],
          "scattergeo": [
           {
            "marker": {
             "colorbar": {
              "outlinewidth": 0,
              "ticks": ""
             }
            },
            "type": "scattergeo"
           }
          ],
          "scattergl": [
           {
            "marker": {
             "colorbar": {
              "outlinewidth": 0,
              "ticks": ""
             }
            },
            "type": "scattergl"
           }
          ],
          "scattermapbox": [
           {
            "marker": {
             "colorbar": {
              "outlinewidth": 0,
              "ticks": ""
             }
            },
            "type": "scattermapbox"
           }
          ],
          "scatterpolar": [
           {
            "marker": {
             "colorbar": {
              "outlinewidth": 0,
              "ticks": ""
             }
            },
            "type": "scatterpolar"
           }
          ],
          "scatterpolargl": [
           {
            "marker": {
             "colorbar": {
              "outlinewidth": 0,
              "ticks": ""
             }
            },
            "type": "scatterpolargl"
           }
          ],
          "scatterternary": [
           {
            "marker": {
             "colorbar": {
              "outlinewidth": 0,
              "ticks": ""
             }
            },
            "type": "scatterternary"
           }
          ],
          "surface": [
           {
            "colorbar": {
             "outlinewidth": 0,
             "ticks": ""
            },
            "colorscale": [
             [
              0,
              "#0d0887"
             ],
             [
              0.1111111111111111,
              "#46039f"
             ],
             [
              0.2222222222222222,
              "#7201a8"
             ],
             [
              0.3333333333333333,
              "#9c179e"
             ],
             [
              0.4444444444444444,
              "#bd3786"
             ],
             [
              0.5555555555555556,
              "#d8576b"
             ],
             [
              0.6666666666666666,
              "#ed7953"
             ],
             [
              0.7777777777777778,
              "#fb9f3a"
             ],
             [
              0.8888888888888888,
              "#fdca26"
             ],
             [
              1,
              "#f0f921"
             ]
            ],
            "type": "surface"
           }
          ],
          "table": [
           {
            "cells": {
             "fill": {
              "color": "#EBF0F8"
             },
             "line": {
              "color": "white"
             }
            },
            "header": {
             "fill": {
              "color": "#C8D4E3"
             },
             "line": {
              "color": "white"
             }
            },
            "type": "table"
           }
          ]
         },
         "layout": {
          "annotationdefaults": {
           "arrowcolor": "#2a3f5f",
           "arrowhead": 0,
           "arrowwidth": 1
          },
          "coloraxis": {
           "colorbar": {
            "outlinewidth": 0,
            "ticks": ""
           }
          },
          "colorscale": {
           "diverging": [
            [
             0,
             "#8e0152"
            ],
            [
             0.1,
             "#c51b7d"
            ],
            [
             0.2,
             "#de77ae"
            ],
            [
             0.3,
             "#f1b6da"
            ],
            [
             0.4,
             "#fde0ef"
            ],
            [
             0.5,
             "#f7f7f7"
            ],
            [
             0.6,
             "#e6f5d0"
            ],
            [
             0.7,
             "#b8e186"
            ],
            [
             0.8,
             "#7fbc41"
            ],
            [
             0.9,
             "#4d9221"
            ],
            [
             1,
             "#276419"
            ]
           ],
           "sequential": [
            [
             0,
             "#0d0887"
            ],
            [
             0.1111111111111111,
             "#46039f"
            ],
            [
             0.2222222222222222,
             "#7201a8"
            ],
            [
             0.3333333333333333,
             "#9c179e"
            ],
            [
             0.4444444444444444,
             "#bd3786"
            ],
            [
             0.5555555555555556,
             "#d8576b"
            ],
            [
             0.6666666666666666,
             "#ed7953"
            ],
            [
             0.7777777777777778,
             "#fb9f3a"
            ],
            [
             0.8888888888888888,
             "#fdca26"
            ],
            [
             1,
             "#f0f921"
            ]
           ],
           "sequentialminus": [
            [
             0,
             "#0d0887"
            ],
            [
             0.1111111111111111,
             "#46039f"
            ],
            [
             0.2222222222222222,
             "#7201a8"
            ],
            [
             0.3333333333333333,
             "#9c179e"
            ],
            [
             0.4444444444444444,
             "#bd3786"
            ],
            [
             0.5555555555555556,
             "#d8576b"
            ],
            [
             0.6666666666666666,
             "#ed7953"
            ],
            [
             0.7777777777777778,
             "#fb9f3a"
            ],
            [
             0.8888888888888888,
             "#fdca26"
            ],
            [
             1,
             "#f0f921"
            ]
           ]
          },
          "colorway": [
           "#636efa",
           "#EF553B",
           "#00cc96",
           "#ab63fa",
           "#FFA15A",
           "#19d3f3",
           "#FF6692",
           "#B6E880",
           "#FF97FF",
           "#FECB52"
          ],
          "font": {
           "color": "#2a3f5f"
          },
          "geo": {
           "bgcolor": "white",
           "lakecolor": "white",
           "landcolor": "#E5ECF6",
           "showlakes": true,
           "showland": true,
           "subunitcolor": "white"
          },
          "hoverlabel": {
           "align": "left"
          },
          "hovermode": "closest",
          "mapbox": {
           "style": "light"
          },
          "paper_bgcolor": "white",
          "plot_bgcolor": "#E5ECF6",
          "polar": {
           "angularaxis": {
            "gridcolor": "white",
            "linecolor": "white",
            "ticks": ""
           },
           "bgcolor": "#E5ECF6",
           "radialaxis": {
            "gridcolor": "white",
            "linecolor": "white",
            "ticks": ""
           }
          },
          "scene": {
           "xaxis": {
            "backgroundcolor": "#E5ECF6",
            "gridcolor": "white",
            "gridwidth": 2,
            "linecolor": "white",
            "showbackground": true,
            "ticks": "",
            "zerolinecolor": "white"
           },
           "yaxis": {
            "backgroundcolor": "#E5ECF6",
            "gridcolor": "white",
            "gridwidth": 2,
            "linecolor": "white",
            "showbackground": true,
            "ticks": "",
            "zerolinecolor": "white"
           },
           "zaxis": {
            "backgroundcolor": "#E5ECF6",
            "gridcolor": "white",
            "gridwidth": 2,
            "linecolor": "white",
            "showbackground": true,
            "ticks": "",
            "zerolinecolor": "white"
           }
          },
          "shapedefaults": {
           "line": {
            "color": "#2a3f5f"
           }
          },
          "ternary": {
           "aaxis": {
            "gridcolor": "white",
            "linecolor": "white",
            "ticks": ""
           },
           "baxis": {
            "gridcolor": "white",
            "linecolor": "white",
            "ticks": ""
           },
           "bgcolor": "#E5ECF6",
           "caxis": {
            "gridcolor": "white",
            "linecolor": "white",
            "ticks": ""
           }
          },
          "title": {
           "x": 0.05
          },
          "xaxis": {
           "automargin": true,
           "gridcolor": "white",
           "linecolor": "white",
           "ticks": "",
           "title": {
            "standoff": 15
           },
           "zerolinecolor": "white",
           "zerolinewidth": 2
          },
          "yaxis": {
           "automargin": true,
           "gridcolor": "white",
           "linecolor": "white",
           "ticks": "",
           "title": {
            "standoff": 15
           },
           "zerolinecolor": "white",
           "zerolinewidth": 2
          }
         }
        },
        "title": {
         "font": {
          "color": "#4D5663"
         }
        },
        "xaxis": {
         "gridcolor": "#E1E5ED",
         "showgrid": true,
         "tickfont": {
          "color": "#4D5663"
         },
         "title": {
          "font": {
           "color": "#4D5663"
          },
          "text": ""
         },
         "zerolinecolor": "#E1E5ED"
        },
        "xaxis2": {
         "anchor": "y2",
         "gridcolor": "#E1E5ED",
         "showgrid": true,
         "showticklabels": false,
         "tickfont": {
          "color": "#4D5663"
         },
         "title": {
          "font": {
           "color": "#4D5663"
          },
          "text": ""
         },
         "zerolinecolor": "#E1E5ED"
        },
        "yaxis": {
         "domain": [
          0.3,
          1
         ],
         "gridcolor": "#E1E5ED",
         "showgrid": true,
         "tickfont": {
          "color": "#4D5663"
         },
         "title": {
          "font": {
           "color": "#4D5663"
          },
          "text": ""
         },
         "zerolinecolor": "#E1E5ED"
        },
        "yaxis2": {
         "domain": [
          0,
          0.25
         ],
         "gridcolor": "#E1E5ED",
         "showgrid": true,
         "tickfont": {
          "color": "#4D5663"
         },
         "title": {
          "font": {
           "color": "#4D5663"
          },
          "text": "Spread"
         },
         "zerolinecolor": "#E1E5ED"
        }
       }
      },
      "text/html": [
       "<div>\n",
       "        \n",
       "        \n",
       "            <div id=\"b6936abf-95ec-47b3-9a0a-2f75821c1ed3\" class=\"plotly-graph-div\" style=\"height:525px; width:100%;\"></div>\n",
       "            <script type=\"text/javascript\">\n",
       "                require([\"plotly\"], function(Plotly) {\n",
       "                    window.PLOTLYENV=window.PLOTLYENV || {};\n",
       "                    window.PLOTLYENV.BASE_URL='https://plot.ly';\n",
       "                    \n",
       "                if (document.getElementById(\"b6936abf-95ec-47b3-9a0a-2f75821c1ed3\")) {\n",
       "                    Plotly.newPlot(\n",
       "                        'b6936abf-95ec-47b3-9a0a-2f75821c1ed3',\n",
       "                        [{\"line\": {\"color\": \"rgba(255, 153, 51, 1.0)\", \"dash\": \"solid\", \"shape\": \"linear\", \"width\": 1.3}, \"mode\": \"lines\", \"name\": \"A\", \"text\": \"\", \"type\": \"scatter\", \"x\": [0, 1, 2, 3, 4, 5, 6, 7, 8, 9, 10, 11, 12, 13, 14, 15, 16, 17, 18, 19, 20, 21, 22, 23, 24, 25, 26, 27, 28, 29, 30, 31, 32, 33, 34, 35, 36, 37, 38, 39, 40, 41, 42, 43, 44, 45, 46, 47, 48, 49, 50, 51, 52, 53, 54, 55, 56, 57, 58, 59, 60, 61, 62, 63, 64, 65, 66, 67, 68, 69, 70, 71, 72, 73, 74, 75, 76, 77, 78, 79, 80, 81, 82, 83, 84, 85, 86, 87, 88, 89, 90, 91, 92, 93, 94, 95, 96, 97, 98, 99], \"y\": [0.17082491155154642, 0.9733848448503118, -0.20854129260332577, 0.5587619427877866, -0.6615722914955411, 0.5121643351474225, 0.13130368234342465, -0.035220320669247594, -0.369963306984912, 0.5729958692785618, -0.09210955386424999, -0.5373937615298153, -2.01724661384686, -0.8987714595694133, 1.9467057852407064, 0.5164427357241107, -1.1635408247005044, -0.5448724578467126, -0.46264624189382997, -1.9179493009778803, 2.7714798339031748, 0.3071036700992901, 0.029286680479822094, 0.5515474197907069, 0.09403663372726255, -0.0687491880537863, 0.7060426747565378, -0.5487359269643622, 1.150545299499611, -0.08727405512422448, -0.04865263507570622, -1.3241004736370685, 1.8203440910427022, 1.0249235499982265, 0.07530077677831443, -0.3983518441111155, 0.9243840081896711, -2.1537998401775726, -0.7480917035901087, -1.8064452966690792, 0.7434603261362684, -0.30218021518186455, -1.5446446180825437, -1.1220120169755035, 0.9827691531143342, 1.1921574743054213, 0.6442449133259306, -0.3569707490839753, 0.8461417905701312, -2.19250392792535, 0.5652808285965437, -0.1344062661716792, 0.3374266044185731, 0.11501457230929552, -1.03432476125489, 0.8786458309333575, -0.8432228331014776, 1.5209334906428773, -0.13490408553921363, 1.1362711489480044, -0.7164362335444737, 1.8944088793920375, -0.8392029122803014, 0.8870880475536355, -0.22471697569343044, -0.21386527195545157, -0.588424204629573, -2.333080303181406, 0.6864778911900746, 0.9061942198927625, -0.6362395296227634, 0.2775335519572494, 0.6663808474363447, 1.451569505775331, 0.25971128472701793, -0.22258903844656566, 0.11690251426354925, -0.4037173564209437, -0.3616918130026108, 0.26753011495892737, -0.3330809158884787, -0.6136738297829322, 2.3977626706818524, 0.008681338043572347, 0.015381712961214473, -0.34992740870667255, -0.9826085890796246, 0.10960702639982886, 0.3045237793180047, 0.9456287376200995, -1.2666023905791035, -0.12604263057332346, 1.3716201125923573, -0.772097226537111, 0.742127190729917, 0.5613431520440979, 0.29713781861089317, 0.11467605932335413, 1.1177885105058485, 1.3404619399594997]}, {\"line\": {\"color\": \"rgba(55, 128, 191, 1.0)\", \"dash\": \"solid\", \"shape\": \"linear\", \"width\": 1.3}, \"mode\": \"lines\", \"name\": \"B\", \"text\": \"\", \"type\": \"scatter\", \"x\": [0, 1, 2, 3, 4, 5, 6, 7, 8, 9, 10, 11, 12, 13, 14, 15, 16, 17, 18, 19, 20, 21, 22, 23, 24, 25, 26, 27, 28, 29, 30, 31, 32, 33, 34, 35, 36, 37, 38, 39, 40, 41, 42, 43, 44, 45, 46, 47, 48, 49, 50, 51, 52, 53, 54, 55, 56, 57, 58, 59, 60, 61, 62, 63, 64, 65, 66, 67, 68, 69, 70, 71, 72, 73, 74, 75, 76, 77, 78, 79, 80, 81, 82, 83, 84, 85, 86, 87, 88, 89, 90, 91, 92, 93, 94, 95, 96, 97, 98, 99], \"y\": [-1.0469343486083953, -1.459788614380184, -0.8948475098518478, 1.0189272429513767, 0.896482444363568, -0.8499088047524456, 0.024902896053242213, -1.2539480497063156, 1.1080455661815205, 0.6039706085303771, 1.1462550302790881, 0.3383978416192203, -1.1703911847275679, -0.4506090304627199, -1.7885796092722501, 1.9740354776517566, -0.5589227900109863, -1.5059038409979402, 0.06801135045561885, -0.5424102393537328, -0.12596595257673204, 0.07766803062063887, 1.08742149533797, -0.5276402294420803, -0.5134796696744759, -0.00885507836116481, -1.9179898136723204, 0.015978142026482386, 0.596272380271323, 1.096940104175222, -0.9701160214948572, 1.1473044174962768, -0.8497300858779225, 0.17745707004204264, 1.3040067873187786, 0.8949482052732047, -0.07886388560014475, -3.561507122896207, 1.5323073119190378, -1.0106015855491841, 1.0565480505208455, 0.7105695536942717, -0.797211235009638, 0.7998529314333869, -0.15244947297596764, -0.17741142705640117, 0.039603889157412094, -1.2500332755144197, 0.07917645744092283, 1.336754302137174, 0.603138128276989, 0.18426981447960314, -0.6495388957173431, -1.6313915348260464, -0.2982863158078925, 0.37314891494260083, 0.24879635716302964, 0.5860706811766647, -0.6610205762239924, -1.190788182194642, -0.6409061943286544, 0.462293155947097, -1.3089069803765623, 1.6341450528765762, -1.1338904173028463, -0.5039350542364665, 0.0840200054861493, -0.2726865642592458, 1.2856192693433823, 0.29240349533422016, 0.9006195057266302, -0.604269563912645, 1.6869476552089377, 0.5361783937936255, 1.0150365809424875, 0.09077509679183086, 0.9872278379038406, -0.5543308540711545, 0.15213184418788492, -0.8772278719188741, 0.2931996962880976, -0.2037623234733791, -0.7928436197071106, -1.0802896101213275, -1.3279711785816812, 0.08431434618031589, 0.596991906053773, 0.14488046829607382, 0.8075704683875163, -2.8380301262811347, 1.1722548193519313, 0.6474126943040964, -0.4074743070915865, -0.810311666954102, -1.2017508067688711, 1.6032888870895288, 0.15228854207435788, 0.800145725655405, -0.7282201700792078, 1.1399079188302463]}, {\"connectgaps\": false, \"fill\": \"tozeroy\", \"line\": {\"color\": \"green\", \"dash\": \"solid\", \"shape\": \"linear\", \"width\": 0.5}, \"mode\": \"lines\", \"name\": \"Spread\", \"showlegend\": false, \"type\": \"scatter\", \"x\": [0, 1, 2, 3, 4, 5, 6, 7, 8, 9, 10, 11, 12, 13, 14, 15, 16, 17, 18, 19, 20, 21, 22, 23, 24, 25, 26, 27, 28, 29, 30, 31, 32, 33, 34, 35, 36, 37, 38, 39, 40, 41, 42, 43, 44, 45, 46, 47, 48, 49, 50, 51, 52, 53, 54, 55, 56, 57, 58, 59, 60, 61, 62, 63, 64, 65, 66, 67, 68, 69, 70, 71, 72, 73, 74, 75, 76, 77, 78, 79, 80, 81, 82, 83, 84, 85, 86, 87, 88, 89, 90, 91, 92, 93, 94, 95, 96, 97, 98, 99], \"xaxis\": \"x2\", \"y\": [1.2177592601599416, 2.433173459230496, 0.686306217248522, \"\", \"\", 1.3620731398998682, 0.10640078629018244, 1.218727729037068, \"\", \"\", \"\", \"\", \"\", \"\", 3.7352853945129567, \"\", \"\", 0.9610313831512276, \"\", \"\", 2.897445786479907, 0.22943563947865125, \"\", 1.0791876492327872, 0.6075163034017385, \"\", 2.624032488428858, \"\", 0.554272919228288, \"\", 0.921463386419151, \"\", 2.670074176920625, 0.847466479956184, \"\", \"\", 1.003247893789816, 1.4077072827186345, \"\", \"\", \"\", \"\", \"\", \"\", 1.1352186260903019, 1.3695689013618224, 0.6046410241685185, 0.8930625264304444, 0.7669653331292083, \"\", \"\", \"\", 0.9869655001359162, 1.7464061071353418, \"\", 0.5054969159907566, \"\", 0.9348628094662126, 0.5261164906847787, 2.3270593311426464, \"\", 1.4321157234449404, 0.46970406809626086, \"\", 0.9091734416094159, 0.2900697822810149, \"\", \"\", \"\", 0.6137907245585423, \"\", 0.8818031158698943, \"\", 0.9153911119817055, \"\", \"\", \"\", 0.15061349765021076, \"\", 1.1447579868778015, \"\", \"\", 3.190606290388963, 1.0889709481649, 1.3433528915428956, \"\", \"\", \"\", \"\", 3.783658863901234, \"\", \"\", 1.7790944196839438, 0.03821444041699096, 1.943877997498788, \"\", 0.1448492765365353, \"\", 1.8460086805850562, 0.20055402112925336], \"yaxis\": \"y2\"}, {\"connectgaps\": false, \"fill\": \"tozeroy\", \"line\": {\"color\": \"red\", \"dash\": \"solid\", \"shape\": \"linear\", \"width\": 0.5}, \"mode\": \"lines\", \"name\": \"Spread\", \"showlegend\": false, \"type\": \"scatter\", \"x\": [0, 1, 2, 3, 4, 5, 6, 7, 8, 9, 10, 11, 12, 13, 14, 15, 16, 17, 18, 19, 20, 21, 22, 23, 24, 25, 26, 27, 28, 29, 30, 31, 32, 33, 34, 35, 36, 37, 38, 39, 40, 41, 42, 43, 44, 45, 46, 47, 48, 49, 50, 51, 52, 53, 54, 55, 56, 57, 58, 59, 60, 61, 62, 63, 64, 65, 66, 67, 68, 69, 70, 71, 72, 73, 74, 75, 76, 77, 78, 79, 80, 81, 82, 83, 84, 85, 86, 87, 88, 89, 90, 91, 92, 93, 94, 95, 96, 97, 98, 99], \"xaxis\": \"x2\", \"y\": [\"\", \"\", \"\", -0.46016530016359014, -1.558054735859109, \"\", \"\", \"\", -1.4780088731664325, -0.030974739251815264, -1.2383645841433382, -0.8757916031490356, -0.8468554291192922, -0.4481624291066934, \"\", -1.457592741927646, -0.604618034689518, \"\", -0.5306575923494488, -1.3755390616241474, \"\", \"\", -1.0581348148581478, \"\", \"\", -0.05989410969262149, \"\", -0.5647140689908446, \"\", -1.1842141592994464, \"\", -2.4714048911333455, \"\", \"\", -1.2287060105404641, -1.2933000493843203, \"\", \"\", -2.2803990155091465, -0.795843711119895, -0.3130877243845771, -1.0127497688761362, -0.7474333830729057, -1.9218649484088903, \"\", \"\", \"\", \"\", \"\", -3.529258230062524, -0.03785729968044527, -0.31867608065128233, \"\", \"\", -0.7360384454469975, \"\", -1.0920191902645073, \"\", \"\", \"\", -0.07553003921581936, \"\", \"\", -0.7470570053229407, \"\", \"\", -0.6724442101157223, -2.0603937389221603, -0.5991413781533077, \"\", -1.5368590353493936, \"\", -1.020566807772593, \"\", -0.7553252962154695, -0.3133641352383965, -0.8703253236402914, \"\", -0.5138236571904957, \"\", -0.6262806121765763, -0.4099115063095531, \"\", \"\", \"\", -0.43424175488698846, -1.5796004951333975, -0.035273441896244956, -0.5030466890695117, \"\", -2.438857209931035, -0.7734553248774199, \"\", \"\", \"\", -1.0419457350454309, \"\", -0.6854696663320509, \"\", \"\"], \"yaxis\": \"y2\"}],\n",
       "                        {\"hovermode\": \"x\", \"legend\": {\"bgcolor\": \"#F5F6F9\", \"font\": {\"color\": \"#4D5663\"}}, \"paper_bgcolor\": \"#F5F6F9\", \"plot_bgcolor\": \"#F5F6F9\", \"template\": {\"data\": {\"bar\": [{\"error_x\": {\"color\": \"#2a3f5f\"}, \"error_y\": {\"color\": \"#2a3f5f\"}, \"marker\": {\"line\": {\"color\": \"#E5ECF6\", \"width\": 0.5}}, \"type\": \"bar\"}], \"barpolar\": [{\"marker\": {\"line\": {\"color\": \"#E5ECF6\", \"width\": 0.5}}, \"type\": \"barpolar\"}], \"carpet\": [{\"aaxis\": {\"endlinecolor\": \"#2a3f5f\", \"gridcolor\": \"white\", \"linecolor\": \"white\", \"minorgridcolor\": \"white\", \"startlinecolor\": \"#2a3f5f\"}, \"baxis\": {\"endlinecolor\": \"#2a3f5f\", \"gridcolor\": \"white\", \"linecolor\": \"white\", \"minorgridcolor\": \"white\", \"startlinecolor\": \"#2a3f5f\"}, \"type\": \"carpet\"}], \"choropleth\": [{\"colorbar\": {\"outlinewidth\": 0, \"ticks\": \"\"}, \"type\": \"choropleth\"}], \"contour\": [{\"colorbar\": {\"outlinewidth\": 0, \"ticks\": \"\"}, \"colorscale\": [[0.0, \"#0d0887\"], [0.1111111111111111, \"#46039f\"], [0.2222222222222222, \"#7201a8\"], [0.3333333333333333, \"#9c179e\"], [0.4444444444444444, \"#bd3786\"], [0.5555555555555556, \"#d8576b\"], [0.6666666666666666, \"#ed7953\"], [0.7777777777777778, \"#fb9f3a\"], [0.8888888888888888, \"#fdca26\"], [1.0, \"#f0f921\"]], \"type\": \"contour\"}], \"contourcarpet\": [{\"colorbar\": {\"outlinewidth\": 0, \"ticks\": \"\"}, \"type\": \"contourcarpet\"}], \"heatmap\": [{\"colorbar\": {\"outlinewidth\": 0, \"ticks\": \"\"}, \"colorscale\": [[0.0, \"#0d0887\"], [0.1111111111111111, \"#46039f\"], [0.2222222222222222, \"#7201a8\"], [0.3333333333333333, \"#9c179e\"], [0.4444444444444444, \"#bd3786\"], [0.5555555555555556, \"#d8576b\"], [0.6666666666666666, \"#ed7953\"], [0.7777777777777778, \"#fb9f3a\"], [0.8888888888888888, \"#fdca26\"], [1.0, \"#f0f921\"]], \"type\": \"heatmap\"}], \"heatmapgl\": [{\"colorbar\": {\"outlinewidth\": 0, \"ticks\": \"\"}, \"colorscale\": [[0.0, \"#0d0887\"], [0.1111111111111111, \"#46039f\"], [0.2222222222222222, \"#7201a8\"], [0.3333333333333333, \"#9c179e\"], [0.4444444444444444, \"#bd3786\"], [0.5555555555555556, \"#d8576b\"], [0.6666666666666666, \"#ed7953\"], [0.7777777777777778, \"#fb9f3a\"], [0.8888888888888888, \"#fdca26\"], [1.0, \"#f0f921\"]], \"type\": \"heatmapgl\"}], \"histogram\": [{\"marker\": {\"colorbar\": {\"outlinewidth\": 0, \"ticks\": \"\"}}, \"type\": \"histogram\"}], \"histogram2d\": [{\"colorbar\": {\"outlinewidth\": 0, \"ticks\": \"\"}, \"colorscale\": [[0.0, \"#0d0887\"], [0.1111111111111111, \"#46039f\"], [0.2222222222222222, \"#7201a8\"], [0.3333333333333333, \"#9c179e\"], [0.4444444444444444, \"#bd3786\"], [0.5555555555555556, \"#d8576b\"], [0.6666666666666666, \"#ed7953\"], [0.7777777777777778, \"#fb9f3a\"], [0.8888888888888888, \"#fdca26\"], [1.0, \"#f0f921\"]], \"type\": \"histogram2d\"}], \"histogram2dcontour\": [{\"colorbar\": {\"outlinewidth\": 0, \"ticks\": \"\"}, \"colorscale\": [[0.0, \"#0d0887\"], [0.1111111111111111, \"#46039f\"], [0.2222222222222222, \"#7201a8\"], [0.3333333333333333, \"#9c179e\"], [0.4444444444444444, \"#bd3786\"], [0.5555555555555556, \"#d8576b\"], [0.6666666666666666, \"#ed7953\"], [0.7777777777777778, \"#fb9f3a\"], [0.8888888888888888, \"#fdca26\"], [1.0, \"#f0f921\"]], \"type\": \"histogram2dcontour\"}], \"mesh3d\": [{\"colorbar\": {\"outlinewidth\": 0, \"ticks\": \"\"}, \"type\": \"mesh3d\"}], \"parcoords\": [{\"line\": {\"colorbar\": {\"outlinewidth\": 0, \"ticks\": \"\"}}, \"type\": \"parcoords\"}], \"pie\": [{\"automargin\": true, \"type\": \"pie\"}], \"scatter\": [{\"marker\": {\"colorbar\": {\"outlinewidth\": 0, \"ticks\": \"\"}}, \"type\": \"scatter\"}], \"scatter3d\": [{\"line\": {\"colorbar\": {\"outlinewidth\": 0, \"ticks\": \"\"}}, \"marker\": {\"colorbar\": {\"outlinewidth\": 0, \"ticks\": \"\"}}, \"type\": \"scatter3d\"}], \"scattercarpet\": [{\"marker\": {\"colorbar\": {\"outlinewidth\": 0, \"ticks\": \"\"}}, \"type\": \"scattercarpet\"}], \"scattergeo\": [{\"marker\": {\"colorbar\": {\"outlinewidth\": 0, \"ticks\": \"\"}}, \"type\": \"scattergeo\"}], \"scattergl\": [{\"marker\": {\"colorbar\": {\"outlinewidth\": 0, \"ticks\": \"\"}}, \"type\": \"scattergl\"}], \"scattermapbox\": [{\"marker\": {\"colorbar\": {\"outlinewidth\": 0, \"ticks\": \"\"}}, \"type\": \"scattermapbox\"}], \"scatterpolar\": [{\"marker\": {\"colorbar\": {\"outlinewidth\": 0, \"ticks\": \"\"}}, \"type\": \"scatterpolar\"}], \"scatterpolargl\": [{\"marker\": {\"colorbar\": {\"outlinewidth\": 0, \"ticks\": \"\"}}, \"type\": \"scatterpolargl\"}], \"scatterternary\": [{\"marker\": {\"colorbar\": {\"outlinewidth\": 0, \"ticks\": \"\"}}, \"type\": \"scatterternary\"}], \"surface\": [{\"colorbar\": {\"outlinewidth\": 0, \"ticks\": \"\"}, \"colorscale\": [[0.0, \"#0d0887\"], [0.1111111111111111, \"#46039f\"], [0.2222222222222222, \"#7201a8\"], [0.3333333333333333, \"#9c179e\"], [0.4444444444444444, \"#bd3786\"], [0.5555555555555556, \"#d8576b\"], [0.6666666666666666, \"#ed7953\"], [0.7777777777777778, \"#fb9f3a\"], [0.8888888888888888, \"#fdca26\"], [1.0, \"#f0f921\"]], \"type\": \"surface\"}], \"table\": [{\"cells\": {\"fill\": {\"color\": \"#EBF0F8\"}, \"line\": {\"color\": \"white\"}}, \"header\": {\"fill\": {\"color\": \"#C8D4E3\"}, \"line\": {\"color\": \"white\"}}, \"type\": \"table\"}]}, \"layout\": {\"annotationdefaults\": {\"arrowcolor\": \"#2a3f5f\", \"arrowhead\": 0, \"arrowwidth\": 1}, \"coloraxis\": {\"colorbar\": {\"outlinewidth\": 0, \"ticks\": \"\"}}, \"colorscale\": {\"diverging\": [[0, \"#8e0152\"], [0.1, \"#c51b7d\"], [0.2, \"#de77ae\"], [0.3, \"#f1b6da\"], [0.4, \"#fde0ef\"], [0.5, \"#f7f7f7\"], [0.6, \"#e6f5d0\"], [0.7, \"#b8e186\"], [0.8, \"#7fbc41\"], [0.9, \"#4d9221\"], [1, \"#276419\"]], \"sequential\": [[0.0, \"#0d0887\"], [0.1111111111111111, \"#46039f\"], [0.2222222222222222, \"#7201a8\"], [0.3333333333333333, \"#9c179e\"], [0.4444444444444444, \"#bd3786\"], [0.5555555555555556, \"#d8576b\"], [0.6666666666666666, \"#ed7953\"], [0.7777777777777778, \"#fb9f3a\"], [0.8888888888888888, \"#fdca26\"], [1.0, \"#f0f921\"]], \"sequentialminus\": [[0.0, \"#0d0887\"], [0.1111111111111111, \"#46039f\"], [0.2222222222222222, \"#7201a8\"], [0.3333333333333333, \"#9c179e\"], [0.4444444444444444, \"#bd3786\"], [0.5555555555555556, \"#d8576b\"], [0.6666666666666666, \"#ed7953\"], [0.7777777777777778, \"#fb9f3a\"], [0.8888888888888888, \"#fdca26\"], [1.0, \"#f0f921\"]]}, \"colorway\": [\"#636efa\", \"#EF553B\", \"#00cc96\", \"#ab63fa\", \"#FFA15A\", \"#19d3f3\", \"#FF6692\", \"#B6E880\", \"#FF97FF\", \"#FECB52\"], \"font\": {\"color\": \"#2a3f5f\"}, \"geo\": {\"bgcolor\": \"white\", \"lakecolor\": \"white\", \"landcolor\": \"#E5ECF6\", \"showlakes\": true, \"showland\": true, \"subunitcolor\": \"white\"}, \"hoverlabel\": {\"align\": \"left\"}, \"hovermode\": \"closest\", \"mapbox\": {\"style\": \"light\"}, \"paper_bgcolor\": \"white\", \"plot_bgcolor\": \"#E5ECF6\", \"polar\": {\"angularaxis\": {\"gridcolor\": \"white\", \"linecolor\": \"white\", \"ticks\": \"\"}, \"bgcolor\": \"#E5ECF6\", \"radialaxis\": {\"gridcolor\": \"white\", \"linecolor\": \"white\", \"ticks\": \"\"}}, \"scene\": {\"xaxis\": {\"backgroundcolor\": \"#E5ECF6\", \"gridcolor\": \"white\", \"gridwidth\": 2, \"linecolor\": \"white\", \"showbackground\": true, \"ticks\": \"\", \"zerolinecolor\": \"white\"}, \"yaxis\": {\"backgroundcolor\": \"#E5ECF6\", \"gridcolor\": \"white\", \"gridwidth\": 2, \"linecolor\": \"white\", \"showbackground\": true, \"ticks\": \"\", \"zerolinecolor\": \"white\"}, \"zaxis\": {\"backgroundcolor\": \"#E5ECF6\", \"gridcolor\": \"white\", \"gridwidth\": 2, \"linecolor\": \"white\", \"showbackground\": true, \"ticks\": \"\", \"zerolinecolor\": \"white\"}}, \"shapedefaults\": {\"line\": {\"color\": \"#2a3f5f\"}}, \"ternary\": {\"aaxis\": {\"gridcolor\": \"white\", \"linecolor\": \"white\", \"ticks\": \"\"}, \"baxis\": {\"gridcolor\": \"white\", \"linecolor\": \"white\", \"ticks\": \"\"}, \"bgcolor\": \"#E5ECF6\", \"caxis\": {\"gridcolor\": \"white\", \"linecolor\": \"white\", \"ticks\": \"\"}}, \"title\": {\"x\": 0.05}, \"xaxis\": {\"automargin\": true, \"gridcolor\": \"white\", \"linecolor\": \"white\", \"ticks\": \"\", \"title\": {\"standoff\": 15}, \"zerolinecolor\": \"white\", \"zerolinewidth\": 2}, \"yaxis\": {\"automargin\": true, \"gridcolor\": \"white\", \"linecolor\": \"white\", \"ticks\": \"\", \"title\": {\"standoff\": 15}, \"zerolinecolor\": \"white\", \"zerolinewidth\": 2}}}, \"title\": {\"font\": {\"color\": \"#4D5663\"}}, \"xaxis\": {\"gridcolor\": \"#E1E5ED\", \"showgrid\": true, \"tickfont\": {\"color\": \"#4D5663\"}, \"title\": {\"font\": {\"color\": \"#4D5663\"}, \"text\": \"\"}, \"zerolinecolor\": \"#E1E5ED\"}, \"xaxis2\": {\"anchor\": \"y2\", \"gridcolor\": \"#E1E5ED\", \"showgrid\": true, \"showticklabels\": false, \"tickfont\": {\"color\": \"#4D5663\"}, \"title\": {\"font\": {\"color\": \"#4D5663\"}, \"text\": \"\"}, \"zerolinecolor\": \"#E1E5ED\"}, \"yaxis\": {\"domain\": [0.3, 1], \"gridcolor\": \"#E1E5ED\", \"showgrid\": true, \"tickfont\": {\"color\": \"#4D5663\"}, \"title\": {\"font\": {\"color\": \"#4D5663\"}, \"text\": \"\"}, \"zerolinecolor\": \"#E1E5ED\"}, \"yaxis2\": {\"domain\": [0, 0.25], \"gridcolor\": \"#E1E5ED\", \"showgrid\": true, \"tickfont\": {\"color\": \"#4D5663\"}, \"title\": {\"font\": {\"color\": \"#4D5663\"}, \"text\": \"Spread\"}, \"zerolinecolor\": \"#E1E5ED\"}},\n",
       "                        {\"showLink\": true, \"linkText\": \"Export to plot.ly\", \"plotlyServerURL\": \"https://plot.ly\", \"responsive\": true}\n",
       "                    ).then(function(){\n",
       "                            \n",
       "var gd = document.getElementById('b6936abf-95ec-47b3-9a0a-2f75821c1ed3');\n",
       "var x = new MutationObserver(function (mutations, observer) {{\n",
       "        var display = window.getComputedStyle(gd).display;\n",
       "        if (!display || display === 'none') {{\n",
       "            console.log([gd, 'removed!']);\n",
       "            Plotly.purge(gd);\n",
       "            observer.disconnect();\n",
       "        }}\n",
       "}});\n",
       "\n",
       "// Listen for the removal of the full notebook cells\n",
       "var notebookContainer = gd.closest('#notebook-container');\n",
       "if (notebookContainer) {{\n",
       "    x.observe(notebookContainer, {childList: true});\n",
       "}}\n",
       "\n",
       "// Listen for the clearing of the current output cell\n",
       "var outputEl = gd.closest('.output');\n",
       "if (outputEl) {{\n",
       "    x.observe(outputEl, {childList: true});\n",
       "}}\n",
       "\n",
       "                        })\n",
       "                };\n",
       "                });\n",
       "            </script>\n",
       "        </div>"
      ]
     },
     "metadata": {},
     "output_type": "display_data"
    }
   ],
   "source": [
    "df[['A','B']].iplot(kind='spread')"
   ]
  },
  {
   "cell_type": "markdown",
   "metadata": {},
   "source": [
    "## histogram"
   ]
  },
  {
   "cell_type": "code",
   "execution_count": 20,
   "metadata": {},
   "outputs": [
    {
     "data": {
      "application/vnd.plotly.v1+json": {
       "config": {
        "linkText": "Export to plot.ly",
        "plotlyServerURL": "https://plot.ly",
        "showLink": true
       },
       "data": [
        {
         "histfunc": "count",
         "histnorm": "",
         "marker": {
          "color": "rgba(255, 153, 51, 1.0)",
          "line": {
           "color": "#4D5663",
           "width": 1.3
          }
         },
         "name": "A",
         "nbinsx": 25,
         "opacity": 0.8,
         "orientation": "v",
         "type": "histogram",
         "x": [
          0.17082491155154642,
          0.9733848448503118,
          -0.20854129260332577,
          0.5587619427877866,
          -0.6615722914955411,
          0.5121643351474225,
          0.13130368234342465,
          -0.035220320669247594,
          -0.369963306984912,
          0.5729958692785618,
          -0.09210955386424999,
          -0.5373937615298153,
          -2.01724661384686,
          -0.8987714595694133,
          1.9467057852407064,
          0.5164427357241107,
          -1.1635408247005044,
          -0.5448724578467126,
          -0.46264624189382997,
          -1.9179493009778803,
          2.7714798339031748,
          0.3071036700992901,
          0.029286680479822094,
          0.5515474197907069,
          0.09403663372726255,
          -0.0687491880537863,
          0.7060426747565378,
          -0.5487359269643622,
          1.150545299499611,
          -0.08727405512422448,
          -0.04865263507570622,
          -1.3241004736370685,
          1.8203440910427022,
          1.0249235499982265,
          0.07530077677831443,
          -0.3983518441111155,
          0.9243840081896711,
          -2.1537998401775726,
          -0.7480917035901087,
          -1.8064452966690792,
          0.7434603261362684,
          -0.30218021518186455,
          -1.5446446180825437,
          -1.1220120169755035,
          0.9827691531143342,
          1.1921574743054213,
          0.6442449133259306,
          -0.3569707490839753,
          0.8461417905701312,
          -2.19250392792535,
          0.5652808285965437,
          -0.1344062661716792,
          0.3374266044185731,
          0.11501457230929552,
          -1.03432476125489,
          0.8786458309333575,
          -0.8432228331014776,
          1.5209334906428773,
          -0.13490408553921363,
          1.1362711489480044,
          -0.7164362335444737,
          1.8944088793920375,
          -0.8392029122803014,
          0.8870880475536355,
          -0.22471697569343044,
          -0.21386527195545157,
          -0.588424204629573,
          -2.333080303181406,
          0.6864778911900746,
          0.9061942198927625,
          -0.6362395296227634,
          0.2775335519572494,
          0.6663808474363447,
          1.451569505775331,
          0.25971128472701793,
          -0.22258903844656566,
          0.11690251426354925,
          -0.4037173564209437,
          -0.3616918130026108,
          0.26753011495892737,
          -0.3330809158884787,
          -0.6136738297829322,
          2.3977626706818524,
          0.008681338043572347,
          0.015381712961214473,
          -0.34992740870667255,
          -0.9826085890796246,
          0.10960702639982886,
          0.3045237793180047,
          0.9456287376200995,
          -1.2666023905791035,
          -0.12604263057332346,
          1.3716201125923573,
          -0.772097226537111,
          0.742127190729917,
          0.5613431520440979,
          0.29713781861089317,
          0.11467605932335413,
          1.1177885105058485,
          1.3404619399594997
         ]
        }
       ],
       "layout": {
        "barmode": "overlay",
        "legend": {
         "bgcolor": "#F5F6F9",
         "font": {
          "color": "#4D5663"
         }
        },
        "paper_bgcolor": "#F5F6F9",
        "plot_bgcolor": "#F5F6F9",
        "template": {
         "data": {
          "bar": [
           {
            "error_x": {
             "color": "#2a3f5f"
            },
            "error_y": {
             "color": "#2a3f5f"
            },
            "marker": {
             "line": {
              "color": "#E5ECF6",
              "width": 0.5
             }
            },
            "type": "bar"
           }
          ],
          "barpolar": [
           {
            "marker": {
             "line": {
              "color": "#E5ECF6",
              "width": 0.5
             }
            },
            "type": "barpolar"
           }
          ],
          "carpet": [
           {
            "aaxis": {
             "endlinecolor": "#2a3f5f",
             "gridcolor": "white",
             "linecolor": "white",
             "minorgridcolor": "white",
             "startlinecolor": "#2a3f5f"
            },
            "baxis": {
             "endlinecolor": "#2a3f5f",
             "gridcolor": "white",
             "linecolor": "white",
             "minorgridcolor": "white",
             "startlinecolor": "#2a3f5f"
            },
            "type": "carpet"
           }
          ],
          "choropleth": [
           {
            "colorbar": {
             "outlinewidth": 0,
             "ticks": ""
            },
            "type": "choropleth"
           }
          ],
          "contour": [
           {
            "colorbar": {
             "outlinewidth": 0,
             "ticks": ""
            },
            "colorscale": [
             [
              0,
              "#0d0887"
             ],
             [
              0.1111111111111111,
              "#46039f"
             ],
             [
              0.2222222222222222,
              "#7201a8"
             ],
             [
              0.3333333333333333,
              "#9c179e"
             ],
             [
              0.4444444444444444,
              "#bd3786"
             ],
             [
              0.5555555555555556,
              "#d8576b"
             ],
             [
              0.6666666666666666,
              "#ed7953"
             ],
             [
              0.7777777777777778,
              "#fb9f3a"
             ],
             [
              0.8888888888888888,
              "#fdca26"
             ],
             [
              1,
              "#f0f921"
             ]
            ],
            "type": "contour"
           }
          ],
          "contourcarpet": [
           {
            "colorbar": {
             "outlinewidth": 0,
             "ticks": ""
            },
            "type": "contourcarpet"
           }
          ],
          "heatmap": [
           {
            "colorbar": {
             "outlinewidth": 0,
             "ticks": ""
            },
            "colorscale": [
             [
              0,
              "#0d0887"
             ],
             [
              0.1111111111111111,
              "#46039f"
             ],
             [
              0.2222222222222222,
              "#7201a8"
             ],
             [
              0.3333333333333333,
              "#9c179e"
             ],
             [
              0.4444444444444444,
              "#bd3786"
             ],
             [
              0.5555555555555556,
              "#d8576b"
             ],
             [
              0.6666666666666666,
              "#ed7953"
             ],
             [
              0.7777777777777778,
              "#fb9f3a"
             ],
             [
              0.8888888888888888,
              "#fdca26"
             ],
             [
              1,
              "#f0f921"
             ]
            ],
            "type": "heatmap"
           }
          ],
          "heatmapgl": [
           {
            "colorbar": {
             "outlinewidth": 0,
             "ticks": ""
            },
            "colorscale": [
             [
              0,
              "#0d0887"
             ],
             [
              0.1111111111111111,
              "#46039f"
             ],
             [
              0.2222222222222222,
              "#7201a8"
             ],
             [
              0.3333333333333333,
              "#9c179e"
             ],
             [
              0.4444444444444444,
              "#bd3786"
             ],
             [
              0.5555555555555556,
              "#d8576b"
             ],
             [
              0.6666666666666666,
              "#ed7953"
             ],
             [
              0.7777777777777778,
              "#fb9f3a"
             ],
             [
              0.8888888888888888,
              "#fdca26"
             ],
             [
              1,
              "#f0f921"
             ]
            ],
            "type": "heatmapgl"
           }
          ],
          "histogram": [
           {
            "marker": {
             "colorbar": {
              "outlinewidth": 0,
              "ticks": ""
             }
            },
            "type": "histogram"
           }
          ],
          "histogram2d": [
           {
            "colorbar": {
             "outlinewidth": 0,
             "ticks": ""
            },
            "colorscale": [
             [
              0,
              "#0d0887"
             ],
             [
              0.1111111111111111,
              "#46039f"
             ],
             [
              0.2222222222222222,
              "#7201a8"
             ],
             [
              0.3333333333333333,
              "#9c179e"
             ],
             [
              0.4444444444444444,
              "#bd3786"
             ],
             [
              0.5555555555555556,
              "#d8576b"
             ],
             [
              0.6666666666666666,
              "#ed7953"
             ],
             [
              0.7777777777777778,
              "#fb9f3a"
             ],
             [
              0.8888888888888888,
              "#fdca26"
             ],
             [
              1,
              "#f0f921"
             ]
            ],
            "type": "histogram2d"
           }
          ],
          "histogram2dcontour": [
           {
            "colorbar": {
             "outlinewidth": 0,
             "ticks": ""
            },
            "colorscale": [
             [
              0,
              "#0d0887"
             ],
             [
              0.1111111111111111,
              "#46039f"
             ],
             [
              0.2222222222222222,
              "#7201a8"
             ],
             [
              0.3333333333333333,
              "#9c179e"
             ],
             [
              0.4444444444444444,
              "#bd3786"
             ],
             [
              0.5555555555555556,
              "#d8576b"
             ],
             [
              0.6666666666666666,
              "#ed7953"
             ],
             [
              0.7777777777777778,
              "#fb9f3a"
             ],
             [
              0.8888888888888888,
              "#fdca26"
             ],
             [
              1,
              "#f0f921"
             ]
            ],
            "type": "histogram2dcontour"
           }
          ],
          "mesh3d": [
           {
            "colorbar": {
             "outlinewidth": 0,
             "ticks": ""
            },
            "type": "mesh3d"
           }
          ],
          "parcoords": [
           {
            "line": {
             "colorbar": {
              "outlinewidth": 0,
              "ticks": ""
             }
            },
            "type": "parcoords"
           }
          ],
          "pie": [
           {
            "automargin": true,
            "type": "pie"
           }
          ],
          "scatter": [
           {
            "marker": {
             "colorbar": {
              "outlinewidth": 0,
              "ticks": ""
             }
            },
            "type": "scatter"
           }
          ],
          "scatter3d": [
           {
            "line": {
             "colorbar": {
              "outlinewidth": 0,
              "ticks": ""
             }
            },
            "marker": {
             "colorbar": {
              "outlinewidth": 0,
              "ticks": ""
             }
            },
            "type": "scatter3d"
           }
          ],
          "scattercarpet": [
           {
            "marker": {
             "colorbar": {
              "outlinewidth": 0,
              "ticks": ""
             }
            },
            "type": "scattercarpet"
           }
          ],
          "scattergeo": [
           {
            "marker": {
             "colorbar": {
              "outlinewidth": 0,
              "ticks": ""
             }
            },
            "type": "scattergeo"
           }
          ],
          "scattergl": [
           {
            "marker": {
             "colorbar": {
              "outlinewidth": 0,
              "ticks": ""
             }
            },
            "type": "scattergl"
           }
          ],
          "scattermapbox": [
           {
            "marker": {
             "colorbar": {
              "outlinewidth": 0,
              "ticks": ""
             }
            },
            "type": "scattermapbox"
           }
          ],
          "scatterpolar": [
           {
            "marker": {
             "colorbar": {
              "outlinewidth": 0,
              "ticks": ""
             }
            },
            "type": "scatterpolar"
           }
          ],
          "scatterpolargl": [
           {
            "marker": {
             "colorbar": {
              "outlinewidth": 0,
              "ticks": ""
             }
            },
            "type": "scatterpolargl"
           }
          ],
          "scatterternary": [
           {
            "marker": {
             "colorbar": {
              "outlinewidth": 0,
              "ticks": ""
             }
            },
            "type": "scatterternary"
           }
          ],
          "surface": [
           {
            "colorbar": {
             "outlinewidth": 0,
             "ticks": ""
            },
            "colorscale": [
             [
              0,
              "#0d0887"
             ],
             [
              0.1111111111111111,
              "#46039f"
             ],
             [
              0.2222222222222222,
              "#7201a8"
             ],
             [
              0.3333333333333333,
              "#9c179e"
             ],
             [
              0.4444444444444444,
              "#bd3786"
             ],
             [
              0.5555555555555556,
              "#d8576b"
             ],
             [
              0.6666666666666666,
              "#ed7953"
             ],
             [
              0.7777777777777778,
              "#fb9f3a"
             ],
             [
              0.8888888888888888,
              "#fdca26"
             ],
             [
              1,
              "#f0f921"
             ]
            ],
            "type": "surface"
           }
          ],
          "table": [
           {
            "cells": {
             "fill": {
              "color": "#EBF0F8"
             },
             "line": {
              "color": "white"
             }
            },
            "header": {
             "fill": {
              "color": "#C8D4E3"
             },
             "line": {
              "color": "white"
             }
            },
            "type": "table"
           }
          ]
         },
         "layout": {
          "annotationdefaults": {
           "arrowcolor": "#2a3f5f",
           "arrowhead": 0,
           "arrowwidth": 1
          },
          "coloraxis": {
           "colorbar": {
            "outlinewidth": 0,
            "ticks": ""
           }
          },
          "colorscale": {
           "diverging": [
            [
             0,
             "#8e0152"
            ],
            [
             0.1,
             "#c51b7d"
            ],
            [
             0.2,
             "#de77ae"
            ],
            [
             0.3,
             "#f1b6da"
            ],
            [
             0.4,
             "#fde0ef"
            ],
            [
             0.5,
             "#f7f7f7"
            ],
            [
             0.6,
             "#e6f5d0"
            ],
            [
             0.7,
             "#b8e186"
            ],
            [
             0.8,
             "#7fbc41"
            ],
            [
             0.9,
             "#4d9221"
            ],
            [
             1,
             "#276419"
            ]
           ],
           "sequential": [
            [
             0,
             "#0d0887"
            ],
            [
             0.1111111111111111,
             "#46039f"
            ],
            [
             0.2222222222222222,
             "#7201a8"
            ],
            [
             0.3333333333333333,
             "#9c179e"
            ],
            [
             0.4444444444444444,
             "#bd3786"
            ],
            [
             0.5555555555555556,
             "#d8576b"
            ],
            [
             0.6666666666666666,
             "#ed7953"
            ],
            [
             0.7777777777777778,
             "#fb9f3a"
            ],
            [
             0.8888888888888888,
             "#fdca26"
            ],
            [
             1,
             "#f0f921"
            ]
           ],
           "sequentialminus": [
            [
             0,
             "#0d0887"
            ],
            [
             0.1111111111111111,
             "#46039f"
            ],
            [
             0.2222222222222222,
             "#7201a8"
            ],
            [
             0.3333333333333333,
             "#9c179e"
            ],
            [
             0.4444444444444444,
             "#bd3786"
            ],
            [
             0.5555555555555556,
             "#d8576b"
            ],
            [
             0.6666666666666666,
             "#ed7953"
            ],
            [
             0.7777777777777778,
             "#fb9f3a"
            ],
            [
             0.8888888888888888,
             "#fdca26"
            ],
            [
             1,
             "#f0f921"
            ]
           ]
          },
          "colorway": [
           "#636efa",
           "#EF553B",
           "#00cc96",
           "#ab63fa",
           "#FFA15A",
           "#19d3f3",
           "#FF6692",
           "#B6E880",
           "#FF97FF",
           "#FECB52"
          ],
          "font": {
           "color": "#2a3f5f"
          },
          "geo": {
           "bgcolor": "white",
           "lakecolor": "white",
           "landcolor": "#E5ECF6",
           "showlakes": true,
           "showland": true,
           "subunitcolor": "white"
          },
          "hoverlabel": {
           "align": "left"
          },
          "hovermode": "closest",
          "mapbox": {
           "style": "light"
          },
          "paper_bgcolor": "white",
          "plot_bgcolor": "#E5ECF6",
          "polar": {
           "angularaxis": {
            "gridcolor": "white",
            "linecolor": "white",
            "ticks": ""
           },
           "bgcolor": "#E5ECF6",
           "radialaxis": {
            "gridcolor": "white",
            "linecolor": "white",
            "ticks": ""
           }
          },
          "scene": {
           "xaxis": {
            "backgroundcolor": "#E5ECF6",
            "gridcolor": "white",
            "gridwidth": 2,
            "linecolor": "white",
            "showbackground": true,
            "ticks": "",
            "zerolinecolor": "white"
           },
           "yaxis": {
            "backgroundcolor": "#E5ECF6",
            "gridcolor": "white",
            "gridwidth": 2,
            "linecolor": "white",
            "showbackground": true,
            "ticks": "",
            "zerolinecolor": "white"
           },
           "zaxis": {
            "backgroundcolor": "#E5ECF6",
            "gridcolor": "white",
            "gridwidth": 2,
            "linecolor": "white",
            "showbackground": true,
            "ticks": "",
            "zerolinecolor": "white"
           }
          },
          "shapedefaults": {
           "line": {
            "color": "#2a3f5f"
           }
          },
          "ternary": {
           "aaxis": {
            "gridcolor": "white",
            "linecolor": "white",
            "ticks": ""
           },
           "baxis": {
            "gridcolor": "white",
            "linecolor": "white",
            "ticks": ""
           },
           "bgcolor": "#E5ECF6",
           "caxis": {
            "gridcolor": "white",
            "linecolor": "white",
            "ticks": ""
           }
          },
          "title": {
           "x": 0.05
          },
          "xaxis": {
           "automargin": true,
           "gridcolor": "white",
           "linecolor": "white",
           "ticks": "",
           "title": {
            "standoff": 15
           },
           "zerolinecolor": "white",
           "zerolinewidth": 2
          },
          "yaxis": {
           "automargin": true,
           "gridcolor": "white",
           "linecolor": "white",
           "ticks": "",
           "title": {
            "standoff": 15
           },
           "zerolinecolor": "white",
           "zerolinewidth": 2
          }
         }
        },
        "title": {
         "font": {
          "color": "#4D5663"
         }
        },
        "xaxis": {
         "gridcolor": "#E1E5ED",
         "showgrid": true,
         "tickfont": {
          "color": "#4D5663"
         },
         "title": {
          "font": {
           "color": "#4D5663"
          },
          "text": ""
         },
         "zerolinecolor": "#E1E5ED"
        },
        "yaxis": {
         "gridcolor": "#E1E5ED",
         "showgrid": true,
         "tickfont": {
          "color": "#4D5663"
         },
         "title": {
          "font": {
           "color": "#4D5663"
          },
          "text": ""
         },
         "zerolinecolor": "#E1E5ED"
        }
       }
      },
      "text/html": [
       "<div>\n",
       "        \n",
       "        \n",
       "            <div id=\"b08131b5-5932-4744-b764-05ddf1a3fd90\" class=\"plotly-graph-div\" style=\"height:525px; width:100%;\"></div>\n",
       "            <script type=\"text/javascript\">\n",
       "                require([\"plotly\"], function(Plotly) {\n",
       "                    window.PLOTLYENV=window.PLOTLYENV || {};\n",
       "                    window.PLOTLYENV.BASE_URL='https://plot.ly';\n",
       "                    \n",
       "                if (document.getElementById(\"b08131b5-5932-4744-b764-05ddf1a3fd90\")) {\n",
       "                    Plotly.newPlot(\n",
       "                        'b08131b5-5932-4744-b764-05ddf1a3fd90',\n",
       "                        [{\"histfunc\": \"count\", \"histnorm\": \"\", \"marker\": {\"color\": \"rgba(255, 153, 51, 1.0)\", \"line\": {\"color\": \"#4D5663\", \"width\": 1.3}}, \"name\": \"A\", \"nbinsx\": 25, \"opacity\": 0.8, \"orientation\": \"v\", \"type\": \"histogram\", \"x\": [0.17082491155154642, 0.9733848448503118, -0.20854129260332577, 0.5587619427877866, -0.6615722914955411, 0.5121643351474225, 0.13130368234342465, -0.035220320669247594, -0.369963306984912, 0.5729958692785618, -0.09210955386424999, -0.5373937615298153, -2.01724661384686, -0.8987714595694133, 1.9467057852407064, 0.5164427357241107, -1.1635408247005044, -0.5448724578467126, -0.46264624189382997, -1.9179493009778803, 2.7714798339031748, 0.3071036700992901, 0.029286680479822094, 0.5515474197907069, 0.09403663372726255, -0.0687491880537863, 0.7060426747565378, -0.5487359269643622, 1.150545299499611, -0.08727405512422448, -0.04865263507570622, -1.3241004736370685, 1.8203440910427022, 1.0249235499982265, 0.07530077677831443, -0.3983518441111155, 0.9243840081896711, -2.1537998401775726, -0.7480917035901087, -1.8064452966690792, 0.7434603261362684, -0.30218021518186455, -1.5446446180825437, -1.1220120169755035, 0.9827691531143342, 1.1921574743054213, 0.6442449133259306, -0.3569707490839753, 0.8461417905701312, -2.19250392792535, 0.5652808285965437, -0.1344062661716792, 0.3374266044185731, 0.11501457230929552, -1.03432476125489, 0.8786458309333575, -0.8432228331014776, 1.5209334906428773, -0.13490408553921363, 1.1362711489480044, -0.7164362335444737, 1.8944088793920375, -0.8392029122803014, 0.8870880475536355, -0.22471697569343044, -0.21386527195545157, -0.588424204629573, -2.333080303181406, 0.6864778911900746, 0.9061942198927625, -0.6362395296227634, 0.2775335519572494, 0.6663808474363447, 1.451569505775331, 0.25971128472701793, -0.22258903844656566, 0.11690251426354925, -0.4037173564209437, -0.3616918130026108, 0.26753011495892737, -0.3330809158884787, -0.6136738297829322, 2.3977626706818524, 0.008681338043572347, 0.015381712961214473, -0.34992740870667255, -0.9826085890796246, 0.10960702639982886, 0.3045237793180047, 0.9456287376200995, -1.2666023905791035, -0.12604263057332346, 1.3716201125923573, -0.772097226537111, 0.742127190729917, 0.5613431520440979, 0.29713781861089317, 0.11467605932335413, 1.1177885105058485, 1.3404619399594997]}],\n",
       "                        {\"barmode\": \"overlay\", \"legend\": {\"bgcolor\": \"#F5F6F9\", \"font\": {\"color\": \"#4D5663\"}}, \"paper_bgcolor\": \"#F5F6F9\", \"plot_bgcolor\": \"#F5F6F9\", \"template\": {\"data\": {\"bar\": [{\"error_x\": {\"color\": \"#2a3f5f\"}, \"error_y\": {\"color\": \"#2a3f5f\"}, \"marker\": {\"line\": {\"color\": \"#E5ECF6\", \"width\": 0.5}}, \"type\": \"bar\"}], \"barpolar\": [{\"marker\": {\"line\": {\"color\": \"#E5ECF6\", \"width\": 0.5}}, \"type\": \"barpolar\"}], \"carpet\": [{\"aaxis\": {\"endlinecolor\": \"#2a3f5f\", \"gridcolor\": \"white\", \"linecolor\": \"white\", \"minorgridcolor\": \"white\", \"startlinecolor\": \"#2a3f5f\"}, \"baxis\": {\"endlinecolor\": \"#2a3f5f\", \"gridcolor\": \"white\", \"linecolor\": \"white\", \"minorgridcolor\": \"white\", \"startlinecolor\": \"#2a3f5f\"}, \"type\": \"carpet\"}], \"choropleth\": [{\"colorbar\": {\"outlinewidth\": 0, \"ticks\": \"\"}, \"type\": \"choropleth\"}], \"contour\": [{\"colorbar\": {\"outlinewidth\": 0, \"ticks\": \"\"}, \"colorscale\": [[0.0, \"#0d0887\"], [0.1111111111111111, \"#46039f\"], [0.2222222222222222, \"#7201a8\"], [0.3333333333333333, \"#9c179e\"], [0.4444444444444444, \"#bd3786\"], [0.5555555555555556, \"#d8576b\"], [0.6666666666666666, \"#ed7953\"], [0.7777777777777778, \"#fb9f3a\"], [0.8888888888888888, \"#fdca26\"], [1.0, \"#f0f921\"]], \"type\": \"contour\"}], \"contourcarpet\": [{\"colorbar\": {\"outlinewidth\": 0, \"ticks\": \"\"}, \"type\": \"contourcarpet\"}], \"heatmap\": [{\"colorbar\": {\"outlinewidth\": 0, \"ticks\": \"\"}, \"colorscale\": [[0.0, \"#0d0887\"], [0.1111111111111111, \"#46039f\"], [0.2222222222222222, \"#7201a8\"], [0.3333333333333333, \"#9c179e\"], [0.4444444444444444, \"#bd3786\"], [0.5555555555555556, \"#d8576b\"], [0.6666666666666666, \"#ed7953\"], [0.7777777777777778, \"#fb9f3a\"], [0.8888888888888888, \"#fdca26\"], [1.0, \"#f0f921\"]], \"type\": \"heatmap\"}], \"heatmapgl\": [{\"colorbar\": {\"outlinewidth\": 0, \"ticks\": \"\"}, \"colorscale\": [[0.0, \"#0d0887\"], [0.1111111111111111, \"#46039f\"], [0.2222222222222222, \"#7201a8\"], [0.3333333333333333, \"#9c179e\"], [0.4444444444444444, \"#bd3786\"], [0.5555555555555556, \"#d8576b\"], [0.6666666666666666, \"#ed7953\"], [0.7777777777777778, \"#fb9f3a\"], [0.8888888888888888, \"#fdca26\"], [1.0, \"#f0f921\"]], \"type\": \"heatmapgl\"}], \"histogram\": [{\"marker\": {\"colorbar\": {\"outlinewidth\": 0, \"ticks\": \"\"}}, \"type\": \"histogram\"}], \"histogram2d\": [{\"colorbar\": {\"outlinewidth\": 0, \"ticks\": \"\"}, \"colorscale\": [[0.0, \"#0d0887\"], [0.1111111111111111, \"#46039f\"], [0.2222222222222222, \"#7201a8\"], [0.3333333333333333, \"#9c179e\"], [0.4444444444444444, \"#bd3786\"], [0.5555555555555556, \"#d8576b\"], [0.6666666666666666, \"#ed7953\"], [0.7777777777777778, \"#fb9f3a\"], [0.8888888888888888, \"#fdca26\"], [1.0, \"#f0f921\"]], \"type\": \"histogram2d\"}], \"histogram2dcontour\": [{\"colorbar\": {\"outlinewidth\": 0, \"ticks\": \"\"}, \"colorscale\": [[0.0, \"#0d0887\"], [0.1111111111111111, \"#46039f\"], [0.2222222222222222, \"#7201a8\"], [0.3333333333333333, \"#9c179e\"], [0.4444444444444444, \"#bd3786\"], [0.5555555555555556, \"#d8576b\"], [0.6666666666666666, \"#ed7953\"], [0.7777777777777778, \"#fb9f3a\"], [0.8888888888888888, \"#fdca26\"], [1.0, \"#f0f921\"]], \"type\": \"histogram2dcontour\"}], \"mesh3d\": [{\"colorbar\": {\"outlinewidth\": 0, \"ticks\": \"\"}, \"type\": \"mesh3d\"}], \"parcoords\": [{\"line\": {\"colorbar\": {\"outlinewidth\": 0, \"ticks\": \"\"}}, \"type\": \"parcoords\"}], \"pie\": [{\"automargin\": true, \"type\": \"pie\"}], \"scatter\": [{\"marker\": {\"colorbar\": {\"outlinewidth\": 0, \"ticks\": \"\"}}, \"type\": \"scatter\"}], \"scatter3d\": [{\"line\": {\"colorbar\": {\"outlinewidth\": 0, \"ticks\": \"\"}}, \"marker\": {\"colorbar\": {\"outlinewidth\": 0, \"ticks\": \"\"}}, \"type\": \"scatter3d\"}], \"scattercarpet\": [{\"marker\": {\"colorbar\": {\"outlinewidth\": 0, \"ticks\": \"\"}}, \"type\": \"scattercarpet\"}], \"scattergeo\": [{\"marker\": {\"colorbar\": {\"outlinewidth\": 0, \"ticks\": \"\"}}, \"type\": \"scattergeo\"}], \"scattergl\": [{\"marker\": {\"colorbar\": {\"outlinewidth\": 0, \"ticks\": \"\"}}, \"type\": \"scattergl\"}], \"scattermapbox\": [{\"marker\": {\"colorbar\": {\"outlinewidth\": 0, \"ticks\": \"\"}}, \"type\": \"scattermapbox\"}], \"scatterpolar\": [{\"marker\": {\"colorbar\": {\"outlinewidth\": 0, \"ticks\": \"\"}}, \"type\": \"scatterpolar\"}], \"scatterpolargl\": [{\"marker\": {\"colorbar\": {\"outlinewidth\": 0, \"ticks\": \"\"}}, \"type\": \"scatterpolargl\"}], \"scatterternary\": [{\"marker\": {\"colorbar\": {\"outlinewidth\": 0, \"ticks\": \"\"}}, \"type\": \"scatterternary\"}], \"surface\": [{\"colorbar\": {\"outlinewidth\": 0, \"ticks\": \"\"}, \"colorscale\": [[0.0, \"#0d0887\"], [0.1111111111111111, \"#46039f\"], [0.2222222222222222, \"#7201a8\"], [0.3333333333333333, \"#9c179e\"], [0.4444444444444444, \"#bd3786\"], [0.5555555555555556, \"#d8576b\"], [0.6666666666666666, \"#ed7953\"], [0.7777777777777778, \"#fb9f3a\"], [0.8888888888888888, \"#fdca26\"], [1.0, \"#f0f921\"]], \"type\": \"surface\"}], \"table\": [{\"cells\": {\"fill\": {\"color\": \"#EBF0F8\"}, \"line\": {\"color\": \"white\"}}, \"header\": {\"fill\": {\"color\": \"#C8D4E3\"}, \"line\": {\"color\": \"white\"}}, \"type\": \"table\"}]}, \"layout\": {\"annotationdefaults\": {\"arrowcolor\": \"#2a3f5f\", \"arrowhead\": 0, \"arrowwidth\": 1}, \"coloraxis\": {\"colorbar\": {\"outlinewidth\": 0, \"ticks\": \"\"}}, \"colorscale\": {\"diverging\": [[0, \"#8e0152\"], [0.1, \"#c51b7d\"], [0.2, \"#de77ae\"], [0.3, \"#f1b6da\"], [0.4, \"#fde0ef\"], [0.5, \"#f7f7f7\"], [0.6, \"#e6f5d0\"], [0.7, \"#b8e186\"], [0.8, \"#7fbc41\"], [0.9, \"#4d9221\"], [1, \"#276419\"]], \"sequential\": [[0.0, \"#0d0887\"], [0.1111111111111111, \"#46039f\"], [0.2222222222222222, \"#7201a8\"], [0.3333333333333333, \"#9c179e\"], [0.4444444444444444, \"#bd3786\"], [0.5555555555555556, \"#d8576b\"], [0.6666666666666666, \"#ed7953\"], [0.7777777777777778, \"#fb9f3a\"], [0.8888888888888888, \"#fdca26\"], [1.0, \"#f0f921\"]], \"sequentialminus\": [[0.0, \"#0d0887\"], [0.1111111111111111, \"#46039f\"], [0.2222222222222222, \"#7201a8\"], [0.3333333333333333, \"#9c179e\"], [0.4444444444444444, \"#bd3786\"], [0.5555555555555556, \"#d8576b\"], [0.6666666666666666, \"#ed7953\"], [0.7777777777777778, \"#fb9f3a\"], [0.8888888888888888, \"#fdca26\"], [1.0, \"#f0f921\"]]}, \"colorway\": [\"#636efa\", \"#EF553B\", \"#00cc96\", \"#ab63fa\", \"#FFA15A\", \"#19d3f3\", \"#FF6692\", \"#B6E880\", \"#FF97FF\", \"#FECB52\"], \"font\": {\"color\": \"#2a3f5f\"}, \"geo\": {\"bgcolor\": \"white\", \"lakecolor\": \"white\", \"landcolor\": \"#E5ECF6\", \"showlakes\": true, \"showland\": true, \"subunitcolor\": \"white\"}, \"hoverlabel\": {\"align\": \"left\"}, \"hovermode\": \"closest\", \"mapbox\": {\"style\": \"light\"}, \"paper_bgcolor\": \"white\", \"plot_bgcolor\": \"#E5ECF6\", \"polar\": {\"angularaxis\": {\"gridcolor\": \"white\", \"linecolor\": \"white\", \"ticks\": \"\"}, \"bgcolor\": \"#E5ECF6\", \"radialaxis\": {\"gridcolor\": \"white\", \"linecolor\": \"white\", \"ticks\": \"\"}}, \"scene\": {\"xaxis\": {\"backgroundcolor\": \"#E5ECF6\", \"gridcolor\": \"white\", \"gridwidth\": 2, \"linecolor\": \"white\", \"showbackground\": true, \"ticks\": \"\", \"zerolinecolor\": \"white\"}, \"yaxis\": {\"backgroundcolor\": \"#E5ECF6\", \"gridcolor\": \"white\", \"gridwidth\": 2, \"linecolor\": \"white\", \"showbackground\": true, \"ticks\": \"\", \"zerolinecolor\": \"white\"}, \"zaxis\": {\"backgroundcolor\": \"#E5ECF6\", \"gridcolor\": \"white\", \"gridwidth\": 2, \"linecolor\": \"white\", \"showbackground\": true, \"ticks\": \"\", \"zerolinecolor\": \"white\"}}, \"shapedefaults\": {\"line\": {\"color\": \"#2a3f5f\"}}, \"ternary\": {\"aaxis\": {\"gridcolor\": \"white\", \"linecolor\": \"white\", \"ticks\": \"\"}, \"baxis\": {\"gridcolor\": \"white\", \"linecolor\": \"white\", \"ticks\": \"\"}, \"bgcolor\": \"#E5ECF6\", \"caxis\": {\"gridcolor\": \"white\", \"linecolor\": \"white\", \"ticks\": \"\"}}, \"title\": {\"x\": 0.05}, \"xaxis\": {\"automargin\": true, \"gridcolor\": \"white\", \"linecolor\": \"white\", \"ticks\": \"\", \"title\": {\"standoff\": 15}, \"zerolinecolor\": \"white\", \"zerolinewidth\": 2}, \"yaxis\": {\"automargin\": true, \"gridcolor\": \"white\", \"linecolor\": \"white\", \"ticks\": \"\", \"title\": {\"standoff\": 15}, \"zerolinecolor\": \"white\", \"zerolinewidth\": 2}}}, \"title\": {\"font\": {\"color\": \"#4D5663\"}}, \"xaxis\": {\"gridcolor\": \"#E1E5ED\", \"showgrid\": true, \"tickfont\": {\"color\": \"#4D5663\"}, \"title\": {\"font\": {\"color\": \"#4D5663\"}, \"text\": \"\"}, \"zerolinecolor\": \"#E1E5ED\"}, \"yaxis\": {\"gridcolor\": \"#E1E5ED\", \"showgrid\": true, \"tickfont\": {\"color\": \"#4D5663\"}, \"title\": {\"font\": {\"color\": \"#4D5663\"}, \"text\": \"\"}, \"zerolinecolor\": \"#E1E5ED\"}},\n",
       "                        {\"showLink\": true, \"linkText\": \"Export to plot.ly\", \"plotlyServerURL\": \"https://plot.ly\", \"responsive\": true}\n",
       "                    ).then(function(){\n",
       "                            \n",
       "var gd = document.getElementById('b08131b5-5932-4744-b764-05ddf1a3fd90');\n",
       "var x = new MutationObserver(function (mutations, observer) {{\n",
       "        var display = window.getComputedStyle(gd).display;\n",
       "        if (!display || display === 'none') {{\n",
       "            console.log([gd, 'removed!']);\n",
       "            Plotly.purge(gd);\n",
       "            observer.disconnect();\n",
       "        }}\n",
       "}});\n",
       "\n",
       "// Listen for the removal of the full notebook cells\n",
       "var notebookContainer = gd.closest('#notebook-container');\n",
       "if (notebookContainer) {{\n",
       "    x.observe(notebookContainer, {childList: true});\n",
       "}}\n",
       "\n",
       "// Listen for the clearing of the current output cell\n",
       "var outputEl = gd.closest('.output');\n",
       "if (outputEl) {{\n",
       "    x.observe(outputEl, {childList: true});\n",
       "}}\n",
       "\n",
       "                        })\n",
       "                };\n",
       "                });\n",
       "            </script>\n",
       "        </div>"
      ]
     },
     "metadata": {},
     "output_type": "display_data"
    }
   ],
   "source": [
    "df['A'].iplot(kind='hist',bins=25)"
   ]
  },
  {
   "cell_type": "code",
   "execution_count": 18,
   "metadata": {},
   "outputs": [
    {
     "data": {
      "application/vnd.plotly.v1+json": {
       "config": {
        "linkText": "Export to plot.ly",
        "plotlyServerURL": "https://plot.ly",
        "showLink": true
       },
       "data": [
        {
         "marker": {
          "color": [
           "rgb(255, 153, 51)",
           "rgb(55, 128, 191)",
           "rgb(50, 171, 96)",
           "rgb(128, 0, 128)",
           "rgb(219, 64, 82)",
           "rgb(0, 128, 128)",
           "rgb(255, 255, 51)",
           "rgb(128, 128, 0)",
           "rgb(251, 128, 114)",
           "rgb(128, 177, 211)"
          ],
          "line": {
           "width": 1.3
          },
          "size": [
           30,
           40,
           22,
           83,
           64,
           52,
           37,
           60,
           50,
           72,
           46,
           41,
           50,
           21,
           58,
           50,
           49,
           64,
           36,
           60,
           68,
           46,
           41,
           68,
           62,
           44,
           52,
           58,
           47,
           36,
           36,
           71,
           79,
           52,
           57,
           76,
           12,
           41,
           12,
           56,
           60,
           41,
           53,
           40,
           23,
           44,
           71,
           37,
           87,
           63,
           53,
           46,
           76,
           30,
           86,
           77,
           38,
           81,
           65,
           60,
           28,
           35,
           44,
           75,
           112,
           62,
           34,
           60,
           78,
           31,
           54,
           47,
           56,
           75,
           53,
           37,
           30,
           76,
           58,
           38,
           18,
           36,
           67,
           55,
           47,
           59,
           54,
           46,
           49,
           56,
           30,
           53,
           26,
           76,
           60,
           78,
           62,
           93,
           45,
           50
          ],
          "symbol": "circle"
         },
         "mode": "markers",
         "text": "",
         "type": "scatter",
         "x": [
          0.17082491155154642,
          0.9733848448503118,
          -0.20854129260332577,
          0.5587619427877866,
          -0.6615722914955411,
          0.5121643351474225,
          0.13130368234342465,
          -0.035220320669247594,
          -0.369963306984912,
          0.5729958692785618,
          -0.09210955386424999,
          -0.5373937615298153,
          -2.01724661384686,
          -0.8987714595694133,
          1.9467057852407064,
          0.5164427357241107,
          -1.1635408247005044,
          -0.5448724578467126,
          -0.46264624189382997,
          -1.9179493009778803,
          2.7714798339031748,
          0.3071036700992901,
          0.029286680479822094,
          0.5515474197907069,
          0.09403663372726255,
          -0.0687491880537863,
          0.7060426747565378,
          -0.5487359269643622,
          1.150545299499611,
          -0.08727405512422448,
          -0.04865263507570622,
          -1.3241004736370685,
          1.8203440910427022,
          1.0249235499982265,
          0.07530077677831443,
          -0.3983518441111155,
          0.9243840081896711,
          -2.1537998401775726,
          -0.7480917035901087,
          -1.8064452966690792,
          0.7434603261362684,
          -0.30218021518186455,
          -1.5446446180825437,
          -1.1220120169755035,
          0.9827691531143342,
          1.1921574743054213,
          0.6442449133259306,
          -0.3569707490839753,
          0.8461417905701312,
          -2.19250392792535,
          0.5652808285965437,
          -0.1344062661716792,
          0.3374266044185731,
          0.11501457230929552,
          -1.03432476125489,
          0.8786458309333575,
          -0.8432228331014776,
          1.5209334906428773,
          -0.13490408553921363,
          1.1362711489480044,
          -0.7164362335444737,
          1.8944088793920375,
          -0.8392029122803014,
          0.8870880475536355,
          -0.22471697569343044,
          -0.21386527195545157,
          -0.588424204629573,
          -2.333080303181406,
          0.6864778911900746,
          0.9061942198927625,
          -0.6362395296227634,
          0.2775335519572494,
          0.6663808474363447,
          1.451569505775331,
          0.25971128472701793,
          -0.22258903844656566,
          0.11690251426354925,
          -0.4037173564209437,
          -0.3616918130026108,
          0.26753011495892737,
          -0.3330809158884787,
          -0.6136738297829322,
          2.3977626706818524,
          0.008681338043572347,
          0.015381712961214473,
          -0.34992740870667255,
          -0.9826085890796246,
          0.10960702639982886,
          0.3045237793180047,
          0.9456287376200995,
          -1.2666023905791035,
          -0.12604263057332346,
          1.3716201125923573,
          -0.772097226537111,
          0.742127190729917,
          0.5613431520440979,
          0.29713781861089317,
          0.11467605932335413,
          1.1177885105058485,
          1.3404619399594997
         ],
         "y": [
          -1.0469343486083953,
          -1.459788614380184,
          -0.8948475098518478,
          1.0189272429513767,
          0.896482444363568,
          -0.8499088047524456,
          0.024902896053242213,
          -1.2539480497063156,
          1.1080455661815205,
          0.6039706085303771,
          1.1462550302790881,
          0.3383978416192203,
          -1.1703911847275679,
          -0.4506090304627199,
          -1.7885796092722501,
          1.9740354776517566,
          -0.5589227900109863,
          -1.5059038409979402,
          0.06801135045561885,
          -0.5424102393537328,
          -0.12596595257673204,
          0.07766803062063887,
          1.08742149533797,
          -0.5276402294420803,
          -0.5134796696744759,
          -0.00885507836116481,
          -1.9179898136723204,
          0.015978142026482386,
          0.596272380271323,
          1.096940104175222,
          -0.9701160214948572,
          1.1473044174962768,
          -0.8497300858779225,
          0.17745707004204264,
          1.3040067873187786,
          0.8949482052732047,
          -0.07886388560014475,
          -3.561507122896207,
          1.5323073119190378,
          -1.0106015855491841,
          1.0565480505208455,
          0.7105695536942717,
          -0.797211235009638,
          0.7998529314333869,
          -0.15244947297596764,
          -0.17741142705640117,
          0.039603889157412094,
          -1.2500332755144197,
          0.07917645744092283,
          1.336754302137174,
          0.603138128276989,
          0.18426981447960314,
          -0.6495388957173431,
          -1.6313915348260464,
          -0.2982863158078925,
          0.37314891494260083,
          0.24879635716302964,
          0.5860706811766647,
          -0.6610205762239924,
          -1.190788182194642,
          -0.6409061943286544,
          0.462293155947097,
          -1.3089069803765623,
          1.6341450528765762,
          -1.1338904173028463,
          -0.5039350542364665,
          0.0840200054861493,
          -0.2726865642592458,
          1.2856192693433823,
          0.29240349533422016,
          0.9006195057266302,
          -0.604269563912645,
          1.6869476552089377,
          0.5361783937936255,
          1.0150365809424875,
          0.09077509679183086,
          0.9872278379038406,
          -0.5543308540711545,
          0.15213184418788492,
          -0.8772278719188741,
          0.2931996962880976,
          -0.2037623234733791,
          -0.7928436197071106,
          -1.0802896101213275,
          -1.3279711785816812,
          0.08431434618031589,
          0.596991906053773,
          0.14488046829607382,
          0.8075704683875163,
          -2.8380301262811347,
          1.1722548193519313,
          0.6474126943040964,
          -0.4074743070915865,
          -0.810311666954102,
          -1.2017508067688711,
          1.6032888870895288,
          0.15228854207435788,
          0.800145725655405,
          -0.7282201700792078,
          1.1399079188302463
         ]
        }
       ],
       "layout": {
        "legend": {
         "bgcolor": "#F5F6F9",
         "font": {
          "color": "#4D5663"
         }
        },
        "paper_bgcolor": "#F5F6F9",
        "plot_bgcolor": "#F5F6F9",
        "template": {
         "data": {
          "bar": [
           {
            "error_x": {
             "color": "#2a3f5f"
            },
            "error_y": {
             "color": "#2a3f5f"
            },
            "marker": {
             "line": {
              "color": "#E5ECF6",
              "width": 0.5
             }
            },
            "type": "bar"
           }
          ],
          "barpolar": [
           {
            "marker": {
             "line": {
              "color": "#E5ECF6",
              "width": 0.5
             }
            },
            "type": "barpolar"
           }
          ],
          "carpet": [
           {
            "aaxis": {
             "endlinecolor": "#2a3f5f",
             "gridcolor": "white",
             "linecolor": "white",
             "minorgridcolor": "white",
             "startlinecolor": "#2a3f5f"
            },
            "baxis": {
             "endlinecolor": "#2a3f5f",
             "gridcolor": "white",
             "linecolor": "white",
             "minorgridcolor": "white",
             "startlinecolor": "#2a3f5f"
            },
            "type": "carpet"
           }
          ],
          "choropleth": [
           {
            "colorbar": {
             "outlinewidth": 0,
             "ticks": ""
            },
            "type": "choropleth"
           }
          ],
          "contour": [
           {
            "colorbar": {
             "outlinewidth": 0,
             "ticks": ""
            },
            "colorscale": [
             [
              0,
              "#0d0887"
             ],
             [
              0.1111111111111111,
              "#46039f"
             ],
             [
              0.2222222222222222,
              "#7201a8"
             ],
             [
              0.3333333333333333,
              "#9c179e"
             ],
             [
              0.4444444444444444,
              "#bd3786"
             ],
             [
              0.5555555555555556,
              "#d8576b"
             ],
             [
              0.6666666666666666,
              "#ed7953"
             ],
             [
              0.7777777777777778,
              "#fb9f3a"
             ],
             [
              0.8888888888888888,
              "#fdca26"
             ],
             [
              1,
              "#f0f921"
             ]
            ],
            "type": "contour"
           }
          ],
          "contourcarpet": [
           {
            "colorbar": {
             "outlinewidth": 0,
             "ticks": ""
            },
            "type": "contourcarpet"
           }
          ],
          "heatmap": [
           {
            "colorbar": {
             "outlinewidth": 0,
             "ticks": ""
            },
            "colorscale": [
             [
              0,
              "#0d0887"
             ],
             [
              0.1111111111111111,
              "#46039f"
             ],
             [
              0.2222222222222222,
              "#7201a8"
             ],
             [
              0.3333333333333333,
              "#9c179e"
             ],
             [
              0.4444444444444444,
              "#bd3786"
             ],
             [
              0.5555555555555556,
              "#d8576b"
             ],
             [
              0.6666666666666666,
              "#ed7953"
             ],
             [
              0.7777777777777778,
              "#fb9f3a"
             ],
             [
              0.8888888888888888,
              "#fdca26"
             ],
             [
              1,
              "#f0f921"
             ]
            ],
            "type": "heatmap"
           }
          ],
          "heatmapgl": [
           {
            "colorbar": {
             "outlinewidth": 0,
             "ticks": ""
            },
            "colorscale": [
             [
              0,
              "#0d0887"
             ],
             [
              0.1111111111111111,
              "#46039f"
             ],
             [
              0.2222222222222222,
              "#7201a8"
             ],
             [
              0.3333333333333333,
              "#9c179e"
             ],
             [
              0.4444444444444444,
              "#bd3786"
             ],
             [
              0.5555555555555556,
              "#d8576b"
             ],
             [
              0.6666666666666666,
              "#ed7953"
             ],
             [
              0.7777777777777778,
              "#fb9f3a"
             ],
             [
              0.8888888888888888,
              "#fdca26"
             ],
             [
              1,
              "#f0f921"
             ]
            ],
            "type": "heatmapgl"
           }
          ],
          "histogram": [
           {
            "marker": {
             "colorbar": {
              "outlinewidth": 0,
              "ticks": ""
             }
            },
            "type": "histogram"
           }
          ],
          "histogram2d": [
           {
            "colorbar": {
             "outlinewidth": 0,
             "ticks": ""
            },
            "colorscale": [
             [
              0,
              "#0d0887"
             ],
             [
              0.1111111111111111,
              "#46039f"
             ],
             [
              0.2222222222222222,
              "#7201a8"
             ],
             [
              0.3333333333333333,
              "#9c179e"
             ],
             [
              0.4444444444444444,
              "#bd3786"
             ],
             [
              0.5555555555555556,
              "#d8576b"
             ],
             [
              0.6666666666666666,
              "#ed7953"
             ],
             [
              0.7777777777777778,
              "#fb9f3a"
             ],
             [
              0.8888888888888888,
              "#fdca26"
             ],
             [
              1,
              "#f0f921"
             ]
            ],
            "type": "histogram2d"
           }
          ],
          "histogram2dcontour": [
           {
            "colorbar": {
             "outlinewidth": 0,
             "ticks": ""
            },
            "colorscale": [
             [
              0,
              "#0d0887"
             ],
             [
              0.1111111111111111,
              "#46039f"
             ],
             [
              0.2222222222222222,
              "#7201a8"
             ],
             [
              0.3333333333333333,
              "#9c179e"
             ],
             [
              0.4444444444444444,
              "#bd3786"
             ],
             [
              0.5555555555555556,
              "#d8576b"
             ],
             [
              0.6666666666666666,
              "#ed7953"
             ],
             [
              0.7777777777777778,
              "#fb9f3a"
             ],
             [
              0.8888888888888888,
              "#fdca26"
             ],
             [
              1,
              "#f0f921"
             ]
            ],
            "type": "histogram2dcontour"
           }
          ],
          "mesh3d": [
           {
            "colorbar": {
             "outlinewidth": 0,
             "ticks": ""
            },
            "type": "mesh3d"
           }
          ],
          "parcoords": [
           {
            "line": {
             "colorbar": {
              "outlinewidth": 0,
              "ticks": ""
             }
            },
            "type": "parcoords"
           }
          ],
          "pie": [
           {
            "automargin": true,
            "type": "pie"
           }
          ],
          "scatter": [
           {
            "marker": {
             "colorbar": {
              "outlinewidth": 0,
              "ticks": ""
             }
            },
            "type": "scatter"
           }
          ],
          "scatter3d": [
           {
            "line": {
             "colorbar": {
              "outlinewidth": 0,
              "ticks": ""
             }
            },
            "marker": {
             "colorbar": {
              "outlinewidth": 0,
              "ticks": ""
             }
            },
            "type": "scatter3d"
           }
          ],
          "scattercarpet": [
           {
            "marker": {
             "colorbar": {
              "outlinewidth": 0,
              "ticks": ""
             }
            },
            "type": "scattercarpet"
           }
          ],
          "scattergeo": [
           {
            "marker": {
             "colorbar": {
              "outlinewidth": 0,
              "ticks": ""
             }
            },
            "type": "scattergeo"
           }
          ],
          "scattergl": [
           {
            "marker": {
             "colorbar": {
              "outlinewidth": 0,
              "ticks": ""
             }
            },
            "type": "scattergl"
           }
          ],
          "scattermapbox": [
           {
            "marker": {
             "colorbar": {
              "outlinewidth": 0,
              "ticks": ""
             }
            },
            "type": "scattermapbox"
           }
          ],
          "scatterpolar": [
           {
            "marker": {
             "colorbar": {
              "outlinewidth": 0,
              "ticks": ""
             }
            },
            "type": "scatterpolar"
           }
          ],
          "scatterpolargl": [
           {
            "marker": {
             "colorbar": {
              "outlinewidth": 0,
              "ticks": ""
             }
            },
            "type": "scatterpolargl"
           }
          ],
          "scatterternary": [
           {
            "marker": {
             "colorbar": {
              "outlinewidth": 0,
              "ticks": ""
             }
            },
            "type": "scatterternary"
           }
          ],
          "surface": [
           {
            "colorbar": {
             "outlinewidth": 0,
             "ticks": ""
            },
            "colorscale": [
             [
              0,
              "#0d0887"
             ],
             [
              0.1111111111111111,
              "#46039f"
             ],
             [
              0.2222222222222222,
              "#7201a8"
             ],
             [
              0.3333333333333333,
              "#9c179e"
             ],
             [
              0.4444444444444444,
              "#bd3786"
             ],
             [
              0.5555555555555556,
              "#d8576b"
             ],
             [
              0.6666666666666666,
              "#ed7953"
             ],
             [
              0.7777777777777778,
              "#fb9f3a"
             ],
             [
              0.8888888888888888,
              "#fdca26"
             ],
             [
              1,
              "#f0f921"
             ]
            ],
            "type": "surface"
           }
          ],
          "table": [
           {
            "cells": {
             "fill": {
              "color": "#EBF0F8"
             },
             "line": {
              "color": "white"
             }
            },
            "header": {
             "fill": {
              "color": "#C8D4E3"
             },
             "line": {
              "color": "white"
             }
            },
            "type": "table"
           }
          ]
         },
         "layout": {
          "annotationdefaults": {
           "arrowcolor": "#2a3f5f",
           "arrowhead": 0,
           "arrowwidth": 1
          },
          "coloraxis": {
           "colorbar": {
            "outlinewidth": 0,
            "ticks": ""
           }
          },
          "colorscale": {
           "diverging": [
            [
             0,
             "#8e0152"
            ],
            [
             0.1,
             "#c51b7d"
            ],
            [
             0.2,
             "#de77ae"
            ],
            [
             0.3,
             "#f1b6da"
            ],
            [
             0.4,
             "#fde0ef"
            ],
            [
             0.5,
             "#f7f7f7"
            ],
            [
             0.6,
             "#e6f5d0"
            ],
            [
             0.7,
             "#b8e186"
            ],
            [
             0.8,
             "#7fbc41"
            ],
            [
             0.9,
             "#4d9221"
            ],
            [
             1,
             "#276419"
            ]
           ],
           "sequential": [
            [
             0,
             "#0d0887"
            ],
            [
             0.1111111111111111,
             "#46039f"
            ],
            [
             0.2222222222222222,
             "#7201a8"
            ],
            [
             0.3333333333333333,
             "#9c179e"
            ],
            [
             0.4444444444444444,
             "#bd3786"
            ],
            [
             0.5555555555555556,
             "#d8576b"
            ],
            [
             0.6666666666666666,
             "#ed7953"
            ],
            [
             0.7777777777777778,
             "#fb9f3a"
            ],
            [
             0.8888888888888888,
             "#fdca26"
            ],
            [
             1,
             "#f0f921"
            ]
           ],
           "sequentialminus": [
            [
             0,
             "#0d0887"
            ],
            [
             0.1111111111111111,
             "#46039f"
            ],
            [
             0.2222222222222222,
             "#7201a8"
            ],
            [
             0.3333333333333333,
             "#9c179e"
            ],
            [
             0.4444444444444444,
             "#bd3786"
            ],
            [
             0.5555555555555556,
             "#d8576b"
            ],
            [
             0.6666666666666666,
             "#ed7953"
            ],
            [
             0.7777777777777778,
             "#fb9f3a"
            ],
            [
             0.8888888888888888,
             "#fdca26"
            ],
            [
             1,
             "#f0f921"
            ]
           ]
          },
          "colorway": [
           "#636efa",
           "#EF553B",
           "#00cc96",
           "#ab63fa",
           "#FFA15A",
           "#19d3f3",
           "#FF6692",
           "#B6E880",
           "#FF97FF",
           "#FECB52"
          ],
          "font": {
           "color": "#2a3f5f"
          },
          "geo": {
           "bgcolor": "white",
           "lakecolor": "white",
           "landcolor": "#E5ECF6",
           "showlakes": true,
           "showland": true,
           "subunitcolor": "white"
          },
          "hoverlabel": {
           "align": "left"
          },
          "hovermode": "closest",
          "mapbox": {
           "style": "light"
          },
          "paper_bgcolor": "white",
          "plot_bgcolor": "#E5ECF6",
          "polar": {
           "angularaxis": {
            "gridcolor": "white",
            "linecolor": "white",
            "ticks": ""
           },
           "bgcolor": "#E5ECF6",
           "radialaxis": {
            "gridcolor": "white",
            "linecolor": "white",
            "ticks": ""
           }
          },
          "scene": {
           "xaxis": {
            "backgroundcolor": "#E5ECF6",
            "gridcolor": "white",
            "gridwidth": 2,
            "linecolor": "white",
            "showbackground": true,
            "ticks": "",
            "zerolinecolor": "white"
           },
           "yaxis": {
            "backgroundcolor": "#E5ECF6",
            "gridcolor": "white",
            "gridwidth": 2,
            "linecolor": "white",
            "showbackground": true,
            "ticks": "",
            "zerolinecolor": "white"
           },
           "zaxis": {
            "backgroundcolor": "#E5ECF6",
            "gridcolor": "white",
            "gridwidth": 2,
            "linecolor": "white",
            "showbackground": true,
            "ticks": "",
            "zerolinecolor": "white"
           }
          },
          "shapedefaults": {
           "line": {
            "color": "#2a3f5f"
           }
          },
          "ternary": {
           "aaxis": {
            "gridcolor": "white",
            "linecolor": "white",
            "ticks": ""
           },
           "baxis": {
            "gridcolor": "white",
            "linecolor": "white",
            "ticks": ""
           },
           "bgcolor": "#E5ECF6",
           "caxis": {
            "gridcolor": "white",
            "linecolor": "white",
            "ticks": ""
           }
          },
          "title": {
           "x": 0.05
          },
          "xaxis": {
           "automargin": true,
           "gridcolor": "white",
           "linecolor": "white",
           "ticks": "",
           "title": {
            "standoff": 15
           },
           "zerolinecolor": "white",
           "zerolinewidth": 2
          },
          "yaxis": {
           "automargin": true,
           "gridcolor": "white",
           "linecolor": "white",
           "ticks": "",
           "title": {
            "standoff": 15
           },
           "zerolinecolor": "white",
           "zerolinewidth": 2
          }
         }
        },
        "title": {
         "font": {
          "color": "#4D5663"
         }
        },
        "xaxis": {
         "gridcolor": "#E1E5ED",
         "showgrid": true,
         "tickfont": {
          "color": "#4D5663"
         },
         "title": {
          "font": {
           "color": "#4D5663"
          },
          "text": ""
         },
         "zerolinecolor": "#E1E5ED"
        },
        "yaxis": {
         "gridcolor": "#E1E5ED",
         "showgrid": true,
         "tickfont": {
          "color": "#4D5663"
         },
         "title": {
          "font": {
           "color": "#4D5663"
          },
          "text": ""
         },
         "zerolinecolor": "#E1E5ED"
        }
       }
      },
      "text/html": [
       "<div>\n",
       "        \n",
       "        \n",
       "            <div id=\"8697ef6c-eb70-465f-a777-48c3c097a5da\" class=\"plotly-graph-div\" style=\"height:525px; width:100%;\"></div>\n",
       "            <script type=\"text/javascript\">\n",
       "                require([\"plotly\"], function(Plotly) {\n",
       "                    window.PLOTLYENV=window.PLOTLYENV || {};\n",
       "                    window.PLOTLYENV.BASE_URL='https://plot.ly';\n",
       "                    \n",
       "                if (document.getElementById(\"8697ef6c-eb70-465f-a777-48c3c097a5da\")) {\n",
       "                    Plotly.newPlot(\n",
       "                        '8697ef6c-eb70-465f-a777-48c3c097a5da',\n",
       "                        [{\"marker\": {\"color\": [\"rgb(255, 153, 51)\", \"rgb(55, 128, 191)\", \"rgb(50, 171, 96)\", \"rgb(128, 0, 128)\", \"rgb(219, 64, 82)\", \"rgb(0, 128, 128)\", \"rgb(255, 255, 51)\", \"rgb(128, 128, 0)\", \"rgb(251, 128, 114)\", \"rgb(128, 177, 211)\"], \"line\": {\"width\": 1.3}, \"size\": [30, 40, 22, 83, 64, 52, 37, 60, 50, 72, 46, 41, 50, 21, 58, 50, 49, 64, 36, 60, 68, 46, 41, 68, 62, 44, 52, 58, 47, 36, 36, 71, 79, 52, 57, 76, 12, 41, 12, 56, 60, 41, 53, 40, 23, 44, 71, 37, 87, 63, 53, 46, 76, 30, 86, 77, 38, 81, 65, 60, 28, 35, 44, 75, 112, 62, 34, 60, 78, 31, 54, 47, 56, 75, 53, 37, 30, 76, 58, 38, 18, 36, 67, 55, 47, 59, 54, 46, 49, 56, 30, 53, 26, 76, 60, 78, 62, 93, 45, 50], \"symbol\": \"circle\"}, \"mode\": \"markers\", \"text\": \"\", \"type\": \"scatter\", \"x\": [0.17082491155154642, 0.9733848448503118, -0.20854129260332577, 0.5587619427877866, -0.6615722914955411, 0.5121643351474225, 0.13130368234342465, -0.035220320669247594, -0.369963306984912, 0.5729958692785618, -0.09210955386424999, -0.5373937615298153, -2.01724661384686, -0.8987714595694133, 1.9467057852407064, 0.5164427357241107, -1.1635408247005044, -0.5448724578467126, -0.46264624189382997, -1.9179493009778803, 2.7714798339031748, 0.3071036700992901, 0.029286680479822094, 0.5515474197907069, 0.09403663372726255, -0.0687491880537863, 0.7060426747565378, -0.5487359269643622, 1.150545299499611, -0.08727405512422448, -0.04865263507570622, -1.3241004736370685, 1.8203440910427022, 1.0249235499982265, 0.07530077677831443, -0.3983518441111155, 0.9243840081896711, -2.1537998401775726, -0.7480917035901087, -1.8064452966690792, 0.7434603261362684, -0.30218021518186455, -1.5446446180825437, -1.1220120169755035, 0.9827691531143342, 1.1921574743054213, 0.6442449133259306, -0.3569707490839753, 0.8461417905701312, -2.19250392792535, 0.5652808285965437, -0.1344062661716792, 0.3374266044185731, 0.11501457230929552, -1.03432476125489, 0.8786458309333575, -0.8432228331014776, 1.5209334906428773, -0.13490408553921363, 1.1362711489480044, -0.7164362335444737, 1.8944088793920375, -0.8392029122803014, 0.8870880475536355, -0.22471697569343044, -0.21386527195545157, -0.588424204629573, -2.333080303181406, 0.6864778911900746, 0.9061942198927625, -0.6362395296227634, 0.2775335519572494, 0.6663808474363447, 1.451569505775331, 0.25971128472701793, -0.22258903844656566, 0.11690251426354925, -0.4037173564209437, -0.3616918130026108, 0.26753011495892737, -0.3330809158884787, -0.6136738297829322, 2.3977626706818524, 0.008681338043572347, 0.015381712961214473, -0.34992740870667255, -0.9826085890796246, 0.10960702639982886, 0.3045237793180047, 0.9456287376200995, -1.2666023905791035, -0.12604263057332346, 1.3716201125923573, -0.772097226537111, 0.742127190729917, 0.5613431520440979, 0.29713781861089317, 0.11467605932335413, 1.1177885105058485, 1.3404619399594997], \"y\": [-1.0469343486083953, -1.459788614380184, -0.8948475098518478, 1.0189272429513767, 0.896482444363568, -0.8499088047524456, 0.024902896053242213, -1.2539480497063156, 1.1080455661815205, 0.6039706085303771, 1.1462550302790881, 0.3383978416192203, -1.1703911847275679, -0.4506090304627199, -1.7885796092722501, 1.9740354776517566, -0.5589227900109863, -1.5059038409979402, 0.06801135045561885, -0.5424102393537328, -0.12596595257673204, 0.07766803062063887, 1.08742149533797, -0.5276402294420803, -0.5134796696744759, -0.00885507836116481, -1.9179898136723204, 0.015978142026482386, 0.596272380271323, 1.096940104175222, -0.9701160214948572, 1.1473044174962768, -0.8497300858779225, 0.17745707004204264, 1.3040067873187786, 0.8949482052732047, -0.07886388560014475, -3.561507122896207, 1.5323073119190378, -1.0106015855491841, 1.0565480505208455, 0.7105695536942717, -0.797211235009638, 0.7998529314333869, -0.15244947297596764, -0.17741142705640117, 0.039603889157412094, -1.2500332755144197, 0.07917645744092283, 1.336754302137174, 0.603138128276989, 0.18426981447960314, -0.6495388957173431, -1.6313915348260464, -0.2982863158078925, 0.37314891494260083, 0.24879635716302964, 0.5860706811766647, -0.6610205762239924, -1.190788182194642, -0.6409061943286544, 0.462293155947097, -1.3089069803765623, 1.6341450528765762, -1.1338904173028463, -0.5039350542364665, 0.0840200054861493, -0.2726865642592458, 1.2856192693433823, 0.29240349533422016, 0.9006195057266302, -0.604269563912645, 1.6869476552089377, 0.5361783937936255, 1.0150365809424875, 0.09077509679183086, 0.9872278379038406, -0.5543308540711545, 0.15213184418788492, -0.8772278719188741, 0.2931996962880976, -0.2037623234733791, -0.7928436197071106, -1.0802896101213275, -1.3279711785816812, 0.08431434618031589, 0.596991906053773, 0.14488046829607382, 0.8075704683875163, -2.8380301262811347, 1.1722548193519313, 0.6474126943040964, -0.4074743070915865, -0.810311666954102, -1.2017508067688711, 1.6032888870895288, 0.15228854207435788, 0.800145725655405, -0.7282201700792078, 1.1399079188302463]}],\n",
       "                        {\"legend\": {\"bgcolor\": \"#F5F6F9\", \"font\": {\"color\": \"#4D5663\"}}, \"paper_bgcolor\": \"#F5F6F9\", \"plot_bgcolor\": \"#F5F6F9\", \"template\": {\"data\": {\"bar\": [{\"error_x\": {\"color\": \"#2a3f5f\"}, \"error_y\": {\"color\": \"#2a3f5f\"}, \"marker\": {\"line\": {\"color\": \"#E5ECF6\", \"width\": 0.5}}, \"type\": \"bar\"}], \"barpolar\": [{\"marker\": {\"line\": {\"color\": \"#E5ECF6\", \"width\": 0.5}}, \"type\": \"barpolar\"}], \"carpet\": [{\"aaxis\": {\"endlinecolor\": \"#2a3f5f\", \"gridcolor\": \"white\", \"linecolor\": \"white\", \"minorgridcolor\": \"white\", \"startlinecolor\": \"#2a3f5f\"}, \"baxis\": {\"endlinecolor\": \"#2a3f5f\", \"gridcolor\": \"white\", \"linecolor\": \"white\", \"minorgridcolor\": \"white\", \"startlinecolor\": \"#2a3f5f\"}, \"type\": \"carpet\"}], \"choropleth\": [{\"colorbar\": {\"outlinewidth\": 0, \"ticks\": \"\"}, \"type\": \"choropleth\"}], \"contour\": [{\"colorbar\": {\"outlinewidth\": 0, \"ticks\": \"\"}, \"colorscale\": [[0.0, \"#0d0887\"], [0.1111111111111111, \"#46039f\"], [0.2222222222222222, \"#7201a8\"], [0.3333333333333333, \"#9c179e\"], [0.4444444444444444, \"#bd3786\"], [0.5555555555555556, \"#d8576b\"], [0.6666666666666666, \"#ed7953\"], [0.7777777777777778, \"#fb9f3a\"], [0.8888888888888888, \"#fdca26\"], [1.0, \"#f0f921\"]], \"type\": \"contour\"}], \"contourcarpet\": [{\"colorbar\": {\"outlinewidth\": 0, \"ticks\": \"\"}, \"type\": \"contourcarpet\"}], \"heatmap\": [{\"colorbar\": {\"outlinewidth\": 0, \"ticks\": \"\"}, \"colorscale\": [[0.0, \"#0d0887\"], [0.1111111111111111, \"#46039f\"], [0.2222222222222222, \"#7201a8\"], [0.3333333333333333, \"#9c179e\"], [0.4444444444444444, \"#bd3786\"], [0.5555555555555556, \"#d8576b\"], [0.6666666666666666, \"#ed7953\"], [0.7777777777777778, \"#fb9f3a\"], [0.8888888888888888, \"#fdca26\"], [1.0, \"#f0f921\"]], \"type\": \"heatmap\"}], \"heatmapgl\": [{\"colorbar\": {\"outlinewidth\": 0, \"ticks\": \"\"}, \"colorscale\": [[0.0, \"#0d0887\"], [0.1111111111111111, \"#46039f\"], [0.2222222222222222, \"#7201a8\"], [0.3333333333333333, \"#9c179e\"], [0.4444444444444444, \"#bd3786\"], [0.5555555555555556, \"#d8576b\"], [0.6666666666666666, \"#ed7953\"], [0.7777777777777778, \"#fb9f3a\"], [0.8888888888888888, \"#fdca26\"], [1.0, \"#f0f921\"]], \"type\": \"heatmapgl\"}], \"histogram\": [{\"marker\": {\"colorbar\": {\"outlinewidth\": 0, \"ticks\": \"\"}}, \"type\": \"histogram\"}], \"histogram2d\": [{\"colorbar\": {\"outlinewidth\": 0, \"ticks\": \"\"}, \"colorscale\": [[0.0, \"#0d0887\"], [0.1111111111111111, \"#46039f\"], [0.2222222222222222, \"#7201a8\"], [0.3333333333333333, \"#9c179e\"], [0.4444444444444444, \"#bd3786\"], [0.5555555555555556, \"#d8576b\"], [0.6666666666666666, \"#ed7953\"], [0.7777777777777778, \"#fb9f3a\"], [0.8888888888888888, \"#fdca26\"], [1.0, \"#f0f921\"]], \"type\": \"histogram2d\"}], \"histogram2dcontour\": [{\"colorbar\": {\"outlinewidth\": 0, \"ticks\": \"\"}, \"colorscale\": [[0.0, \"#0d0887\"], [0.1111111111111111, \"#46039f\"], [0.2222222222222222, \"#7201a8\"], [0.3333333333333333, \"#9c179e\"], [0.4444444444444444, \"#bd3786\"], [0.5555555555555556, \"#d8576b\"], [0.6666666666666666, \"#ed7953\"], [0.7777777777777778, \"#fb9f3a\"], [0.8888888888888888, \"#fdca26\"], [1.0, \"#f0f921\"]], \"type\": \"histogram2dcontour\"}], \"mesh3d\": [{\"colorbar\": {\"outlinewidth\": 0, \"ticks\": \"\"}, \"type\": \"mesh3d\"}], \"parcoords\": [{\"line\": {\"colorbar\": {\"outlinewidth\": 0, \"ticks\": \"\"}}, \"type\": \"parcoords\"}], \"pie\": [{\"automargin\": true, \"type\": \"pie\"}], \"scatter\": [{\"marker\": {\"colorbar\": {\"outlinewidth\": 0, \"ticks\": \"\"}}, \"type\": \"scatter\"}], \"scatter3d\": [{\"line\": {\"colorbar\": {\"outlinewidth\": 0, \"ticks\": \"\"}}, \"marker\": {\"colorbar\": {\"outlinewidth\": 0, \"ticks\": \"\"}}, \"type\": \"scatter3d\"}], \"scattercarpet\": [{\"marker\": {\"colorbar\": {\"outlinewidth\": 0, \"ticks\": \"\"}}, \"type\": \"scattercarpet\"}], \"scattergeo\": [{\"marker\": {\"colorbar\": {\"outlinewidth\": 0, \"ticks\": \"\"}}, \"type\": \"scattergeo\"}], \"scattergl\": [{\"marker\": {\"colorbar\": {\"outlinewidth\": 0, \"ticks\": \"\"}}, \"type\": \"scattergl\"}], \"scattermapbox\": [{\"marker\": {\"colorbar\": {\"outlinewidth\": 0, \"ticks\": \"\"}}, \"type\": \"scattermapbox\"}], \"scatterpolar\": [{\"marker\": {\"colorbar\": {\"outlinewidth\": 0, \"ticks\": \"\"}}, \"type\": \"scatterpolar\"}], \"scatterpolargl\": [{\"marker\": {\"colorbar\": {\"outlinewidth\": 0, \"ticks\": \"\"}}, \"type\": \"scatterpolargl\"}], \"scatterternary\": [{\"marker\": {\"colorbar\": {\"outlinewidth\": 0, \"ticks\": \"\"}}, \"type\": \"scatterternary\"}], \"surface\": [{\"colorbar\": {\"outlinewidth\": 0, \"ticks\": \"\"}, \"colorscale\": [[0.0, \"#0d0887\"], [0.1111111111111111, \"#46039f\"], [0.2222222222222222, \"#7201a8\"], [0.3333333333333333, \"#9c179e\"], [0.4444444444444444, \"#bd3786\"], [0.5555555555555556, \"#d8576b\"], [0.6666666666666666, \"#ed7953\"], [0.7777777777777778, \"#fb9f3a\"], [0.8888888888888888, \"#fdca26\"], [1.0, \"#f0f921\"]], \"type\": \"surface\"}], \"table\": [{\"cells\": {\"fill\": {\"color\": \"#EBF0F8\"}, \"line\": {\"color\": \"white\"}}, \"header\": {\"fill\": {\"color\": \"#C8D4E3\"}, \"line\": {\"color\": \"white\"}}, \"type\": \"table\"}]}, \"layout\": {\"annotationdefaults\": {\"arrowcolor\": \"#2a3f5f\", \"arrowhead\": 0, \"arrowwidth\": 1}, \"coloraxis\": {\"colorbar\": {\"outlinewidth\": 0, \"ticks\": \"\"}}, \"colorscale\": {\"diverging\": [[0, \"#8e0152\"], [0.1, \"#c51b7d\"], [0.2, \"#de77ae\"], [0.3, \"#f1b6da\"], [0.4, \"#fde0ef\"], [0.5, \"#f7f7f7\"], [0.6, \"#e6f5d0\"], [0.7, \"#b8e186\"], [0.8, \"#7fbc41\"], [0.9, \"#4d9221\"], [1, \"#276419\"]], \"sequential\": [[0.0, \"#0d0887\"], [0.1111111111111111, \"#46039f\"], [0.2222222222222222, \"#7201a8\"], [0.3333333333333333, \"#9c179e\"], [0.4444444444444444, \"#bd3786\"], [0.5555555555555556, \"#d8576b\"], [0.6666666666666666, \"#ed7953\"], [0.7777777777777778, \"#fb9f3a\"], [0.8888888888888888, \"#fdca26\"], [1.0, \"#f0f921\"]], \"sequentialminus\": [[0.0, \"#0d0887\"], [0.1111111111111111, \"#46039f\"], [0.2222222222222222, \"#7201a8\"], [0.3333333333333333, \"#9c179e\"], [0.4444444444444444, \"#bd3786\"], [0.5555555555555556, \"#d8576b\"], [0.6666666666666666, \"#ed7953\"], [0.7777777777777778, \"#fb9f3a\"], [0.8888888888888888, \"#fdca26\"], [1.0, \"#f0f921\"]]}, \"colorway\": [\"#636efa\", \"#EF553B\", \"#00cc96\", \"#ab63fa\", \"#FFA15A\", \"#19d3f3\", \"#FF6692\", \"#B6E880\", \"#FF97FF\", \"#FECB52\"], \"font\": {\"color\": \"#2a3f5f\"}, \"geo\": {\"bgcolor\": \"white\", \"lakecolor\": \"white\", \"landcolor\": \"#E5ECF6\", \"showlakes\": true, \"showland\": true, \"subunitcolor\": \"white\"}, \"hoverlabel\": {\"align\": \"left\"}, \"hovermode\": \"closest\", \"mapbox\": {\"style\": \"light\"}, \"paper_bgcolor\": \"white\", \"plot_bgcolor\": \"#E5ECF6\", \"polar\": {\"angularaxis\": {\"gridcolor\": \"white\", \"linecolor\": \"white\", \"ticks\": \"\"}, \"bgcolor\": \"#E5ECF6\", \"radialaxis\": {\"gridcolor\": \"white\", \"linecolor\": \"white\", \"ticks\": \"\"}}, \"scene\": {\"xaxis\": {\"backgroundcolor\": \"#E5ECF6\", \"gridcolor\": \"white\", \"gridwidth\": 2, \"linecolor\": \"white\", \"showbackground\": true, \"ticks\": \"\", \"zerolinecolor\": \"white\"}, \"yaxis\": {\"backgroundcolor\": \"#E5ECF6\", \"gridcolor\": \"white\", \"gridwidth\": 2, \"linecolor\": \"white\", \"showbackground\": true, \"ticks\": \"\", \"zerolinecolor\": \"white\"}, \"zaxis\": {\"backgroundcolor\": \"#E5ECF6\", \"gridcolor\": \"white\", \"gridwidth\": 2, \"linecolor\": \"white\", \"showbackground\": true, \"ticks\": \"\", \"zerolinecolor\": \"white\"}}, \"shapedefaults\": {\"line\": {\"color\": \"#2a3f5f\"}}, \"ternary\": {\"aaxis\": {\"gridcolor\": \"white\", \"linecolor\": \"white\", \"ticks\": \"\"}, \"baxis\": {\"gridcolor\": \"white\", \"linecolor\": \"white\", \"ticks\": \"\"}, \"bgcolor\": \"#E5ECF6\", \"caxis\": {\"gridcolor\": \"white\", \"linecolor\": \"white\", \"ticks\": \"\"}}, \"title\": {\"x\": 0.05}, \"xaxis\": {\"automargin\": true, \"gridcolor\": \"white\", \"linecolor\": \"white\", \"ticks\": \"\", \"title\": {\"standoff\": 15}, \"zerolinecolor\": \"white\", \"zerolinewidth\": 2}, \"yaxis\": {\"automargin\": true, \"gridcolor\": \"white\", \"linecolor\": \"white\", \"ticks\": \"\", \"title\": {\"standoff\": 15}, \"zerolinecolor\": \"white\", \"zerolinewidth\": 2}}}, \"title\": {\"font\": {\"color\": \"#4D5663\"}}, \"xaxis\": {\"gridcolor\": \"#E1E5ED\", \"showgrid\": true, \"tickfont\": {\"color\": \"#4D5663\"}, \"title\": {\"font\": {\"color\": \"#4D5663\"}, \"text\": \"\"}, \"zerolinecolor\": \"#E1E5ED\"}, \"yaxis\": {\"gridcolor\": \"#E1E5ED\", \"showgrid\": true, \"tickfont\": {\"color\": \"#4D5663\"}, \"title\": {\"font\": {\"color\": \"#4D5663\"}, \"text\": \"\"}, \"zerolinecolor\": \"#E1E5ED\"}},\n",
       "                        {\"showLink\": true, \"linkText\": \"Export to plot.ly\", \"plotlyServerURL\": \"https://plot.ly\", \"responsive\": true}\n",
       "                    ).then(function(){\n",
       "                            \n",
       "var gd = document.getElementById('8697ef6c-eb70-465f-a777-48c3c097a5da');\n",
       "var x = new MutationObserver(function (mutations, observer) {{\n",
       "        var display = window.getComputedStyle(gd).display;\n",
       "        if (!display || display === 'none') {{\n",
       "            console.log([gd, 'removed!']);\n",
       "            Plotly.purge(gd);\n",
       "            observer.disconnect();\n",
       "        }}\n",
       "}});\n",
       "\n",
       "// Listen for the removal of the full notebook cells\n",
       "var notebookContainer = gd.closest('#notebook-container');\n",
       "if (notebookContainer) {{\n",
       "    x.observe(notebookContainer, {childList: true});\n",
       "}}\n",
       "\n",
       "// Listen for the clearing of the current output cell\n",
       "var outputEl = gd.closest('.output');\n",
       "if (outputEl) {{\n",
       "    x.observe(outputEl, {childList: true});\n",
       "}}\n",
       "\n",
       "                        })\n",
       "                };\n",
       "                });\n",
       "            </script>\n",
       "        </div>"
      ]
     },
     "metadata": {},
     "output_type": "display_data"
    }
   ],
   "source": [
    "df.iplot(kind='bubble',x='A',y='B',size='C')"
   ]
  },
  {
   "cell_type": "markdown",
   "metadata": {},
   "source": [
    "## scatter_matrix()\n",
    "\n",
    "Similar to sns.pairplot()"
   ]
  },
  {
   "cell_type": "code",
   "execution_count": 19,
   "metadata": {},
   "outputs": [
    {
     "data": {
      "application/vnd.plotly.v1+json": {
       "config": {
        "linkText": "Export to plot.ly",
        "plotlyServerURL": "https://plot.ly",
        "showLink": true
       },
       "data": [
        {
         "histfunc": "count",
         "histnorm": "",
         "marker": {
          "color": "rgba(255, 153, 51, 1.0)",
          "line": {
           "color": "#4D5663",
           "width": 1.3
          }
         },
         "name": "A",
         "nbinsx": 10,
         "opacity": 0.8,
         "orientation": "v",
         "type": "histogram",
         "x": [
          0.17082491155154642,
          0.9733848448503118,
          -0.20854129260332577,
          0.5587619427877866,
          -0.6615722914955411,
          0.5121643351474225,
          0.13130368234342465,
          -0.035220320669247594,
          -0.369963306984912,
          0.5729958692785618,
          -0.09210955386424999,
          -0.5373937615298153,
          -2.01724661384686,
          -0.8987714595694133,
          1.9467057852407064,
          0.5164427357241107,
          -1.1635408247005044,
          -0.5448724578467126,
          -0.46264624189382997,
          -1.9179493009778803,
          2.7714798339031748,
          0.3071036700992901,
          0.029286680479822094,
          0.5515474197907069,
          0.09403663372726255,
          -0.0687491880537863,
          0.7060426747565378,
          -0.5487359269643622,
          1.150545299499611,
          -0.08727405512422448,
          -0.04865263507570622,
          -1.3241004736370685,
          1.8203440910427022,
          1.0249235499982265,
          0.07530077677831443,
          -0.3983518441111155,
          0.9243840081896711,
          -2.1537998401775726,
          -0.7480917035901087,
          -1.8064452966690792,
          0.7434603261362684,
          -0.30218021518186455,
          -1.5446446180825437,
          -1.1220120169755035,
          0.9827691531143342,
          1.1921574743054213,
          0.6442449133259306,
          -0.3569707490839753,
          0.8461417905701312,
          -2.19250392792535,
          0.5652808285965437,
          -0.1344062661716792,
          0.3374266044185731,
          0.11501457230929552,
          -1.03432476125489,
          0.8786458309333575,
          -0.8432228331014776,
          1.5209334906428773,
          -0.13490408553921363,
          1.1362711489480044,
          -0.7164362335444737,
          1.8944088793920375,
          -0.8392029122803014,
          0.8870880475536355,
          -0.22471697569343044,
          -0.21386527195545157,
          -0.588424204629573,
          -2.333080303181406,
          0.6864778911900746,
          0.9061942198927625,
          -0.6362395296227634,
          0.2775335519572494,
          0.6663808474363447,
          1.451569505775331,
          0.25971128472701793,
          -0.22258903844656566,
          0.11690251426354925,
          -0.4037173564209437,
          -0.3616918130026108,
          0.26753011495892737,
          -0.3330809158884787,
          -0.6136738297829322,
          2.3977626706818524,
          0.008681338043572347,
          0.015381712961214473,
          -0.34992740870667255,
          -0.9826085890796246,
          0.10960702639982886,
          0.3045237793180047,
          0.9456287376200995,
          -1.2666023905791035,
          -0.12604263057332346,
          1.3716201125923573,
          -0.772097226537111,
          0.742127190729917,
          0.5613431520440979,
          0.29713781861089317,
          0.11467605932335413,
          1.1177885105058485,
          1.3404619399594997
         ],
         "xaxis": "x",
         "yaxis": "y"
        },
        {
         "line": {
          "color": "rgba(128, 128, 128, 1.0)",
          "dash": "solid",
          "shape": "linear",
          "width": 1.3
         },
         "marker": {
          "size": 2,
          "symbol": "circle"
         },
         "mode": "markers",
         "name": "A",
         "text": "",
         "type": "scatter",
         "x": [
          -1.0469343486083953,
          -1.459788614380184,
          -0.8948475098518478,
          1.0189272429513767,
          0.896482444363568,
          -0.8499088047524456,
          0.024902896053242213,
          -1.2539480497063156,
          1.1080455661815205,
          0.6039706085303771,
          1.1462550302790881,
          0.3383978416192203,
          -1.1703911847275679,
          -0.4506090304627199,
          -1.7885796092722501,
          1.9740354776517566,
          -0.5589227900109863,
          -1.5059038409979402,
          0.06801135045561885,
          -0.5424102393537328,
          -0.12596595257673204,
          0.07766803062063887,
          1.08742149533797,
          -0.5276402294420803,
          -0.5134796696744759,
          -0.00885507836116481,
          -1.9179898136723204,
          0.015978142026482386,
          0.596272380271323,
          1.096940104175222,
          -0.9701160214948572,
          1.1473044174962768,
          -0.8497300858779225,
          0.17745707004204264,
          1.3040067873187786,
          0.8949482052732047,
          -0.07886388560014475,
          -3.561507122896207,
          1.5323073119190378,
          -1.0106015855491841,
          1.0565480505208455,
          0.7105695536942717,
          -0.797211235009638,
          0.7998529314333869,
          -0.15244947297596764,
          -0.17741142705640117,
          0.039603889157412094,
          -1.2500332755144197,
          0.07917645744092283,
          1.336754302137174,
          0.603138128276989,
          0.18426981447960314,
          -0.6495388957173431,
          -1.6313915348260464,
          -0.2982863158078925,
          0.37314891494260083,
          0.24879635716302964,
          0.5860706811766647,
          -0.6610205762239924,
          -1.190788182194642,
          -0.6409061943286544,
          0.462293155947097,
          -1.3089069803765623,
          1.6341450528765762,
          -1.1338904173028463,
          -0.5039350542364665,
          0.0840200054861493,
          -0.2726865642592458,
          1.2856192693433823,
          0.29240349533422016,
          0.9006195057266302,
          -0.604269563912645,
          1.6869476552089377,
          0.5361783937936255,
          1.0150365809424875,
          0.09077509679183086,
          0.9872278379038406,
          -0.5543308540711545,
          0.15213184418788492,
          -0.8772278719188741,
          0.2931996962880976,
          -0.2037623234733791,
          -0.7928436197071106,
          -1.0802896101213275,
          -1.3279711785816812,
          0.08431434618031589,
          0.596991906053773,
          0.14488046829607382,
          0.8075704683875163,
          -2.8380301262811347,
          1.1722548193519313,
          0.6474126943040964,
          -0.4074743070915865,
          -0.810311666954102,
          -1.2017508067688711,
          1.6032888870895288,
          0.15228854207435788,
          0.800145725655405,
          -0.7282201700792078,
          1.1399079188302463
         ],
         "xaxis": "x2",
         "y": [
          0.17082491155154642,
          0.9733848448503118,
          -0.20854129260332577,
          0.5587619427877866,
          -0.6615722914955411,
          0.5121643351474225,
          0.13130368234342465,
          -0.035220320669247594,
          -0.369963306984912,
          0.5729958692785618,
          -0.09210955386424999,
          -0.5373937615298153,
          -2.01724661384686,
          -0.8987714595694133,
          1.9467057852407064,
          0.5164427357241107,
          -1.1635408247005044,
          -0.5448724578467126,
          -0.46264624189382997,
          -1.9179493009778803,
          2.7714798339031748,
          0.3071036700992901,
          0.029286680479822094,
          0.5515474197907069,
          0.09403663372726255,
          -0.0687491880537863,
          0.7060426747565378,
          -0.5487359269643622,
          1.150545299499611,
          -0.08727405512422448,
          -0.04865263507570622,
          -1.3241004736370685,
          1.8203440910427022,
          1.0249235499982265,
          0.07530077677831443,
          -0.3983518441111155,
          0.9243840081896711,
          -2.1537998401775726,
          -0.7480917035901087,
          -1.8064452966690792,
          0.7434603261362684,
          -0.30218021518186455,
          -1.5446446180825437,
          -1.1220120169755035,
          0.9827691531143342,
          1.1921574743054213,
          0.6442449133259306,
          -0.3569707490839753,
          0.8461417905701312,
          -2.19250392792535,
          0.5652808285965437,
          -0.1344062661716792,
          0.3374266044185731,
          0.11501457230929552,
          -1.03432476125489,
          0.8786458309333575,
          -0.8432228331014776,
          1.5209334906428773,
          -0.13490408553921363,
          1.1362711489480044,
          -0.7164362335444737,
          1.8944088793920375,
          -0.8392029122803014,
          0.8870880475536355,
          -0.22471697569343044,
          -0.21386527195545157,
          -0.588424204629573,
          -2.333080303181406,
          0.6864778911900746,
          0.9061942198927625,
          -0.6362395296227634,
          0.2775335519572494,
          0.6663808474363447,
          1.451569505775331,
          0.25971128472701793,
          -0.22258903844656566,
          0.11690251426354925,
          -0.4037173564209437,
          -0.3616918130026108,
          0.26753011495892737,
          -0.3330809158884787,
          -0.6136738297829322,
          2.3977626706818524,
          0.008681338043572347,
          0.015381712961214473,
          -0.34992740870667255,
          -0.9826085890796246,
          0.10960702639982886,
          0.3045237793180047,
          0.9456287376200995,
          -1.2666023905791035,
          -0.12604263057332346,
          1.3716201125923573,
          -0.772097226537111,
          0.742127190729917,
          0.5613431520440979,
          0.29713781861089317,
          0.11467605932335413,
          1.1177885105058485,
          1.3404619399594997
         ],
         "yaxis": "y2"
        },
        {
         "line": {
          "color": "rgba(128, 128, 128, 1.0)",
          "dash": "solid",
          "shape": "linear",
          "width": 1.3
         },
         "marker": {
          "size": 2,
          "symbol": "circle"
         },
         "mode": "markers",
         "name": "A",
         "text": "",
         "type": "scatter",
         "x": [
          -1.083409260510116,
          -0.6233826702344707,
          -1.487958730006341,
          1.4500902860606606,
          0.5184183544958612,
          -0.06869007134045814,
          -0.7586693473176449,
          0.3181526581176076,
          -0.12139583016252287,
          0.9003495579818129,
          -0.345938799172238,
          -0.58724181956537,
          -0.14660194403232946,
          -1.5411917176825616,
          0.25346117461220025,
          -0.12081686773271984,
          -0.213716356271708,
          0.5109308970756155,
          -0.8206296145865845,
          0.32325510299063276,
          0.7165393417813816,
          -0.31662965487129874,
          -0.5833987772015554,
          0.7422554741042364,
          0.4158122675049731,
          -0.4320530807798729,
          -0.05444825497343422,
          0.26429190594354013,
          -0.27606874197166625,
          -0.8367968655641479,
          -0.80565305751109,
          0.8546336441528956,
          1.2682314465013793,
          -0.040936477390389206,
          0.2116206328936026,
          1.1296501302678497,
          -1.9970266382801474,
          -0.5872956123135975,
          -1.971624796598765,
          0.12580442391927454,
          0.3411147221935644,
          -0.5910392048903733,
          0.012683432683106987,
          -0.6288303749719821,
          -1.4667434856849577,
          -0.4244616688571402,
          0.8696058283364013,
          -0.7818727333120795,
          1.6204005308658702,
          0.5016576750261891,
          0.023099897673051886,
          -0.3557557595377423,
          1.0909284059681899,
          -1.113372981243506,
          1.6069882781359834,
          1.1436732452635934,
          -0.7371322267178182,
          1.3664942790622177,
          0.579531518254415,
          0.35980486027619685,
          -1.2000381769631732,
          -0.881465076826653,
          -0.4313393444341336,
          1.0505165757890922,
          2.815771448578094,
          0.4399490486483119,
          -0.9236873107736241,
          0.3238433158683018,
          1.1837054803635867,
          -1.044475958212905,
          0.041344126434387965,
          -0.29393595883720447,
          0.16436652485478864,
          1.0765681398764257,
          -0.020650275021764117,
          -0.7619722931091294,
          -1.1001753121084101,
          1.0854618548482229,
          0.2595781994149842,
          -0.7327897730991297,
          -1.6812401554357397,
          -0.8118101426052025,
          0.6607834765074295,
          0.09710505667980361,
          -0.2780418030555889,
          0.2816272937349905,
          0.06167367339821572,
          -0.32763346930724774,
          -0.20834731656065203,
          0.16327110479821202,
          -1.1015478454920364,
          -0.0005602014611263928,
          -1.277038315826333,
          1.1272543262294106,
          0.348073654247844,
          1.2178138405318408,
          0.45632543412080767,
          1.9242090247402113,
          -0.3832658552733305,
          -0.16108471753715756
         ],
         "xaxis": "x3",
         "y": [
          0.17082491155154642,
          0.9733848448503118,
          -0.20854129260332577,
          0.5587619427877866,
          -0.6615722914955411,
          0.5121643351474225,
          0.13130368234342465,
          -0.035220320669247594,
          -0.369963306984912,
          0.5729958692785618,
          -0.09210955386424999,
          -0.5373937615298153,
          -2.01724661384686,
          -0.8987714595694133,
          1.9467057852407064,
          0.5164427357241107,
          -1.1635408247005044,
          -0.5448724578467126,
          -0.46264624189382997,
          -1.9179493009778803,
          2.7714798339031748,
          0.3071036700992901,
          0.029286680479822094,
          0.5515474197907069,
          0.09403663372726255,
          -0.0687491880537863,
          0.7060426747565378,
          -0.5487359269643622,
          1.150545299499611,
          -0.08727405512422448,
          -0.04865263507570622,
          -1.3241004736370685,
          1.8203440910427022,
          1.0249235499982265,
          0.07530077677831443,
          -0.3983518441111155,
          0.9243840081896711,
          -2.1537998401775726,
          -0.7480917035901087,
          -1.8064452966690792,
          0.7434603261362684,
          -0.30218021518186455,
          -1.5446446180825437,
          -1.1220120169755035,
          0.9827691531143342,
          1.1921574743054213,
          0.6442449133259306,
          -0.3569707490839753,
          0.8461417905701312,
          -2.19250392792535,
          0.5652808285965437,
          -0.1344062661716792,
          0.3374266044185731,
          0.11501457230929552,
          -1.03432476125489,
          0.8786458309333575,
          -0.8432228331014776,
          1.5209334906428773,
          -0.13490408553921363,
          1.1362711489480044,
          -0.7164362335444737,
          1.8944088793920375,
          -0.8392029122803014,
          0.8870880475536355,
          -0.22471697569343044,
          -0.21386527195545157,
          -0.588424204629573,
          -2.333080303181406,
          0.6864778911900746,
          0.9061942198927625,
          -0.6362395296227634,
          0.2775335519572494,
          0.6663808474363447,
          1.451569505775331,
          0.25971128472701793,
          -0.22258903844656566,
          0.11690251426354925,
          -0.4037173564209437,
          -0.3616918130026108,
          0.26753011495892737,
          -0.3330809158884787,
          -0.6136738297829322,
          2.3977626706818524,
          0.008681338043572347,
          0.015381712961214473,
          -0.34992740870667255,
          -0.9826085890796246,
          0.10960702639982886,
          0.3045237793180047,
          0.9456287376200995,
          -1.2666023905791035,
          -0.12604263057332346,
          1.3716201125923573,
          -0.772097226537111,
          0.742127190729917,
          0.5613431520440979,
          0.29713781861089317,
          0.11467605932335413,
          1.1177885105058485,
          1.3404619399594997
         ],
         "yaxis": "y3"
        },
        {
         "line": {
          "color": "rgba(128, 128, 128, 1.0)",
          "dash": "solid",
          "shape": "linear",
          "width": 1.3
         },
         "marker": {
          "size": 2,
          "symbol": "circle"
         },
         "mode": "markers",
         "name": "A",
         "text": "",
         "type": "scatter",
         "x": [
          0.5166946384955043,
          0.48556422515707554,
          0.45951540982459593,
          -1.214442327029582,
          1.062399804740602,
          0.17107336991352248,
          0.604615881443146,
          1.0292440860227963,
          0.3368868614667589,
          0.1736338037301056,
          -0.05148581901736868,
          -0.6628606535777364,
          -0.07177475787045608,
          0.3957799495770412,
          0.8570362933052382,
          1.5168619616720382,
          -1.201565793644591,
          0.9981646319387389,
          -0.5234028077559358,
          -0.21553688266323578,
          1.127420796331115,
          -0.43583657055680136,
          -1.2026878581520406,
          -0.2556029225727095,
          -1.1140712365088106,
          -0.9202653163058435,
          -0.2363872754886624,
          -0.8671181437058871,
          -0.1852391138551511,
          -1.3868279992114436,
          0.05590318505435606,
          -0.3766514021416788,
          -0.8782588203413113,
          -0.5642460299986506,
          1.974125914384826,
          0.3726001771684393,
          -0.5147463611381171,
          -1.2514621226682439,
          -0.2834583529937567,
          -1.2526718111666866,
          0.44675958279051314,
          -0.49555993011692934,
          1.365002560886047,
          -0.006843071507508393,
          -0.14071992723650367,
          -1.2099244335284973,
          -1.1556304501044348,
          0.41317746094731167,
          -0.3225582903687393,
          -0.1554184983211697,
          1.363139017505943,
          -0.43738050423246605,
          0.5682412925538698,
          1.3919143496670032,
          -0.8242873002424768,
          -1.4693611871874401,
          0.25215251101374603,
          -1.7434706309489927,
          0.7069313544002513,
          1.0947207956242229,
          -0.3531683586049207,
          0.378841776935647,
          -1.7708489640173974,
          0.35640539263581167,
          -1.8660080590582062,
          -0.12518326442461947,
          -1.4993530363032441,
          -1.1223625660187064,
          0.5029439763474637,
          -1.013310203330969,
          0.23348057069442,
          -1.0179051752050474,
          0.46124435489886595,
          0.25481059406866796,
          -0.8916332547981175,
          -0.4459757563014239,
          -0.5591989767595353,
          -1.0533156467395162,
          0.5738430064975556,
          -0.34503373424769523,
          0.32597028749063256,
          -0.962809880788565,
          0.09551137204303375,
          0.004723010771319971,
          -0.6719729741927057,
          0.4413909278835191,
          -0.1725927841084922,
          -0.7505623805576361,
          2.0750053689560692,
          0.8391598067996842,
          -1.257855953669524,
          -0.0922309719635119,
          0.1984604300175499,
          0.022836073467580237,
          1.9085175356162156,
          0.9370201660534192,
          -0.09424740535910009,
          0.2734849208368586,
          0.9736539827350027,
          0.03847078746525226
         ],
         "xaxis": "x4",
         "y": [
          0.17082491155154642,
          0.9733848448503118,
          -0.20854129260332577,
          0.5587619427877866,
          -0.6615722914955411,
          0.5121643351474225,
          0.13130368234342465,
          -0.035220320669247594,
          -0.369963306984912,
          0.5729958692785618,
          -0.09210955386424999,
          -0.5373937615298153,
          -2.01724661384686,
          -0.8987714595694133,
          1.9467057852407064,
          0.5164427357241107,
          -1.1635408247005044,
          -0.5448724578467126,
          -0.46264624189382997,
          -1.9179493009778803,
          2.7714798339031748,
          0.3071036700992901,
          0.029286680479822094,
          0.5515474197907069,
          0.09403663372726255,
          -0.0687491880537863,
          0.7060426747565378,
          -0.5487359269643622,
          1.150545299499611,
          -0.08727405512422448,
          -0.04865263507570622,
          -1.3241004736370685,
          1.8203440910427022,
          1.0249235499982265,
          0.07530077677831443,
          -0.3983518441111155,
          0.9243840081896711,
          -2.1537998401775726,
          -0.7480917035901087,
          -1.8064452966690792,
          0.7434603261362684,
          -0.30218021518186455,
          -1.5446446180825437,
          -1.1220120169755035,
          0.9827691531143342,
          1.1921574743054213,
          0.6442449133259306,
          -0.3569707490839753,
          0.8461417905701312,
          -2.19250392792535,
          0.5652808285965437,
          -0.1344062661716792,
          0.3374266044185731,
          0.11501457230929552,
          -1.03432476125489,
          0.8786458309333575,
          -0.8432228331014776,
          1.5209334906428773,
          -0.13490408553921363,
          1.1362711489480044,
          -0.7164362335444737,
          1.8944088793920375,
          -0.8392029122803014,
          0.8870880475536355,
          -0.22471697569343044,
          -0.21386527195545157,
          -0.588424204629573,
          -2.333080303181406,
          0.6864778911900746,
          0.9061942198927625,
          -0.6362395296227634,
          0.2775335519572494,
          0.6663808474363447,
          1.451569505775331,
          0.25971128472701793,
          -0.22258903844656566,
          0.11690251426354925,
          -0.4037173564209437,
          -0.3616918130026108,
          0.26753011495892737,
          -0.3330809158884787,
          -0.6136738297829322,
          2.3977626706818524,
          0.008681338043572347,
          0.015381712961214473,
          -0.34992740870667255,
          -0.9826085890796246,
          0.10960702639982886,
          0.3045237793180047,
          0.9456287376200995,
          -1.2666023905791035,
          -0.12604263057332346,
          1.3716201125923573,
          -0.772097226537111,
          0.742127190729917,
          0.5613431520440979,
          0.29713781861089317,
          0.11467605932335413,
          1.1177885105058485,
          1.3404619399594997
         ],
         "yaxis": "y4"
        },
        {
         "line": {
          "color": "rgba(128, 128, 128, 1.0)",
          "dash": "solid",
          "shape": "linear",
          "width": 1.3
         },
         "marker": {
          "size": 2,
          "symbol": "circle"
         },
         "mode": "markers",
         "name": "B",
         "text": "",
         "type": "scatter",
         "x": [
          0.17082491155154642,
          0.9733848448503118,
          -0.20854129260332577,
          0.5587619427877866,
          -0.6615722914955411,
          0.5121643351474225,
          0.13130368234342465,
          -0.035220320669247594,
          -0.369963306984912,
          0.5729958692785618,
          -0.09210955386424999,
          -0.5373937615298153,
          -2.01724661384686,
          -0.8987714595694133,
          1.9467057852407064,
          0.5164427357241107,
          -1.1635408247005044,
          -0.5448724578467126,
          -0.46264624189382997,
          -1.9179493009778803,
          2.7714798339031748,
          0.3071036700992901,
          0.029286680479822094,
          0.5515474197907069,
          0.09403663372726255,
          -0.0687491880537863,
          0.7060426747565378,
          -0.5487359269643622,
          1.150545299499611,
          -0.08727405512422448,
          -0.04865263507570622,
          -1.3241004736370685,
          1.8203440910427022,
          1.0249235499982265,
          0.07530077677831443,
          -0.3983518441111155,
          0.9243840081896711,
          -2.1537998401775726,
          -0.7480917035901087,
          -1.8064452966690792,
          0.7434603261362684,
          -0.30218021518186455,
          -1.5446446180825437,
          -1.1220120169755035,
          0.9827691531143342,
          1.1921574743054213,
          0.6442449133259306,
          -0.3569707490839753,
          0.8461417905701312,
          -2.19250392792535,
          0.5652808285965437,
          -0.1344062661716792,
          0.3374266044185731,
          0.11501457230929552,
          -1.03432476125489,
          0.8786458309333575,
          -0.8432228331014776,
          1.5209334906428773,
          -0.13490408553921363,
          1.1362711489480044,
          -0.7164362335444737,
          1.8944088793920375,
          -0.8392029122803014,
          0.8870880475536355,
          -0.22471697569343044,
          -0.21386527195545157,
          -0.588424204629573,
          -2.333080303181406,
          0.6864778911900746,
          0.9061942198927625,
          -0.6362395296227634,
          0.2775335519572494,
          0.6663808474363447,
          1.451569505775331,
          0.25971128472701793,
          -0.22258903844656566,
          0.11690251426354925,
          -0.4037173564209437,
          -0.3616918130026108,
          0.26753011495892737,
          -0.3330809158884787,
          -0.6136738297829322,
          2.3977626706818524,
          0.008681338043572347,
          0.015381712961214473,
          -0.34992740870667255,
          -0.9826085890796246,
          0.10960702639982886,
          0.3045237793180047,
          0.9456287376200995,
          -1.2666023905791035,
          -0.12604263057332346,
          1.3716201125923573,
          -0.772097226537111,
          0.742127190729917,
          0.5613431520440979,
          0.29713781861089317,
          0.11467605932335413,
          1.1177885105058485,
          1.3404619399594997
         ],
         "xaxis": "x5",
         "y": [
          -1.0469343486083953,
          -1.459788614380184,
          -0.8948475098518478,
          1.0189272429513767,
          0.896482444363568,
          -0.8499088047524456,
          0.024902896053242213,
          -1.2539480497063156,
          1.1080455661815205,
          0.6039706085303771,
          1.1462550302790881,
          0.3383978416192203,
          -1.1703911847275679,
          -0.4506090304627199,
          -1.7885796092722501,
          1.9740354776517566,
          -0.5589227900109863,
          -1.5059038409979402,
          0.06801135045561885,
          -0.5424102393537328,
          -0.12596595257673204,
          0.07766803062063887,
          1.08742149533797,
          -0.5276402294420803,
          -0.5134796696744759,
          -0.00885507836116481,
          -1.9179898136723204,
          0.015978142026482386,
          0.596272380271323,
          1.096940104175222,
          -0.9701160214948572,
          1.1473044174962768,
          -0.8497300858779225,
          0.17745707004204264,
          1.3040067873187786,
          0.8949482052732047,
          -0.07886388560014475,
          -3.561507122896207,
          1.5323073119190378,
          -1.0106015855491841,
          1.0565480505208455,
          0.7105695536942717,
          -0.797211235009638,
          0.7998529314333869,
          -0.15244947297596764,
          -0.17741142705640117,
          0.039603889157412094,
          -1.2500332755144197,
          0.07917645744092283,
          1.336754302137174,
          0.603138128276989,
          0.18426981447960314,
          -0.6495388957173431,
          -1.6313915348260464,
          -0.2982863158078925,
          0.37314891494260083,
          0.24879635716302964,
          0.5860706811766647,
          -0.6610205762239924,
          -1.190788182194642,
          -0.6409061943286544,
          0.462293155947097,
          -1.3089069803765623,
          1.6341450528765762,
          -1.1338904173028463,
          -0.5039350542364665,
          0.0840200054861493,
          -0.2726865642592458,
          1.2856192693433823,
          0.29240349533422016,
          0.9006195057266302,
          -0.604269563912645,
          1.6869476552089377,
          0.5361783937936255,
          1.0150365809424875,
          0.09077509679183086,
          0.9872278379038406,
          -0.5543308540711545,
          0.15213184418788492,
          -0.8772278719188741,
          0.2931996962880976,
          -0.2037623234733791,
          -0.7928436197071106,
          -1.0802896101213275,
          -1.3279711785816812,
          0.08431434618031589,
          0.596991906053773,
          0.14488046829607382,
          0.8075704683875163,
          -2.8380301262811347,
          1.1722548193519313,
          0.6474126943040964,
          -0.4074743070915865,
          -0.810311666954102,
          -1.2017508067688711,
          1.6032888870895288,
          0.15228854207435788,
          0.800145725655405,
          -0.7282201700792078,
          1.1399079188302463
         ],
         "yaxis": "y5"
        },
        {
         "histfunc": "count",
         "histnorm": "",
         "marker": {
          "color": "rgba(55, 128, 191, 1.0)",
          "line": {
           "color": "#4D5663",
           "width": 1.3
          }
         },
         "name": "B",
         "nbinsx": 10,
         "opacity": 0.8,
         "orientation": "v",
         "type": "histogram",
         "x": [
          -1.0469343486083953,
          -1.459788614380184,
          -0.8948475098518478,
          1.0189272429513767,
          0.896482444363568,
          -0.8499088047524456,
          0.024902896053242213,
          -1.2539480497063156,
          1.1080455661815205,
          0.6039706085303771,
          1.1462550302790881,
          0.3383978416192203,
          -1.1703911847275679,
          -0.4506090304627199,
          -1.7885796092722501,
          1.9740354776517566,
          -0.5589227900109863,
          -1.5059038409979402,
          0.06801135045561885,
          -0.5424102393537328,
          -0.12596595257673204,
          0.07766803062063887,
          1.08742149533797,
          -0.5276402294420803,
          -0.5134796696744759,
          -0.00885507836116481,
          -1.9179898136723204,
          0.015978142026482386,
          0.596272380271323,
          1.096940104175222,
          -0.9701160214948572,
          1.1473044174962768,
          -0.8497300858779225,
          0.17745707004204264,
          1.3040067873187786,
          0.8949482052732047,
          -0.07886388560014475,
          -3.561507122896207,
          1.5323073119190378,
          -1.0106015855491841,
          1.0565480505208455,
          0.7105695536942717,
          -0.797211235009638,
          0.7998529314333869,
          -0.15244947297596764,
          -0.17741142705640117,
          0.039603889157412094,
          -1.2500332755144197,
          0.07917645744092283,
          1.336754302137174,
          0.603138128276989,
          0.18426981447960314,
          -0.6495388957173431,
          -1.6313915348260464,
          -0.2982863158078925,
          0.37314891494260083,
          0.24879635716302964,
          0.5860706811766647,
          -0.6610205762239924,
          -1.190788182194642,
          -0.6409061943286544,
          0.462293155947097,
          -1.3089069803765623,
          1.6341450528765762,
          -1.1338904173028463,
          -0.5039350542364665,
          0.0840200054861493,
          -0.2726865642592458,
          1.2856192693433823,
          0.29240349533422016,
          0.9006195057266302,
          -0.604269563912645,
          1.6869476552089377,
          0.5361783937936255,
          1.0150365809424875,
          0.09077509679183086,
          0.9872278379038406,
          -0.5543308540711545,
          0.15213184418788492,
          -0.8772278719188741,
          0.2931996962880976,
          -0.2037623234733791,
          -0.7928436197071106,
          -1.0802896101213275,
          -1.3279711785816812,
          0.08431434618031589,
          0.596991906053773,
          0.14488046829607382,
          0.8075704683875163,
          -2.8380301262811347,
          1.1722548193519313,
          0.6474126943040964,
          -0.4074743070915865,
          -0.810311666954102,
          -1.2017508067688711,
          1.6032888870895288,
          0.15228854207435788,
          0.800145725655405,
          -0.7282201700792078,
          1.1399079188302463
         ],
         "xaxis": "x6",
         "yaxis": "y6"
        },
        {
         "line": {
          "color": "rgba(128, 128, 128, 1.0)",
          "dash": "solid",
          "shape": "linear",
          "width": 1.3
         },
         "marker": {
          "size": 2,
          "symbol": "circle"
         },
         "mode": "markers",
         "name": "B",
         "text": "",
         "type": "scatter",
         "x": [
          -1.083409260510116,
          -0.6233826702344707,
          -1.487958730006341,
          1.4500902860606606,
          0.5184183544958612,
          -0.06869007134045814,
          -0.7586693473176449,
          0.3181526581176076,
          -0.12139583016252287,
          0.9003495579818129,
          -0.345938799172238,
          -0.58724181956537,
          -0.14660194403232946,
          -1.5411917176825616,
          0.25346117461220025,
          -0.12081686773271984,
          -0.213716356271708,
          0.5109308970756155,
          -0.8206296145865845,
          0.32325510299063276,
          0.7165393417813816,
          -0.31662965487129874,
          -0.5833987772015554,
          0.7422554741042364,
          0.4158122675049731,
          -0.4320530807798729,
          -0.05444825497343422,
          0.26429190594354013,
          -0.27606874197166625,
          -0.8367968655641479,
          -0.80565305751109,
          0.8546336441528956,
          1.2682314465013793,
          -0.040936477390389206,
          0.2116206328936026,
          1.1296501302678497,
          -1.9970266382801474,
          -0.5872956123135975,
          -1.971624796598765,
          0.12580442391927454,
          0.3411147221935644,
          -0.5910392048903733,
          0.012683432683106987,
          -0.6288303749719821,
          -1.4667434856849577,
          -0.4244616688571402,
          0.8696058283364013,
          -0.7818727333120795,
          1.6204005308658702,
          0.5016576750261891,
          0.023099897673051886,
          -0.3557557595377423,
          1.0909284059681899,
          -1.113372981243506,
          1.6069882781359834,
          1.1436732452635934,
          -0.7371322267178182,
          1.3664942790622177,
          0.579531518254415,
          0.35980486027619685,
          -1.2000381769631732,
          -0.881465076826653,
          -0.4313393444341336,
          1.0505165757890922,
          2.815771448578094,
          0.4399490486483119,
          -0.9236873107736241,
          0.3238433158683018,
          1.1837054803635867,
          -1.044475958212905,
          0.041344126434387965,
          -0.29393595883720447,
          0.16436652485478864,
          1.0765681398764257,
          -0.020650275021764117,
          -0.7619722931091294,
          -1.1001753121084101,
          1.0854618548482229,
          0.2595781994149842,
          -0.7327897730991297,
          -1.6812401554357397,
          -0.8118101426052025,
          0.6607834765074295,
          0.09710505667980361,
          -0.2780418030555889,
          0.2816272937349905,
          0.06167367339821572,
          -0.32763346930724774,
          -0.20834731656065203,
          0.16327110479821202,
          -1.1015478454920364,
          -0.0005602014611263928,
          -1.277038315826333,
          1.1272543262294106,
          0.348073654247844,
          1.2178138405318408,
          0.45632543412080767,
          1.9242090247402113,
          -0.3832658552733305,
          -0.16108471753715756
         ],
         "xaxis": "x7",
         "y": [
          -1.0469343486083953,
          -1.459788614380184,
          -0.8948475098518478,
          1.0189272429513767,
          0.896482444363568,
          -0.8499088047524456,
          0.024902896053242213,
          -1.2539480497063156,
          1.1080455661815205,
          0.6039706085303771,
          1.1462550302790881,
          0.3383978416192203,
          -1.1703911847275679,
          -0.4506090304627199,
          -1.7885796092722501,
          1.9740354776517566,
          -0.5589227900109863,
          -1.5059038409979402,
          0.06801135045561885,
          -0.5424102393537328,
          -0.12596595257673204,
          0.07766803062063887,
          1.08742149533797,
          -0.5276402294420803,
          -0.5134796696744759,
          -0.00885507836116481,
          -1.9179898136723204,
          0.015978142026482386,
          0.596272380271323,
          1.096940104175222,
          -0.9701160214948572,
          1.1473044174962768,
          -0.8497300858779225,
          0.17745707004204264,
          1.3040067873187786,
          0.8949482052732047,
          -0.07886388560014475,
          -3.561507122896207,
          1.5323073119190378,
          -1.0106015855491841,
          1.0565480505208455,
          0.7105695536942717,
          -0.797211235009638,
          0.7998529314333869,
          -0.15244947297596764,
          -0.17741142705640117,
          0.039603889157412094,
          -1.2500332755144197,
          0.07917645744092283,
          1.336754302137174,
          0.603138128276989,
          0.18426981447960314,
          -0.6495388957173431,
          -1.6313915348260464,
          -0.2982863158078925,
          0.37314891494260083,
          0.24879635716302964,
          0.5860706811766647,
          -0.6610205762239924,
          -1.190788182194642,
          -0.6409061943286544,
          0.462293155947097,
          -1.3089069803765623,
          1.6341450528765762,
          -1.1338904173028463,
          -0.5039350542364665,
          0.0840200054861493,
          -0.2726865642592458,
          1.2856192693433823,
          0.29240349533422016,
          0.9006195057266302,
          -0.604269563912645,
          1.6869476552089377,
          0.5361783937936255,
          1.0150365809424875,
          0.09077509679183086,
          0.9872278379038406,
          -0.5543308540711545,
          0.15213184418788492,
          -0.8772278719188741,
          0.2931996962880976,
          -0.2037623234733791,
          -0.7928436197071106,
          -1.0802896101213275,
          -1.3279711785816812,
          0.08431434618031589,
          0.596991906053773,
          0.14488046829607382,
          0.8075704683875163,
          -2.8380301262811347,
          1.1722548193519313,
          0.6474126943040964,
          -0.4074743070915865,
          -0.810311666954102,
          -1.2017508067688711,
          1.6032888870895288,
          0.15228854207435788,
          0.800145725655405,
          -0.7282201700792078,
          1.1399079188302463
         ],
         "yaxis": "y7"
        },
        {
         "line": {
          "color": "rgba(128, 128, 128, 1.0)",
          "dash": "solid",
          "shape": "linear",
          "width": 1.3
         },
         "marker": {
          "size": 2,
          "symbol": "circle"
         },
         "mode": "markers",
         "name": "B",
         "text": "",
         "type": "scatter",
         "x": [
          0.5166946384955043,
          0.48556422515707554,
          0.45951540982459593,
          -1.214442327029582,
          1.062399804740602,
          0.17107336991352248,
          0.604615881443146,
          1.0292440860227963,
          0.3368868614667589,
          0.1736338037301056,
          -0.05148581901736868,
          -0.6628606535777364,
          -0.07177475787045608,
          0.3957799495770412,
          0.8570362933052382,
          1.5168619616720382,
          -1.201565793644591,
          0.9981646319387389,
          -0.5234028077559358,
          -0.21553688266323578,
          1.127420796331115,
          -0.43583657055680136,
          -1.2026878581520406,
          -0.2556029225727095,
          -1.1140712365088106,
          -0.9202653163058435,
          -0.2363872754886624,
          -0.8671181437058871,
          -0.1852391138551511,
          -1.3868279992114436,
          0.05590318505435606,
          -0.3766514021416788,
          -0.8782588203413113,
          -0.5642460299986506,
          1.974125914384826,
          0.3726001771684393,
          -0.5147463611381171,
          -1.2514621226682439,
          -0.2834583529937567,
          -1.2526718111666866,
          0.44675958279051314,
          -0.49555993011692934,
          1.365002560886047,
          -0.006843071507508393,
          -0.14071992723650367,
          -1.2099244335284973,
          -1.1556304501044348,
          0.41317746094731167,
          -0.3225582903687393,
          -0.1554184983211697,
          1.363139017505943,
          -0.43738050423246605,
          0.5682412925538698,
          1.3919143496670032,
          -0.8242873002424768,
          -1.4693611871874401,
          0.25215251101374603,
          -1.7434706309489927,
          0.7069313544002513,
          1.0947207956242229,
          -0.3531683586049207,
          0.378841776935647,
          -1.7708489640173974,
          0.35640539263581167,
          -1.8660080590582062,
          -0.12518326442461947,
          -1.4993530363032441,
          -1.1223625660187064,
          0.5029439763474637,
          -1.013310203330969,
          0.23348057069442,
          -1.0179051752050474,
          0.46124435489886595,
          0.25481059406866796,
          -0.8916332547981175,
          -0.4459757563014239,
          -0.5591989767595353,
          -1.0533156467395162,
          0.5738430064975556,
          -0.34503373424769523,
          0.32597028749063256,
          -0.962809880788565,
          0.09551137204303375,
          0.004723010771319971,
          -0.6719729741927057,
          0.4413909278835191,
          -0.1725927841084922,
          -0.7505623805576361,
          2.0750053689560692,
          0.8391598067996842,
          -1.257855953669524,
          -0.0922309719635119,
          0.1984604300175499,
          0.022836073467580237,
          1.9085175356162156,
          0.9370201660534192,
          -0.09424740535910009,
          0.2734849208368586,
          0.9736539827350027,
          0.03847078746525226
         ],
         "xaxis": "x8",
         "y": [
          -1.0469343486083953,
          -1.459788614380184,
          -0.8948475098518478,
          1.0189272429513767,
          0.896482444363568,
          -0.8499088047524456,
          0.024902896053242213,
          -1.2539480497063156,
          1.1080455661815205,
          0.6039706085303771,
          1.1462550302790881,
          0.3383978416192203,
          -1.1703911847275679,
          -0.4506090304627199,
          -1.7885796092722501,
          1.9740354776517566,
          -0.5589227900109863,
          -1.5059038409979402,
          0.06801135045561885,
          -0.5424102393537328,
          -0.12596595257673204,
          0.07766803062063887,
          1.08742149533797,
          -0.5276402294420803,
          -0.5134796696744759,
          -0.00885507836116481,
          -1.9179898136723204,
          0.015978142026482386,
          0.596272380271323,
          1.096940104175222,
          -0.9701160214948572,
          1.1473044174962768,
          -0.8497300858779225,
          0.17745707004204264,
          1.3040067873187786,
          0.8949482052732047,
          -0.07886388560014475,
          -3.561507122896207,
          1.5323073119190378,
          -1.0106015855491841,
          1.0565480505208455,
          0.7105695536942717,
          -0.797211235009638,
          0.7998529314333869,
          -0.15244947297596764,
          -0.17741142705640117,
          0.039603889157412094,
          -1.2500332755144197,
          0.07917645744092283,
          1.336754302137174,
          0.603138128276989,
          0.18426981447960314,
          -0.6495388957173431,
          -1.6313915348260464,
          -0.2982863158078925,
          0.37314891494260083,
          0.24879635716302964,
          0.5860706811766647,
          -0.6610205762239924,
          -1.190788182194642,
          -0.6409061943286544,
          0.462293155947097,
          -1.3089069803765623,
          1.6341450528765762,
          -1.1338904173028463,
          -0.5039350542364665,
          0.0840200054861493,
          -0.2726865642592458,
          1.2856192693433823,
          0.29240349533422016,
          0.9006195057266302,
          -0.604269563912645,
          1.6869476552089377,
          0.5361783937936255,
          1.0150365809424875,
          0.09077509679183086,
          0.9872278379038406,
          -0.5543308540711545,
          0.15213184418788492,
          -0.8772278719188741,
          0.2931996962880976,
          -0.2037623234733791,
          -0.7928436197071106,
          -1.0802896101213275,
          -1.3279711785816812,
          0.08431434618031589,
          0.596991906053773,
          0.14488046829607382,
          0.8075704683875163,
          -2.8380301262811347,
          1.1722548193519313,
          0.6474126943040964,
          -0.4074743070915865,
          -0.810311666954102,
          -1.2017508067688711,
          1.6032888870895288,
          0.15228854207435788,
          0.800145725655405,
          -0.7282201700792078,
          1.1399079188302463
         ],
         "yaxis": "y8"
        },
        {
         "line": {
          "color": "rgba(128, 128, 128, 1.0)",
          "dash": "solid",
          "shape": "linear",
          "width": 1.3
         },
         "marker": {
          "size": 2,
          "symbol": "circle"
         },
         "mode": "markers",
         "name": "C",
         "text": "",
         "type": "scatter",
         "x": [
          0.17082491155154642,
          0.9733848448503118,
          -0.20854129260332577,
          0.5587619427877866,
          -0.6615722914955411,
          0.5121643351474225,
          0.13130368234342465,
          -0.035220320669247594,
          -0.369963306984912,
          0.5729958692785618,
          -0.09210955386424999,
          -0.5373937615298153,
          -2.01724661384686,
          -0.8987714595694133,
          1.9467057852407064,
          0.5164427357241107,
          -1.1635408247005044,
          -0.5448724578467126,
          -0.46264624189382997,
          -1.9179493009778803,
          2.7714798339031748,
          0.3071036700992901,
          0.029286680479822094,
          0.5515474197907069,
          0.09403663372726255,
          -0.0687491880537863,
          0.7060426747565378,
          -0.5487359269643622,
          1.150545299499611,
          -0.08727405512422448,
          -0.04865263507570622,
          -1.3241004736370685,
          1.8203440910427022,
          1.0249235499982265,
          0.07530077677831443,
          -0.3983518441111155,
          0.9243840081896711,
          -2.1537998401775726,
          -0.7480917035901087,
          -1.8064452966690792,
          0.7434603261362684,
          -0.30218021518186455,
          -1.5446446180825437,
          -1.1220120169755035,
          0.9827691531143342,
          1.1921574743054213,
          0.6442449133259306,
          -0.3569707490839753,
          0.8461417905701312,
          -2.19250392792535,
          0.5652808285965437,
          -0.1344062661716792,
          0.3374266044185731,
          0.11501457230929552,
          -1.03432476125489,
          0.8786458309333575,
          -0.8432228331014776,
          1.5209334906428773,
          -0.13490408553921363,
          1.1362711489480044,
          -0.7164362335444737,
          1.8944088793920375,
          -0.8392029122803014,
          0.8870880475536355,
          -0.22471697569343044,
          -0.21386527195545157,
          -0.588424204629573,
          -2.333080303181406,
          0.6864778911900746,
          0.9061942198927625,
          -0.6362395296227634,
          0.2775335519572494,
          0.6663808474363447,
          1.451569505775331,
          0.25971128472701793,
          -0.22258903844656566,
          0.11690251426354925,
          -0.4037173564209437,
          -0.3616918130026108,
          0.26753011495892737,
          -0.3330809158884787,
          -0.6136738297829322,
          2.3977626706818524,
          0.008681338043572347,
          0.015381712961214473,
          -0.34992740870667255,
          -0.9826085890796246,
          0.10960702639982886,
          0.3045237793180047,
          0.9456287376200995,
          -1.2666023905791035,
          -0.12604263057332346,
          1.3716201125923573,
          -0.772097226537111,
          0.742127190729917,
          0.5613431520440979,
          0.29713781861089317,
          0.11467605932335413,
          1.1177885105058485,
          1.3404619399594997
         ],
         "xaxis": "x9",
         "y": [
          -1.083409260510116,
          -0.6233826702344707,
          -1.487958730006341,
          1.4500902860606606,
          0.5184183544958612,
          -0.06869007134045814,
          -0.7586693473176449,
          0.3181526581176076,
          -0.12139583016252287,
          0.9003495579818129,
          -0.345938799172238,
          -0.58724181956537,
          -0.14660194403232946,
          -1.5411917176825616,
          0.25346117461220025,
          -0.12081686773271984,
          -0.213716356271708,
          0.5109308970756155,
          -0.8206296145865845,
          0.32325510299063276,
          0.7165393417813816,
          -0.31662965487129874,
          -0.5833987772015554,
          0.7422554741042364,
          0.4158122675049731,
          -0.4320530807798729,
          -0.05444825497343422,
          0.26429190594354013,
          -0.27606874197166625,
          -0.8367968655641479,
          -0.80565305751109,
          0.8546336441528956,
          1.2682314465013793,
          -0.040936477390389206,
          0.2116206328936026,
          1.1296501302678497,
          -1.9970266382801474,
          -0.5872956123135975,
          -1.971624796598765,
          0.12580442391927454,
          0.3411147221935644,
          -0.5910392048903733,
          0.012683432683106987,
          -0.6288303749719821,
          -1.4667434856849577,
          -0.4244616688571402,
          0.8696058283364013,
          -0.7818727333120795,
          1.6204005308658702,
          0.5016576750261891,
          0.023099897673051886,
          -0.3557557595377423,
          1.0909284059681899,
          -1.113372981243506,
          1.6069882781359834,
          1.1436732452635934,
          -0.7371322267178182,
          1.3664942790622177,
          0.579531518254415,
          0.35980486027619685,
          -1.2000381769631732,
          -0.881465076826653,
          -0.4313393444341336,
          1.0505165757890922,
          2.815771448578094,
          0.4399490486483119,
          -0.9236873107736241,
          0.3238433158683018,
          1.1837054803635867,
          -1.044475958212905,
          0.041344126434387965,
          -0.29393595883720447,
          0.16436652485478864,
          1.0765681398764257,
          -0.020650275021764117,
          -0.7619722931091294,
          -1.1001753121084101,
          1.0854618548482229,
          0.2595781994149842,
          -0.7327897730991297,
          -1.6812401554357397,
          -0.8118101426052025,
          0.6607834765074295,
          0.09710505667980361,
          -0.2780418030555889,
          0.2816272937349905,
          0.06167367339821572,
          -0.32763346930724774,
          -0.20834731656065203,
          0.16327110479821202,
          -1.1015478454920364,
          -0.0005602014611263928,
          -1.277038315826333,
          1.1272543262294106,
          0.348073654247844,
          1.2178138405318408,
          0.45632543412080767,
          1.9242090247402113,
          -0.3832658552733305,
          -0.16108471753715756
         ],
         "yaxis": "y9"
        },
        {
         "line": {
          "color": "rgba(128, 128, 128, 1.0)",
          "dash": "solid",
          "shape": "linear",
          "width": 1.3
         },
         "marker": {
          "size": 2,
          "symbol": "circle"
         },
         "mode": "markers",
         "name": "C",
         "text": "",
         "type": "scatter",
         "x": [
          -1.0469343486083953,
          -1.459788614380184,
          -0.8948475098518478,
          1.0189272429513767,
          0.896482444363568,
          -0.8499088047524456,
          0.024902896053242213,
          -1.2539480497063156,
          1.1080455661815205,
          0.6039706085303771,
          1.1462550302790881,
          0.3383978416192203,
          -1.1703911847275679,
          -0.4506090304627199,
          -1.7885796092722501,
          1.9740354776517566,
          -0.5589227900109863,
          -1.5059038409979402,
          0.06801135045561885,
          -0.5424102393537328,
          -0.12596595257673204,
          0.07766803062063887,
          1.08742149533797,
          -0.5276402294420803,
          -0.5134796696744759,
          -0.00885507836116481,
          -1.9179898136723204,
          0.015978142026482386,
          0.596272380271323,
          1.096940104175222,
          -0.9701160214948572,
          1.1473044174962768,
          -0.8497300858779225,
          0.17745707004204264,
          1.3040067873187786,
          0.8949482052732047,
          -0.07886388560014475,
          -3.561507122896207,
          1.5323073119190378,
          -1.0106015855491841,
          1.0565480505208455,
          0.7105695536942717,
          -0.797211235009638,
          0.7998529314333869,
          -0.15244947297596764,
          -0.17741142705640117,
          0.039603889157412094,
          -1.2500332755144197,
          0.07917645744092283,
          1.336754302137174,
          0.603138128276989,
          0.18426981447960314,
          -0.6495388957173431,
          -1.6313915348260464,
          -0.2982863158078925,
          0.37314891494260083,
          0.24879635716302964,
          0.5860706811766647,
          -0.6610205762239924,
          -1.190788182194642,
          -0.6409061943286544,
          0.462293155947097,
          -1.3089069803765623,
          1.6341450528765762,
          -1.1338904173028463,
          -0.5039350542364665,
          0.0840200054861493,
          -0.2726865642592458,
          1.2856192693433823,
          0.29240349533422016,
          0.9006195057266302,
          -0.604269563912645,
          1.6869476552089377,
          0.5361783937936255,
          1.0150365809424875,
          0.09077509679183086,
          0.9872278379038406,
          -0.5543308540711545,
          0.15213184418788492,
          -0.8772278719188741,
          0.2931996962880976,
          -0.2037623234733791,
          -0.7928436197071106,
          -1.0802896101213275,
          -1.3279711785816812,
          0.08431434618031589,
          0.596991906053773,
          0.14488046829607382,
          0.8075704683875163,
          -2.8380301262811347,
          1.1722548193519313,
          0.6474126943040964,
          -0.4074743070915865,
          -0.810311666954102,
          -1.2017508067688711,
          1.6032888870895288,
          0.15228854207435788,
          0.800145725655405,
          -0.7282201700792078,
          1.1399079188302463
         ],
         "xaxis": "x10",
         "y": [
          -1.083409260510116,
          -0.6233826702344707,
          -1.487958730006341,
          1.4500902860606606,
          0.5184183544958612,
          -0.06869007134045814,
          -0.7586693473176449,
          0.3181526581176076,
          -0.12139583016252287,
          0.9003495579818129,
          -0.345938799172238,
          -0.58724181956537,
          -0.14660194403232946,
          -1.5411917176825616,
          0.25346117461220025,
          -0.12081686773271984,
          -0.213716356271708,
          0.5109308970756155,
          -0.8206296145865845,
          0.32325510299063276,
          0.7165393417813816,
          -0.31662965487129874,
          -0.5833987772015554,
          0.7422554741042364,
          0.4158122675049731,
          -0.4320530807798729,
          -0.05444825497343422,
          0.26429190594354013,
          -0.27606874197166625,
          -0.8367968655641479,
          -0.80565305751109,
          0.8546336441528956,
          1.2682314465013793,
          -0.040936477390389206,
          0.2116206328936026,
          1.1296501302678497,
          -1.9970266382801474,
          -0.5872956123135975,
          -1.971624796598765,
          0.12580442391927454,
          0.3411147221935644,
          -0.5910392048903733,
          0.012683432683106987,
          -0.6288303749719821,
          -1.4667434856849577,
          -0.4244616688571402,
          0.8696058283364013,
          -0.7818727333120795,
          1.6204005308658702,
          0.5016576750261891,
          0.023099897673051886,
          -0.3557557595377423,
          1.0909284059681899,
          -1.113372981243506,
          1.6069882781359834,
          1.1436732452635934,
          -0.7371322267178182,
          1.3664942790622177,
          0.579531518254415,
          0.35980486027619685,
          -1.2000381769631732,
          -0.881465076826653,
          -0.4313393444341336,
          1.0505165757890922,
          2.815771448578094,
          0.4399490486483119,
          -0.9236873107736241,
          0.3238433158683018,
          1.1837054803635867,
          -1.044475958212905,
          0.041344126434387965,
          -0.29393595883720447,
          0.16436652485478864,
          1.0765681398764257,
          -0.020650275021764117,
          -0.7619722931091294,
          -1.1001753121084101,
          1.0854618548482229,
          0.2595781994149842,
          -0.7327897730991297,
          -1.6812401554357397,
          -0.8118101426052025,
          0.6607834765074295,
          0.09710505667980361,
          -0.2780418030555889,
          0.2816272937349905,
          0.06167367339821572,
          -0.32763346930724774,
          -0.20834731656065203,
          0.16327110479821202,
          -1.1015478454920364,
          -0.0005602014611263928,
          -1.277038315826333,
          1.1272543262294106,
          0.348073654247844,
          1.2178138405318408,
          0.45632543412080767,
          1.9242090247402113,
          -0.3832658552733305,
          -0.16108471753715756
         ],
         "yaxis": "y10"
        },
        {
         "histfunc": "count",
         "histnorm": "",
         "marker": {
          "color": "rgba(50, 171, 96, 1.0)",
          "line": {
           "color": "#4D5663",
           "width": 1.3
          }
         },
         "name": "C",
         "nbinsx": 10,
         "opacity": 0.8,
         "orientation": "v",
         "type": "histogram",
         "x": [
          -1.083409260510116,
          -0.6233826702344707,
          -1.487958730006341,
          1.4500902860606606,
          0.5184183544958612,
          -0.06869007134045814,
          -0.7586693473176449,
          0.3181526581176076,
          -0.12139583016252287,
          0.9003495579818129,
          -0.345938799172238,
          -0.58724181956537,
          -0.14660194403232946,
          -1.5411917176825616,
          0.25346117461220025,
          -0.12081686773271984,
          -0.213716356271708,
          0.5109308970756155,
          -0.8206296145865845,
          0.32325510299063276,
          0.7165393417813816,
          -0.31662965487129874,
          -0.5833987772015554,
          0.7422554741042364,
          0.4158122675049731,
          -0.4320530807798729,
          -0.05444825497343422,
          0.26429190594354013,
          -0.27606874197166625,
          -0.8367968655641479,
          -0.80565305751109,
          0.8546336441528956,
          1.2682314465013793,
          -0.040936477390389206,
          0.2116206328936026,
          1.1296501302678497,
          -1.9970266382801474,
          -0.5872956123135975,
          -1.971624796598765,
          0.12580442391927454,
          0.3411147221935644,
          -0.5910392048903733,
          0.012683432683106987,
          -0.6288303749719821,
          -1.4667434856849577,
          -0.4244616688571402,
          0.8696058283364013,
          -0.7818727333120795,
          1.6204005308658702,
          0.5016576750261891,
          0.023099897673051886,
          -0.3557557595377423,
          1.0909284059681899,
          -1.113372981243506,
          1.6069882781359834,
          1.1436732452635934,
          -0.7371322267178182,
          1.3664942790622177,
          0.579531518254415,
          0.35980486027619685,
          -1.2000381769631732,
          -0.881465076826653,
          -0.4313393444341336,
          1.0505165757890922,
          2.815771448578094,
          0.4399490486483119,
          -0.9236873107736241,
          0.3238433158683018,
          1.1837054803635867,
          -1.044475958212905,
          0.041344126434387965,
          -0.29393595883720447,
          0.16436652485478864,
          1.0765681398764257,
          -0.020650275021764117,
          -0.7619722931091294,
          -1.1001753121084101,
          1.0854618548482229,
          0.2595781994149842,
          -0.7327897730991297,
          -1.6812401554357397,
          -0.8118101426052025,
          0.6607834765074295,
          0.09710505667980361,
          -0.2780418030555889,
          0.2816272937349905,
          0.06167367339821572,
          -0.32763346930724774,
          -0.20834731656065203,
          0.16327110479821202,
          -1.1015478454920364,
          -0.0005602014611263928,
          -1.277038315826333,
          1.1272543262294106,
          0.348073654247844,
          1.2178138405318408,
          0.45632543412080767,
          1.9242090247402113,
          -0.3832658552733305,
          -0.16108471753715756
         ],
         "xaxis": "x11",
         "yaxis": "y11"
        },
        {
         "line": {
          "color": "rgba(128, 128, 128, 1.0)",
          "dash": "solid",
          "shape": "linear",
          "width": 1.3
         },
         "marker": {
          "size": 2,
          "symbol": "circle"
         },
         "mode": "markers",
         "name": "C",
         "text": "",
         "type": "scatter",
         "x": [
          0.5166946384955043,
          0.48556422515707554,
          0.45951540982459593,
          -1.214442327029582,
          1.062399804740602,
          0.17107336991352248,
          0.604615881443146,
          1.0292440860227963,
          0.3368868614667589,
          0.1736338037301056,
          -0.05148581901736868,
          -0.6628606535777364,
          -0.07177475787045608,
          0.3957799495770412,
          0.8570362933052382,
          1.5168619616720382,
          -1.201565793644591,
          0.9981646319387389,
          -0.5234028077559358,
          -0.21553688266323578,
          1.127420796331115,
          -0.43583657055680136,
          -1.2026878581520406,
          -0.2556029225727095,
          -1.1140712365088106,
          -0.9202653163058435,
          -0.2363872754886624,
          -0.8671181437058871,
          -0.1852391138551511,
          -1.3868279992114436,
          0.05590318505435606,
          -0.3766514021416788,
          -0.8782588203413113,
          -0.5642460299986506,
          1.974125914384826,
          0.3726001771684393,
          -0.5147463611381171,
          -1.2514621226682439,
          -0.2834583529937567,
          -1.2526718111666866,
          0.44675958279051314,
          -0.49555993011692934,
          1.365002560886047,
          -0.006843071507508393,
          -0.14071992723650367,
          -1.2099244335284973,
          -1.1556304501044348,
          0.41317746094731167,
          -0.3225582903687393,
          -0.1554184983211697,
          1.363139017505943,
          -0.43738050423246605,
          0.5682412925538698,
          1.3919143496670032,
          -0.8242873002424768,
          -1.4693611871874401,
          0.25215251101374603,
          -1.7434706309489927,
          0.7069313544002513,
          1.0947207956242229,
          -0.3531683586049207,
          0.378841776935647,
          -1.7708489640173974,
          0.35640539263581167,
          -1.8660080590582062,
          -0.12518326442461947,
          -1.4993530363032441,
          -1.1223625660187064,
          0.5029439763474637,
          -1.013310203330969,
          0.23348057069442,
          -1.0179051752050474,
          0.46124435489886595,
          0.25481059406866796,
          -0.8916332547981175,
          -0.4459757563014239,
          -0.5591989767595353,
          -1.0533156467395162,
          0.5738430064975556,
          -0.34503373424769523,
          0.32597028749063256,
          -0.962809880788565,
          0.09551137204303375,
          0.004723010771319971,
          -0.6719729741927057,
          0.4413909278835191,
          -0.1725927841084922,
          -0.7505623805576361,
          2.0750053689560692,
          0.8391598067996842,
          -1.257855953669524,
          -0.0922309719635119,
          0.1984604300175499,
          0.022836073467580237,
          1.9085175356162156,
          0.9370201660534192,
          -0.09424740535910009,
          0.2734849208368586,
          0.9736539827350027,
          0.03847078746525226
         ],
         "xaxis": "x12",
         "y": [
          -1.083409260510116,
          -0.6233826702344707,
          -1.487958730006341,
          1.4500902860606606,
          0.5184183544958612,
          -0.06869007134045814,
          -0.7586693473176449,
          0.3181526581176076,
          -0.12139583016252287,
          0.9003495579818129,
          -0.345938799172238,
          -0.58724181956537,
          -0.14660194403232946,
          -1.5411917176825616,
          0.25346117461220025,
          -0.12081686773271984,
          -0.213716356271708,
          0.5109308970756155,
          -0.8206296145865845,
          0.32325510299063276,
          0.7165393417813816,
          -0.31662965487129874,
          -0.5833987772015554,
          0.7422554741042364,
          0.4158122675049731,
          -0.4320530807798729,
          -0.05444825497343422,
          0.26429190594354013,
          -0.27606874197166625,
          -0.8367968655641479,
          -0.80565305751109,
          0.8546336441528956,
          1.2682314465013793,
          -0.040936477390389206,
          0.2116206328936026,
          1.1296501302678497,
          -1.9970266382801474,
          -0.5872956123135975,
          -1.971624796598765,
          0.12580442391927454,
          0.3411147221935644,
          -0.5910392048903733,
          0.012683432683106987,
          -0.6288303749719821,
          -1.4667434856849577,
          -0.4244616688571402,
          0.8696058283364013,
          -0.7818727333120795,
          1.6204005308658702,
          0.5016576750261891,
          0.023099897673051886,
          -0.3557557595377423,
          1.0909284059681899,
          -1.113372981243506,
          1.6069882781359834,
          1.1436732452635934,
          -0.7371322267178182,
          1.3664942790622177,
          0.579531518254415,
          0.35980486027619685,
          -1.2000381769631732,
          -0.881465076826653,
          -0.4313393444341336,
          1.0505165757890922,
          2.815771448578094,
          0.4399490486483119,
          -0.9236873107736241,
          0.3238433158683018,
          1.1837054803635867,
          -1.044475958212905,
          0.041344126434387965,
          -0.29393595883720447,
          0.16436652485478864,
          1.0765681398764257,
          -0.020650275021764117,
          -0.7619722931091294,
          -1.1001753121084101,
          1.0854618548482229,
          0.2595781994149842,
          -0.7327897730991297,
          -1.6812401554357397,
          -0.8118101426052025,
          0.6607834765074295,
          0.09710505667980361,
          -0.2780418030555889,
          0.2816272937349905,
          0.06167367339821572,
          -0.32763346930724774,
          -0.20834731656065203,
          0.16327110479821202,
          -1.1015478454920364,
          -0.0005602014611263928,
          -1.277038315826333,
          1.1272543262294106,
          0.348073654247844,
          1.2178138405318408,
          0.45632543412080767,
          1.9242090247402113,
          -0.3832658552733305,
          -0.16108471753715756
         ],
         "yaxis": "y12"
        },
        {
         "line": {
          "color": "rgba(128, 128, 128, 1.0)",
          "dash": "solid",
          "shape": "linear",
          "width": 1.3
         },
         "marker": {
          "size": 2,
          "symbol": "circle"
         },
         "mode": "markers",
         "name": "D",
         "text": "",
         "type": "scatter",
         "x": [
          0.17082491155154642,
          0.9733848448503118,
          -0.20854129260332577,
          0.5587619427877866,
          -0.6615722914955411,
          0.5121643351474225,
          0.13130368234342465,
          -0.035220320669247594,
          -0.369963306984912,
          0.5729958692785618,
          -0.09210955386424999,
          -0.5373937615298153,
          -2.01724661384686,
          -0.8987714595694133,
          1.9467057852407064,
          0.5164427357241107,
          -1.1635408247005044,
          -0.5448724578467126,
          -0.46264624189382997,
          -1.9179493009778803,
          2.7714798339031748,
          0.3071036700992901,
          0.029286680479822094,
          0.5515474197907069,
          0.09403663372726255,
          -0.0687491880537863,
          0.7060426747565378,
          -0.5487359269643622,
          1.150545299499611,
          -0.08727405512422448,
          -0.04865263507570622,
          -1.3241004736370685,
          1.8203440910427022,
          1.0249235499982265,
          0.07530077677831443,
          -0.3983518441111155,
          0.9243840081896711,
          -2.1537998401775726,
          -0.7480917035901087,
          -1.8064452966690792,
          0.7434603261362684,
          -0.30218021518186455,
          -1.5446446180825437,
          -1.1220120169755035,
          0.9827691531143342,
          1.1921574743054213,
          0.6442449133259306,
          -0.3569707490839753,
          0.8461417905701312,
          -2.19250392792535,
          0.5652808285965437,
          -0.1344062661716792,
          0.3374266044185731,
          0.11501457230929552,
          -1.03432476125489,
          0.8786458309333575,
          -0.8432228331014776,
          1.5209334906428773,
          -0.13490408553921363,
          1.1362711489480044,
          -0.7164362335444737,
          1.8944088793920375,
          -0.8392029122803014,
          0.8870880475536355,
          -0.22471697569343044,
          -0.21386527195545157,
          -0.588424204629573,
          -2.333080303181406,
          0.6864778911900746,
          0.9061942198927625,
          -0.6362395296227634,
          0.2775335519572494,
          0.6663808474363447,
          1.451569505775331,
          0.25971128472701793,
          -0.22258903844656566,
          0.11690251426354925,
          -0.4037173564209437,
          -0.3616918130026108,
          0.26753011495892737,
          -0.3330809158884787,
          -0.6136738297829322,
          2.3977626706818524,
          0.008681338043572347,
          0.015381712961214473,
          -0.34992740870667255,
          -0.9826085890796246,
          0.10960702639982886,
          0.3045237793180047,
          0.9456287376200995,
          -1.2666023905791035,
          -0.12604263057332346,
          1.3716201125923573,
          -0.772097226537111,
          0.742127190729917,
          0.5613431520440979,
          0.29713781861089317,
          0.11467605932335413,
          1.1177885105058485,
          1.3404619399594997
         ],
         "xaxis": "x13",
         "y": [
          0.5166946384955043,
          0.48556422515707554,
          0.45951540982459593,
          -1.214442327029582,
          1.062399804740602,
          0.17107336991352248,
          0.604615881443146,
          1.0292440860227963,
          0.3368868614667589,
          0.1736338037301056,
          -0.05148581901736868,
          -0.6628606535777364,
          -0.07177475787045608,
          0.3957799495770412,
          0.8570362933052382,
          1.5168619616720382,
          -1.201565793644591,
          0.9981646319387389,
          -0.5234028077559358,
          -0.21553688266323578,
          1.127420796331115,
          -0.43583657055680136,
          -1.2026878581520406,
          -0.2556029225727095,
          -1.1140712365088106,
          -0.9202653163058435,
          -0.2363872754886624,
          -0.8671181437058871,
          -0.1852391138551511,
          -1.3868279992114436,
          0.05590318505435606,
          -0.3766514021416788,
          -0.8782588203413113,
          -0.5642460299986506,
          1.974125914384826,
          0.3726001771684393,
          -0.5147463611381171,
          -1.2514621226682439,
          -0.2834583529937567,
          -1.2526718111666866,
          0.44675958279051314,
          -0.49555993011692934,
          1.365002560886047,
          -0.006843071507508393,
          -0.14071992723650367,
          -1.2099244335284973,
          -1.1556304501044348,
          0.41317746094731167,
          -0.3225582903687393,
          -0.1554184983211697,
          1.363139017505943,
          -0.43738050423246605,
          0.5682412925538698,
          1.3919143496670032,
          -0.8242873002424768,
          -1.4693611871874401,
          0.25215251101374603,
          -1.7434706309489927,
          0.7069313544002513,
          1.0947207956242229,
          -0.3531683586049207,
          0.378841776935647,
          -1.7708489640173974,
          0.35640539263581167,
          -1.8660080590582062,
          -0.12518326442461947,
          -1.4993530363032441,
          -1.1223625660187064,
          0.5029439763474637,
          -1.013310203330969,
          0.23348057069442,
          -1.0179051752050474,
          0.46124435489886595,
          0.25481059406866796,
          -0.8916332547981175,
          -0.4459757563014239,
          -0.5591989767595353,
          -1.0533156467395162,
          0.5738430064975556,
          -0.34503373424769523,
          0.32597028749063256,
          -0.962809880788565,
          0.09551137204303375,
          0.004723010771319971,
          -0.6719729741927057,
          0.4413909278835191,
          -0.1725927841084922,
          -0.7505623805576361,
          2.0750053689560692,
          0.8391598067996842,
          -1.257855953669524,
          -0.0922309719635119,
          0.1984604300175499,
          0.022836073467580237,
          1.9085175356162156,
          0.9370201660534192,
          -0.09424740535910009,
          0.2734849208368586,
          0.9736539827350027,
          0.03847078746525226
         ],
         "yaxis": "y13"
        },
        {
         "line": {
          "color": "rgba(128, 128, 128, 1.0)",
          "dash": "solid",
          "shape": "linear",
          "width": 1.3
         },
         "marker": {
          "size": 2,
          "symbol": "circle"
         },
         "mode": "markers",
         "name": "D",
         "text": "",
         "type": "scatter",
         "x": [
          -1.0469343486083953,
          -1.459788614380184,
          -0.8948475098518478,
          1.0189272429513767,
          0.896482444363568,
          -0.8499088047524456,
          0.024902896053242213,
          -1.2539480497063156,
          1.1080455661815205,
          0.6039706085303771,
          1.1462550302790881,
          0.3383978416192203,
          -1.1703911847275679,
          -0.4506090304627199,
          -1.7885796092722501,
          1.9740354776517566,
          -0.5589227900109863,
          -1.5059038409979402,
          0.06801135045561885,
          -0.5424102393537328,
          -0.12596595257673204,
          0.07766803062063887,
          1.08742149533797,
          -0.5276402294420803,
          -0.5134796696744759,
          -0.00885507836116481,
          -1.9179898136723204,
          0.015978142026482386,
          0.596272380271323,
          1.096940104175222,
          -0.9701160214948572,
          1.1473044174962768,
          -0.8497300858779225,
          0.17745707004204264,
          1.3040067873187786,
          0.8949482052732047,
          -0.07886388560014475,
          -3.561507122896207,
          1.5323073119190378,
          -1.0106015855491841,
          1.0565480505208455,
          0.7105695536942717,
          -0.797211235009638,
          0.7998529314333869,
          -0.15244947297596764,
          -0.17741142705640117,
          0.039603889157412094,
          -1.2500332755144197,
          0.07917645744092283,
          1.336754302137174,
          0.603138128276989,
          0.18426981447960314,
          -0.6495388957173431,
          -1.6313915348260464,
          -0.2982863158078925,
          0.37314891494260083,
          0.24879635716302964,
          0.5860706811766647,
          -0.6610205762239924,
          -1.190788182194642,
          -0.6409061943286544,
          0.462293155947097,
          -1.3089069803765623,
          1.6341450528765762,
          -1.1338904173028463,
          -0.5039350542364665,
          0.0840200054861493,
          -0.2726865642592458,
          1.2856192693433823,
          0.29240349533422016,
          0.9006195057266302,
          -0.604269563912645,
          1.6869476552089377,
          0.5361783937936255,
          1.0150365809424875,
          0.09077509679183086,
          0.9872278379038406,
          -0.5543308540711545,
          0.15213184418788492,
          -0.8772278719188741,
          0.2931996962880976,
          -0.2037623234733791,
          -0.7928436197071106,
          -1.0802896101213275,
          -1.3279711785816812,
          0.08431434618031589,
          0.596991906053773,
          0.14488046829607382,
          0.8075704683875163,
          -2.8380301262811347,
          1.1722548193519313,
          0.6474126943040964,
          -0.4074743070915865,
          -0.810311666954102,
          -1.2017508067688711,
          1.6032888870895288,
          0.15228854207435788,
          0.800145725655405,
          -0.7282201700792078,
          1.1399079188302463
         ],
         "xaxis": "x14",
         "y": [
          0.5166946384955043,
          0.48556422515707554,
          0.45951540982459593,
          -1.214442327029582,
          1.062399804740602,
          0.17107336991352248,
          0.604615881443146,
          1.0292440860227963,
          0.3368868614667589,
          0.1736338037301056,
          -0.05148581901736868,
          -0.6628606535777364,
          -0.07177475787045608,
          0.3957799495770412,
          0.8570362933052382,
          1.5168619616720382,
          -1.201565793644591,
          0.9981646319387389,
          -0.5234028077559358,
          -0.21553688266323578,
          1.127420796331115,
          -0.43583657055680136,
          -1.2026878581520406,
          -0.2556029225727095,
          -1.1140712365088106,
          -0.9202653163058435,
          -0.2363872754886624,
          -0.8671181437058871,
          -0.1852391138551511,
          -1.3868279992114436,
          0.05590318505435606,
          -0.3766514021416788,
          -0.8782588203413113,
          -0.5642460299986506,
          1.974125914384826,
          0.3726001771684393,
          -0.5147463611381171,
          -1.2514621226682439,
          -0.2834583529937567,
          -1.2526718111666866,
          0.44675958279051314,
          -0.49555993011692934,
          1.365002560886047,
          -0.006843071507508393,
          -0.14071992723650367,
          -1.2099244335284973,
          -1.1556304501044348,
          0.41317746094731167,
          -0.3225582903687393,
          -0.1554184983211697,
          1.363139017505943,
          -0.43738050423246605,
          0.5682412925538698,
          1.3919143496670032,
          -0.8242873002424768,
          -1.4693611871874401,
          0.25215251101374603,
          -1.7434706309489927,
          0.7069313544002513,
          1.0947207956242229,
          -0.3531683586049207,
          0.378841776935647,
          -1.7708489640173974,
          0.35640539263581167,
          -1.8660080590582062,
          -0.12518326442461947,
          -1.4993530363032441,
          -1.1223625660187064,
          0.5029439763474637,
          -1.013310203330969,
          0.23348057069442,
          -1.0179051752050474,
          0.46124435489886595,
          0.25481059406866796,
          -0.8916332547981175,
          -0.4459757563014239,
          -0.5591989767595353,
          -1.0533156467395162,
          0.5738430064975556,
          -0.34503373424769523,
          0.32597028749063256,
          -0.962809880788565,
          0.09551137204303375,
          0.004723010771319971,
          -0.6719729741927057,
          0.4413909278835191,
          -0.1725927841084922,
          -0.7505623805576361,
          2.0750053689560692,
          0.8391598067996842,
          -1.257855953669524,
          -0.0922309719635119,
          0.1984604300175499,
          0.022836073467580237,
          1.9085175356162156,
          0.9370201660534192,
          -0.09424740535910009,
          0.2734849208368586,
          0.9736539827350027,
          0.03847078746525226
         ],
         "yaxis": "y14"
        },
        {
         "line": {
          "color": "rgba(128, 128, 128, 1.0)",
          "dash": "solid",
          "shape": "linear",
          "width": 1.3
         },
         "marker": {
          "size": 2,
          "symbol": "circle"
         },
         "mode": "markers",
         "name": "D",
         "text": "",
         "type": "scatter",
         "x": [
          -1.083409260510116,
          -0.6233826702344707,
          -1.487958730006341,
          1.4500902860606606,
          0.5184183544958612,
          -0.06869007134045814,
          -0.7586693473176449,
          0.3181526581176076,
          -0.12139583016252287,
          0.9003495579818129,
          -0.345938799172238,
          -0.58724181956537,
          -0.14660194403232946,
          -1.5411917176825616,
          0.25346117461220025,
          -0.12081686773271984,
          -0.213716356271708,
          0.5109308970756155,
          -0.8206296145865845,
          0.32325510299063276,
          0.7165393417813816,
          -0.31662965487129874,
          -0.5833987772015554,
          0.7422554741042364,
          0.4158122675049731,
          -0.4320530807798729,
          -0.05444825497343422,
          0.26429190594354013,
          -0.27606874197166625,
          -0.8367968655641479,
          -0.80565305751109,
          0.8546336441528956,
          1.2682314465013793,
          -0.040936477390389206,
          0.2116206328936026,
          1.1296501302678497,
          -1.9970266382801474,
          -0.5872956123135975,
          -1.971624796598765,
          0.12580442391927454,
          0.3411147221935644,
          -0.5910392048903733,
          0.012683432683106987,
          -0.6288303749719821,
          -1.4667434856849577,
          -0.4244616688571402,
          0.8696058283364013,
          -0.7818727333120795,
          1.6204005308658702,
          0.5016576750261891,
          0.023099897673051886,
          -0.3557557595377423,
          1.0909284059681899,
          -1.113372981243506,
          1.6069882781359834,
          1.1436732452635934,
          -0.7371322267178182,
          1.3664942790622177,
          0.579531518254415,
          0.35980486027619685,
          -1.2000381769631732,
          -0.881465076826653,
          -0.4313393444341336,
          1.0505165757890922,
          2.815771448578094,
          0.4399490486483119,
          -0.9236873107736241,
          0.3238433158683018,
          1.1837054803635867,
          -1.044475958212905,
          0.041344126434387965,
          -0.29393595883720447,
          0.16436652485478864,
          1.0765681398764257,
          -0.020650275021764117,
          -0.7619722931091294,
          -1.1001753121084101,
          1.0854618548482229,
          0.2595781994149842,
          -0.7327897730991297,
          -1.6812401554357397,
          -0.8118101426052025,
          0.6607834765074295,
          0.09710505667980361,
          -0.2780418030555889,
          0.2816272937349905,
          0.06167367339821572,
          -0.32763346930724774,
          -0.20834731656065203,
          0.16327110479821202,
          -1.1015478454920364,
          -0.0005602014611263928,
          -1.277038315826333,
          1.1272543262294106,
          0.348073654247844,
          1.2178138405318408,
          0.45632543412080767,
          1.9242090247402113,
          -0.3832658552733305,
          -0.16108471753715756
         ],
         "xaxis": "x15",
         "y": [
          0.5166946384955043,
          0.48556422515707554,
          0.45951540982459593,
          -1.214442327029582,
          1.062399804740602,
          0.17107336991352248,
          0.604615881443146,
          1.0292440860227963,
          0.3368868614667589,
          0.1736338037301056,
          -0.05148581901736868,
          -0.6628606535777364,
          -0.07177475787045608,
          0.3957799495770412,
          0.8570362933052382,
          1.5168619616720382,
          -1.201565793644591,
          0.9981646319387389,
          -0.5234028077559358,
          -0.21553688266323578,
          1.127420796331115,
          -0.43583657055680136,
          -1.2026878581520406,
          -0.2556029225727095,
          -1.1140712365088106,
          -0.9202653163058435,
          -0.2363872754886624,
          -0.8671181437058871,
          -0.1852391138551511,
          -1.3868279992114436,
          0.05590318505435606,
          -0.3766514021416788,
          -0.8782588203413113,
          -0.5642460299986506,
          1.974125914384826,
          0.3726001771684393,
          -0.5147463611381171,
          -1.2514621226682439,
          -0.2834583529937567,
          -1.2526718111666866,
          0.44675958279051314,
          -0.49555993011692934,
          1.365002560886047,
          -0.006843071507508393,
          -0.14071992723650367,
          -1.2099244335284973,
          -1.1556304501044348,
          0.41317746094731167,
          -0.3225582903687393,
          -0.1554184983211697,
          1.363139017505943,
          -0.43738050423246605,
          0.5682412925538698,
          1.3919143496670032,
          -0.8242873002424768,
          -1.4693611871874401,
          0.25215251101374603,
          -1.7434706309489927,
          0.7069313544002513,
          1.0947207956242229,
          -0.3531683586049207,
          0.378841776935647,
          -1.7708489640173974,
          0.35640539263581167,
          -1.8660080590582062,
          -0.12518326442461947,
          -1.4993530363032441,
          -1.1223625660187064,
          0.5029439763474637,
          -1.013310203330969,
          0.23348057069442,
          -1.0179051752050474,
          0.46124435489886595,
          0.25481059406866796,
          -0.8916332547981175,
          -0.4459757563014239,
          -0.5591989767595353,
          -1.0533156467395162,
          0.5738430064975556,
          -0.34503373424769523,
          0.32597028749063256,
          -0.962809880788565,
          0.09551137204303375,
          0.004723010771319971,
          -0.6719729741927057,
          0.4413909278835191,
          -0.1725927841084922,
          -0.7505623805576361,
          2.0750053689560692,
          0.8391598067996842,
          -1.257855953669524,
          -0.0922309719635119,
          0.1984604300175499,
          0.022836073467580237,
          1.9085175356162156,
          0.9370201660534192,
          -0.09424740535910009,
          0.2734849208368586,
          0.9736539827350027,
          0.03847078746525226
         ],
         "yaxis": "y15"
        },
        {
         "histfunc": "count",
         "histnorm": "",
         "marker": {
          "color": "rgba(128, 0, 128, 1.0)",
          "line": {
           "color": "#4D5663",
           "width": 1.3
          }
         },
         "name": "D",
         "nbinsx": 10,
         "opacity": 0.8,
         "orientation": "v",
         "type": "histogram",
         "x": [
          0.5166946384955043,
          0.48556422515707554,
          0.45951540982459593,
          -1.214442327029582,
          1.062399804740602,
          0.17107336991352248,
          0.604615881443146,
          1.0292440860227963,
          0.3368868614667589,
          0.1736338037301056,
          -0.05148581901736868,
          -0.6628606535777364,
          -0.07177475787045608,
          0.3957799495770412,
          0.8570362933052382,
          1.5168619616720382,
          -1.201565793644591,
          0.9981646319387389,
          -0.5234028077559358,
          -0.21553688266323578,
          1.127420796331115,
          -0.43583657055680136,
          -1.2026878581520406,
          -0.2556029225727095,
          -1.1140712365088106,
          -0.9202653163058435,
          -0.2363872754886624,
          -0.8671181437058871,
          -0.1852391138551511,
          -1.3868279992114436,
          0.05590318505435606,
          -0.3766514021416788,
          -0.8782588203413113,
          -0.5642460299986506,
          1.974125914384826,
          0.3726001771684393,
          -0.5147463611381171,
          -1.2514621226682439,
          -0.2834583529937567,
          -1.2526718111666866,
          0.44675958279051314,
          -0.49555993011692934,
          1.365002560886047,
          -0.006843071507508393,
          -0.14071992723650367,
          -1.2099244335284973,
          -1.1556304501044348,
          0.41317746094731167,
          -0.3225582903687393,
          -0.1554184983211697,
          1.363139017505943,
          -0.43738050423246605,
          0.5682412925538698,
          1.3919143496670032,
          -0.8242873002424768,
          -1.4693611871874401,
          0.25215251101374603,
          -1.7434706309489927,
          0.7069313544002513,
          1.0947207956242229,
          -0.3531683586049207,
          0.378841776935647,
          -1.7708489640173974,
          0.35640539263581167,
          -1.8660080590582062,
          -0.12518326442461947,
          -1.4993530363032441,
          -1.1223625660187064,
          0.5029439763474637,
          -1.013310203330969,
          0.23348057069442,
          -1.0179051752050474,
          0.46124435489886595,
          0.25481059406866796,
          -0.8916332547981175,
          -0.4459757563014239,
          -0.5591989767595353,
          -1.0533156467395162,
          0.5738430064975556,
          -0.34503373424769523,
          0.32597028749063256,
          -0.962809880788565,
          0.09551137204303375,
          0.004723010771319971,
          -0.6719729741927057,
          0.4413909278835191,
          -0.1725927841084922,
          -0.7505623805576361,
          2.0750053689560692,
          0.8391598067996842,
          -1.257855953669524,
          -0.0922309719635119,
          0.1984604300175499,
          0.022836073467580237,
          1.9085175356162156,
          0.9370201660534192,
          -0.09424740535910009,
          0.2734849208368586,
          0.9736539827350027,
          0.03847078746525226
         ],
         "xaxis": "x16",
         "yaxis": "y16"
        }
       ],
       "layout": {
        "bargap": 0.02,
        "legend": {
         "bgcolor": "#F5F6F9",
         "font": {
          "color": "#4D5663"
         }
        },
        "paper_bgcolor": "#F5F6F9",
        "plot_bgcolor": "#F5F6F9",
        "showlegend": false,
        "template": {
         "data": {
          "bar": [
           {
            "error_x": {
             "color": "#2a3f5f"
            },
            "error_y": {
             "color": "#2a3f5f"
            },
            "marker": {
             "line": {
              "color": "#E5ECF6",
              "width": 0.5
             }
            },
            "type": "bar"
           }
          ],
          "barpolar": [
           {
            "marker": {
             "line": {
              "color": "#E5ECF6",
              "width": 0.5
             }
            },
            "type": "barpolar"
           }
          ],
          "carpet": [
           {
            "aaxis": {
             "endlinecolor": "#2a3f5f",
             "gridcolor": "white",
             "linecolor": "white",
             "minorgridcolor": "white",
             "startlinecolor": "#2a3f5f"
            },
            "baxis": {
             "endlinecolor": "#2a3f5f",
             "gridcolor": "white",
             "linecolor": "white",
             "minorgridcolor": "white",
             "startlinecolor": "#2a3f5f"
            },
            "type": "carpet"
           }
          ],
          "choropleth": [
           {
            "colorbar": {
             "outlinewidth": 0,
             "ticks": ""
            },
            "type": "choropleth"
           }
          ],
          "contour": [
           {
            "colorbar": {
             "outlinewidth": 0,
             "ticks": ""
            },
            "colorscale": [
             [
              0,
              "#0d0887"
             ],
             [
              0.1111111111111111,
              "#46039f"
             ],
             [
              0.2222222222222222,
              "#7201a8"
             ],
             [
              0.3333333333333333,
              "#9c179e"
             ],
             [
              0.4444444444444444,
              "#bd3786"
             ],
             [
              0.5555555555555556,
              "#d8576b"
             ],
             [
              0.6666666666666666,
              "#ed7953"
             ],
             [
              0.7777777777777778,
              "#fb9f3a"
             ],
             [
              0.8888888888888888,
              "#fdca26"
             ],
             [
              1,
              "#f0f921"
             ]
            ],
            "type": "contour"
           }
          ],
          "contourcarpet": [
           {
            "colorbar": {
             "outlinewidth": 0,
             "ticks": ""
            },
            "type": "contourcarpet"
           }
          ],
          "heatmap": [
           {
            "colorbar": {
             "outlinewidth": 0,
             "ticks": ""
            },
            "colorscale": [
             [
              0,
              "#0d0887"
             ],
             [
              0.1111111111111111,
              "#46039f"
             ],
             [
              0.2222222222222222,
              "#7201a8"
             ],
             [
              0.3333333333333333,
              "#9c179e"
             ],
             [
              0.4444444444444444,
              "#bd3786"
             ],
             [
              0.5555555555555556,
              "#d8576b"
             ],
             [
              0.6666666666666666,
              "#ed7953"
             ],
             [
              0.7777777777777778,
              "#fb9f3a"
             ],
             [
              0.8888888888888888,
              "#fdca26"
             ],
             [
              1,
              "#f0f921"
             ]
            ],
            "type": "heatmap"
           }
          ],
          "heatmapgl": [
           {
            "colorbar": {
             "outlinewidth": 0,
             "ticks": ""
            },
            "colorscale": [
             [
              0,
              "#0d0887"
             ],
             [
              0.1111111111111111,
              "#46039f"
             ],
             [
              0.2222222222222222,
              "#7201a8"
             ],
             [
              0.3333333333333333,
              "#9c179e"
             ],
             [
              0.4444444444444444,
              "#bd3786"
             ],
             [
              0.5555555555555556,
              "#d8576b"
             ],
             [
              0.6666666666666666,
              "#ed7953"
             ],
             [
              0.7777777777777778,
              "#fb9f3a"
             ],
             [
              0.8888888888888888,
              "#fdca26"
             ],
             [
              1,
              "#f0f921"
             ]
            ],
            "type": "heatmapgl"
           }
          ],
          "histogram": [
           {
            "marker": {
             "colorbar": {
              "outlinewidth": 0,
              "ticks": ""
             }
            },
            "type": "histogram"
           }
          ],
          "histogram2d": [
           {
            "colorbar": {
             "outlinewidth": 0,
             "ticks": ""
            },
            "colorscale": [
             [
              0,
              "#0d0887"
             ],
             [
              0.1111111111111111,
              "#46039f"
             ],
             [
              0.2222222222222222,
              "#7201a8"
             ],
             [
              0.3333333333333333,
              "#9c179e"
             ],
             [
              0.4444444444444444,
              "#bd3786"
             ],
             [
              0.5555555555555556,
              "#d8576b"
             ],
             [
              0.6666666666666666,
              "#ed7953"
             ],
             [
              0.7777777777777778,
              "#fb9f3a"
             ],
             [
              0.8888888888888888,
              "#fdca26"
             ],
             [
              1,
              "#f0f921"
             ]
            ],
            "type": "histogram2d"
           }
          ],
          "histogram2dcontour": [
           {
            "colorbar": {
             "outlinewidth": 0,
             "ticks": ""
            },
            "colorscale": [
             [
              0,
              "#0d0887"
             ],
             [
              0.1111111111111111,
              "#46039f"
             ],
             [
              0.2222222222222222,
              "#7201a8"
             ],
             [
              0.3333333333333333,
              "#9c179e"
             ],
             [
              0.4444444444444444,
              "#bd3786"
             ],
             [
              0.5555555555555556,
              "#d8576b"
             ],
             [
              0.6666666666666666,
              "#ed7953"
             ],
             [
              0.7777777777777778,
              "#fb9f3a"
             ],
             [
              0.8888888888888888,
              "#fdca26"
             ],
             [
              1,
              "#f0f921"
             ]
            ],
            "type": "histogram2dcontour"
           }
          ],
          "mesh3d": [
           {
            "colorbar": {
             "outlinewidth": 0,
             "ticks": ""
            },
            "type": "mesh3d"
           }
          ],
          "parcoords": [
           {
            "line": {
             "colorbar": {
              "outlinewidth": 0,
              "ticks": ""
             }
            },
            "type": "parcoords"
           }
          ],
          "pie": [
           {
            "automargin": true,
            "type": "pie"
           }
          ],
          "scatter": [
           {
            "marker": {
             "colorbar": {
              "outlinewidth": 0,
              "ticks": ""
             }
            },
            "type": "scatter"
           }
          ],
          "scatter3d": [
           {
            "line": {
             "colorbar": {
              "outlinewidth": 0,
              "ticks": ""
             }
            },
            "marker": {
             "colorbar": {
              "outlinewidth": 0,
              "ticks": ""
             }
            },
            "type": "scatter3d"
           }
          ],
          "scattercarpet": [
           {
            "marker": {
             "colorbar": {
              "outlinewidth": 0,
              "ticks": ""
             }
            },
            "type": "scattercarpet"
           }
          ],
          "scattergeo": [
           {
            "marker": {
             "colorbar": {
              "outlinewidth": 0,
              "ticks": ""
             }
            },
            "type": "scattergeo"
           }
          ],
          "scattergl": [
           {
            "marker": {
             "colorbar": {
              "outlinewidth": 0,
              "ticks": ""
             }
            },
            "type": "scattergl"
           }
          ],
          "scattermapbox": [
           {
            "marker": {
             "colorbar": {
              "outlinewidth": 0,
              "ticks": ""
             }
            },
            "type": "scattermapbox"
           }
          ],
          "scatterpolar": [
           {
            "marker": {
             "colorbar": {
              "outlinewidth": 0,
              "ticks": ""
             }
            },
            "type": "scatterpolar"
           }
          ],
          "scatterpolargl": [
           {
            "marker": {
             "colorbar": {
              "outlinewidth": 0,
              "ticks": ""
             }
            },
            "type": "scatterpolargl"
           }
          ],
          "scatterternary": [
           {
            "marker": {
             "colorbar": {
              "outlinewidth": 0,
              "ticks": ""
             }
            },
            "type": "scatterternary"
           }
          ],
          "surface": [
           {
            "colorbar": {
             "outlinewidth": 0,
             "ticks": ""
            },
            "colorscale": [
             [
              0,
              "#0d0887"
             ],
             [
              0.1111111111111111,
              "#46039f"
             ],
             [
              0.2222222222222222,
              "#7201a8"
             ],
             [
              0.3333333333333333,
              "#9c179e"
             ],
             [
              0.4444444444444444,
              "#bd3786"
             ],
             [
              0.5555555555555556,
              "#d8576b"
             ],
             [
              0.6666666666666666,
              "#ed7953"
             ],
             [
              0.7777777777777778,
              "#fb9f3a"
             ],
             [
              0.8888888888888888,
              "#fdca26"
             ],
             [
              1,
              "#f0f921"
             ]
            ],
            "type": "surface"
           }
          ],
          "table": [
           {
            "cells": {
             "fill": {
              "color": "#EBF0F8"
             },
             "line": {
              "color": "white"
             }
            },
            "header": {
             "fill": {
              "color": "#C8D4E3"
             },
             "line": {
              "color": "white"
             }
            },
            "type": "table"
           }
          ]
         },
         "layout": {
          "annotationdefaults": {
           "arrowcolor": "#2a3f5f",
           "arrowhead": 0,
           "arrowwidth": 1
          },
          "coloraxis": {
           "colorbar": {
            "outlinewidth": 0,
            "ticks": ""
           }
          },
          "colorscale": {
           "diverging": [
            [
             0,
             "#8e0152"
            ],
            [
             0.1,
             "#c51b7d"
            ],
            [
             0.2,
             "#de77ae"
            ],
            [
             0.3,
             "#f1b6da"
            ],
            [
             0.4,
             "#fde0ef"
            ],
            [
             0.5,
             "#f7f7f7"
            ],
            [
             0.6,
             "#e6f5d0"
            ],
            [
             0.7,
             "#b8e186"
            ],
            [
             0.8,
             "#7fbc41"
            ],
            [
             0.9,
             "#4d9221"
            ],
            [
             1,
             "#276419"
            ]
           ],
           "sequential": [
            [
             0,
             "#0d0887"
            ],
            [
             0.1111111111111111,
             "#46039f"
            ],
            [
             0.2222222222222222,
             "#7201a8"
            ],
            [
             0.3333333333333333,
             "#9c179e"
            ],
            [
             0.4444444444444444,
             "#bd3786"
            ],
            [
             0.5555555555555556,
             "#d8576b"
            ],
            [
             0.6666666666666666,
             "#ed7953"
            ],
            [
             0.7777777777777778,
             "#fb9f3a"
            ],
            [
             0.8888888888888888,
             "#fdca26"
            ],
            [
             1,
             "#f0f921"
            ]
           ],
           "sequentialminus": [
            [
             0,
             "#0d0887"
            ],
            [
             0.1111111111111111,
             "#46039f"
            ],
            [
             0.2222222222222222,
             "#7201a8"
            ],
            [
             0.3333333333333333,
             "#9c179e"
            ],
            [
             0.4444444444444444,
             "#bd3786"
            ],
            [
             0.5555555555555556,
             "#d8576b"
            ],
            [
             0.6666666666666666,
             "#ed7953"
            ],
            [
             0.7777777777777778,
             "#fb9f3a"
            ],
            [
             0.8888888888888888,
             "#fdca26"
            ],
            [
             1,
             "#f0f921"
            ]
           ]
          },
          "colorway": [
           "#636efa",
           "#EF553B",
           "#00cc96",
           "#ab63fa",
           "#FFA15A",
           "#19d3f3",
           "#FF6692",
           "#B6E880",
           "#FF97FF",
           "#FECB52"
          ],
          "font": {
           "color": "#2a3f5f"
          },
          "geo": {
           "bgcolor": "white",
           "lakecolor": "white",
           "landcolor": "#E5ECF6",
           "showlakes": true,
           "showland": true,
           "subunitcolor": "white"
          },
          "hoverlabel": {
           "align": "left"
          },
          "hovermode": "closest",
          "mapbox": {
           "style": "light"
          },
          "paper_bgcolor": "white",
          "plot_bgcolor": "#E5ECF6",
          "polar": {
           "angularaxis": {
            "gridcolor": "white",
            "linecolor": "white",
            "ticks": ""
           },
           "bgcolor": "#E5ECF6",
           "radialaxis": {
            "gridcolor": "white",
            "linecolor": "white",
            "ticks": ""
           }
          },
          "scene": {
           "xaxis": {
            "backgroundcolor": "#E5ECF6",
            "gridcolor": "white",
            "gridwidth": 2,
            "linecolor": "white",
            "showbackground": true,
            "ticks": "",
            "zerolinecolor": "white"
           },
           "yaxis": {
            "backgroundcolor": "#E5ECF6",
            "gridcolor": "white",
            "gridwidth": 2,
            "linecolor": "white",
            "showbackground": true,
            "ticks": "",
            "zerolinecolor": "white"
           },
           "zaxis": {
            "backgroundcolor": "#E5ECF6",
            "gridcolor": "white",
            "gridwidth": 2,
            "linecolor": "white",
            "showbackground": true,
            "ticks": "",
            "zerolinecolor": "white"
           }
          },
          "shapedefaults": {
           "line": {
            "color": "#2a3f5f"
           }
          },
          "ternary": {
           "aaxis": {
            "gridcolor": "white",
            "linecolor": "white",
            "ticks": ""
           },
           "baxis": {
            "gridcolor": "white",
            "linecolor": "white",
            "ticks": ""
           },
           "bgcolor": "#E5ECF6",
           "caxis": {
            "gridcolor": "white",
            "linecolor": "white",
            "ticks": ""
           }
          },
          "title": {
           "x": 0.05
          },
          "xaxis": {
           "automargin": true,
           "gridcolor": "white",
           "linecolor": "white",
           "ticks": "",
           "title": {
            "standoff": 15
           },
           "zerolinecolor": "white",
           "zerolinewidth": 2
          },
          "yaxis": {
           "automargin": true,
           "gridcolor": "white",
           "linecolor": "white",
           "ticks": "",
           "title": {
            "standoff": 15
           },
           "zerolinecolor": "white",
           "zerolinewidth": 2
          }
         }
        },
        "title": {
         "font": {
          "color": "#4D5663"
         }
        },
        "xaxis": {
         "anchor": "y",
         "domain": [
          0,
          0.2125
         ],
         "gridcolor": "#E1E5ED",
         "showgrid": false,
         "tickfont": {
          "color": "#4D5663"
         },
         "title": {
          "font": {
           "color": "#4D5663"
          },
          "text": ""
         },
         "zerolinecolor": "#E1E5ED"
        },
        "xaxis10": {
         "anchor": "y10",
         "domain": [
          0.2625,
          0.475
         ],
         "gridcolor": "#E1E5ED",
         "showgrid": false,
         "tickfont": {
          "color": "#4D5663"
         },
         "title": {
          "font": {
           "color": "#4D5663"
          },
          "text": ""
         },
         "zerolinecolor": "#E1E5ED"
        },
        "xaxis11": {
         "anchor": "y11",
         "domain": [
          0.525,
          0.7375
         ],
         "gridcolor": "#E1E5ED",
         "showgrid": false,
         "tickfont": {
          "color": "#4D5663"
         },
         "title": {
          "font": {
           "color": "#4D5663"
          },
          "text": ""
         },
         "zerolinecolor": "#E1E5ED"
        },
        "xaxis12": {
         "anchor": "y12",
         "domain": [
          0.7875,
          1
         ],
         "gridcolor": "#E1E5ED",
         "showgrid": false,
         "tickfont": {
          "color": "#4D5663"
         },
         "title": {
          "font": {
           "color": "#4D5663"
          },
          "text": ""
         },
         "zerolinecolor": "#E1E5ED"
        },
        "xaxis13": {
         "anchor": "y13",
         "domain": [
          0,
          0.2125
         ],
         "gridcolor": "#E1E5ED",
         "showgrid": false,
         "tickfont": {
          "color": "#4D5663"
         },
         "title": {
          "font": {
           "color": "#4D5663"
          },
          "text": ""
         },
         "zerolinecolor": "#E1E5ED"
        },
        "xaxis14": {
         "anchor": "y14",
         "domain": [
          0.2625,
          0.475
         ],
         "gridcolor": "#E1E5ED",
         "showgrid": false,
         "tickfont": {
          "color": "#4D5663"
         },
         "title": {
          "font": {
           "color": "#4D5663"
          },
          "text": ""
         },
         "zerolinecolor": "#E1E5ED"
        },
        "xaxis15": {
         "anchor": "y15",
         "domain": [
          0.525,
          0.7375
         ],
         "gridcolor": "#E1E5ED",
         "showgrid": false,
         "tickfont": {
          "color": "#4D5663"
         },
         "title": {
          "font": {
           "color": "#4D5663"
          },
          "text": ""
         },
         "zerolinecolor": "#E1E5ED"
        },
        "xaxis16": {
         "anchor": "y16",
         "domain": [
          0.7875,
          1
         ],
         "gridcolor": "#E1E5ED",
         "showgrid": false,
         "tickfont": {
          "color": "#4D5663"
         },
         "title": {
          "font": {
           "color": "#4D5663"
          },
          "text": ""
         },
         "zerolinecolor": "#E1E5ED"
        },
        "xaxis2": {
         "anchor": "y2",
         "domain": [
          0.2625,
          0.475
         ],
         "gridcolor": "#E1E5ED",
         "showgrid": false,
         "tickfont": {
          "color": "#4D5663"
         },
         "title": {
          "font": {
           "color": "#4D5663"
          },
          "text": ""
         },
         "zerolinecolor": "#E1E5ED"
        },
        "xaxis3": {
         "anchor": "y3",
         "domain": [
          0.525,
          0.7375
         ],
         "gridcolor": "#E1E5ED",
         "showgrid": false,
         "tickfont": {
          "color": "#4D5663"
         },
         "title": {
          "font": {
           "color": "#4D5663"
          },
          "text": ""
         },
         "zerolinecolor": "#E1E5ED"
        },
        "xaxis4": {
         "anchor": "y4",
         "domain": [
          0.7875,
          1
         ],
         "gridcolor": "#E1E5ED",
         "showgrid": false,
         "tickfont": {
          "color": "#4D5663"
         },
         "title": {
          "font": {
           "color": "#4D5663"
          },
          "text": ""
         },
         "zerolinecolor": "#E1E5ED"
        },
        "xaxis5": {
         "anchor": "y5",
         "domain": [
          0,
          0.2125
         ],
         "gridcolor": "#E1E5ED",
         "showgrid": false,
         "tickfont": {
          "color": "#4D5663"
         },
         "title": {
          "font": {
           "color": "#4D5663"
          },
          "text": ""
         },
         "zerolinecolor": "#E1E5ED"
        },
        "xaxis6": {
         "anchor": "y6",
         "domain": [
          0.2625,
          0.475
         ],
         "gridcolor": "#E1E5ED",
         "showgrid": false,
         "tickfont": {
          "color": "#4D5663"
         },
         "title": {
          "font": {
           "color": "#4D5663"
          },
          "text": ""
         },
         "zerolinecolor": "#E1E5ED"
        },
        "xaxis7": {
         "anchor": "y7",
         "domain": [
          0.525,
          0.7375
         ],
         "gridcolor": "#E1E5ED",
         "showgrid": false,
         "tickfont": {
          "color": "#4D5663"
         },
         "title": {
          "font": {
           "color": "#4D5663"
          },
          "text": ""
         },
         "zerolinecolor": "#E1E5ED"
        },
        "xaxis8": {
         "anchor": "y8",
         "domain": [
          0.7875,
          1
         ],
         "gridcolor": "#E1E5ED",
         "showgrid": false,
         "tickfont": {
          "color": "#4D5663"
         },
         "title": {
          "font": {
           "color": "#4D5663"
          },
          "text": ""
         },
         "zerolinecolor": "#E1E5ED"
        },
        "xaxis9": {
         "anchor": "y9",
         "domain": [
          0,
          0.2125
         ],
         "gridcolor": "#E1E5ED",
         "showgrid": false,
         "tickfont": {
          "color": "#4D5663"
         },
         "title": {
          "font": {
           "color": "#4D5663"
          },
          "text": ""
         },
         "zerolinecolor": "#E1E5ED"
        },
        "yaxis": {
         "anchor": "x",
         "domain": [
          0.8025,
          1
         ],
         "gridcolor": "#E1E5ED",
         "showgrid": false,
         "tickfont": {
          "color": "#4D5663"
         },
         "title": {
          "font": {
           "color": "#4D5663"
          },
          "text": ""
         },
         "zerolinecolor": "#E1E5ED"
        },
        "yaxis10": {
         "anchor": "x10",
         "domain": [
          0.2675,
          0.465
         ],
         "gridcolor": "#E1E5ED",
         "showgrid": false,
         "tickfont": {
          "color": "#4D5663"
         },
         "title": {
          "font": {
           "color": "#4D5663"
          },
          "text": ""
         },
         "zerolinecolor": "#E1E5ED"
        },
        "yaxis11": {
         "anchor": "x11",
         "domain": [
          0.2675,
          0.465
         ],
         "gridcolor": "#E1E5ED",
         "showgrid": false,
         "tickfont": {
          "color": "#4D5663"
         },
         "title": {
          "font": {
           "color": "#4D5663"
          },
          "text": ""
         },
         "zerolinecolor": "#E1E5ED"
        },
        "yaxis12": {
         "anchor": "x12",
         "domain": [
          0.2675,
          0.465
         ],
         "gridcolor": "#E1E5ED",
         "showgrid": false,
         "tickfont": {
          "color": "#4D5663"
         },
         "title": {
          "font": {
           "color": "#4D5663"
          },
          "text": ""
         },
         "zerolinecolor": "#E1E5ED"
        },
        "yaxis13": {
         "anchor": "x13",
         "domain": [
          0,
          0.1975
         ],
         "gridcolor": "#E1E5ED",
         "showgrid": false,
         "tickfont": {
          "color": "#4D5663"
         },
         "title": {
          "font": {
           "color": "#4D5663"
          },
          "text": ""
         },
         "zerolinecolor": "#E1E5ED"
        },
        "yaxis14": {
         "anchor": "x14",
         "domain": [
          0,
          0.1975
         ],
         "gridcolor": "#E1E5ED",
         "showgrid": false,
         "tickfont": {
          "color": "#4D5663"
         },
         "title": {
          "font": {
           "color": "#4D5663"
          },
          "text": ""
         },
         "zerolinecolor": "#E1E5ED"
        },
        "yaxis15": {
         "anchor": "x15",
         "domain": [
          0,
          0.1975
         ],
         "gridcolor": "#E1E5ED",
         "showgrid": false,
         "tickfont": {
          "color": "#4D5663"
         },
         "title": {
          "font": {
           "color": "#4D5663"
          },
          "text": ""
         },
         "zerolinecolor": "#E1E5ED"
        },
        "yaxis16": {
         "anchor": "x16",
         "domain": [
          0,
          0.1975
         ],
         "gridcolor": "#E1E5ED",
         "showgrid": false,
         "tickfont": {
          "color": "#4D5663"
         },
         "title": {
          "font": {
           "color": "#4D5663"
          },
          "text": ""
         },
         "zerolinecolor": "#E1E5ED"
        },
        "yaxis2": {
         "anchor": "x2",
         "domain": [
          0.8025,
          1
         ],
         "gridcolor": "#E1E5ED",
         "showgrid": false,
         "tickfont": {
          "color": "#4D5663"
         },
         "title": {
          "font": {
           "color": "#4D5663"
          },
          "text": ""
         },
         "zerolinecolor": "#E1E5ED"
        },
        "yaxis3": {
         "anchor": "x3",
         "domain": [
          0.8025,
          1
         ],
         "gridcolor": "#E1E5ED",
         "showgrid": false,
         "tickfont": {
          "color": "#4D5663"
         },
         "title": {
          "font": {
           "color": "#4D5663"
          },
          "text": ""
         },
         "zerolinecolor": "#E1E5ED"
        },
        "yaxis4": {
         "anchor": "x4",
         "domain": [
          0.8025,
          1
         ],
         "gridcolor": "#E1E5ED",
         "showgrid": false,
         "tickfont": {
          "color": "#4D5663"
         },
         "title": {
          "font": {
           "color": "#4D5663"
          },
          "text": ""
         },
         "zerolinecolor": "#E1E5ED"
        },
        "yaxis5": {
         "anchor": "x5",
         "domain": [
          0.535,
          0.7325
         ],
         "gridcolor": "#E1E5ED",
         "showgrid": false,
         "tickfont": {
          "color": "#4D5663"
         },
         "title": {
          "font": {
           "color": "#4D5663"
          },
          "text": ""
         },
         "zerolinecolor": "#E1E5ED"
        },
        "yaxis6": {
         "anchor": "x6",
         "domain": [
          0.535,
          0.7325
         ],
         "gridcolor": "#E1E5ED",
         "showgrid": false,
         "tickfont": {
          "color": "#4D5663"
         },
         "title": {
          "font": {
           "color": "#4D5663"
          },
          "text": ""
         },
         "zerolinecolor": "#E1E5ED"
        },
        "yaxis7": {
         "anchor": "x7",
         "domain": [
          0.535,
          0.7325
         ],
         "gridcolor": "#E1E5ED",
         "showgrid": false,
         "tickfont": {
          "color": "#4D5663"
         },
         "title": {
          "font": {
           "color": "#4D5663"
          },
          "text": ""
         },
         "zerolinecolor": "#E1E5ED"
        },
        "yaxis8": {
         "anchor": "x8",
         "domain": [
          0.535,
          0.7325
         ],
         "gridcolor": "#E1E5ED",
         "showgrid": false,
         "tickfont": {
          "color": "#4D5663"
         },
         "title": {
          "font": {
           "color": "#4D5663"
          },
          "text": ""
         },
         "zerolinecolor": "#E1E5ED"
        },
        "yaxis9": {
         "anchor": "x9",
         "domain": [
          0.2675,
          0.465
         ],
         "gridcolor": "#E1E5ED",
         "showgrid": false,
         "tickfont": {
          "color": "#4D5663"
         },
         "title": {
          "font": {
           "color": "#4D5663"
          },
          "text": ""
         },
         "zerolinecolor": "#E1E5ED"
        }
       }
      },
      "text/html": [
       "<div>\n",
       "        \n",
       "        \n",
       "            <div id=\"ac0b680a-bcf9-4dbb-aa4e-c70d2414e67b\" class=\"plotly-graph-div\" style=\"height:525px; width:100%;\"></div>\n",
       "            <script type=\"text/javascript\">\n",
       "                require([\"plotly\"], function(Plotly) {\n",
       "                    window.PLOTLYENV=window.PLOTLYENV || {};\n",
       "                    window.PLOTLYENV.BASE_URL='https://plot.ly';\n",
       "                    \n",
       "                if (document.getElementById(\"ac0b680a-bcf9-4dbb-aa4e-c70d2414e67b\")) {\n",
       "                    Plotly.newPlot(\n",
       "                        'ac0b680a-bcf9-4dbb-aa4e-c70d2414e67b',\n",
       "                        [{\"histfunc\": \"count\", \"histnorm\": \"\", \"marker\": {\"color\": \"rgba(255, 153, 51, 1.0)\", \"line\": {\"color\": \"#4D5663\", \"width\": 1.3}}, \"name\": \"A\", \"nbinsx\": 10, \"opacity\": 0.8, \"orientation\": \"v\", \"type\": \"histogram\", \"x\": [0.17082491155154642, 0.9733848448503118, -0.20854129260332577, 0.5587619427877866, -0.6615722914955411, 0.5121643351474225, 0.13130368234342465, -0.035220320669247594, -0.369963306984912, 0.5729958692785618, -0.09210955386424999, -0.5373937615298153, -2.01724661384686, -0.8987714595694133, 1.9467057852407064, 0.5164427357241107, -1.1635408247005044, -0.5448724578467126, -0.46264624189382997, -1.9179493009778803, 2.7714798339031748, 0.3071036700992901, 0.029286680479822094, 0.5515474197907069, 0.09403663372726255, -0.0687491880537863, 0.7060426747565378, -0.5487359269643622, 1.150545299499611, -0.08727405512422448, -0.04865263507570622, -1.3241004736370685, 1.8203440910427022, 1.0249235499982265, 0.07530077677831443, -0.3983518441111155, 0.9243840081896711, -2.1537998401775726, -0.7480917035901087, -1.8064452966690792, 0.7434603261362684, -0.30218021518186455, -1.5446446180825437, -1.1220120169755035, 0.9827691531143342, 1.1921574743054213, 0.6442449133259306, -0.3569707490839753, 0.8461417905701312, -2.19250392792535, 0.5652808285965437, -0.1344062661716792, 0.3374266044185731, 0.11501457230929552, -1.03432476125489, 0.8786458309333575, -0.8432228331014776, 1.5209334906428773, -0.13490408553921363, 1.1362711489480044, -0.7164362335444737, 1.8944088793920375, -0.8392029122803014, 0.8870880475536355, -0.22471697569343044, -0.21386527195545157, -0.588424204629573, -2.333080303181406, 0.6864778911900746, 0.9061942198927625, -0.6362395296227634, 0.2775335519572494, 0.6663808474363447, 1.451569505775331, 0.25971128472701793, -0.22258903844656566, 0.11690251426354925, -0.4037173564209437, -0.3616918130026108, 0.26753011495892737, -0.3330809158884787, -0.6136738297829322, 2.3977626706818524, 0.008681338043572347, 0.015381712961214473, -0.34992740870667255, -0.9826085890796246, 0.10960702639982886, 0.3045237793180047, 0.9456287376200995, -1.2666023905791035, -0.12604263057332346, 1.3716201125923573, -0.772097226537111, 0.742127190729917, 0.5613431520440979, 0.29713781861089317, 0.11467605932335413, 1.1177885105058485, 1.3404619399594997], \"xaxis\": \"x\", \"yaxis\": \"y\"}, {\"line\": {\"color\": \"rgba(128, 128, 128, 1.0)\", \"dash\": \"solid\", \"shape\": \"linear\", \"width\": 1.3}, \"marker\": {\"size\": 2, \"symbol\": \"circle\"}, \"mode\": \"markers\", \"name\": \"A\", \"text\": \"\", \"type\": \"scatter\", \"x\": [-1.0469343486083953, -1.459788614380184, -0.8948475098518478, 1.0189272429513767, 0.896482444363568, -0.8499088047524456, 0.024902896053242213, -1.2539480497063156, 1.1080455661815205, 0.6039706085303771, 1.1462550302790881, 0.3383978416192203, -1.1703911847275679, -0.4506090304627199, -1.7885796092722501, 1.9740354776517566, -0.5589227900109863, -1.5059038409979402, 0.06801135045561885, -0.5424102393537328, -0.12596595257673204, 0.07766803062063887, 1.08742149533797, -0.5276402294420803, -0.5134796696744759, -0.00885507836116481, -1.9179898136723204, 0.015978142026482386, 0.596272380271323, 1.096940104175222, -0.9701160214948572, 1.1473044174962768, -0.8497300858779225, 0.17745707004204264, 1.3040067873187786, 0.8949482052732047, -0.07886388560014475, -3.561507122896207, 1.5323073119190378, -1.0106015855491841, 1.0565480505208455, 0.7105695536942717, -0.797211235009638, 0.7998529314333869, -0.15244947297596764, -0.17741142705640117, 0.039603889157412094, -1.2500332755144197, 0.07917645744092283, 1.336754302137174, 0.603138128276989, 0.18426981447960314, -0.6495388957173431, -1.6313915348260464, -0.2982863158078925, 0.37314891494260083, 0.24879635716302964, 0.5860706811766647, -0.6610205762239924, -1.190788182194642, -0.6409061943286544, 0.462293155947097, -1.3089069803765623, 1.6341450528765762, -1.1338904173028463, -0.5039350542364665, 0.0840200054861493, -0.2726865642592458, 1.2856192693433823, 0.29240349533422016, 0.9006195057266302, -0.604269563912645, 1.6869476552089377, 0.5361783937936255, 1.0150365809424875, 0.09077509679183086, 0.9872278379038406, -0.5543308540711545, 0.15213184418788492, -0.8772278719188741, 0.2931996962880976, -0.2037623234733791, -0.7928436197071106, -1.0802896101213275, -1.3279711785816812, 0.08431434618031589, 0.596991906053773, 0.14488046829607382, 0.8075704683875163, -2.8380301262811347, 1.1722548193519313, 0.6474126943040964, -0.4074743070915865, -0.810311666954102, -1.2017508067688711, 1.6032888870895288, 0.15228854207435788, 0.800145725655405, -0.7282201700792078, 1.1399079188302463], \"xaxis\": \"x2\", \"y\": [0.17082491155154642, 0.9733848448503118, -0.20854129260332577, 0.5587619427877866, -0.6615722914955411, 0.5121643351474225, 0.13130368234342465, -0.035220320669247594, -0.369963306984912, 0.5729958692785618, -0.09210955386424999, -0.5373937615298153, -2.01724661384686, -0.8987714595694133, 1.9467057852407064, 0.5164427357241107, -1.1635408247005044, -0.5448724578467126, -0.46264624189382997, -1.9179493009778803, 2.7714798339031748, 0.3071036700992901, 0.029286680479822094, 0.5515474197907069, 0.09403663372726255, -0.0687491880537863, 0.7060426747565378, -0.5487359269643622, 1.150545299499611, -0.08727405512422448, -0.04865263507570622, -1.3241004736370685, 1.8203440910427022, 1.0249235499982265, 0.07530077677831443, -0.3983518441111155, 0.9243840081896711, -2.1537998401775726, -0.7480917035901087, -1.8064452966690792, 0.7434603261362684, -0.30218021518186455, -1.5446446180825437, -1.1220120169755035, 0.9827691531143342, 1.1921574743054213, 0.6442449133259306, -0.3569707490839753, 0.8461417905701312, -2.19250392792535, 0.5652808285965437, -0.1344062661716792, 0.3374266044185731, 0.11501457230929552, -1.03432476125489, 0.8786458309333575, -0.8432228331014776, 1.5209334906428773, -0.13490408553921363, 1.1362711489480044, -0.7164362335444737, 1.8944088793920375, -0.8392029122803014, 0.8870880475536355, -0.22471697569343044, -0.21386527195545157, -0.588424204629573, -2.333080303181406, 0.6864778911900746, 0.9061942198927625, -0.6362395296227634, 0.2775335519572494, 0.6663808474363447, 1.451569505775331, 0.25971128472701793, -0.22258903844656566, 0.11690251426354925, -0.4037173564209437, -0.3616918130026108, 0.26753011495892737, -0.3330809158884787, -0.6136738297829322, 2.3977626706818524, 0.008681338043572347, 0.015381712961214473, -0.34992740870667255, -0.9826085890796246, 0.10960702639982886, 0.3045237793180047, 0.9456287376200995, -1.2666023905791035, -0.12604263057332346, 1.3716201125923573, -0.772097226537111, 0.742127190729917, 0.5613431520440979, 0.29713781861089317, 0.11467605932335413, 1.1177885105058485, 1.3404619399594997], \"yaxis\": \"y2\"}, {\"line\": {\"color\": \"rgba(128, 128, 128, 1.0)\", \"dash\": \"solid\", \"shape\": \"linear\", \"width\": 1.3}, \"marker\": {\"size\": 2, \"symbol\": \"circle\"}, \"mode\": \"markers\", \"name\": \"A\", \"text\": \"\", \"type\": \"scatter\", \"x\": [-1.083409260510116, -0.6233826702344707, -1.487958730006341, 1.4500902860606606, 0.5184183544958612, -0.06869007134045814, -0.7586693473176449, 0.3181526581176076, -0.12139583016252287, 0.9003495579818129, -0.345938799172238, -0.58724181956537, -0.14660194403232946, -1.5411917176825616, 0.25346117461220025, -0.12081686773271984, -0.213716356271708, 0.5109308970756155, -0.8206296145865845, 0.32325510299063276, 0.7165393417813816, -0.31662965487129874, -0.5833987772015554, 0.7422554741042364, 0.4158122675049731, -0.4320530807798729, -0.05444825497343422, 0.26429190594354013, -0.27606874197166625, -0.8367968655641479, -0.80565305751109, 0.8546336441528956, 1.2682314465013793, -0.040936477390389206, 0.2116206328936026, 1.1296501302678497, -1.9970266382801474, -0.5872956123135975, -1.971624796598765, 0.12580442391927454, 0.3411147221935644, -0.5910392048903733, 0.012683432683106987, -0.6288303749719821, -1.4667434856849577, -0.4244616688571402, 0.8696058283364013, -0.7818727333120795, 1.6204005308658702, 0.5016576750261891, 0.023099897673051886, -0.3557557595377423, 1.0909284059681899, -1.113372981243506, 1.6069882781359834, 1.1436732452635934, -0.7371322267178182, 1.3664942790622177, 0.579531518254415, 0.35980486027619685, -1.2000381769631732, -0.881465076826653, -0.4313393444341336, 1.0505165757890922, 2.815771448578094, 0.4399490486483119, -0.9236873107736241, 0.3238433158683018, 1.1837054803635867, -1.044475958212905, 0.041344126434387965, -0.29393595883720447, 0.16436652485478864, 1.0765681398764257, -0.020650275021764117, -0.7619722931091294, -1.1001753121084101, 1.0854618548482229, 0.2595781994149842, -0.7327897730991297, -1.6812401554357397, -0.8118101426052025, 0.6607834765074295, 0.09710505667980361, -0.2780418030555889, 0.2816272937349905, 0.06167367339821572, -0.32763346930724774, -0.20834731656065203, 0.16327110479821202, -1.1015478454920364, -0.0005602014611263928, -1.277038315826333, 1.1272543262294106, 0.348073654247844, 1.2178138405318408, 0.45632543412080767, 1.9242090247402113, -0.3832658552733305, -0.16108471753715756], \"xaxis\": \"x3\", \"y\": [0.17082491155154642, 0.9733848448503118, -0.20854129260332577, 0.5587619427877866, -0.6615722914955411, 0.5121643351474225, 0.13130368234342465, -0.035220320669247594, -0.369963306984912, 0.5729958692785618, -0.09210955386424999, -0.5373937615298153, -2.01724661384686, -0.8987714595694133, 1.9467057852407064, 0.5164427357241107, -1.1635408247005044, -0.5448724578467126, -0.46264624189382997, -1.9179493009778803, 2.7714798339031748, 0.3071036700992901, 0.029286680479822094, 0.5515474197907069, 0.09403663372726255, -0.0687491880537863, 0.7060426747565378, -0.5487359269643622, 1.150545299499611, -0.08727405512422448, -0.04865263507570622, -1.3241004736370685, 1.8203440910427022, 1.0249235499982265, 0.07530077677831443, -0.3983518441111155, 0.9243840081896711, -2.1537998401775726, -0.7480917035901087, -1.8064452966690792, 0.7434603261362684, -0.30218021518186455, -1.5446446180825437, -1.1220120169755035, 0.9827691531143342, 1.1921574743054213, 0.6442449133259306, -0.3569707490839753, 0.8461417905701312, -2.19250392792535, 0.5652808285965437, -0.1344062661716792, 0.3374266044185731, 0.11501457230929552, -1.03432476125489, 0.8786458309333575, -0.8432228331014776, 1.5209334906428773, -0.13490408553921363, 1.1362711489480044, -0.7164362335444737, 1.8944088793920375, -0.8392029122803014, 0.8870880475536355, -0.22471697569343044, -0.21386527195545157, -0.588424204629573, -2.333080303181406, 0.6864778911900746, 0.9061942198927625, -0.6362395296227634, 0.2775335519572494, 0.6663808474363447, 1.451569505775331, 0.25971128472701793, -0.22258903844656566, 0.11690251426354925, -0.4037173564209437, -0.3616918130026108, 0.26753011495892737, -0.3330809158884787, -0.6136738297829322, 2.3977626706818524, 0.008681338043572347, 0.015381712961214473, -0.34992740870667255, -0.9826085890796246, 0.10960702639982886, 0.3045237793180047, 0.9456287376200995, -1.2666023905791035, -0.12604263057332346, 1.3716201125923573, -0.772097226537111, 0.742127190729917, 0.5613431520440979, 0.29713781861089317, 0.11467605932335413, 1.1177885105058485, 1.3404619399594997], \"yaxis\": \"y3\"}, {\"line\": {\"color\": \"rgba(128, 128, 128, 1.0)\", \"dash\": \"solid\", \"shape\": \"linear\", \"width\": 1.3}, \"marker\": {\"size\": 2, \"symbol\": \"circle\"}, \"mode\": \"markers\", \"name\": \"A\", \"text\": \"\", \"type\": \"scatter\", \"x\": [0.5166946384955043, 0.48556422515707554, 0.45951540982459593, -1.214442327029582, 1.062399804740602, 0.17107336991352248, 0.604615881443146, 1.0292440860227963, 0.3368868614667589, 0.1736338037301056, -0.05148581901736868, -0.6628606535777364, -0.07177475787045608, 0.3957799495770412, 0.8570362933052382, 1.5168619616720382, -1.201565793644591, 0.9981646319387389, -0.5234028077559358, -0.21553688266323578, 1.127420796331115, -0.43583657055680136, -1.2026878581520406, -0.2556029225727095, -1.1140712365088106, -0.9202653163058435, -0.2363872754886624, -0.8671181437058871, -0.1852391138551511, -1.3868279992114436, 0.05590318505435606, -0.3766514021416788, -0.8782588203413113, -0.5642460299986506, 1.974125914384826, 0.3726001771684393, -0.5147463611381171, -1.2514621226682439, -0.2834583529937567, -1.2526718111666866, 0.44675958279051314, -0.49555993011692934, 1.365002560886047, -0.006843071507508393, -0.14071992723650367, -1.2099244335284973, -1.1556304501044348, 0.41317746094731167, -0.3225582903687393, -0.1554184983211697, 1.363139017505943, -0.43738050423246605, 0.5682412925538698, 1.3919143496670032, -0.8242873002424768, -1.4693611871874401, 0.25215251101374603, -1.7434706309489927, 0.7069313544002513, 1.0947207956242229, -0.3531683586049207, 0.378841776935647, -1.7708489640173974, 0.35640539263581167, -1.8660080590582062, -0.12518326442461947, -1.4993530363032441, -1.1223625660187064, 0.5029439763474637, -1.013310203330969, 0.23348057069442, -1.0179051752050474, 0.46124435489886595, 0.25481059406866796, -0.8916332547981175, -0.4459757563014239, -0.5591989767595353, -1.0533156467395162, 0.5738430064975556, -0.34503373424769523, 0.32597028749063256, -0.962809880788565, 0.09551137204303375, 0.004723010771319971, -0.6719729741927057, 0.4413909278835191, -0.1725927841084922, -0.7505623805576361, 2.0750053689560692, 0.8391598067996842, -1.257855953669524, -0.0922309719635119, 0.1984604300175499, 0.022836073467580237, 1.9085175356162156, 0.9370201660534192, -0.09424740535910009, 0.2734849208368586, 0.9736539827350027, 0.03847078746525226], \"xaxis\": \"x4\", \"y\": [0.17082491155154642, 0.9733848448503118, -0.20854129260332577, 0.5587619427877866, -0.6615722914955411, 0.5121643351474225, 0.13130368234342465, -0.035220320669247594, -0.369963306984912, 0.5729958692785618, -0.09210955386424999, -0.5373937615298153, -2.01724661384686, -0.8987714595694133, 1.9467057852407064, 0.5164427357241107, -1.1635408247005044, -0.5448724578467126, -0.46264624189382997, -1.9179493009778803, 2.7714798339031748, 0.3071036700992901, 0.029286680479822094, 0.5515474197907069, 0.09403663372726255, -0.0687491880537863, 0.7060426747565378, -0.5487359269643622, 1.150545299499611, -0.08727405512422448, -0.04865263507570622, -1.3241004736370685, 1.8203440910427022, 1.0249235499982265, 0.07530077677831443, -0.3983518441111155, 0.9243840081896711, -2.1537998401775726, -0.7480917035901087, -1.8064452966690792, 0.7434603261362684, -0.30218021518186455, -1.5446446180825437, -1.1220120169755035, 0.9827691531143342, 1.1921574743054213, 0.6442449133259306, -0.3569707490839753, 0.8461417905701312, -2.19250392792535, 0.5652808285965437, -0.1344062661716792, 0.3374266044185731, 0.11501457230929552, -1.03432476125489, 0.8786458309333575, -0.8432228331014776, 1.5209334906428773, -0.13490408553921363, 1.1362711489480044, -0.7164362335444737, 1.8944088793920375, -0.8392029122803014, 0.8870880475536355, -0.22471697569343044, -0.21386527195545157, -0.588424204629573, -2.333080303181406, 0.6864778911900746, 0.9061942198927625, -0.6362395296227634, 0.2775335519572494, 0.6663808474363447, 1.451569505775331, 0.25971128472701793, -0.22258903844656566, 0.11690251426354925, -0.4037173564209437, -0.3616918130026108, 0.26753011495892737, -0.3330809158884787, -0.6136738297829322, 2.3977626706818524, 0.008681338043572347, 0.015381712961214473, -0.34992740870667255, -0.9826085890796246, 0.10960702639982886, 0.3045237793180047, 0.9456287376200995, -1.2666023905791035, -0.12604263057332346, 1.3716201125923573, -0.772097226537111, 0.742127190729917, 0.5613431520440979, 0.29713781861089317, 0.11467605932335413, 1.1177885105058485, 1.3404619399594997], \"yaxis\": \"y4\"}, {\"line\": {\"color\": \"rgba(128, 128, 128, 1.0)\", \"dash\": \"solid\", \"shape\": \"linear\", \"width\": 1.3}, \"marker\": {\"size\": 2, \"symbol\": \"circle\"}, \"mode\": \"markers\", \"name\": \"B\", \"text\": \"\", \"type\": \"scatter\", \"x\": [0.17082491155154642, 0.9733848448503118, -0.20854129260332577, 0.5587619427877866, -0.6615722914955411, 0.5121643351474225, 0.13130368234342465, -0.035220320669247594, -0.369963306984912, 0.5729958692785618, -0.09210955386424999, -0.5373937615298153, -2.01724661384686, -0.8987714595694133, 1.9467057852407064, 0.5164427357241107, -1.1635408247005044, -0.5448724578467126, -0.46264624189382997, -1.9179493009778803, 2.7714798339031748, 0.3071036700992901, 0.029286680479822094, 0.5515474197907069, 0.09403663372726255, -0.0687491880537863, 0.7060426747565378, -0.5487359269643622, 1.150545299499611, -0.08727405512422448, -0.04865263507570622, -1.3241004736370685, 1.8203440910427022, 1.0249235499982265, 0.07530077677831443, -0.3983518441111155, 0.9243840081896711, -2.1537998401775726, -0.7480917035901087, -1.8064452966690792, 0.7434603261362684, -0.30218021518186455, -1.5446446180825437, -1.1220120169755035, 0.9827691531143342, 1.1921574743054213, 0.6442449133259306, -0.3569707490839753, 0.8461417905701312, -2.19250392792535, 0.5652808285965437, -0.1344062661716792, 0.3374266044185731, 0.11501457230929552, -1.03432476125489, 0.8786458309333575, -0.8432228331014776, 1.5209334906428773, -0.13490408553921363, 1.1362711489480044, -0.7164362335444737, 1.8944088793920375, -0.8392029122803014, 0.8870880475536355, -0.22471697569343044, -0.21386527195545157, -0.588424204629573, -2.333080303181406, 0.6864778911900746, 0.9061942198927625, -0.6362395296227634, 0.2775335519572494, 0.6663808474363447, 1.451569505775331, 0.25971128472701793, -0.22258903844656566, 0.11690251426354925, -0.4037173564209437, -0.3616918130026108, 0.26753011495892737, -0.3330809158884787, -0.6136738297829322, 2.3977626706818524, 0.008681338043572347, 0.015381712961214473, -0.34992740870667255, -0.9826085890796246, 0.10960702639982886, 0.3045237793180047, 0.9456287376200995, -1.2666023905791035, -0.12604263057332346, 1.3716201125923573, -0.772097226537111, 0.742127190729917, 0.5613431520440979, 0.29713781861089317, 0.11467605932335413, 1.1177885105058485, 1.3404619399594997], \"xaxis\": \"x5\", \"y\": [-1.0469343486083953, -1.459788614380184, -0.8948475098518478, 1.0189272429513767, 0.896482444363568, -0.8499088047524456, 0.024902896053242213, -1.2539480497063156, 1.1080455661815205, 0.6039706085303771, 1.1462550302790881, 0.3383978416192203, -1.1703911847275679, -0.4506090304627199, -1.7885796092722501, 1.9740354776517566, -0.5589227900109863, -1.5059038409979402, 0.06801135045561885, -0.5424102393537328, -0.12596595257673204, 0.07766803062063887, 1.08742149533797, -0.5276402294420803, -0.5134796696744759, -0.00885507836116481, -1.9179898136723204, 0.015978142026482386, 0.596272380271323, 1.096940104175222, -0.9701160214948572, 1.1473044174962768, -0.8497300858779225, 0.17745707004204264, 1.3040067873187786, 0.8949482052732047, -0.07886388560014475, -3.561507122896207, 1.5323073119190378, -1.0106015855491841, 1.0565480505208455, 0.7105695536942717, -0.797211235009638, 0.7998529314333869, -0.15244947297596764, -0.17741142705640117, 0.039603889157412094, -1.2500332755144197, 0.07917645744092283, 1.336754302137174, 0.603138128276989, 0.18426981447960314, -0.6495388957173431, -1.6313915348260464, -0.2982863158078925, 0.37314891494260083, 0.24879635716302964, 0.5860706811766647, -0.6610205762239924, -1.190788182194642, -0.6409061943286544, 0.462293155947097, -1.3089069803765623, 1.6341450528765762, -1.1338904173028463, -0.5039350542364665, 0.0840200054861493, -0.2726865642592458, 1.2856192693433823, 0.29240349533422016, 0.9006195057266302, -0.604269563912645, 1.6869476552089377, 0.5361783937936255, 1.0150365809424875, 0.09077509679183086, 0.9872278379038406, -0.5543308540711545, 0.15213184418788492, -0.8772278719188741, 0.2931996962880976, -0.2037623234733791, -0.7928436197071106, -1.0802896101213275, -1.3279711785816812, 0.08431434618031589, 0.596991906053773, 0.14488046829607382, 0.8075704683875163, -2.8380301262811347, 1.1722548193519313, 0.6474126943040964, -0.4074743070915865, -0.810311666954102, -1.2017508067688711, 1.6032888870895288, 0.15228854207435788, 0.800145725655405, -0.7282201700792078, 1.1399079188302463], \"yaxis\": \"y5\"}, {\"histfunc\": \"count\", \"histnorm\": \"\", \"marker\": {\"color\": \"rgba(55, 128, 191, 1.0)\", \"line\": {\"color\": \"#4D5663\", \"width\": 1.3}}, \"name\": \"B\", \"nbinsx\": 10, \"opacity\": 0.8, \"orientation\": \"v\", \"type\": \"histogram\", \"x\": [-1.0469343486083953, -1.459788614380184, -0.8948475098518478, 1.0189272429513767, 0.896482444363568, -0.8499088047524456, 0.024902896053242213, -1.2539480497063156, 1.1080455661815205, 0.6039706085303771, 1.1462550302790881, 0.3383978416192203, -1.1703911847275679, -0.4506090304627199, -1.7885796092722501, 1.9740354776517566, -0.5589227900109863, -1.5059038409979402, 0.06801135045561885, -0.5424102393537328, -0.12596595257673204, 0.07766803062063887, 1.08742149533797, -0.5276402294420803, -0.5134796696744759, -0.00885507836116481, -1.9179898136723204, 0.015978142026482386, 0.596272380271323, 1.096940104175222, -0.9701160214948572, 1.1473044174962768, -0.8497300858779225, 0.17745707004204264, 1.3040067873187786, 0.8949482052732047, -0.07886388560014475, -3.561507122896207, 1.5323073119190378, -1.0106015855491841, 1.0565480505208455, 0.7105695536942717, -0.797211235009638, 0.7998529314333869, -0.15244947297596764, -0.17741142705640117, 0.039603889157412094, -1.2500332755144197, 0.07917645744092283, 1.336754302137174, 0.603138128276989, 0.18426981447960314, -0.6495388957173431, -1.6313915348260464, -0.2982863158078925, 0.37314891494260083, 0.24879635716302964, 0.5860706811766647, -0.6610205762239924, -1.190788182194642, -0.6409061943286544, 0.462293155947097, -1.3089069803765623, 1.6341450528765762, -1.1338904173028463, -0.5039350542364665, 0.0840200054861493, -0.2726865642592458, 1.2856192693433823, 0.29240349533422016, 0.9006195057266302, -0.604269563912645, 1.6869476552089377, 0.5361783937936255, 1.0150365809424875, 0.09077509679183086, 0.9872278379038406, -0.5543308540711545, 0.15213184418788492, -0.8772278719188741, 0.2931996962880976, -0.2037623234733791, -0.7928436197071106, -1.0802896101213275, -1.3279711785816812, 0.08431434618031589, 0.596991906053773, 0.14488046829607382, 0.8075704683875163, -2.8380301262811347, 1.1722548193519313, 0.6474126943040964, -0.4074743070915865, -0.810311666954102, -1.2017508067688711, 1.6032888870895288, 0.15228854207435788, 0.800145725655405, -0.7282201700792078, 1.1399079188302463], \"xaxis\": \"x6\", \"yaxis\": \"y6\"}, {\"line\": {\"color\": \"rgba(128, 128, 128, 1.0)\", \"dash\": \"solid\", \"shape\": \"linear\", \"width\": 1.3}, \"marker\": {\"size\": 2, \"symbol\": \"circle\"}, \"mode\": \"markers\", \"name\": \"B\", \"text\": \"\", \"type\": \"scatter\", \"x\": [-1.083409260510116, -0.6233826702344707, -1.487958730006341, 1.4500902860606606, 0.5184183544958612, -0.06869007134045814, -0.7586693473176449, 0.3181526581176076, -0.12139583016252287, 0.9003495579818129, -0.345938799172238, -0.58724181956537, -0.14660194403232946, -1.5411917176825616, 0.25346117461220025, -0.12081686773271984, -0.213716356271708, 0.5109308970756155, -0.8206296145865845, 0.32325510299063276, 0.7165393417813816, -0.31662965487129874, -0.5833987772015554, 0.7422554741042364, 0.4158122675049731, -0.4320530807798729, -0.05444825497343422, 0.26429190594354013, -0.27606874197166625, -0.8367968655641479, -0.80565305751109, 0.8546336441528956, 1.2682314465013793, -0.040936477390389206, 0.2116206328936026, 1.1296501302678497, -1.9970266382801474, -0.5872956123135975, -1.971624796598765, 0.12580442391927454, 0.3411147221935644, -0.5910392048903733, 0.012683432683106987, -0.6288303749719821, -1.4667434856849577, -0.4244616688571402, 0.8696058283364013, -0.7818727333120795, 1.6204005308658702, 0.5016576750261891, 0.023099897673051886, -0.3557557595377423, 1.0909284059681899, -1.113372981243506, 1.6069882781359834, 1.1436732452635934, -0.7371322267178182, 1.3664942790622177, 0.579531518254415, 0.35980486027619685, -1.2000381769631732, -0.881465076826653, -0.4313393444341336, 1.0505165757890922, 2.815771448578094, 0.4399490486483119, -0.9236873107736241, 0.3238433158683018, 1.1837054803635867, -1.044475958212905, 0.041344126434387965, -0.29393595883720447, 0.16436652485478864, 1.0765681398764257, -0.020650275021764117, -0.7619722931091294, -1.1001753121084101, 1.0854618548482229, 0.2595781994149842, -0.7327897730991297, -1.6812401554357397, -0.8118101426052025, 0.6607834765074295, 0.09710505667980361, -0.2780418030555889, 0.2816272937349905, 0.06167367339821572, -0.32763346930724774, -0.20834731656065203, 0.16327110479821202, -1.1015478454920364, -0.0005602014611263928, -1.277038315826333, 1.1272543262294106, 0.348073654247844, 1.2178138405318408, 0.45632543412080767, 1.9242090247402113, -0.3832658552733305, -0.16108471753715756], \"xaxis\": \"x7\", \"y\": [-1.0469343486083953, -1.459788614380184, -0.8948475098518478, 1.0189272429513767, 0.896482444363568, -0.8499088047524456, 0.024902896053242213, -1.2539480497063156, 1.1080455661815205, 0.6039706085303771, 1.1462550302790881, 0.3383978416192203, -1.1703911847275679, -0.4506090304627199, -1.7885796092722501, 1.9740354776517566, -0.5589227900109863, -1.5059038409979402, 0.06801135045561885, -0.5424102393537328, -0.12596595257673204, 0.07766803062063887, 1.08742149533797, -0.5276402294420803, -0.5134796696744759, -0.00885507836116481, -1.9179898136723204, 0.015978142026482386, 0.596272380271323, 1.096940104175222, -0.9701160214948572, 1.1473044174962768, -0.8497300858779225, 0.17745707004204264, 1.3040067873187786, 0.8949482052732047, -0.07886388560014475, -3.561507122896207, 1.5323073119190378, -1.0106015855491841, 1.0565480505208455, 0.7105695536942717, -0.797211235009638, 0.7998529314333869, -0.15244947297596764, -0.17741142705640117, 0.039603889157412094, -1.2500332755144197, 0.07917645744092283, 1.336754302137174, 0.603138128276989, 0.18426981447960314, -0.6495388957173431, -1.6313915348260464, -0.2982863158078925, 0.37314891494260083, 0.24879635716302964, 0.5860706811766647, -0.6610205762239924, -1.190788182194642, -0.6409061943286544, 0.462293155947097, -1.3089069803765623, 1.6341450528765762, -1.1338904173028463, -0.5039350542364665, 0.0840200054861493, -0.2726865642592458, 1.2856192693433823, 0.29240349533422016, 0.9006195057266302, -0.604269563912645, 1.6869476552089377, 0.5361783937936255, 1.0150365809424875, 0.09077509679183086, 0.9872278379038406, -0.5543308540711545, 0.15213184418788492, -0.8772278719188741, 0.2931996962880976, -0.2037623234733791, -0.7928436197071106, -1.0802896101213275, -1.3279711785816812, 0.08431434618031589, 0.596991906053773, 0.14488046829607382, 0.8075704683875163, -2.8380301262811347, 1.1722548193519313, 0.6474126943040964, -0.4074743070915865, -0.810311666954102, -1.2017508067688711, 1.6032888870895288, 0.15228854207435788, 0.800145725655405, -0.7282201700792078, 1.1399079188302463], \"yaxis\": \"y7\"}, {\"line\": {\"color\": \"rgba(128, 128, 128, 1.0)\", \"dash\": \"solid\", \"shape\": \"linear\", \"width\": 1.3}, \"marker\": {\"size\": 2, \"symbol\": \"circle\"}, \"mode\": \"markers\", \"name\": \"B\", \"text\": \"\", \"type\": \"scatter\", \"x\": [0.5166946384955043, 0.48556422515707554, 0.45951540982459593, -1.214442327029582, 1.062399804740602, 0.17107336991352248, 0.604615881443146, 1.0292440860227963, 0.3368868614667589, 0.1736338037301056, -0.05148581901736868, -0.6628606535777364, -0.07177475787045608, 0.3957799495770412, 0.8570362933052382, 1.5168619616720382, -1.201565793644591, 0.9981646319387389, -0.5234028077559358, -0.21553688266323578, 1.127420796331115, -0.43583657055680136, -1.2026878581520406, -0.2556029225727095, -1.1140712365088106, -0.9202653163058435, -0.2363872754886624, -0.8671181437058871, -0.1852391138551511, -1.3868279992114436, 0.05590318505435606, -0.3766514021416788, -0.8782588203413113, -0.5642460299986506, 1.974125914384826, 0.3726001771684393, -0.5147463611381171, -1.2514621226682439, -0.2834583529937567, -1.2526718111666866, 0.44675958279051314, -0.49555993011692934, 1.365002560886047, -0.006843071507508393, -0.14071992723650367, -1.2099244335284973, -1.1556304501044348, 0.41317746094731167, -0.3225582903687393, -0.1554184983211697, 1.363139017505943, -0.43738050423246605, 0.5682412925538698, 1.3919143496670032, -0.8242873002424768, -1.4693611871874401, 0.25215251101374603, -1.7434706309489927, 0.7069313544002513, 1.0947207956242229, -0.3531683586049207, 0.378841776935647, -1.7708489640173974, 0.35640539263581167, -1.8660080590582062, -0.12518326442461947, -1.4993530363032441, -1.1223625660187064, 0.5029439763474637, -1.013310203330969, 0.23348057069442, -1.0179051752050474, 0.46124435489886595, 0.25481059406866796, -0.8916332547981175, -0.4459757563014239, -0.5591989767595353, -1.0533156467395162, 0.5738430064975556, -0.34503373424769523, 0.32597028749063256, -0.962809880788565, 0.09551137204303375, 0.004723010771319971, -0.6719729741927057, 0.4413909278835191, -0.1725927841084922, -0.7505623805576361, 2.0750053689560692, 0.8391598067996842, -1.257855953669524, -0.0922309719635119, 0.1984604300175499, 0.022836073467580237, 1.9085175356162156, 0.9370201660534192, -0.09424740535910009, 0.2734849208368586, 0.9736539827350027, 0.03847078746525226], \"xaxis\": \"x8\", \"y\": [-1.0469343486083953, -1.459788614380184, -0.8948475098518478, 1.0189272429513767, 0.896482444363568, -0.8499088047524456, 0.024902896053242213, -1.2539480497063156, 1.1080455661815205, 0.6039706085303771, 1.1462550302790881, 0.3383978416192203, -1.1703911847275679, -0.4506090304627199, -1.7885796092722501, 1.9740354776517566, -0.5589227900109863, -1.5059038409979402, 0.06801135045561885, -0.5424102393537328, -0.12596595257673204, 0.07766803062063887, 1.08742149533797, -0.5276402294420803, -0.5134796696744759, -0.00885507836116481, -1.9179898136723204, 0.015978142026482386, 0.596272380271323, 1.096940104175222, -0.9701160214948572, 1.1473044174962768, -0.8497300858779225, 0.17745707004204264, 1.3040067873187786, 0.8949482052732047, -0.07886388560014475, -3.561507122896207, 1.5323073119190378, -1.0106015855491841, 1.0565480505208455, 0.7105695536942717, -0.797211235009638, 0.7998529314333869, -0.15244947297596764, -0.17741142705640117, 0.039603889157412094, -1.2500332755144197, 0.07917645744092283, 1.336754302137174, 0.603138128276989, 0.18426981447960314, -0.6495388957173431, -1.6313915348260464, -0.2982863158078925, 0.37314891494260083, 0.24879635716302964, 0.5860706811766647, -0.6610205762239924, -1.190788182194642, -0.6409061943286544, 0.462293155947097, -1.3089069803765623, 1.6341450528765762, -1.1338904173028463, -0.5039350542364665, 0.0840200054861493, -0.2726865642592458, 1.2856192693433823, 0.29240349533422016, 0.9006195057266302, -0.604269563912645, 1.6869476552089377, 0.5361783937936255, 1.0150365809424875, 0.09077509679183086, 0.9872278379038406, -0.5543308540711545, 0.15213184418788492, -0.8772278719188741, 0.2931996962880976, -0.2037623234733791, -0.7928436197071106, -1.0802896101213275, -1.3279711785816812, 0.08431434618031589, 0.596991906053773, 0.14488046829607382, 0.8075704683875163, -2.8380301262811347, 1.1722548193519313, 0.6474126943040964, -0.4074743070915865, -0.810311666954102, -1.2017508067688711, 1.6032888870895288, 0.15228854207435788, 0.800145725655405, -0.7282201700792078, 1.1399079188302463], \"yaxis\": \"y8\"}, {\"line\": {\"color\": \"rgba(128, 128, 128, 1.0)\", \"dash\": \"solid\", \"shape\": \"linear\", \"width\": 1.3}, \"marker\": {\"size\": 2, \"symbol\": \"circle\"}, \"mode\": \"markers\", \"name\": \"C\", \"text\": \"\", \"type\": \"scatter\", \"x\": [0.17082491155154642, 0.9733848448503118, -0.20854129260332577, 0.5587619427877866, -0.6615722914955411, 0.5121643351474225, 0.13130368234342465, -0.035220320669247594, -0.369963306984912, 0.5729958692785618, -0.09210955386424999, -0.5373937615298153, -2.01724661384686, -0.8987714595694133, 1.9467057852407064, 0.5164427357241107, -1.1635408247005044, -0.5448724578467126, -0.46264624189382997, -1.9179493009778803, 2.7714798339031748, 0.3071036700992901, 0.029286680479822094, 0.5515474197907069, 0.09403663372726255, -0.0687491880537863, 0.7060426747565378, -0.5487359269643622, 1.150545299499611, -0.08727405512422448, -0.04865263507570622, -1.3241004736370685, 1.8203440910427022, 1.0249235499982265, 0.07530077677831443, -0.3983518441111155, 0.9243840081896711, -2.1537998401775726, -0.7480917035901087, -1.8064452966690792, 0.7434603261362684, -0.30218021518186455, -1.5446446180825437, -1.1220120169755035, 0.9827691531143342, 1.1921574743054213, 0.6442449133259306, -0.3569707490839753, 0.8461417905701312, -2.19250392792535, 0.5652808285965437, -0.1344062661716792, 0.3374266044185731, 0.11501457230929552, -1.03432476125489, 0.8786458309333575, -0.8432228331014776, 1.5209334906428773, -0.13490408553921363, 1.1362711489480044, -0.7164362335444737, 1.8944088793920375, -0.8392029122803014, 0.8870880475536355, -0.22471697569343044, -0.21386527195545157, -0.588424204629573, -2.333080303181406, 0.6864778911900746, 0.9061942198927625, -0.6362395296227634, 0.2775335519572494, 0.6663808474363447, 1.451569505775331, 0.25971128472701793, -0.22258903844656566, 0.11690251426354925, -0.4037173564209437, -0.3616918130026108, 0.26753011495892737, -0.3330809158884787, -0.6136738297829322, 2.3977626706818524, 0.008681338043572347, 0.015381712961214473, -0.34992740870667255, -0.9826085890796246, 0.10960702639982886, 0.3045237793180047, 0.9456287376200995, -1.2666023905791035, -0.12604263057332346, 1.3716201125923573, -0.772097226537111, 0.742127190729917, 0.5613431520440979, 0.29713781861089317, 0.11467605932335413, 1.1177885105058485, 1.3404619399594997], \"xaxis\": \"x9\", \"y\": [-1.083409260510116, -0.6233826702344707, -1.487958730006341, 1.4500902860606606, 0.5184183544958612, -0.06869007134045814, -0.7586693473176449, 0.3181526581176076, -0.12139583016252287, 0.9003495579818129, -0.345938799172238, -0.58724181956537, -0.14660194403232946, -1.5411917176825616, 0.25346117461220025, -0.12081686773271984, -0.213716356271708, 0.5109308970756155, -0.8206296145865845, 0.32325510299063276, 0.7165393417813816, -0.31662965487129874, -0.5833987772015554, 0.7422554741042364, 0.4158122675049731, -0.4320530807798729, -0.05444825497343422, 0.26429190594354013, -0.27606874197166625, -0.8367968655641479, -0.80565305751109, 0.8546336441528956, 1.2682314465013793, -0.040936477390389206, 0.2116206328936026, 1.1296501302678497, -1.9970266382801474, -0.5872956123135975, -1.971624796598765, 0.12580442391927454, 0.3411147221935644, -0.5910392048903733, 0.012683432683106987, -0.6288303749719821, -1.4667434856849577, -0.4244616688571402, 0.8696058283364013, -0.7818727333120795, 1.6204005308658702, 0.5016576750261891, 0.023099897673051886, -0.3557557595377423, 1.0909284059681899, -1.113372981243506, 1.6069882781359834, 1.1436732452635934, -0.7371322267178182, 1.3664942790622177, 0.579531518254415, 0.35980486027619685, -1.2000381769631732, -0.881465076826653, -0.4313393444341336, 1.0505165757890922, 2.815771448578094, 0.4399490486483119, -0.9236873107736241, 0.3238433158683018, 1.1837054803635867, -1.044475958212905, 0.041344126434387965, -0.29393595883720447, 0.16436652485478864, 1.0765681398764257, -0.020650275021764117, -0.7619722931091294, -1.1001753121084101, 1.0854618548482229, 0.2595781994149842, -0.7327897730991297, -1.6812401554357397, -0.8118101426052025, 0.6607834765074295, 0.09710505667980361, -0.2780418030555889, 0.2816272937349905, 0.06167367339821572, -0.32763346930724774, -0.20834731656065203, 0.16327110479821202, -1.1015478454920364, -0.0005602014611263928, -1.277038315826333, 1.1272543262294106, 0.348073654247844, 1.2178138405318408, 0.45632543412080767, 1.9242090247402113, -0.3832658552733305, -0.16108471753715756], \"yaxis\": \"y9\"}, {\"line\": {\"color\": \"rgba(128, 128, 128, 1.0)\", \"dash\": \"solid\", \"shape\": \"linear\", \"width\": 1.3}, \"marker\": {\"size\": 2, \"symbol\": \"circle\"}, \"mode\": \"markers\", \"name\": \"C\", \"text\": \"\", \"type\": \"scatter\", \"x\": [-1.0469343486083953, -1.459788614380184, -0.8948475098518478, 1.0189272429513767, 0.896482444363568, -0.8499088047524456, 0.024902896053242213, -1.2539480497063156, 1.1080455661815205, 0.6039706085303771, 1.1462550302790881, 0.3383978416192203, -1.1703911847275679, -0.4506090304627199, -1.7885796092722501, 1.9740354776517566, -0.5589227900109863, -1.5059038409979402, 0.06801135045561885, -0.5424102393537328, -0.12596595257673204, 0.07766803062063887, 1.08742149533797, -0.5276402294420803, -0.5134796696744759, -0.00885507836116481, -1.9179898136723204, 0.015978142026482386, 0.596272380271323, 1.096940104175222, -0.9701160214948572, 1.1473044174962768, -0.8497300858779225, 0.17745707004204264, 1.3040067873187786, 0.8949482052732047, -0.07886388560014475, -3.561507122896207, 1.5323073119190378, -1.0106015855491841, 1.0565480505208455, 0.7105695536942717, -0.797211235009638, 0.7998529314333869, -0.15244947297596764, -0.17741142705640117, 0.039603889157412094, -1.2500332755144197, 0.07917645744092283, 1.336754302137174, 0.603138128276989, 0.18426981447960314, -0.6495388957173431, -1.6313915348260464, -0.2982863158078925, 0.37314891494260083, 0.24879635716302964, 0.5860706811766647, -0.6610205762239924, -1.190788182194642, -0.6409061943286544, 0.462293155947097, -1.3089069803765623, 1.6341450528765762, -1.1338904173028463, -0.5039350542364665, 0.0840200054861493, -0.2726865642592458, 1.2856192693433823, 0.29240349533422016, 0.9006195057266302, -0.604269563912645, 1.6869476552089377, 0.5361783937936255, 1.0150365809424875, 0.09077509679183086, 0.9872278379038406, -0.5543308540711545, 0.15213184418788492, -0.8772278719188741, 0.2931996962880976, -0.2037623234733791, -0.7928436197071106, -1.0802896101213275, -1.3279711785816812, 0.08431434618031589, 0.596991906053773, 0.14488046829607382, 0.8075704683875163, -2.8380301262811347, 1.1722548193519313, 0.6474126943040964, -0.4074743070915865, -0.810311666954102, -1.2017508067688711, 1.6032888870895288, 0.15228854207435788, 0.800145725655405, -0.7282201700792078, 1.1399079188302463], \"xaxis\": \"x10\", \"y\": [-1.083409260510116, -0.6233826702344707, -1.487958730006341, 1.4500902860606606, 0.5184183544958612, -0.06869007134045814, -0.7586693473176449, 0.3181526581176076, -0.12139583016252287, 0.9003495579818129, -0.345938799172238, -0.58724181956537, -0.14660194403232946, -1.5411917176825616, 0.25346117461220025, -0.12081686773271984, -0.213716356271708, 0.5109308970756155, -0.8206296145865845, 0.32325510299063276, 0.7165393417813816, -0.31662965487129874, -0.5833987772015554, 0.7422554741042364, 0.4158122675049731, -0.4320530807798729, -0.05444825497343422, 0.26429190594354013, -0.27606874197166625, -0.8367968655641479, -0.80565305751109, 0.8546336441528956, 1.2682314465013793, -0.040936477390389206, 0.2116206328936026, 1.1296501302678497, -1.9970266382801474, -0.5872956123135975, -1.971624796598765, 0.12580442391927454, 0.3411147221935644, -0.5910392048903733, 0.012683432683106987, -0.6288303749719821, -1.4667434856849577, -0.4244616688571402, 0.8696058283364013, -0.7818727333120795, 1.6204005308658702, 0.5016576750261891, 0.023099897673051886, -0.3557557595377423, 1.0909284059681899, -1.113372981243506, 1.6069882781359834, 1.1436732452635934, -0.7371322267178182, 1.3664942790622177, 0.579531518254415, 0.35980486027619685, -1.2000381769631732, -0.881465076826653, -0.4313393444341336, 1.0505165757890922, 2.815771448578094, 0.4399490486483119, -0.9236873107736241, 0.3238433158683018, 1.1837054803635867, -1.044475958212905, 0.041344126434387965, -0.29393595883720447, 0.16436652485478864, 1.0765681398764257, -0.020650275021764117, -0.7619722931091294, -1.1001753121084101, 1.0854618548482229, 0.2595781994149842, -0.7327897730991297, -1.6812401554357397, -0.8118101426052025, 0.6607834765074295, 0.09710505667980361, -0.2780418030555889, 0.2816272937349905, 0.06167367339821572, -0.32763346930724774, -0.20834731656065203, 0.16327110479821202, -1.1015478454920364, -0.0005602014611263928, -1.277038315826333, 1.1272543262294106, 0.348073654247844, 1.2178138405318408, 0.45632543412080767, 1.9242090247402113, -0.3832658552733305, -0.16108471753715756], \"yaxis\": \"y10\"}, {\"histfunc\": \"count\", \"histnorm\": \"\", \"marker\": {\"color\": \"rgba(50, 171, 96, 1.0)\", \"line\": {\"color\": \"#4D5663\", \"width\": 1.3}}, \"name\": \"C\", \"nbinsx\": 10, \"opacity\": 0.8, \"orientation\": \"v\", \"type\": \"histogram\", \"x\": [-1.083409260510116, -0.6233826702344707, -1.487958730006341, 1.4500902860606606, 0.5184183544958612, -0.06869007134045814, -0.7586693473176449, 0.3181526581176076, -0.12139583016252287, 0.9003495579818129, -0.345938799172238, -0.58724181956537, -0.14660194403232946, -1.5411917176825616, 0.25346117461220025, -0.12081686773271984, -0.213716356271708, 0.5109308970756155, -0.8206296145865845, 0.32325510299063276, 0.7165393417813816, -0.31662965487129874, -0.5833987772015554, 0.7422554741042364, 0.4158122675049731, -0.4320530807798729, -0.05444825497343422, 0.26429190594354013, -0.27606874197166625, -0.8367968655641479, -0.80565305751109, 0.8546336441528956, 1.2682314465013793, -0.040936477390389206, 0.2116206328936026, 1.1296501302678497, -1.9970266382801474, -0.5872956123135975, -1.971624796598765, 0.12580442391927454, 0.3411147221935644, -0.5910392048903733, 0.012683432683106987, -0.6288303749719821, -1.4667434856849577, -0.4244616688571402, 0.8696058283364013, -0.7818727333120795, 1.6204005308658702, 0.5016576750261891, 0.023099897673051886, -0.3557557595377423, 1.0909284059681899, -1.113372981243506, 1.6069882781359834, 1.1436732452635934, -0.7371322267178182, 1.3664942790622177, 0.579531518254415, 0.35980486027619685, -1.2000381769631732, -0.881465076826653, -0.4313393444341336, 1.0505165757890922, 2.815771448578094, 0.4399490486483119, -0.9236873107736241, 0.3238433158683018, 1.1837054803635867, -1.044475958212905, 0.041344126434387965, -0.29393595883720447, 0.16436652485478864, 1.0765681398764257, -0.020650275021764117, -0.7619722931091294, -1.1001753121084101, 1.0854618548482229, 0.2595781994149842, -0.7327897730991297, -1.6812401554357397, -0.8118101426052025, 0.6607834765074295, 0.09710505667980361, -0.2780418030555889, 0.2816272937349905, 0.06167367339821572, -0.32763346930724774, -0.20834731656065203, 0.16327110479821202, -1.1015478454920364, -0.0005602014611263928, -1.277038315826333, 1.1272543262294106, 0.348073654247844, 1.2178138405318408, 0.45632543412080767, 1.9242090247402113, -0.3832658552733305, -0.16108471753715756], \"xaxis\": \"x11\", \"yaxis\": \"y11\"}, {\"line\": {\"color\": \"rgba(128, 128, 128, 1.0)\", \"dash\": \"solid\", \"shape\": \"linear\", \"width\": 1.3}, \"marker\": {\"size\": 2, \"symbol\": \"circle\"}, \"mode\": \"markers\", \"name\": \"C\", \"text\": \"\", \"type\": \"scatter\", \"x\": [0.5166946384955043, 0.48556422515707554, 0.45951540982459593, -1.214442327029582, 1.062399804740602, 0.17107336991352248, 0.604615881443146, 1.0292440860227963, 0.3368868614667589, 0.1736338037301056, -0.05148581901736868, -0.6628606535777364, -0.07177475787045608, 0.3957799495770412, 0.8570362933052382, 1.5168619616720382, -1.201565793644591, 0.9981646319387389, -0.5234028077559358, -0.21553688266323578, 1.127420796331115, -0.43583657055680136, -1.2026878581520406, -0.2556029225727095, -1.1140712365088106, -0.9202653163058435, -0.2363872754886624, -0.8671181437058871, -0.1852391138551511, -1.3868279992114436, 0.05590318505435606, -0.3766514021416788, -0.8782588203413113, -0.5642460299986506, 1.974125914384826, 0.3726001771684393, -0.5147463611381171, -1.2514621226682439, -0.2834583529937567, -1.2526718111666866, 0.44675958279051314, -0.49555993011692934, 1.365002560886047, -0.006843071507508393, -0.14071992723650367, -1.2099244335284973, -1.1556304501044348, 0.41317746094731167, -0.3225582903687393, -0.1554184983211697, 1.363139017505943, -0.43738050423246605, 0.5682412925538698, 1.3919143496670032, -0.8242873002424768, -1.4693611871874401, 0.25215251101374603, -1.7434706309489927, 0.7069313544002513, 1.0947207956242229, -0.3531683586049207, 0.378841776935647, -1.7708489640173974, 0.35640539263581167, -1.8660080590582062, -0.12518326442461947, -1.4993530363032441, -1.1223625660187064, 0.5029439763474637, -1.013310203330969, 0.23348057069442, -1.0179051752050474, 0.46124435489886595, 0.25481059406866796, -0.8916332547981175, -0.4459757563014239, -0.5591989767595353, -1.0533156467395162, 0.5738430064975556, -0.34503373424769523, 0.32597028749063256, -0.962809880788565, 0.09551137204303375, 0.004723010771319971, -0.6719729741927057, 0.4413909278835191, -0.1725927841084922, -0.7505623805576361, 2.0750053689560692, 0.8391598067996842, -1.257855953669524, -0.0922309719635119, 0.1984604300175499, 0.022836073467580237, 1.9085175356162156, 0.9370201660534192, -0.09424740535910009, 0.2734849208368586, 0.9736539827350027, 0.03847078746525226], \"xaxis\": \"x12\", \"y\": [-1.083409260510116, -0.6233826702344707, -1.487958730006341, 1.4500902860606606, 0.5184183544958612, -0.06869007134045814, -0.7586693473176449, 0.3181526581176076, -0.12139583016252287, 0.9003495579818129, -0.345938799172238, -0.58724181956537, -0.14660194403232946, -1.5411917176825616, 0.25346117461220025, -0.12081686773271984, -0.213716356271708, 0.5109308970756155, -0.8206296145865845, 0.32325510299063276, 0.7165393417813816, -0.31662965487129874, -0.5833987772015554, 0.7422554741042364, 0.4158122675049731, -0.4320530807798729, -0.05444825497343422, 0.26429190594354013, -0.27606874197166625, -0.8367968655641479, -0.80565305751109, 0.8546336441528956, 1.2682314465013793, -0.040936477390389206, 0.2116206328936026, 1.1296501302678497, -1.9970266382801474, -0.5872956123135975, -1.971624796598765, 0.12580442391927454, 0.3411147221935644, -0.5910392048903733, 0.012683432683106987, -0.6288303749719821, -1.4667434856849577, -0.4244616688571402, 0.8696058283364013, -0.7818727333120795, 1.6204005308658702, 0.5016576750261891, 0.023099897673051886, -0.3557557595377423, 1.0909284059681899, -1.113372981243506, 1.6069882781359834, 1.1436732452635934, -0.7371322267178182, 1.3664942790622177, 0.579531518254415, 0.35980486027619685, -1.2000381769631732, -0.881465076826653, -0.4313393444341336, 1.0505165757890922, 2.815771448578094, 0.4399490486483119, -0.9236873107736241, 0.3238433158683018, 1.1837054803635867, -1.044475958212905, 0.041344126434387965, -0.29393595883720447, 0.16436652485478864, 1.0765681398764257, -0.020650275021764117, -0.7619722931091294, -1.1001753121084101, 1.0854618548482229, 0.2595781994149842, -0.7327897730991297, -1.6812401554357397, -0.8118101426052025, 0.6607834765074295, 0.09710505667980361, -0.2780418030555889, 0.2816272937349905, 0.06167367339821572, -0.32763346930724774, -0.20834731656065203, 0.16327110479821202, -1.1015478454920364, -0.0005602014611263928, -1.277038315826333, 1.1272543262294106, 0.348073654247844, 1.2178138405318408, 0.45632543412080767, 1.9242090247402113, -0.3832658552733305, -0.16108471753715756], \"yaxis\": \"y12\"}, {\"line\": {\"color\": \"rgba(128, 128, 128, 1.0)\", \"dash\": \"solid\", \"shape\": \"linear\", \"width\": 1.3}, \"marker\": {\"size\": 2, \"symbol\": \"circle\"}, \"mode\": \"markers\", \"name\": \"D\", \"text\": \"\", \"type\": \"scatter\", \"x\": [0.17082491155154642, 0.9733848448503118, -0.20854129260332577, 0.5587619427877866, -0.6615722914955411, 0.5121643351474225, 0.13130368234342465, -0.035220320669247594, -0.369963306984912, 0.5729958692785618, -0.09210955386424999, -0.5373937615298153, -2.01724661384686, -0.8987714595694133, 1.9467057852407064, 0.5164427357241107, -1.1635408247005044, -0.5448724578467126, -0.46264624189382997, -1.9179493009778803, 2.7714798339031748, 0.3071036700992901, 0.029286680479822094, 0.5515474197907069, 0.09403663372726255, -0.0687491880537863, 0.7060426747565378, -0.5487359269643622, 1.150545299499611, -0.08727405512422448, -0.04865263507570622, -1.3241004736370685, 1.8203440910427022, 1.0249235499982265, 0.07530077677831443, -0.3983518441111155, 0.9243840081896711, -2.1537998401775726, -0.7480917035901087, -1.8064452966690792, 0.7434603261362684, -0.30218021518186455, -1.5446446180825437, -1.1220120169755035, 0.9827691531143342, 1.1921574743054213, 0.6442449133259306, -0.3569707490839753, 0.8461417905701312, -2.19250392792535, 0.5652808285965437, -0.1344062661716792, 0.3374266044185731, 0.11501457230929552, -1.03432476125489, 0.8786458309333575, -0.8432228331014776, 1.5209334906428773, -0.13490408553921363, 1.1362711489480044, -0.7164362335444737, 1.8944088793920375, -0.8392029122803014, 0.8870880475536355, -0.22471697569343044, -0.21386527195545157, -0.588424204629573, -2.333080303181406, 0.6864778911900746, 0.9061942198927625, -0.6362395296227634, 0.2775335519572494, 0.6663808474363447, 1.451569505775331, 0.25971128472701793, -0.22258903844656566, 0.11690251426354925, -0.4037173564209437, -0.3616918130026108, 0.26753011495892737, -0.3330809158884787, -0.6136738297829322, 2.3977626706818524, 0.008681338043572347, 0.015381712961214473, -0.34992740870667255, -0.9826085890796246, 0.10960702639982886, 0.3045237793180047, 0.9456287376200995, -1.2666023905791035, -0.12604263057332346, 1.3716201125923573, -0.772097226537111, 0.742127190729917, 0.5613431520440979, 0.29713781861089317, 0.11467605932335413, 1.1177885105058485, 1.3404619399594997], \"xaxis\": \"x13\", \"y\": [0.5166946384955043, 0.48556422515707554, 0.45951540982459593, -1.214442327029582, 1.062399804740602, 0.17107336991352248, 0.604615881443146, 1.0292440860227963, 0.3368868614667589, 0.1736338037301056, -0.05148581901736868, -0.6628606535777364, -0.07177475787045608, 0.3957799495770412, 0.8570362933052382, 1.5168619616720382, -1.201565793644591, 0.9981646319387389, -0.5234028077559358, -0.21553688266323578, 1.127420796331115, -0.43583657055680136, -1.2026878581520406, -0.2556029225727095, -1.1140712365088106, -0.9202653163058435, -0.2363872754886624, -0.8671181437058871, -0.1852391138551511, -1.3868279992114436, 0.05590318505435606, -0.3766514021416788, -0.8782588203413113, -0.5642460299986506, 1.974125914384826, 0.3726001771684393, -0.5147463611381171, -1.2514621226682439, -0.2834583529937567, -1.2526718111666866, 0.44675958279051314, -0.49555993011692934, 1.365002560886047, -0.006843071507508393, -0.14071992723650367, -1.2099244335284973, -1.1556304501044348, 0.41317746094731167, -0.3225582903687393, -0.1554184983211697, 1.363139017505943, -0.43738050423246605, 0.5682412925538698, 1.3919143496670032, -0.8242873002424768, -1.4693611871874401, 0.25215251101374603, -1.7434706309489927, 0.7069313544002513, 1.0947207956242229, -0.3531683586049207, 0.378841776935647, -1.7708489640173974, 0.35640539263581167, -1.8660080590582062, -0.12518326442461947, -1.4993530363032441, -1.1223625660187064, 0.5029439763474637, -1.013310203330969, 0.23348057069442, -1.0179051752050474, 0.46124435489886595, 0.25481059406866796, -0.8916332547981175, -0.4459757563014239, -0.5591989767595353, -1.0533156467395162, 0.5738430064975556, -0.34503373424769523, 0.32597028749063256, -0.962809880788565, 0.09551137204303375, 0.004723010771319971, -0.6719729741927057, 0.4413909278835191, -0.1725927841084922, -0.7505623805576361, 2.0750053689560692, 0.8391598067996842, -1.257855953669524, -0.0922309719635119, 0.1984604300175499, 0.022836073467580237, 1.9085175356162156, 0.9370201660534192, -0.09424740535910009, 0.2734849208368586, 0.9736539827350027, 0.03847078746525226], \"yaxis\": \"y13\"}, {\"line\": {\"color\": \"rgba(128, 128, 128, 1.0)\", \"dash\": \"solid\", \"shape\": \"linear\", \"width\": 1.3}, \"marker\": {\"size\": 2, \"symbol\": \"circle\"}, \"mode\": \"markers\", \"name\": \"D\", \"text\": \"\", \"type\": \"scatter\", \"x\": [-1.0469343486083953, -1.459788614380184, -0.8948475098518478, 1.0189272429513767, 0.896482444363568, -0.8499088047524456, 0.024902896053242213, -1.2539480497063156, 1.1080455661815205, 0.6039706085303771, 1.1462550302790881, 0.3383978416192203, -1.1703911847275679, -0.4506090304627199, -1.7885796092722501, 1.9740354776517566, -0.5589227900109863, -1.5059038409979402, 0.06801135045561885, -0.5424102393537328, -0.12596595257673204, 0.07766803062063887, 1.08742149533797, -0.5276402294420803, -0.5134796696744759, -0.00885507836116481, -1.9179898136723204, 0.015978142026482386, 0.596272380271323, 1.096940104175222, -0.9701160214948572, 1.1473044174962768, -0.8497300858779225, 0.17745707004204264, 1.3040067873187786, 0.8949482052732047, -0.07886388560014475, -3.561507122896207, 1.5323073119190378, -1.0106015855491841, 1.0565480505208455, 0.7105695536942717, -0.797211235009638, 0.7998529314333869, -0.15244947297596764, -0.17741142705640117, 0.039603889157412094, -1.2500332755144197, 0.07917645744092283, 1.336754302137174, 0.603138128276989, 0.18426981447960314, -0.6495388957173431, -1.6313915348260464, -0.2982863158078925, 0.37314891494260083, 0.24879635716302964, 0.5860706811766647, -0.6610205762239924, -1.190788182194642, -0.6409061943286544, 0.462293155947097, -1.3089069803765623, 1.6341450528765762, -1.1338904173028463, -0.5039350542364665, 0.0840200054861493, -0.2726865642592458, 1.2856192693433823, 0.29240349533422016, 0.9006195057266302, -0.604269563912645, 1.6869476552089377, 0.5361783937936255, 1.0150365809424875, 0.09077509679183086, 0.9872278379038406, -0.5543308540711545, 0.15213184418788492, -0.8772278719188741, 0.2931996962880976, -0.2037623234733791, -0.7928436197071106, -1.0802896101213275, -1.3279711785816812, 0.08431434618031589, 0.596991906053773, 0.14488046829607382, 0.8075704683875163, -2.8380301262811347, 1.1722548193519313, 0.6474126943040964, -0.4074743070915865, -0.810311666954102, -1.2017508067688711, 1.6032888870895288, 0.15228854207435788, 0.800145725655405, -0.7282201700792078, 1.1399079188302463], \"xaxis\": \"x14\", \"y\": [0.5166946384955043, 0.48556422515707554, 0.45951540982459593, -1.214442327029582, 1.062399804740602, 0.17107336991352248, 0.604615881443146, 1.0292440860227963, 0.3368868614667589, 0.1736338037301056, -0.05148581901736868, -0.6628606535777364, -0.07177475787045608, 0.3957799495770412, 0.8570362933052382, 1.5168619616720382, -1.201565793644591, 0.9981646319387389, -0.5234028077559358, -0.21553688266323578, 1.127420796331115, -0.43583657055680136, -1.2026878581520406, -0.2556029225727095, -1.1140712365088106, -0.9202653163058435, -0.2363872754886624, -0.8671181437058871, -0.1852391138551511, -1.3868279992114436, 0.05590318505435606, -0.3766514021416788, -0.8782588203413113, -0.5642460299986506, 1.974125914384826, 0.3726001771684393, -0.5147463611381171, -1.2514621226682439, -0.2834583529937567, -1.2526718111666866, 0.44675958279051314, -0.49555993011692934, 1.365002560886047, -0.006843071507508393, -0.14071992723650367, -1.2099244335284973, -1.1556304501044348, 0.41317746094731167, -0.3225582903687393, -0.1554184983211697, 1.363139017505943, -0.43738050423246605, 0.5682412925538698, 1.3919143496670032, -0.8242873002424768, -1.4693611871874401, 0.25215251101374603, -1.7434706309489927, 0.7069313544002513, 1.0947207956242229, -0.3531683586049207, 0.378841776935647, -1.7708489640173974, 0.35640539263581167, -1.8660080590582062, -0.12518326442461947, -1.4993530363032441, -1.1223625660187064, 0.5029439763474637, -1.013310203330969, 0.23348057069442, -1.0179051752050474, 0.46124435489886595, 0.25481059406866796, -0.8916332547981175, -0.4459757563014239, -0.5591989767595353, -1.0533156467395162, 0.5738430064975556, -0.34503373424769523, 0.32597028749063256, -0.962809880788565, 0.09551137204303375, 0.004723010771319971, -0.6719729741927057, 0.4413909278835191, -0.1725927841084922, -0.7505623805576361, 2.0750053689560692, 0.8391598067996842, -1.257855953669524, -0.0922309719635119, 0.1984604300175499, 0.022836073467580237, 1.9085175356162156, 0.9370201660534192, -0.09424740535910009, 0.2734849208368586, 0.9736539827350027, 0.03847078746525226], \"yaxis\": \"y14\"}, {\"line\": {\"color\": \"rgba(128, 128, 128, 1.0)\", \"dash\": \"solid\", \"shape\": \"linear\", \"width\": 1.3}, \"marker\": {\"size\": 2, \"symbol\": \"circle\"}, \"mode\": \"markers\", \"name\": \"D\", \"text\": \"\", \"type\": \"scatter\", \"x\": [-1.083409260510116, -0.6233826702344707, -1.487958730006341, 1.4500902860606606, 0.5184183544958612, -0.06869007134045814, -0.7586693473176449, 0.3181526581176076, -0.12139583016252287, 0.9003495579818129, -0.345938799172238, -0.58724181956537, -0.14660194403232946, -1.5411917176825616, 0.25346117461220025, -0.12081686773271984, -0.213716356271708, 0.5109308970756155, -0.8206296145865845, 0.32325510299063276, 0.7165393417813816, -0.31662965487129874, -0.5833987772015554, 0.7422554741042364, 0.4158122675049731, -0.4320530807798729, -0.05444825497343422, 0.26429190594354013, -0.27606874197166625, -0.8367968655641479, -0.80565305751109, 0.8546336441528956, 1.2682314465013793, -0.040936477390389206, 0.2116206328936026, 1.1296501302678497, -1.9970266382801474, -0.5872956123135975, -1.971624796598765, 0.12580442391927454, 0.3411147221935644, -0.5910392048903733, 0.012683432683106987, -0.6288303749719821, -1.4667434856849577, -0.4244616688571402, 0.8696058283364013, -0.7818727333120795, 1.6204005308658702, 0.5016576750261891, 0.023099897673051886, -0.3557557595377423, 1.0909284059681899, -1.113372981243506, 1.6069882781359834, 1.1436732452635934, -0.7371322267178182, 1.3664942790622177, 0.579531518254415, 0.35980486027619685, -1.2000381769631732, -0.881465076826653, -0.4313393444341336, 1.0505165757890922, 2.815771448578094, 0.4399490486483119, -0.9236873107736241, 0.3238433158683018, 1.1837054803635867, -1.044475958212905, 0.041344126434387965, -0.29393595883720447, 0.16436652485478864, 1.0765681398764257, -0.020650275021764117, -0.7619722931091294, -1.1001753121084101, 1.0854618548482229, 0.2595781994149842, -0.7327897730991297, -1.6812401554357397, -0.8118101426052025, 0.6607834765074295, 0.09710505667980361, -0.2780418030555889, 0.2816272937349905, 0.06167367339821572, -0.32763346930724774, -0.20834731656065203, 0.16327110479821202, -1.1015478454920364, -0.0005602014611263928, -1.277038315826333, 1.1272543262294106, 0.348073654247844, 1.2178138405318408, 0.45632543412080767, 1.9242090247402113, -0.3832658552733305, -0.16108471753715756], \"xaxis\": \"x15\", \"y\": [0.5166946384955043, 0.48556422515707554, 0.45951540982459593, -1.214442327029582, 1.062399804740602, 0.17107336991352248, 0.604615881443146, 1.0292440860227963, 0.3368868614667589, 0.1736338037301056, -0.05148581901736868, -0.6628606535777364, -0.07177475787045608, 0.3957799495770412, 0.8570362933052382, 1.5168619616720382, -1.201565793644591, 0.9981646319387389, -0.5234028077559358, -0.21553688266323578, 1.127420796331115, -0.43583657055680136, -1.2026878581520406, -0.2556029225727095, -1.1140712365088106, -0.9202653163058435, -0.2363872754886624, -0.8671181437058871, -0.1852391138551511, -1.3868279992114436, 0.05590318505435606, -0.3766514021416788, -0.8782588203413113, -0.5642460299986506, 1.974125914384826, 0.3726001771684393, -0.5147463611381171, -1.2514621226682439, -0.2834583529937567, -1.2526718111666866, 0.44675958279051314, -0.49555993011692934, 1.365002560886047, -0.006843071507508393, -0.14071992723650367, -1.2099244335284973, -1.1556304501044348, 0.41317746094731167, -0.3225582903687393, -0.1554184983211697, 1.363139017505943, -0.43738050423246605, 0.5682412925538698, 1.3919143496670032, -0.8242873002424768, -1.4693611871874401, 0.25215251101374603, -1.7434706309489927, 0.7069313544002513, 1.0947207956242229, -0.3531683586049207, 0.378841776935647, -1.7708489640173974, 0.35640539263581167, -1.8660080590582062, -0.12518326442461947, -1.4993530363032441, -1.1223625660187064, 0.5029439763474637, -1.013310203330969, 0.23348057069442, -1.0179051752050474, 0.46124435489886595, 0.25481059406866796, -0.8916332547981175, -0.4459757563014239, -0.5591989767595353, -1.0533156467395162, 0.5738430064975556, -0.34503373424769523, 0.32597028749063256, -0.962809880788565, 0.09551137204303375, 0.004723010771319971, -0.6719729741927057, 0.4413909278835191, -0.1725927841084922, -0.7505623805576361, 2.0750053689560692, 0.8391598067996842, -1.257855953669524, -0.0922309719635119, 0.1984604300175499, 0.022836073467580237, 1.9085175356162156, 0.9370201660534192, -0.09424740535910009, 0.2734849208368586, 0.9736539827350027, 0.03847078746525226], \"yaxis\": \"y15\"}, {\"histfunc\": \"count\", \"histnorm\": \"\", \"marker\": {\"color\": \"rgba(128, 0, 128, 1.0)\", \"line\": {\"color\": \"#4D5663\", \"width\": 1.3}}, \"name\": \"D\", \"nbinsx\": 10, \"opacity\": 0.8, \"orientation\": \"v\", \"type\": \"histogram\", \"x\": [0.5166946384955043, 0.48556422515707554, 0.45951540982459593, -1.214442327029582, 1.062399804740602, 0.17107336991352248, 0.604615881443146, 1.0292440860227963, 0.3368868614667589, 0.1736338037301056, -0.05148581901736868, -0.6628606535777364, -0.07177475787045608, 0.3957799495770412, 0.8570362933052382, 1.5168619616720382, -1.201565793644591, 0.9981646319387389, -0.5234028077559358, -0.21553688266323578, 1.127420796331115, -0.43583657055680136, -1.2026878581520406, -0.2556029225727095, -1.1140712365088106, -0.9202653163058435, -0.2363872754886624, -0.8671181437058871, -0.1852391138551511, -1.3868279992114436, 0.05590318505435606, -0.3766514021416788, -0.8782588203413113, -0.5642460299986506, 1.974125914384826, 0.3726001771684393, -0.5147463611381171, -1.2514621226682439, -0.2834583529937567, -1.2526718111666866, 0.44675958279051314, -0.49555993011692934, 1.365002560886047, -0.006843071507508393, -0.14071992723650367, -1.2099244335284973, -1.1556304501044348, 0.41317746094731167, -0.3225582903687393, -0.1554184983211697, 1.363139017505943, -0.43738050423246605, 0.5682412925538698, 1.3919143496670032, -0.8242873002424768, -1.4693611871874401, 0.25215251101374603, -1.7434706309489927, 0.7069313544002513, 1.0947207956242229, -0.3531683586049207, 0.378841776935647, -1.7708489640173974, 0.35640539263581167, -1.8660080590582062, -0.12518326442461947, -1.4993530363032441, -1.1223625660187064, 0.5029439763474637, -1.013310203330969, 0.23348057069442, -1.0179051752050474, 0.46124435489886595, 0.25481059406866796, -0.8916332547981175, -0.4459757563014239, -0.5591989767595353, -1.0533156467395162, 0.5738430064975556, -0.34503373424769523, 0.32597028749063256, -0.962809880788565, 0.09551137204303375, 0.004723010771319971, -0.6719729741927057, 0.4413909278835191, -0.1725927841084922, -0.7505623805576361, 2.0750053689560692, 0.8391598067996842, -1.257855953669524, -0.0922309719635119, 0.1984604300175499, 0.022836073467580237, 1.9085175356162156, 0.9370201660534192, -0.09424740535910009, 0.2734849208368586, 0.9736539827350027, 0.03847078746525226], \"xaxis\": \"x16\", \"yaxis\": \"y16\"}],\n",
       "                        {\"bargap\": 0.02, \"legend\": {\"bgcolor\": \"#F5F6F9\", \"font\": {\"color\": \"#4D5663\"}}, \"paper_bgcolor\": \"#F5F6F9\", \"plot_bgcolor\": \"#F5F6F9\", \"showlegend\": false, \"template\": {\"data\": {\"bar\": [{\"error_x\": {\"color\": \"#2a3f5f\"}, \"error_y\": {\"color\": \"#2a3f5f\"}, \"marker\": {\"line\": {\"color\": \"#E5ECF6\", \"width\": 0.5}}, \"type\": \"bar\"}], \"barpolar\": [{\"marker\": {\"line\": {\"color\": \"#E5ECF6\", \"width\": 0.5}}, \"type\": \"barpolar\"}], \"carpet\": [{\"aaxis\": {\"endlinecolor\": \"#2a3f5f\", \"gridcolor\": \"white\", \"linecolor\": \"white\", \"minorgridcolor\": \"white\", \"startlinecolor\": \"#2a3f5f\"}, \"baxis\": {\"endlinecolor\": \"#2a3f5f\", \"gridcolor\": \"white\", \"linecolor\": \"white\", \"minorgridcolor\": \"white\", \"startlinecolor\": \"#2a3f5f\"}, \"type\": \"carpet\"}], \"choropleth\": [{\"colorbar\": {\"outlinewidth\": 0, \"ticks\": \"\"}, \"type\": \"choropleth\"}], \"contour\": [{\"colorbar\": {\"outlinewidth\": 0, \"ticks\": \"\"}, \"colorscale\": [[0.0, \"#0d0887\"], [0.1111111111111111, \"#46039f\"], [0.2222222222222222, \"#7201a8\"], [0.3333333333333333, \"#9c179e\"], [0.4444444444444444, \"#bd3786\"], [0.5555555555555556, \"#d8576b\"], [0.6666666666666666, \"#ed7953\"], [0.7777777777777778, \"#fb9f3a\"], [0.8888888888888888, \"#fdca26\"], [1.0, \"#f0f921\"]], \"type\": \"contour\"}], \"contourcarpet\": [{\"colorbar\": {\"outlinewidth\": 0, \"ticks\": \"\"}, \"type\": \"contourcarpet\"}], \"heatmap\": [{\"colorbar\": {\"outlinewidth\": 0, \"ticks\": \"\"}, \"colorscale\": [[0.0, \"#0d0887\"], [0.1111111111111111, \"#46039f\"], [0.2222222222222222, \"#7201a8\"], [0.3333333333333333, \"#9c179e\"], [0.4444444444444444, \"#bd3786\"], [0.5555555555555556, \"#d8576b\"], [0.6666666666666666, \"#ed7953\"], [0.7777777777777778, \"#fb9f3a\"], [0.8888888888888888, \"#fdca26\"], [1.0, \"#f0f921\"]], \"type\": \"heatmap\"}], \"heatmapgl\": [{\"colorbar\": {\"outlinewidth\": 0, \"ticks\": \"\"}, \"colorscale\": [[0.0, \"#0d0887\"], [0.1111111111111111, \"#46039f\"], [0.2222222222222222, \"#7201a8\"], [0.3333333333333333, \"#9c179e\"], [0.4444444444444444, \"#bd3786\"], [0.5555555555555556, \"#d8576b\"], [0.6666666666666666, \"#ed7953\"], [0.7777777777777778, \"#fb9f3a\"], [0.8888888888888888, \"#fdca26\"], [1.0, \"#f0f921\"]], \"type\": \"heatmapgl\"}], \"histogram\": [{\"marker\": {\"colorbar\": {\"outlinewidth\": 0, \"ticks\": \"\"}}, \"type\": \"histogram\"}], \"histogram2d\": [{\"colorbar\": {\"outlinewidth\": 0, \"ticks\": \"\"}, \"colorscale\": [[0.0, \"#0d0887\"], [0.1111111111111111, \"#46039f\"], [0.2222222222222222, \"#7201a8\"], [0.3333333333333333, \"#9c179e\"], [0.4444444444444444, \"#bd3786\"], [0.5555555555555556, \"#d8576b\"], [0.6666666666666666, \"#ed7953\"], [0.7777777777777778, \"#fb9f3a\"], [0.8888888888888888, \"#fdca26\"], [1.0, \"#f0f921\"]], \"type\": \"histogram2d\"}], \"histogram2dcontour\": [{\"colorbar\": {\"outlinewidth\": 0, \"ticks\": \"\"}, \"colorscale\": [[0.0, \"#0d0887\"], [0.1111111111111111, \"#46039f\"], [0.2222222222222222, \"#7201a8\"], [0.3333333333333333, \"#9c179e\"], [0.4444444444444444, \"#bd3786\"], [0.5555555555555556, \"#d8576b\"], [0.6666666666666666, \"#ed7953\"], [0.7777777777777778, \"#fb9f3a\"], [0.8888888888888888, \"#fdca26\"], [1.0, \"#f0f921\"]], \"type\": \"histogram2dcontour\"}], \"mesh3d\": [{\"colorbar\": {\"outlinewidth\": 0, \"ticks\": \"\"}, \"type\": \"mesh3d\"}], \"parcoords\": [{\"line\": {\"colorbar\": {\"outlinewidth\": 0, \"ticks\": \"\"}}, \"type\": \"parcoords\"}], \"pie\": [{\"automargin\": true, \"type\": \"pie\"}], \"scatter\": [{\"marker\": {\"colorbar\": {\"outlinewidth\": 0, \"ticks\": \"\"}}, \"type\": \"scatter\"}], \"scatter3d\": [{\"line\": {\"colorbar\": {\"outlinewidth\": 0, \"ticks\": \"\"}}, \"marker\": {\"colorbar\": {\"outlinewidth\": 0, \"ticks\": \"\"}}, \"type\": \"scatter3d\"}], \"scattercarpet\": [{\"marker\": {\"colorbar\": {\"outlinewidth\": 0, \"ticks\": \"\"}}, \"type\": \"scattercarpet\"}], \"scattergeo\": [{\"marker\": {\"colorbar\": {\"outlinewidth\": 0, \"ticks\": \"\"}}, \"type\": \"scattergeo\"}], \"scattergl\": [{\"marker\": {\"colorbar\": {\"outlinewidth\": 0, \"ticks\": \"\"}}, \"type\": \"scattergl\"}], \"scattermapbox\": [{\"marker\": {\"colorbar\": {\"outlinewidth\": 0, \"ticks\": \"\"}}, \"type\": \"scattermapbox\"}], \"scatterpolar\": [{\"marker\": {\"colorbar\": {\"outlinewidth\": 0, \"ticks\": \"\"}}, \"type\": \"scatterpolar\"}], \"scatterpolargl\": [{\"marker\": {\"colorbar\": {\"outlinewidth\": 0, \"ticks\": \"\"}}, \"type\": \"scatterpolargl\"}], \"scatterternary\": [{\"marker\": {\"colorbar\": {\"outlinewidth\": 0, \"ticks\": \"\"}}, \"type\": \"scatterternary\"}], \"surface\": [{\"colorbar\": {\"outlinewidth\": 0, \"ticks\": \"\"}, \"colorscale\": [[0.0, \"#0d0887\"], [0.1111111111111111, \"#46039f\"], [0.2222222222222222, \"#7201a8\"], [0.3333333333333333, \"#9c179e\"], [0.4444444444444444, \"#bd3786\"], [0.5555555555555556, \"#d8576b\"], [0.6666666666666666, \"#ed7953\"], [0.7777777777777778, \"#fb9f3a\"], [0.8888888888888888, \"#fdca26\"], [1.0, \"#f0f921\"]], \"type\": \"surface\"}], \"table\": [{\"cells\": {\"fill\": {\"color\": \"#EBF0F8\"}, \"line\": {\"color\": \"white\"}}, \"header\": {\"fill\": {\"color\": \"#C8D4E3\"}, \"line\": {\"color\": \"white\"}}, \"type\": \"table\"}]}, \"layout\": {\"annotationdefaults\": {\"arrowcolor\": \"#2a3f5f\", \"arrowhead\": 0, \"arrowwidth\": 1}, \"coloraxis\": {\"colorbar\": {\"outlinewidth\": 0, \"ticks\": \"\"}}, \"colorscale\": {\"diverging\": [[0, \"#8e0152\"], [0.1, \"#c51b7d\"], [0.2, \"#de77ae\"], [0.3, \"#f1b6da\"], [0.4, \"#fde0ef\"], [0.5, \"#f7f7f7\"], [0.6, \"#e6f5d0\"], [0.7, \"#b8e186\"], [0.8, \"#7fbc41\"], [0.9, \"#4d9221\"], [1, \"#276419\"]], \"sequential\": [[0.0, \"#0d0887\"], [0.1111111111111111, \"#46039f\"], [0.2222222222222222, \"#7201a8\"], [0.3333333333333333, \"#9c179e\"], [0.4444444444444444, \"#bd3786\"], [0.5555555555555556, \"#d8576b\"], [0.6666666666666666, \"#ed7953\"], [0.7777777777777778, \"#fb9f3a\"], [0.8888888888888888, \"#fdca26\"], [1.0, \"#f0f921\"]], \"sequentialminus\": [[0.0, \"#0d0887\"], [0.1111111111111111, \"#46039f\"], [0.2222222222222222, \"#7201a8\"], [0.3333333333333333, \"#9c179e\"], [0.4444444444444444, \"#bd3786\"], [0.5555555555555556, \"#d8576b\"], [0.6666666666666666, \"#ed7953\"], [0.7777777777777778, \"#fb9f3a\"], [0.8888888888888888, \"#fdca26\"], [1.0, \"#f0f921\"]]}, \"colorway\": [\"#636efa\", \"#EF553B\", \"#00cc96\", \"#ab63fa\", \"#FFA15A\", \"#19d3f3\", \"#FF6692\", \"#B6E880\", \"#FF97FF\", \"#FECB52\"], \"font\": {\"color\": \"#2a3f5f\"}, \"geo\": {\"bgcolor\": \"white\", \"lakecolor\": \"white\", \"landcolor\": \"#E5ECF6\", \"showlakes\": true, \"showland\": true, \"subunitcolor\": \"white\"}, \"hoverlabel\": {\"align\": \"left\"}, \"hovermode\": \"closest\", \"mapbox\": {\"style\": \"light\"}, \"paper_bgcolor\": \"white\", \"plot_bgcolor\": \"#E5ECF6\", \"polar\": {\"angularaxis\": {\"gridcolor\": \"white\", \"linecolor\": \"white\", \"ticks\": \"\"}, \"bgcolor\": \"#E5ECF6\", \"radialaxis\": {\"gridcolor\": \"white\", \"linecolor\": \"white\", \"ticks\": \"\"}}, \"scene\": {\"xaxis\": {\"backgroundcolor\": \"#E5ECF6\", \"gridcolor\": \"white\", \"gridwidth\": 2, \"linecolor\": \"white\", \"showbackground\": true, \"ticks\": \"\", \"zerolinecolor\": \"white\"}, \"yaxis\": {\"backgroundcolor\": \"#E5ECF6\", \"gridcolor\": \"white\", \"gridwidth\": 2, \"linecolor\": \"white\", \"showbackground\": true, \"ticks\": \"\", \"zerolinecolor\": \"white\"}, \"zaxis\": {\"backgroundcolor\": \"#E5ECF6\", \"gridcolor\": \"white\", \"gridwidth\": 2, \"linecolor\": \"white\", \"showbackground\": true, \"ticks\": \"\", \"zerolinecolor\": \"white\"}}, \"shapedefaults\": {\"line\": {\"color\": \"#2a3f5f\"}}, \"ternary\": {\"aaxis\": {\"gridcolor\": \"white\", \"linecolor\": \"white\", \"ticks\": \"\"}, \"baxis\": {\"gridcolor\": \"white\", \"linecolor\": \"white\", \"ticks\": \"\"}, \"bgcolor\": \"#E5ECF6\", \"caxis\": {\"gridcolor\": \"white\", \"linecolor\": \"white\", \"ticks\": \"\"}}, \"title\": {\"x\": 0.05}, \"xaxis\": {\"automargin\": true, \"gridcolor\": \"white\", \"linecolor\": \"white\", \"ticks\": \"\", \"title\": {\"standoff\": 15}, \"zerolinecolor\": \"white\", \"zerolinewidth\": 2}, \"yaxis\": {\"automargin\": true, \"gridcolor\": \"white\", \"linecolor\": \"white\", \"ticks\": \"\", \"title\": {\"standoff\": 15}, \"zerolinecolor\": \"white\", \"zerolinewidth\": 2}}}, \"title\": {\"font\": {\"color\": \"#4D5663\"}}, \"xaxis\": {\"anchor\": \"y\", \"domain\": [0.0, 0.2125], \"gridcolor\": \"#E1E5ED\", \"showgrid\": false, \"tickfont\": {\"color\": \"#4D5663\"}, \"title\": {\"font\": {\"color\": \"#4D5663\"}, \"text\": \"\"}, \"zerolinecolor\": \"#E1E5ED\"}, \"xaxis10\": {\"anchor\": \"y10\", \"domain\": [0.2625, 0.475], \"gridcolor\": \"#E1E5ED\", \"showgrid\": false, \"tickfont\": {\"color\": \"#4D5663\"}, \"title\": {\"font\": {\"color\": \"#4D5663\"}, \"text\": \"\"}, \"zerolinecolor\": \"#E1E5ED\"}, \"xaxis11\": {\"anchor\": \"y11\", \"domain\": [0.525, 0.7375], \"gridcolor\": \"#E1E5ED\", \"showgrid\": false, \"tickfont\": {\"color\": \"#4D5663\"}, \"title\": {\"font\": {\"color\": \"#4D5663\"}, \"text\": \"\"}, \"zerolinecolor\": \"#E1E5ED\"}, \"xaxis12\": {\"anchor\": \"y12\", \"domain\": [0.7875, 1.0], \"gridcolor\": \"#E1E5ED\", \"showgrid\": false, \"tickfont\": {\"color\": \"#4D5663\"}, \"title\": {\"font\": {\"color\": \"#4D5663\"}, \"text\": \"\"}, \"zerolinecolor\": \"#E1E5ED\"}, \"xaxis13\": {\"anchor\": \"y13\", \"domain\": [0.0, 0.2125], \"gridcolor\": \"#E1E5ED\", \"showgrid\": false, \"tickfont\": {\"color\": \"#4D5663\"}, \"title\": {\"font\": {\"color\": \"#4D5663\"}, \"text\": \"\"}, \"zerolinecolor\": \"#E1E5ED\"}, \"xaxis14\": {\"anchor\": \"y14\", \"domain\": [0.2625, 0.475], \"gridcolor\": \"#E1E5ED\", \"showgrid\": false, \"tickfont\": {\"color\": \"#4D5663\"}, \"title\": {\"font\": {\"color\": \"#4D5663\"}, \"text\": \"\"}, \"zerolinecolor\": \"#E1E5ED\"}, \"xaxis15\": {\"anchor\": \"y15\", \"domain\": [0.525, 0.7375], \"gridcolor\": \"#E1E5ED\", \"showgrid\": false, \"tickfont\": {\"color\": \"#4D5663\"}, \"title\": {\"font\": {\"color\": \"#4D5663\"}, \"text\": \"\"}, \"zerolinecolor\": \"#E1E5ED\"}, \"xaxis16\": {\"anchor\": \"y16\", \"domain\": [0.7875, 1.0], \"gridcolor\": \"#E1E5ED\", \"showgrid\": false, \"tickfont\": {\"color\": \"#4D5663\"}, \"title\": {\"font\": {\"color\": \"#4D5663\"}, \"text\": \"\"}, \"zerolinecolor\": \"#E1E5ED\"}, \"xaxis2\": {\"anchor\": \"y2\", \"domain\": [0.2625, 0.475], \"gridcolor\": \"#E1E5ED\", \"showgrid\": false, \"tickfont\": {\"color\": \"#4D5663\"}, \"title\": {\"font\": {\"color\": \"#4D5663\"}, \"text\": \"\"}, \"zerolinecolor\": \"#E1E5ED\"}, \"xaxis3\": {\"anchor\": \"y3\", \"domain\": [0.525, 0.7375], \"gridcolor\": \"#E1E5ED\", \"showgrid\": false, \"tickfont\": {\"color\": \"#4D5663\"}, \"title\": {\"font\": {\"color\": \"#4D5663\"}, \"text\": \"\"}, \"zerolinecolor\": \"#E1E5ED\"}, \"xaxis4\": {\"anchor\": \"y4\", \"domain\": [0.7875, 1.0], \"gridcolor\": \"#E1E5ED\", \"showgrid\": false, \"tickfont\": {\"color\": \"#4D5663\"}, \"title\": {\"font\": {\"color\": \"#4D5663\"}, \"text\": \"\"}, \"zerolinecolor\": \"#E1E5ED\"}, \"xaxis5\": {\"anchor\": \"y5\", \"domain\": [0.0, 0.2125], \"gridcolor\": \"#E1E5ED\", \"showgrid\": false, \"tickfont\": {\"color\": \"#4D5663\"}, \"title\": {\"font\": {\"color\": \"#4D5663\"}, \"text\": \"\"}, \"zerolinecolor\": \"#E1E5ED\"}, \"xaxis6\": {\"anchor\": \"y6\", \"domain\": [0.2625, 0.475], \"gridcolor\": \"#E1E5ED\", \"showgrid\": false, \"tickfont\": {\"color\": \"#4D5663\"}, \"title\": {\"font\": {\"color\": \"#4D5663\"}, \"text\": \"\"}, \"zerolinecolor\": \"#E1E5ED\"}, \"xaxis7\": {\"anchor\": \"y7\", \"domain\": [0.525, 0.7375], \"gridcolor\": \"#E1E5ED\", \"showgrid\": false, \"tickfont\": {\"color\": \"#4D5663\"}, \"title\": {\"font\": {\"color\": \"#4D5663\"}, \"text\": \"\"}, \"zerolinecolor\": \"#E1E5ED\"}, \"xaxis8\": {\"anchor\": \"y8\", \"domain\": [0.7875, 1.0], \"gridcolor\": \"#E1E5ED\", \"showgrid\": false, \"tickfont\": {\"color\": \"#4D5663\"}, \"title\": {\"font\": {\"color\": \"#4D5663\"}, \"text\": \"\"}, \"zerolinecolor\": \"#E1E5ED\"}, \"xaxis9\": {\"anchor\": \"y9\", \"domain\": [0.0, 0.2125], \"gridcolor\": \"#E1E5ED\", \"showgrid\": false, \"tickfont\": {\"color\": \"#4D5663\"}, \"title\": {\"font\": {\"color\": \"#4D5663\"}, \"text\": \"\"}, \"zerolinecolor\": \"#E1E5ED\"}, \"yaxis\": {\"anchor\": \"x\", \"domain\": [0.8025, 1.0], \"gridcolor\": \"#E1E5ED\", \"showgrid\": false, \"tickfont\": {\"color\": \"#4D5663\"}, \"title\": {\"font\": {\"color\": \"#4D5663\"}, \"text\": \"\"}, \"zerolinecolor\": \"#E1E5ED\"}, \"yaxis10\": {\"anchor\": \"x10\", \"domain\": [0.2675, 0.465], \"gridcolor\": \"#E1E5ED\", \"showgrid\": false, \"tickfont\": {\"color\": \"#4D5663\"}, \"title\": {\"font\": {\"color\": \"#4D5663\"}, \"text\": \"\"}, \"zerolinecolor\": \"#E1E5ED\"}, \"yaxis11\": {\"anchor\": \"x11\", \"domain\": [0.2675, 0.465], \"gridcolor\": \"#E1E5ED\", \"showgrid\": false, \"tickfont\": {\"color\": \"#4D5663\"}, \"title\": {\"font\": {\"color\": \"#4D5663\"}, \"text\": \"\"}, \"zerolinecolor\": \"#E1E5ED\"}, \"yaxis12\": {\"anchor\": \"x12\", \"domain\": [0.2675, 0.465], \"gridcolor\": \"#E1E5ED\", \"showgrid\": false, \"tickfont\": {\"color\": \"#4D5663\"}, \"title\": {\"font\": {\"color\": \"#4D5663\"}, \"text\": \"\"}, \"zerolinecolor\": \"#E1E5ED\"}, \"yaxis13\": {\"anchor\": \"x13\", \"domain\": [0.0, 0.1975], \"gridcolor\": \"#E1E5ED\", \"showgrid\": false, \"tickfont\": {\"color\": \"#4D5663\"}, \"title\": {\"font\": {\"color\": \"#4D5663\"}, \"text\": \"\"}, \"zerolinecolor\": \"#E1E5ED\"}, \"yaxis14\": {\"anchor\": \"x14\", \"domain\": [0.0, 0.1975], \"gridcolor\": \"#E1E5ED\", \"showgrid\": false, \"tickfont\": {\"color\": \"#4D5663\"}, \"title\": {\"font\": {\"color\": \"#4D5663\"}, \"text\": \"\"}, \"zerolinecolor\": \"#E1E5ED\"}, \"yaxis15\": {\"anchor\": \"x15\", \"domain\": [0.0, 0.1975], \"gridcolor\": \"#E1E5ED\", \"showgrid\": false, \"tickfont\": {\"color\": \"#4D5663\"}, \"title\": {\"font\": {\"color\": \"#4D5663\"}, \"text\": \"\"}, \"zerolinecolor\": \"#E1E5ED\"}, \"yaxis16\": {\"anchor\": \"x16\", \"domain\": [0.0, 0.1975], \"gridcolor\": \"#E1E5ED\", \"showgrid\": false, \"tickfont\": {\"color\": \"#4D5663\"}, \"title\": {\"font\": {\"color\": \"#4D5663\"}, \"text\": \"\"}, \"zerolinecolor\": \"#E1E5ED\"}, \"yaxis2\": {\"anchor\": \"x2\", \"domain\": [0.8025, 1.0], \"gridcolor\": \"#E1E5ED\", \"showgrid\": false, \"tickfont\": {\"color\": \"#4D5663\"}, \"title\": {\"font\": {\"color\": \"#4D5663\"}, \"text\": \"\"}, \"zerolinecolor\": \"#E1E5ED\"}, \"yaxis3\": {\"anchor\": \"x3\", \"domain\": [0.8025, 1.0], \"gridcolor\": \"#E1E5ED\", \"showgrid\": false, \"tickfont\": {\"color\": \"#4D5663\"}, \"title\": {\"font\": {\"color\": \"#4D5663\"}, \"text\": \"\"}, \"zerolinecolor\": \"#E1E5ED\"}, \"yaxis4\": {\"anchor\": \"x4\", \"domain\": [0.8025, 1.0], \"gridcolor\": \"#E1E5ED\", \"showgrid\": false, \"tickfont\": {\"color\": \"#4D5663\"}, \"title\": {\"font\": {\"color\": \"#4D5663\"}, \"text\": \"\"}, \"zerolinecolor\": \"#E1E5ED\"}, \"yaxis5\": {\"anchor\": \"x5\", \"domain\": [0.535, 0.7325], \"gridcolor\": \"#E1E5ED\", \"showgrid\": false, \"tickfont\": {\"color\": \"#4D5663\"}, \"title\": {\"font\": {\"color\": \"#4D5663\"}, \"text\": \"\"}, \"zerolinecolor\": \"#E1E5ED\"}, \"yaxis6\": {\"anchor\": \"x6\", \"domain\": [0.535, 0.7325], \"gridcolor\": \"#E1E5ED\", \"showgrid\": false, \"tickfont\": {\"color\": \"#4D5663\"}, \"title\": {\"font\": {\"color\": \"#4D5663\"}, \"text\": \"\"}, \"zerolinecolor\": \"#E1E5ED\"}, \"yaxis7\": {\"anchor\": \"x7\", \"domain\": [0.535, 0.7325], \"gridcolor\": \"#E1E5ED\", \"showgrid\": false, \"tickfont\": {\"color\": \"#4D5663\"}, \"title\": {\"font\": {\"color\": \"#4D5663\"}, \"text\": \"\"}, \"zerolinecolor\": \"#E1E5ED\"}, \"yaxis8\": {\"anchor\": \"x8\", \"domain\": [0.535, 0.7325], \"gridcolor\": \"#E1E5ED\", \"showgrid\": false, \"tickfont\": {\"color\": \"#4D5663\"}, \"title\": {\"font\": {\"color\": \"#4D5663\"}, \"text\": \"\"}, \"zerolinecolor\": \"#E1E5ED\"}, \"yaxis9\": {\"anchor\": \"x9\", \"domain\": [0.2675, 0.465], \"gridcolor\": \"#E1E5ED\", \"showgrid\": false, \"tickfont\": {\"color\": \"#4D5663\"}, \"title\": {\"font\": {\"color\": \"#4D5663\"}, \"text\": \"\"}, \"zerolinecolor\": \"#E1E5ED\"}},\n",
       "                        {\"showLink\": true, \"linkText\": \"Export to plot.ly\", \"plotlyServerURL\": \"https://plot.ly\", \"responsive\": true}\n",
       "                    ).then(function(){\n",
       "                            \n",
       "var gd = document.getElementById('ac0b680a-bcf9-4dbb-aa4e-c70d2414e67b');\n",
       "var x = new MutationObserver(function (mutations, observer) {{\n",
       "        var display = window.getComputedStyle(gd).display;\n",
       "        if (!display || display === 'none') {{\n",
       "            console.log([gd, 'removed!']);\n",
       "            Plotly.purge(gd);\n",
       "            observer.disconnect();\n",
       "        }}\n",
       "}});\n",
       "\n",
       "// Listen for the removal of the full notebook cells\n",
       "var notebookContainer = gd.closest('#notebook-container');\n",
       "if (notebookContainer) {{\n",
       "    x.observe(notebookContainer, {childList: true});\n",
       "}}\n",
       "\n",
       "// Listen for the clearing of the current output cell\n",
       "var outputEl = gd.closest('.output');\n",
       "if (outputEl) {{\n",
       "    x.observe(outputEl, {childList: true});\n",
       "}}\n",
       "\n",
       "                        })\n",
       "                };\n",
       "                });\n",
       "            </script>\n",
       "        </div>"
      ]
     },
     "metadata": {},
     "output_type": "display_data"
    }
   ],
   "source": [
    "df.scatter_matrix()"
   ]
  },
  {
   "cell_type": "markdown",
   "metadata": {
    "collapsed": true
   },
   "source": [
    "# Great Job!"
   ]
  }
 ],
 "metadata": {
  "kernelspec": {
   "display_name": "Python 3",
   "language": "python",
   "name": "python3"
  },
  "language_info": {
   "codemirror_mode": {
    "name": "ipython",
    "version": 3
   },
   "file_extension": ".py",
   "mimetype": "text/x-python",
   "name": "python",
   "nbconvert_exporter": "python",
   "pygments_lexer": "ipython3",
   "version": "3.7.6"
  }
 },
 "nbformat": 4,
 "nbformat_minor": 1
}
